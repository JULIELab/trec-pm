{
 "cells": [
  {
   "cell_type": "code",
   "execution_count": 1,
   "metadata": {},
   "outputs": [],
   "source": [
    "import pandas as pd\n",
    "from matplotlib.pyplot import boxplot\n",
    "import matplotlib.pyplot as plt\n",
    "import seaborn as sns\n",
    "%matplotlib inline\n",
    "plt.rcParams['pdf.fonttype'] = 42"
   ]
  },
  {
   "cell_type": "code",
   "execution_count": 2,
   "metadata": {},
   "outputs": [
    {
     "data": {
      "text/html": [
       "<div>\n",
       "<style scoped>\n",
       "    .dataframe tbody tr th:only-of-type {\n",
       "        vertical-align: middle;\n",
       "    }\n",
       "\n",
       "    .dataframe tbody tr th {\n",
       "        vertical-align: top;\n",
       "    }\n",
       "\n",
       "    .dataframe thead th {\n",
       "        text-align: right;\n",
       "    }\n",
       "</style>\n",
       "<table border=\"1\" class=\"dataframe\">\n",
       "  <thead>\n",
       "    <tr style=\"text-align: right;\">\n",
       "      <th></th>\n",
       "      <th>1</th>\n",
       "      <th>2</th>\n",
       "      <th>3</th>\n",
       "      <th>4</th>\n",
       "      <th>5</th>\n",
       "      <th>6</th>\n",
       "      <th>7</th>\n",
       "      <th>8</th>\n",
       "      <th>9</th>\n",
       "      <th>10</th>\n",
       "    </tr>\n",
       "  </thead>\n",
       "  <tbody>\n",
       "    <tr>\n",
       "      <th>0</th>\n",
       "      <td>0.6562</td>\n",
       "      <td>0.6359</td>\n",
       "      <td>0.6290</td>\n",
       "      <td>0.6455</td>\n",
       "      <td>0.6578</td>\n",
       "      <td>0.6286</td>\n",
       "      <td>0.6383</td>\n",
       "      <td>0.6334</td>\n",
       "      <td>0.6514</td>\n",
       "      <td>0.6485</td>\n",
       "    </tr>\n",
       "    <tr>\n",
       "      <th>1</th>\n",
       "      <td>0.5521</td>\n",
       "      <td>0.6031</td>\n",
       "      <td>0.6362</td>\n",
       "      <td>0.6289</td>\n",
       "      <td>0.5471</td>\n",
       "      <td>0.6832</td>\n",
       "      <td>0.5810</td>\n",
       "      <td>0.6839</td>\n",
       "      <td>0.5314</td>\n",
       "      <td>0.5908</td>\n",
       "    </tr>\n",
       "    <tr>\n",
       "      <th>2</th>\n",
       "      <td>0.5862</td>\n",
       "      <td>0.5812</td>\n",
       "      <td>0.5915</td>\n",
       "      <td>0.5811</td>\n",
       "      <td>0.5855</td>\n",
       "      <td>0.5964</td>\n",
       "      <td>0.5843</td>\n",
       "      <td>0.5541</td>\n",
       "      <td>0.5921</td>\n",
       "      <td>0.5836</td>\n",
       "    </tr>\n",
       "    <tr>\n",
       "      <th>3</th>\n",
       "      <td>0.5640</td>\n",
       "      <td>0.6296</td>\n",
       "      <td>0.5250</td>\n",
       "      <td>0.6681</td>\n",
       "      <td>0.6032</td>\n",
       "      <td>0.5260</td>\n",
       "      <td>0.5238</td>\n",
       "      <td>0.5192</td>\n",
       "      <td>0.5690</td>\n",
       "      <td>0.5945</td>\n",
       "    </tr>\n",
       "  </tbody>\n",
       "</table>\n",
       "</div>"
      ],
      "text/plain": [
       "       1       2       3       4       5       6       7       8       9   \\\n",
       "0  0.6562  0.6359  0.6290  0.6455  0.6578  0.6286  0.6383  0.6334  0.6514   \n",
       "1  0.5521  0.6031  0.6362  0.6289  0.5471  0.6832  0.5810  0.6839  0.5314   \n",
       "2  0.5862  0.5812  0.5915  0.5811  0.5855  0.5964  0.5843  0.5541  0.5921   \n",
       "3  0.5640  0.6296  0.5250  0.6681  0.6032  0.5260  0.5238  0.5192  0.5690   \n",
       "\n",
       "       10  \n",
       "0  0.6485  \n",
       "1  0.5908  \n",
       "2  0.5836  \n",
       "3  0.5945  "
      ]
     },
     "execution_count": 2,
     "metadata": {},
     "output_type": "execute_result"
    }
   ],
   "source": [
    "df = pd.read_csv(\"data.tsv\", sep=\"\\t\", header = None)\n",
    "df.loc[:, 1:]"
   ]
  },
  {
   "cell_type": "code",
   "execution_count": 3,
   "metadata": {},
   "outputs": [
    {
     "data": {
      "text/plain": [
       "(0.5, 0.7)"
      ]
     },
     "execution_count": 3,
     "metadata": {},
     "output_type": "execute_result"
    },
    {
     "data": {
      "image/png": "[encoded data removed]",
      "text/plain": [
       "<Figure size 432x288 with 1 Axes>"
      ]
     },
     "metadata": {
      "needs_background": "light"
     },
     "output_type": "display_data"
    }
   ],
   "source": [
    "fig = plt.figure()\n",
    "ax = fig.add_subplot(111)\n",
    "\n",
    "ax.boxplot(df.loc[:, 1:], showmeans=True, labels=df[0])\n",
    "ax.set_ylabel(\"infNDCG\")\n",
    "ax.set_ylim(top=.7)\n",
    "ax.set_ylim(bottom=.5)"
   ]
  },
  {
   "cell_type": "code",
   "execution_count": 4,
   "metadata": {},
   "outputs": [],
   "source": [
    "fig.savefig(\"traintest-boxplots-smallim.pdf\")"
   ]
  }
 ],
 "metadata": {
  "kernelspec": {
   "display_name": "Python 3",
   "language": "python",
   "name": "python3"
  },
  "language_info": {
   "codemirror_mode": {
    "name": "ipython",
    "version": 3
   },
   "file_extension": ".py",
   "mimetype": "text/x-python",
   "name": "python",
   "nbconvert_exporter": "python",
   "pygments_lexer": "ipython3",
   "version": "3.7.4"
  }
 },
 "nbformat": 4,
 "nbformat_minor": 2
}
