{
 "cells": [
  {
   "cell_type": "code",
   "execution_count": 1,
   "metadata": {},
   "outputs": [],
   "source": [
    "from simpletransformers.classification import ClassificationModel, ClassificationArgs\n",
    "import pandas as pd\n",
    "import sklearn\n",
    "from sklearn.model_selection import train_test_split\n",
    "import wandb\n",
    "import logging\n",
    "from functools import reduce\n",
    "from statistics import mean"
   ]
  },
  {
   "cell_type": "code",
   "execution_count": 2,
   "metadata": {},
   "outputs": [],
   "source": [
    "logging.basicConfig(level=logging.INFO)\n",
    "transformers_logger = logging.getLogger(\"transformers\")\n",
    "transformers_logger.setLevel(logging.ERROR)"
   ]
  },
  {
   "cell_type": "code",
   "execution_count": 3,
   "metadata": {},
   "outputs": [],
   "source": [
    "df = pd.read_csv(\"jlbasernd5udeltopics.txt\", sep=\"\\t\", names=[\"topic\", \"relevance\", \"docid\", \"text\", \"title\", \"abstract\"], quoting=3, dtype={\"docid\": object, \"text\":object, \"title\":object,\"abstract\":object}).fillna(\"\")\n",
    "alltext = df[\"text\"] + \" \" + df[\"title\"] + \" \" + df[\"abstract\"]\n",
    "df[\"alltext\"] = alltext\n",
    "df = df.groupby(\"topic\").apply(lambda x: x.head(200))\n",
    "df.index = df.index.droplevel(0)\n",
    "#df.to_csv(\"input.txt\", sep=\"\\t\", header=True, index=False)\n",
    "\n",
    "#df = pd.read_csv(\"input.txt\", sep=\"\\t\", quoting=3).fillna(\"\")\n",
    "\n",
    "topics_udel = pd.read_csv(\"topics.covid-round4-udel.tsv\", sep=\"\\t\", names=[\"topic\", \"query_udel\"])\n",
    "topics_queries = pd.read_csv(\"topics-rnd4-queries.tsv\", sep=\"\\t\", names=[\"topic\", \"query\"])\n",
    "topics_questions = pd.read_csv(\"topics-rnd4-questions.tsv\", sep=\"\\t\", names=[\"topic\", \"question\"])\n",
    "topics_narrative = pd.read_csv(\"topics-rnd4-narrative.tsv\", sep=\"\\t\", names=[\"topic\", \"narrative\"])"
   ]
  },
  {
   "cell_type": "code",
   "execution_count": 4,
   "metadata": {},
   "outputs": [
    {
     "data": {
      "text/plain": [
       "(7810, 7)"
      ]
     },
     "execution_count": 4,
     "metadata": {},
     "output_type": "execute_result"
    }
   ],
   "source": [
    "df.shape"
   ]
  },
  {
   "cell_type": "code",
   "execution_count": 5,
   "metadata": {},
   "outputs": [],
   "source": [
    "topics = reduce(lambda x,y: pd.merge(x, y, on=\"topic\"), [topics_udel, topics_queries, topics_questions, topics_narrative])"
   ]
  },
  {
   "cell_type": "code",
   "execution_count": 6,
   "metadata": {},
   "outputs": [
    {
     "data": {
      "text/plain": [
       "(7810, 11)"
      ]
     },
     "execution_count": 6,
     "metadata": {},
     "output_type": "execute_result"
    }
   ],
   "source": [
    "input_data = pd.merge(topics, df, on=\"topic\", how=\"outer\")\n",
    "input_data.shape"
   ]
  },
  {
   "cell_type": "code",
   "execution_count": 7,
   "metadata": {},
   "outputs": [],
   "source": [
    "input_lists_title = [list(l) for l in input_data[[\"question\", \"title\"]].values]\n",
    "input_lists_text = [list(l) for l in input_data[[\"question\", \"text\"]].values]\n",
    "input_lists_abstract = [list(l) for l in input_data[[\"question\", \"abstract\"]].values]"
   ]
  },
  {
   "cell_type": "code",
   "execution_count": 8,
   "metadata": {},
   "outputs": [],
   "source": [
    "#[planet for sublist in planets for planet in sublist if len(planet) < 6] "
   ]
  },
  {
   "cell_type": "code",
   "execution_count": 9,
   "metadata": {},
   "outputs": [],
   "source": [
    "for i in range(len(input_lists_title)):\n",
    "    for j in range(len(input_lists_title[i])):\n",
    "        input_lists_title[i][j] = str(input_lists_title[i][j])\n",
    "for i in range(len(input_lists_text)):\n",
    "    for j in range(len(input_lists_text[i])):\n",
    "        input_lists_text[i][j] = str(input_lists_text[i][j])\n",
    "for i in range(len(input_lists_abstract)):\n",
    "    for j in range(len(input_lists_abstract[i])):\n",
    "        input_lists_abstract[i][j] = str(input_lists_abstract[i][j])"
   ]
  },
  {
   "cell_type": "code",
   "execution_count": 10,
   "metadata": {},
   "outputs": [],
   "source": [
    "#input_lists_alltext = [list(l) for l in input_data[[\"question\", \"alltext\"]].values]"
   ]
  },
  {
   "cell_type": "code",
   "execution_count": 11,
   "metadata": {},
   "outputs": [],
   "source": [
    "model_args = ClassificationArgs()\n",
    "model_args.eval_batch_size = 16\n",
    "model_args.dataloader_num_workers = 1\n",
    "model_args.manual_seed = 4\n",
    "model_args.dataloader_num_workers = 1\n",
    "model_args.labels_list = [0, 1]\n",
    "model_args.max_seq_length = 512\n",
    "model_args.no_cache = False"
   ]
  },
  {
   "cell_type": "code",
   "execution_count": 12,
   "metadata": {},
   "outputs": [],
   "source": [
    "#model = ClassificationModel(\n",
    "#    \"roberta\",\n",
    "#    \"best_model_distilroberta_cutoff512\",\n",
    "#    args=model_args,\n",
    "#    cuda_device=1\n",
    "#)\n",
    "\n",
    "model = ClassificationModel(\n",
    "    \"bert\",\n",
    "    \"best_model_biobert/\",\n",
    "    args=model_args,\n",
    "    cuda_device=1\n",
    ")"
   ]
  },
  {
   "cell_type": "code",
   "execution_count": 13,
   "metadata": {},
   "outputs": [],
   "source": [
    "#predictions_alltext, outputs_alltext = model.predict(input_lists_alltext)"
   ]
  },
  {
   "cell_type": "code",
   "execution_count": 14,
   "metadata": {},
   "outputs": [
    {
     "name": "stderr",
     "output_type": "stream",
     "text": [
      "INFO:simpletransformers.classification.classification_model: Converting to features started. Cache is not used.\n"
     ]
    },
    {
     "data": {
      "application/vnd.jupyter.widget-view+json": {
       "model_id": "5bd338e8a868486fa775da964d1a020c",
       "version_major": 2,
       "version_minor": 0
      },
      "text/plain": [
       "HBox(children=(FloatProgress(value=0.0, max=7810.0), HTML(value='')))"
      ]
     },
     "metadata": {},
     "output_type": "display_data"
    },
    {
     "name": "stdout",
     "output_type": "stream",
     "text": [
      "\n"
     ]
    },
    {
     "data": {
      "application/vnd.jupyter.widget-view+json": {
       "model_id": "4cf4e26137c246d5aba2cb9c8ebdeda6",
       "version_major": 2,
       "version_minor": 0
      },
      "text/plain": [
       "HBox(children=(FloatProgress(value=0.0, max=489.0), HTML(value='')))"
      ]
     },
     "metadata": {},
     "output_type": "display_data"
    },
    {
     "name": "stderr",
     "output_type": "stream",
     "text": [
      "INFO:simpletransformers.classification.classification_model: Converting to features started. Cache is not used.\n"
     ]
    },
    {
     "name": "stdout",
     "output_type": "stream",
     "text": [
      "\n"
     ]
    },
    {
     "data": {
      "application/vnd.jupyter.widget-view+json": {
       "model_id": "568c91c83ae445539c22be8b0803610a",
       "version_major": 2,
       "version_minor": 0
      },
      "text/plain": [
       "HBox(children=(FloatProgress(value=0.0, max=7810.0), HTML(value='')))"
      ]
     },
     "metadata": {},
     "output_type": "display_data"
    },
    {
     "name": "stdout",
     "output_type": "stream",
     "text": [
      "\n"
     ]
    },
    {
     "data": {
      "application/vnd.jupyter.widget-view+json": {
       "model_id": "ea7841881e9d4095aa205af9bd34a5f1",
       "version_major": 2,
       "version_minor": 0
      },
      "text/plain": [
       "HBox(children=(FloatProgress(value=0.0, max=489.0), HTML(value='')))"
      ]
     },
     "metadata": {},
     "output_type": "display_data"
    },
    {
     "name": "stderr",
     "output_type": "stream",
     "text": [
      "INFO:simpletransformers.classification.classification_model: Converting to features started. Cache is not used.\n"
     ]
    },
    {
     "name": "stdout",
     "output_type": "stream",
     "text": [
      "\n"
     ]
    },
    {
     "data": {
      "application/vnd.jupyter.widget-view+json": {
       "model_id": "ac754e5921d94ae4a530faeedc571961",
       "version_major": 2,
       "version_minor": 0
      },
      "text/plain": [
       "HBox(children=(FloatProgress(value=0.0, max=7810.0), HTML(value='')))"
      ]
     },
     "metadata": {},
     "output_type": "display_data"
    },
    {
     "name": "stdout",
     "output_type": "stream",
     "text": [
      "\n"
     ]
    },
    {
     "data": {
      "application/vnd.jupyter.widget-view+json": {
       "model_id": "6fc3f46d0f514497a1e030dfa83880f5",
       "version_major": 2,
       "version_minor": 0
      },
      "text/plain": [
       "HBox(children=(FloatProgress(value=0.0, max=489.0), HTML(value='')))"
      ]
     },
     "metadata": {},
     "output_type": "display_data"
    },
    {
     "name": "stdout",
     "output_type": "stream",
     "text": [
      "\n"
     ]
    }
   ],
   "source": [
    "predictions_title, outputs_title = model.predict(input_lists_title)\n",
    "predictions_text, outputs_text = model.predict(input_lists_text)\n",
    "predictions_abstract, outputs_abstract = model.predict(input_lists_abstract)"
   ]
  },
  {
   "cell_type": "code",
   "execution_count": 15,
   "metadata": {},
   "outputs": [],
   "source": [
    "#rel_scores_alltext = [o[1] for o in outputs_alltext]"
   ]
  },
  {
   "cell_type": "code",
   "execution_count": 16,
   "metadata": {},
   "outputs": [],
   "source": [
    "rel_scores_title = [o[1] for o in outputs_title]\n",
    "rel_scores_text = [o[1] for o in outputs_text]\n",
    "rel_scores_abstract = [o[1] for o in outputs_abstract]"
   ]
  },
  {
   "cell_type": "code",
   "execution_count": 17,
   "metadata": {},
   "outputs": [],
   "source": [
    "#rel_scores = rel_scores_alltext"
   ]
  },
  {
   "cell_type": "code",
   "execution_count": 18,
   "metadata": {},
   "outputs": [],
   "source": [
    "rel_scores = [sum([x,y,z]) for x,y,z in zip(rel_scores_title, rel_scores_text, rel_scores_abstract)]"
   ]
  },
  {
   "cell_type": "code",
   "execution_count": 19,
   "metadata": {},
   "outputs": [],
   "source": [
    "result_df = pd.DataFrame({\"predicted_label\": predictions_title, \"rel_score\": rel_scores})"
   ]
  },
  {
   "cell_type": "code",
   "execution_count": 20,
   "metadata": {},
   "outputs": [],
   "source": [
    "#result_df = pd.DataFrame({\"predicted_label\": predictions_alltext, \"rel_score\": rel_scores})\n",
    "#result_df.head(3)"
   ]
  },
  {
   "cell_type": "code",
   "execution_count": 21,
   "metadata": {},
   "outputs": [],
   "source": [
    "output_data = input_data.copy().reset_index().drop(\"index\", 1)\n",
    "sorted_output_data = pd.concat([output_data, result_df],  axis=1)\n",
    "sorted_output_data = sorted_output_data.set_index([\"topic\", \"docid\"])\n",
    "sorted_output_data = sorted_output_data.groupby([\"topic\", \"docid\"]).sum()\n",
    "sorted_output_data = sorted_output_data.groupby(\"topic\").apply(lambda x: x.sort_values(\"rel_score\", ascending=False))\n",
    "sorted_output_data.index = sorted_output_data.index.droplevel(0)\n",
    "sorted_output_data[\"rank\"] = sorted_output_data.groupby(\"topic\").cumcount()\n",
    "sorted_output_data = sorted_output_data.reset_index()"
   ]
  },
  {
   "cell_type": "code",
   "execution_count": 22,
   "metadata": {},
   "outputs": [
    {
     "name": "stderr",
     "output_type": "stream",
     "text": [
      "/opt/conda/lib/python3.7/site-packages/ipykernel_launcher.py:3: SettingWithCopyWarning: \n",
      "A value is trying to be set on a copy of a slice from a DataFrame.\n",
      "Try using .loc[row_indexer,col_indexer] = value instead\n",
      "\n",
      "See the caveats in the documentation: https://pandas.pydata.org/pandas-docs/stable/user_guide/indexing.html#returning-a-view-versus-a-copy\n",
      "  This is separate from the ipykernel package so we can avoid doing imports until\n"
     ]
    }
   ],
   "source": [
    "sorted_output_data[\"Q0\"] = 0\n",
    "trec_eval_df = sorted_output_data[[\"topic\", \"Q0\", \"docid\", \"rank\", \"rel_score\"]]\n",
    "trec_eval_df[\"run\"] = \"jl5_reranked_biobert\""
   ]
  },
  {
   "cell_type": "code",
   "execution_count": 23,
   "metadata": {},
   "outputs": [
    {
     "data": {
      "text/html": [
       "<div>\n",
       "<style scoped>\n",
       "    .dataframe tbody tr th:only-of-type {\n",
       "        vertical-align: middle;\n",
       "    }\n",
       "\n",
       "    .dataframe tbody tr th {\n",
       "        vertical-align: top;\n",
       "    }\n",
       "\n",
       "    .dataframe thead th {\n",
       "        text-align: right;\n",
       "    }\n",
       "</style>\n",
       "<table border=\"1\" class=\"dataframe\">\n",
       "  <thead>\n",
       "    <tr style=\"text-align: right;\">\n",
       "      <th></th>\n",
       "      <th>topic</th>\n",
       "      <th>Q0</th>\n",
       "      <th>docid</th>\n",
       "      <th>rank</th>\n",
       "      <th>rel_score</th>\n",
       "      <th>run</th>\n",
       "    </tr>\n",
       "  </thead>\n",
       "  <tbody>\n",
       "    <tr>\n",
       "      <th>0</th>\n",
       "      <td>1</td>\n",
       "      <td>0</td>\n",
       "      <td>hyjzofps</td>\n",
       "      <td>0</td>\n",
       "      <td>3.511364</td>\n",
       "      <td>jl5_reranked_biobert</td>\n",
       "    </tr>\n",
       "    <tr>\n",
       "      <th>1</th>\n",
       "      <td>1</td>\n",
       "      <td>0</td>\n",
       "      <td>8gtnbm1c</td>\n",
       "      <td>1</td>\n",
       "      <td>1.177436</td>\n",
       "      <td>jl5_reranked_biobert</td>\n",
       "    </tr>\n",
       "    <tr>\n",
       "      <th>2</th>\n",
       "      <td>1</td>\n",
       "      <td>0</td>\n",
       "      <td>dyhd8p8z</td>\n",
       "      <td>2</td>\n",
       "      <td>1.122417</td>\n",
       "      <td>jl5_reranked_biobert</td>\n",
       "    </tr>\n",
       "    <tr>\n",
       "      <th>3</th>\n",
       "      <td>1</td>\n",
       "      <td>0</td>\n",
       "      <td>qi9323yl</td>\n",
       "      <td>3</td>\n",
       "      <td>0.391587</td>\n",
       "      <td>jl5_reranked_biobert</td>\n",
       "    </tr>\n",
       "    <tr>\n",
       "      <th>4</th>\n",
       "      <td>1</td>\n",
       "      <td>0</td>\n",
       "      <td>jm18lj5t</td>\n",
       "      <td>4</td>\n",
       "      <td>0.072344</td>\n",
       "      <td>jl5_reranked_biobert</td>\n",
       "    </tr>\n",
       "  </tbody>\n",
       "</table>\n",
       "</div>"
      ],
      "text/plain": [
       "   topic  Q0     docid  rank  rel_score                   run\n",
       "0      1   0  hyjzofps     0   3.511364  jl5_reranked_biobert\n",
       "1      1   0  8gtnbm1c     1   1.177436  jl5_reranked_biobert\n",
       "2      1   0  dyhd8p8z     2   1.122417  jl5_reranked_biobert\n",
       "3      1   0  qi9323yl     3   0.391587  jl5_reranked_biobert\n",
       "4      1   0  jm18lj5t     4   0.072344  jl5_reranked_biobert"
      ]
     },
     "execution_count": 23,
     "metadata": {},
     "output_type": "execute_result"
    }
   ],
   "source": [
    "trec_eval_df.head()"
   ]
  },
  {
   "cell_type": "code",
   "execution_count": 24,
   "metadata": {},
   "outputs": [
    {
     "name": "stderr",
     "output_type": "stream",
     "text": [
      "/opt/conda/lib/python3.7/site-packages/ipykernel_launcher.py:3: SettingWithCopyWarning: \n",
      "A value is trying to be set on a copy of a slice from a DataFrame.\n",
      "Try using .loc[row_indexer,col_indexer] = value instead\n",
      "\n",
      "See the caveats in the documentation: https://pandas.pydata.org/pandas-docs/stable/user_guide/indexing.html#returning-a-view-versus-a-copy\n",
      "  This is separate from the ipykernel package so we can avoid doing imports until\n"
     ]
    }
   ],
   "source": [
    "pred_df = trec_eval_df[[\"topic\", \"docid\", \"rel_score\"]]\n",
    "gold_df = input_data[[\"topic\", \"docid\", \"relevance\"]]\n",
    "gold_df[\"relevance\"] = gold_df[\"relevance\"].apply(lambda x: 1 if x>0 else 0)\n",
    "\n",
    "pred_df.set_index([\"topic\", \"docid\"], inplace=True)\n",
    "gold_df.set_index([\"topic\", \"docid\"], inplace=True)"
   ]
  },
  {
   "cell_type": "code",
   "execution_count": 25,
   "metadata": {},
   "outputs": [],
   "source": [
    "#join = pred_df.join(gold_df)\n",
    "#join = join[join[\"relevance\"] > 0]\n",
    "#sklearn.metrics.accuracy_score(join[\"predicted_label\"], join[\"relevance\"])"
   ]
  },
  {
   "cell_type": "code",
   "execution_count": 26,
   "metadata": {},
   "outputs": [],
   "source": [
    "#join.to_csv(\"tmp.tsv\", sep=\"\\t\")"
   ]
  },
  {
   "cell_type": "code",
   "execution_count": 27,
   "metadata": {},
   "outputs": [],
   "source": [
    "trec_eval_df.to_csv(\"jl5_reranked_biobert.trec_eval\", sep=\"\\t\", header=None, index=None)"
   ]
  },
  {
   "cell_type": "code",
   "execution_count": 28,
   "metadata": {},
   "outputs": [
    {
     "name": "stdout",
     "output_type": "stream",
     "text": [
      "runid                 \tall\treranked\r\n",
      "num_q                 \tall\t45\r\n",
      "num_ret               \tall\t18000\r\n",
      "num_rel               \tall\t15765\r\n",
      "num_rel_ret           \tall\t4891\r\n",
      "map                   \tall\t0.1909\r\n",
      "gm_map                \tall\t0.1549\r\n",
      "Rprec                 \tall\t0.2958\r\n",
      "bpref                 \tall\t0.3054\r\n",
      "recip_rank            \tall\t0.9444\r\n",
      "iprec_at_recall_0.00  \tall\t0.9698\r\n",
      "iprec_at_recall_0.10  \tall\t0.5982\r\n",
      "iprec_at_recall_0.20  \tall\t0.4435\r\n",
      "iprec_at_recall_0.30  \tall\t0.2565\r\n",
      "iprec_at_recall_0.40  \tall\t0.1591\r\n",
      "iprec_at_recall_0.50  \tall\t0.0612\r\n",
      "iprec_at_recall_0.60  \tall\t0.0000\r\n",
      "iprec_at_recall_0.70  \tall\t0.0000\r\n",
      "iprec_at_recall_0.80  \tall\t0.0000\r\n",
      "iprec_at_recall_0.90  \tall\t0.0000\r\n",
      "iprec_at_recall_1.00  \tall\t0.0000\r\n",
      "P_5                   \tall\t0.8311\r\n",
      "P_10                  \tall\t0.7667\r\n",
      "P_15                  \tall\t0.7096\r\n",
      "P_20                  \tall\t0.6822\r\n",
      "P_30                  \tall\t0.6422\r\n",
      "P_100                 \tall\t0.4987\r\n",
      "P_200                 \tall\t0.3887\r\n",
      "P_500                 \tall\t0.2174\r\n",
      "P_1000                \tall\t0.1087\r\n",
      "recall_5              \tall\t0.0156\r\n",
      "recall_10             \tall\t0.0291\r\n",
      "recall_15             \tall\t0.0405\r\n",
      "recall_20             \tall\t0.0508\r\n",
      "recall_30             \tall\t0.0693\r\n",
      "recall_100            \tall\t0.1687\r\n",
      "recall_200            \tall\t0.2497\r\n",
      "recall_500            \tall\t0.3364\r\n",
      "recall_1000           \tall\t0.3364\r\n",
      "infAP                 \tall\t0.1909\r\n",
      "gm_bpref              \tall\t0.2708\r\n",
      "Rprec_mult_0.20       \tall\t0.5680\r\n",
      "Rprec_mult_0.40       \tall\t0.4695\r\n",
      "Rprec_mult_0.60       \tall\t0.3969\r\n",
      "Rprec_mult_0.80       \tall\t0.3446\r\n",
      "Rprec_mult_1.00       \tall\t0.2958\r\n",
      "Rprec_mult_1.20       \tall\t0.2587\r\n",
      "Rprec_mult_1.40       \tall\t0.2282\r\n",
      "Rprec_mult_1.60       \tall\t0.2029\r\n",
      "Rprec_mult_1.80       \tall\t0.1819\r\n",
      "Rprec_mult_2.00       \tall\t0.1651\r\n",
      "utility               \tall\t-182.6222\r\n",
      "11pt_avg              \tall\t0.2262\r\n",
      "binG                  \tall\t0.0902\r\n",
      "G                     \tall\t0.0776\r\n",
      "ndcg                  \tall\t0.3853\r\n",
      "ndcg_rel              \tall\t0.4285\r\n",
      "Rndcg                 \tall\t0.3835\r\n",
      "ndcg_cut_5            \tall\t0.7803\r\n",
      "ndcg_cut_10           \tall\t0.7289\r\n",
      "ndcg_cut_15           \tall\t0.6877\r\n",
      "ndcg_cut_20           \tall\t0.6623\r\n",
      "ndcg_cut_30           \tall\t0.6203\r\n",
      "ndcg_cut_100          \tall\t0.4893\r\n",
      "ndcg_cut_200          \tall\t0.4238\r\n",
      "ndcg_cut_500          \tall\t0.3909\r\n",
      "ndcg_cut_1000         \tall\t0.3853\r\n",
      "map_cut_5             \tall\t0.0143\r\n",
      "map_cut_10            \tall\t0.0257\r\n",
      "map_cut_15            \tall\t0.0348\r\n",
      "map_cut_20            \tall\t0.0428\r\n",
      "map_cut_30            \tall\t0.0562\r\n",
      "map_cut_100           \tall\t0.1165\r\n",
      "map_cut_200           \tall\t0.1563\r\n",
      "map_cut_500           \tall\t0.1909\r\n",
      "map_cut_1000          \tall\t0.1909\r\n",
      "relative_P_5          \tall\t0.8311\r\n",
      "relative_P_10         \tall\t0.7667\r\n",
      "relative_P_15         \tall\t0.7096\r\n",
      "relative_P_20         \tall\t0.6822\r\n",
      "relative_P_30         \tall\t0.6422\r\n",
      "relative_P_100        \tall\t0.5038\r\n",
      "relative_P_200        \tall\t0.4144\r\n",
      "relative_P_500        \tall\t0.3453\r\n",
      "relative_P_1000       \tall\t0.3364\r\n",
      "success_1             \tall\t0.8889\r\n",
      "success_5             \tall\t1.0000\r\n",
      "success_10            \tall\t1.0000\r\n",
      "set_P                 \tall\t0.2717\r\n",
      "set_relative_P        \tall\t0.3673\r\n",
      "set_recall            \tall\t0.3364\r\n",
      "set_map               \tall\t0.0977\r\n",
      "set_F                 \tall\t0.2822\r\n",
      "num_nonrel_judged_ret \tall\t3204\r\n"
     ]
    }
   ],
   "source": [
    "!~/work/Coding/git/trec-covid/target/lib/trec_eval -c -M1000 -m all_trec ~/work/Coding/git/trec-covid/src/main/resources/gold-standard/qrels-covid_d4_j0.5-4.txt reranked.trec_eval"
   ]
  }
 ],
 "metadata": {
  "kernelspec": {
   "display_name": "Python 3",
   "language": "python",
   "name": "python3"
  },
  "language_info": {
   "codemirror_mode": {
    "name": "ipython",
    "version": 3
   },
   "file_extension": ".py",
   "mimetype": "text/x-python",
   "name": "python",
   "nbconvert_exporter": "python",
   "pygments_lexer": "ipython3",
   "version": "3.7.4"
  }
 },
 "nbformat": 4,
 "nbformat_minor": 4
}
