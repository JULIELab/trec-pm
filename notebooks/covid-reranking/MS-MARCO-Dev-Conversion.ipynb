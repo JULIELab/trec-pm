{
 "cells": [
  {
   "cell_type": "markdown",
   "metadata": {},
   "source": [
    "The devset of the MS MARCO passage ranking dataset it fully given with the qrels.dev.tsv file (55578 queries). The top1000.dev file is reduced for practicability reasons (6980 queries).\n",
    "This notebook takes the qrels and top1000.dev as inputs and outputs a new tsv file with in the format (query string, passage text, relevance label) for the top1000.dev entries we also have qrels for.\n",
    "Additionally, we sample an equal size of query-passage pairs from top1000.dev for which we do not have qrels and use those as negative examples.\n",
    "The final dataset is then written to file."
   ]
  },
  {
   "cell_type": "code",
   "execution_count": 1,
   "metadata": {},
   "outputs": [],
   "source": [
    "import pandas as pd"
   ]
  },
  {
   "cell_type": "code",
   "execution_count": 19,
   "metadata": {},
   "outputs": [],
   "source": [
    "top1000dev = pd.read_csv(\"top1000.dev.gz\", sep=\"\\t\", names=[\"qid\", \"pid\", \"q_text\", \"p_text\"]).set_index([\"qid\", \"pid\"])"
   ]
  },
  {
   "cell_type": "code",
   "execution_count": 45,
   "metadata": {},
   "outputs": [],
   "source": [
    "qrels = pd.read_csv(\"qrels.dev.small.tsv\", sep=\"\\t\", names=[\"qid\", \"Q0\", \"pid\", \"relevance\"]).set_index([\"qid\", \"pid\"])"
   ]
  },
  {
   "cell_type": "markdown",
   "metadata": {},
   "source": [
    "We use the full qrels to filter the top1000dev passages to make sure we only sample negative example that we really don't have qrels for (note that the MS MARCO qrels only list relevant passages)"
   ]
  },
  {
   "cell_type": "code",
   "execution_count": 110,
   "metadata": {},
   "outputs": [],
   "source": [
    "qrels_full = pd.read_csv(\"qrels.dev.tsv\", sep=\"\\t\", names=[\"qid\", \"Q0\", \"pid\", \"relevance\"]).set_index([\"qid\", \"pid\"])"
   ]
  },
  {
   "cell_type": "code",
   "execution_count": 72,
   "metadata": {},
   "outputs": [],
   "source": [
    "top1000dev_qrels = qrels.join(top1000dev, how=\"inner\")"
   ]
  },
  {
   "cell_type": "code",
   "execution_count": 111,
   "metadata": {},
   "outputs": [],
   "source": [
    "top1000dev_noqrels = top1000dev[qrels_full.join(top1000dev, how=\"right\").isnull().any(axis=1)]"
   ]
  },
  {
   "cell_type": "code",
   "execution_count": 112,
   "metadata": {},
   "outputs": [],
   "source": [
    "top1000dev_negative_examples = top1000dev_noqrels.sample(len(top1000dev_qrels), random_state=4)"
   ]
  },
  {
   "cell_type": "code",
   "execution_count": 113,
   "metadata": {},
   "outputs": [],
   "source": [
    "negative_examples = top1000dev_negative_examples.join(qrels)\n",
    "negative_examples[\"Q0\"] = 0\n",
    "negative_examples[\"relevance\"] = 0"
   ]
  },
  {
   "cell_type": "code",
   "execution_count": 114,
   "metadata": {},
   "outputs": [],
   "source": [
    "positive_examples = top1000dev.join(qrels, how=\"inner\")"
   ]
  },
  {
   "cell_type": "code",
   "execution_count": 122,
   "metadata": {},
   "outputs": [],
   "source": [
    "dev_all = pd.concat([positive_examples, negative_examples])"
   ]
  },
  {
   "cell_type": "code",
   "execution_count": 123,
   "metadata": {},
   "outputs": [],
   "source": [
    "dev_all.to_csv(\"mydevset.tsv\", sep=\"\\t\")"
   ]
  }
 ],
 "metadata": {
  "kernelspec": {
   "display_name": "Python 3",
   "language": "python",
   "name": "python3"
  },
  "language_info": {
   "codemirror_mode": {
    "name": "ipython",
    "version": 3
   },
   "file_extension": ".py",
   "mimetype": "text/x-python",
   "name": "python",
   "nbconvert_exporter": "python",
   "pygments_lexer": "ipython3",
   "version": "3.7.4"
  }
 },
 "nbformat": 4,
 "nbformat_minor": 4
}
