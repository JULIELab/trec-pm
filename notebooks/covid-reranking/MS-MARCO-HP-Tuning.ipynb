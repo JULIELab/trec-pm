{
 "cells": [
  {
   "cell_type": "code",
   "execution_count": 1,
   "metadata": {},
   "outputs": [],
   "source": [
    "from simpletransformers.classification import ClassificationModel, ClassificationArgs\n",
    "import pandas as pd\n",
    "import sklearn\n",
    "from sklearn.model_selection import train_test_split\n",
    "import wandb\n",
    "import logging"
   ]
  },
  {
   "cell_type": "code",
   "execution_count": 2,
   "metadata": {},
   "outputs": [],
   "source": [
    "logging.basicConfig(level=logging.INFO)\n",
    "transformers_logger = logging.getLogger(\"transformers\")\n",
    "transformers_logger.setLevel(logging.ERROR)"
   ]
  },
  {
   "cell_type": "code",
   "execution_count": 3,
   "metadata": {},
   "outputs": [],
   "source": [
    "trainfile = \"tripled.train.10k.tsv\"\n",
    "devfile   = \"mydevset_triples.tsv\""
   ]
  },
  {
   "cell_type": "code",
   "execution_count": 4,
   "metadata": {},
   "outputs": [],
   "source": [
    "#train_df = pd.read_csv(trainfile, sep=\"\\t\", names=[\"text_a\", \"text_b\", \"labels\"])\n",
    "# Further scaling down the training set for reasonable sweep runtime\n",
    "#train_df = train_df.head(10000)"
   ]
  },
  {
   "cell_type": "code",
   "execution_count": 5,
   "metadata": {},
   "outputs": [],
   "source": [
    "#eval_df = pd.read_csv(devfile, sep=\"\\t\")[[\"q_text\", \"p_text\", \"relevance\"]]\n",
    "#eval_df.columns = [\"text_a\", \"text_b\", \"labels\"]"
   ]
  },
  {
   "cell_type": "code",
   "execution_count": 6,
   "metadata": {},
   "outputs": [],
   "source": [
    "sweep_config = {\n",
    "    \"name\": \"ms_marco_sweep_distilroberta_base_full_smaller_triples_lazy\",\n",
    "    \"method\": \"bayes\",\n",
    "    \"metric\": {\"name\": \"accuracy\", \"goal\": \"maximize\"},\n",
    "    \"parameters\": {\n",
    "        \"learning_rate\": {\"min\": 0, \"max\": 4e-4},\n",
    "        \"num_train_epochs\": {\"min\": 1, \"max\": 3}\n",
    "    },\n",
    "    \"early_terminate\": {\"type\": \"hyperband\", \"min-iter\": 6}\n",
    "}"
   ]
  },
  {
   "cell_type": "code",
   "execution_count": 7,
   "metadata": {},
   "outputs": [
    {
     "name": "stdout",
     "output_type": "stream",
     "text": [
      "Create sweep with ID: revtmojb\n",
      "Sweep URL: https://app.wandb.ai/khituras/TREC-Covid/sweeps/revtmojb\n"
     ]
    }
   ],
   "source": [
    "sweep_id = wandb.sweep(sweep_config, project=\"TREC-Covid\")"
   ]
  },
  {
   "cell_type": "code",
   "execution_count": 8,
   "metadata": {},
   "outputs": [],
   "source": [
    "model_args = ClassificationArgs()\n",
    "model_args.lazy_loading = True\n",
    "model_args.lazy_loading_start_line = 0\n",
    "model_args.lazy_text_a_column = 0\n",
    "model_args.lazy_text_b_column = 1\n",
    "model_args.lazy_labels_column = 2\n",
    "model_args.eval_batch_size = 16\n",
    "model_args.evaluate_during_training = False\n",
    "model_args.evaluate_during_training_silent = False\n",
    "model_args.evaluate_during_training_steps = 1000\n",
    "model_args.save_eval_checkpoints = False\n",
    "model_args.save_model_every_epoch = False\n",
    "model_args.learning_rate = 4e-4\n",
    "model_args.manual_seed = 4\n",
    "model_args.max_seq_length = 256\n",
    "model_args.multiprocessing_chunksize = 5000\n",
    "model_args.no_cache = True\n",
    "model_args.no_save = True\n",
    "model_args.num_train_epochs = 3\n",
    "model_args.overwrite_output_dir = True\n",
    "model_args.reprocess_input_data = True\n",
    "model_args.train_batch_size = 16\n",
    "model_args.gradient_accumulation_steps = 1\n",
    "model_args.train_custom_parameter_only = False\n",
    "model_args.n_gpu = 1\n",
    "model_args.dataloader_num_workers = 1\n",
    "model_args.labels_list = [0, 1]\n",
    "model_args.wandb_project = \"TREC-Covid\"\n",
    "model_args.early_stopping_metric = \"accuracy\"\n",
    "model_args.early_stopping_metric_minimize = False"
   ]
  },
  {
   "cell_type": "code",
   "execution_count": 9,
   "metadata": {},
   "outputs": [],
   "source": [
    "def train():\n",
    "    wandb.init()\n",
    "    model_args.wandb_kwargs = {\"id\": wandb.run.id}\n",
    "    model = ClassificationModel(\n",
    "        \"roberta\",\n",
    "        \"distilroberta-base\",\n",
    "        use_cuda=True,\n",
    "        cuda_device=0,\n",
    "        sweep_config=wandb.config,\n",
    "        args=model_args\n",
    "    )\n",
    "    model.train_model(\n",
    "        trainfile, eval_df=devfile, accuracy=lambda x,y: sklearn.metrics.accuracy_score(x,[round(p) for p in y])\n",
    "    )\n",
    "    res = model.eval_model(devfile, accuracy=lambda x,y: sklearn.metrics.accuracy_score(x,[round(p) for p in y]))\n",
    "    wandb.log({\"accuracy\":res[0][\"accuracy\"]})\n",
    "    \n",
    "    wandb.join()"
   ]
  },
  {
   "cell_type": "code",
   "execution_count": 10,
   "metadata": {},
   "outputs": [
    {
     "name": "stderr",
     "output_type": "stream",
     "text": [
      "INFO:wandb.wandb_agent:Running runs: []\n",
      "INFO:wandb.wandb_agent:Agent received command: run\n",
      "INFO:wandb.wandb_agent:Agent starting run with config:\n",
      "\tlearning_rate: 7.487312664066734e-05\n",
      "\tnum_train_epochs: 1\n"
     ]
    },
    {
     "name": "stdout",
     "output_type": "stream",
     "text": [
      "wandb: Agent Starting Run: 41afdt7h with config:\n",
      "\tlearning_rate: 7.487312664066734e-05\n",
      "\tnum_train_epochs: 1\n",
      "wandb: Agent Started Run: 41afdt7h\n"
     ]
    },
    {
     "data": {
      "text/html": [
       "\n",
       "                Logging results to <a href=\"https://wandb.com\" target=\"_blank\">Weights & Biases</a> <a href=\"https://docs.wandb.com/integrations/jupyter.html\" target=\"_blank\">(Documentation)</a>.<br/>\n",
       "                Project page: <a href=\"https://app.wandb.ai/khituras/TREC-Covid\" target=\"_blank\">https://app.wandb.ai/khituras/TREC-Covid</a><br/>\n",
       "                Sweep page: <a href=\"https://app.wandb.ai/khituras/TREC-Covid/sweeps/revtmojb\" target=\"_blank\">https://app.wandb.ai/khituras/TREC-Covid/sweeps/revtmojb</a><br/>\n",
       "Run page: <a href=\"https://app.wandb.ai/khituras/TREC-Covid/runs/41afdt7h\" target=\"_blank\">https://app.wandb.ai/khituras/TREC-Covid/runs/41afdt7h</a><br/>\n",
       "            "
      ],
      "text/plain": [
       "<IPython.core.display.HTML object>"
      ]
     },
     "metadata": {},
     "output_type": "display_data"
    },
    {
     "name": "stderr",
     "output_type": "stream",
     "text": [
      "INFO:wandb.run_manager:system metrics and metadata threads started\n",
      "INFO:wandb.run_manager:checking resume status, waiting at most 10 seconds\n",
      "INFO:wandb.run_manager:resuming run from id: UnVuOnYxOjQxYWZkdDdoOlRSRUMtQ292aWQ6a2hpdHVyYXM=\n",
      "INFO:wandb.run_manager:upserting run before process can begin, waiting at most 10 seconds\n",
      "INFO:wandb.run_manager:file/dir modified: /home/faessler/work/Research/trec-covid/wandb/run-20200730_143727-41afdt7h/config.yaml\n",
      "INFO:wandb.run_manager:saving pip packages\n",
      "INFO:wandb.run_manager:initializing streaming files api\n",
      "INFO:wandb.run_manager:unblocking file change observer, beginning sync with W&B servers\n",
      "INFO:wandb.run_manager:file/dir created: /home/faessler/work/Research/trec-covid/wandb/run-20200730_143727-41afdt7h/wandb-metadata.json\n",
      "INFO:wandb.run_manager:file/dir created: /home/faessler/work/Research/trec-covid/wandb/run-20200730_143727-41afdt7h/wandb-history.jsonl\n",
      "INFO:wandb.run_manager:file/dir created: /home/faessler/work/Research/trec-covid/wandb/run-20200730_143727-41afdt7h/wandb-summary.json\n",
      "INFO:wandb.run_manager:file/dir created: /home/faessler/work/Research/trec-covid/wandb/run-20200730_143727-41afdt7h/wandb-events.jsonl\n",
      "INFO:wandb.run_manager:file/dir created: /home/faessler/work/Research/trec-covid/wandb/run-20200730_143727-41afdt7h/requirements.txt\n",
      "INFO:wandb.wandb_agent:Running runs: ['41afdt7h']\n"
     ]
    },
    {
     "name": "stdout",
     "output_type": "stream",
     "text": [
      "Selected optimization level O1:  Insert automatic casts around Pytorch functions and Tensor methods.\n",
      "\n",
      "Defaults for this optimization level are:\n",
      "enabled                : True\n",
      "opt_level              : O1\n",
      "cast_model_type        : None\n",
      "patch_torch_functions  : True\n",
      "keep_batchnorm_fp32    : None\n",
      "master_weights         : None\n",
      "loss_scale             : dynamic\n",
      "Processing user overrides (additional kwargs that are not None)...\n",
      "After processing overrides, optimization options are:\n",
      "enabled                : True\n",
      "opt_level              : O1\n",
      "cast_model_type        : None\n",
      "patch_torch_functions  : True\n",
      "keep_batchnorm_fp32    : None\n",
      "master_weights         : None\n",
      "loss_scale             : dynamic\n"
     ]
    },
    {
     "data": {
      "application/vnd.jupyter.widget-view+json": {
       "model_id": "a998a14e1c544579932f682dc2ec651a",
       "version_major": 2,
       "version_minor": 0
      },
      "text/plain": [
       "HBox(children=(FloatProgress(value=0.0, description='Epoch', max=1.0, style=ProgressStyle(description_width='i…"
      ]
     },
     "metadata": {},
     "output_type": "display_data"
    },
    {
     "data": {
      "text/html": [
       "\n",
       "                Logging results to <a href=\"https://wandb.com\" target=\"_blank\">Weights & Biases</a> <a href=\"https://docs.wandb.com/integrations/jupyter.html\" target=\"_blank\">(Documentation)</a>.<br/>\n",
       "                Project page: <a href=\"https://app.wandb.ai/khituras/TREC-Covid\" target=\"_blank\">https://app.wandb.ai/khituras/TREC-Covid</a><br/>\n",
       "                Run page: <a href=\"https://app.wandb.ai/khituras/TREC-Covid/runs/41afdt7h\" target=\"_blank\">https://app.wandb.ai/khituras/TREC-Covid/runs/41afdt7h</a><br/>\n",
       "            "
      ],
      "text/plain": [
       "<IPython.core.display.HTML object>"
      ]
     },
     "metadata": {},
     "output_type": "display_data"
    },
    {
     "name": "stderr",
     "output_type": "stream",
     "text": [
      "INFO:wandb.run_manager:system metrics and metadata threads started\n",
      "INFO:wandb.run_manager:checking resume status, waiting at most 10 seconds\n",
      "INFO:wandb.run_manager:resuming run from id: UnVuOnYxOjQxYWZkdDdoOlRSRUMtQ292aWQ6a2hpdHVyYXM=\n",
      "INFO:wandb.run_manager:upserting run before process can begin, waiting at most 10 seconds\n",
      "INFO:wandb.run_manager:saving pip packages\n",
      "INFO:wandb.run_manager:initializing streaming files api\n",
      "INFO:wandb.run_manager:unblocking file change observer, beginning sync with W&B servers\n"
     ]
    },
    {
     "data": {
      "application/vnd.jupyter.widget-view+json": {
       "model_id": "5854903ceb024fcb895c9d6be41d97fc",
       "version_major": 2,
       "version_minor": 0
      },
      "text/plain": [
       "HBox(children=(FloatProgress(value=0.0, description='Running Epoch 0 of 1', max=625.0, style=ProgressStyle(des…"
      ]
     },
     "metadata": {},
     "output_type": "display_data"
    },
    {
     "name": "stderr",
     "output_type": "stream",
     "text": [
      "INFO:wandb.run_manager:file/dir modified: /home/faessler/work/Research/trec-covid/wandb/run-20200730_143736-41afdt7h/config.yaml\n",
      "INFO:wandb.run_manager:file/dir created: /home/faessler/work/Research/trec-covid/wandb/run-20200730_143736-41afdt7h/requirements.txt\n",
      "INFO:wandb.run_manager:file/dir created: /home/faessler/work/Research/trec-covid/wandb/run-20200730_143736-41afdt7h/wandb-history.jsonl\n",
      "INFO:wandb.run_manager:file/dir created: /home/faessler/work/Research/trec-covid/wandb/run-20200730_143736-41afdt7h/wandb-metadata.json\n",
      "INFO:wandb.run_manager:file/dir created: /home/faessler/work/Research/trec-covid/wandb/run-20200730_143736-41afdt7h/wandb-events.jsonl\n",
      "INFO:wandb.run_manager:file/dir created: /home/faessler/work/Research/trec-covid/wandb/run-20200730_143736-41afdt7h/wandb-summary.json\n",
      "/opt/conda/lib/python3.7/site-packages/torch/optim/lr_scheduler.py:113: UserWarning: Seems like `optimizer.step()` has been overridden after learning rate scheduler initialization. Please, make sure to call `optimizer.step()` before `lr_scheduler.step()`. See more details at https://pytorch.org/docs/stable/optim.html#how-to-adjust-learning-rate\n",
      "  \"https://pytorch.org/docs/stable/optim.html#how-to-adjust-learning-rate\", UserWarning)\n",
      "INFO:wandb.run_manager:file/dir modified: /home/faessler/work/Research/trec-covid/wandb/run-20200730_143736-41afdt7h/wandb-summary.json\n",
      "INFO:wandb.run_manager:file/dir created: /home/faessler/work/Research/trec-covid/wandb/run-20200730_143736-41afdt7h/media/graph/graph_0_summary_5ab47a8f.graph.json\n",
      "INFO:wandb.run_manager:file/dir created: /home/faessler/work/Research/trec-covid/wandb/run-20200730_143736-41afdt7h/media/graph\n",
      "INFO:wandb.run_manager:file/dir created: /home/faessler/work/Research/trec-covid/wandb/run-20200730_143736-41afdt7h/media\n",
      "/opt/conda/lib/python3.7/site-packages/torch/optim/lr_scheduler.py:224: UserWarning: To get the last learning rate computed by the scheduler, please use `get_last_lr()`.\n",
      "  warnings.warn(\"To get the last learning rate computed by the scheduler, \"\n",
      "INFO:wandb.run_manager:file/dir modified: /home/faessler/work/Research/trec-covid/wandb/run-20200730_143736-41afdt7h/wandb-history.jsonl\n",
      "INFO:wandb.run_manager:file/dir modified: /home/faessler/work/Research/trec-covid/wandb/run-20200730_143736-41afdt7h/wandb-summary.json\n"
     ]
    },
    {
     "name": "stdout",
     "output_type": "stream",
     "text": [
      "Gradient overflow.  Skipping step, loss scaler 0 reducing loss scale to 32768.0\n"
     ]
    },
    {
     "name": "stderr",
     "output_type": "stream",
     "text": [
      "INFO:wandb.run_manager:file/dir modified: /home/faessler/work/Research/trec-covid/wandb/run-20200730_143727-41afdt7h/wandb-metadata.json\n"
     ]
    },
    {
     "name": "stdout",
     "output_type": "stream",
     "text": [
      "Gradient overflow.  Skipping step, loss scaler 0 reducing loss scale to 16384.0\n"
     ]
    },
    {
     "name": "stderr",
     "output_type": "stream",
     "text": [
      "INFO:wandb.run_manager:file/dir modified: /home/faessler/work/Research/trec-covid/wandb/run-20200730_143736-41afdt7h/wandb-history.jsonl\n",
      "INFO:wandb.run_manager:file/dir modified: /home/faessler/work/Research/trec-covid/wandb/run-20200730_143736-41afdt7h/wandb-summary.json\n",
      "INFO:wandb.run_manager:file/dir modified: /home/faessler/work/Research/trec-covid/wandb/run-20200730_143736-41afdt7h/wandb-metadata.json\n",
      "INFO:wandb.run_manager:file/dir modified: /home/faessler/work/Research/trec-covid/wandb/run-20200730_143736-41afdt7h/wandb-history.jsonl\n",
      "INFO:wandb.run_manager:file/dir modified: /home/faessler/work/Research/trec-covid/wandb/run-20200730_143736-41afdt7h/wandb-summary.json\n",
      "INFO:wandb.run_manager:file/dir modified: /home/faessler/work/Research/trec-covid/wandb/run-20200730_143727-41afdt7h/wandb-events.jsonl\n",
      "INFO:wandb.run_manager:file/dir modified: /home/faessler/work/Research/trec-covid/wandb/run-20200730_143736-41afdt7h/wandb-history.jsonl\n",
      "INFO:wandb.run_manager:file/dir modified: /home/faessler/work/Research/trec-covid/wandb/run-20200730_143736-41afdt7h/wandb-summary.json\n",
      "INFO:wandb.run_manager:file/dir modified: /home/faessler/work/Research/trec-covid/wandb/run-20200730_143727-41afdt7h/wandb-metadata.json\n",
      "INFO:wandb.run_manager:file/dir modified: /home/faessler/work/Research/trec-covid/wandb/run-20200730_143736-41afdt7h/wandb-events.jsonl\n",
      "INFO:wandb.run_manager:file/dir modified: /home/faessler/work/Research/trec-covid/wandb/run-20200730_143736-41afdt7h/wandb-history.jsonl\n",
      "INFO:wandb.run_manager:file/dir modified: /home/faessler/work/Research/trec-covid/wandb/run-20200730_143736-41afdt7h/wandb-summary.json\n",
      "INFO:wandb.run_manager:file/dir modified: /home/faessler/work/Research/trec-covid/wandb/run-20200730_143736-41afdt7h/wandb-metadata.json\n",
      "INFO:wandb.run_manager:file/dir modified: /home/faessler/work/Research/trec-covid/wandb/run-20200730_143736-41afdt7h/wandb-history.jsonl\n",
      "INFO:wandb.run_manager:file/dir modified: /home/faessler/work/Research/trec-covid/wandb/run-20200730_143736-41afdt7h/wandb-summary.json\n",
      "INFO:wandb.run_manager:file/dir modified: /home/faessler/work/Research/trec-covid/wandb/run-20200730_143736-41afdt7h/wandb-history.jsonl\n",
      "INFO:wandb.run_manager:file/dir modified: /home/faessler/work/Research/trec-covid/wandb/run-20200730_143736-41afdt7h/wandb-summary.json\n",
      "INFO:wandb.run_manager:file/dir modified: /home/faessler/work/Research/trec-covid/wandb/run-20200730_143727-41afdt7h/wandb-metadata.json\n",
      "INFO:wandb.run_manager:file/dir modified: /home/faessler/work/Research/trec-covid/wandb/run-20200730_143736-41afdt7h/wandb-history.jsonl\n",
      "INFO:wandb.run_manager:file/dir modified: /home/faessler/work/Research/trec-covid/wandb/run-20200730_143736-41afdt7h/wandb-summary.json\n",
      "INFO:wandb.run_manager:file/dir modified: /home/faessler/work/Research/trec-covid/wandb/run-20200730_143736-41afdt7h/wandb-metadata.json\n",
      "INFO:wandb.run_manager:file/dir modified: /home/faessler/work/Research/trec-covid/wandb/run-20200730_143727-41afdt7h/wandb-events.jsonl\n",
      "INFO:wandb.run_manager:file/dir modified: /home/faessler/work/Research/trec-covid/wandb/run-20200730_143736-41afdt7h/wandb-history.jsonl\n",
      "INFO:wandb.run_manager:file/dir modified: /home/faessler/work/Research/trec-covid/wandb/run-20200730_143736-41afdt7h/wandb-summary.json\n",
      "INFO:wandb.run_manager:file/dir modified: /home/faessler/work/Research/trec-covid/wandb/run-20200730_143727-41afdt7h/wandb-metadata.json\n",
      "INFO:wandb.run_manager:file/dir modified: /home/faessler/work/Research/trec-covid/wandb/run-20200730_143736-41afdt7h/wandb-history.jsonl\n",
      "INFO:wandb.run_manager:file/dir modified: /home/faessler/work/Research/trec-covid/wandb/run-20200730_143736-41afdt7h/wandb-events.jsonl\n",
      "INFO:wandb.run_manager:file/dir modified: /home/faessler/work/Research/trec-covid/wandb/run-20200730_143736-41afdt7h/wandb-summary.json\n",
      "INFO:wandb.run_manager:file/dir modified: /home/faessler/work/Research/trec-covid/wandb/run-20200730_143736-41afdt7h/wandb-history.jsonl\n",
      "INFO:wandb.run_manager:file/dir modified: /home/faessler/work/Research/trec-covid/wandb/run-20200730_143736-41afdt7h/wandb-summary.json\n",
      "INFO:wandb.run_manager:file/dir modified: /home/faessler/work/Research/trec-covid/wandb/run-20200730_143736-41afdt7h/wandb-metadata.json\n",
      "INFO:wandb.run_manager:file/dir modified: /home/faessler/work/Research/trec-covid/wandb/run-20200730_143736-41afdt7h/wandb-history.jsonl\n",
      "INFO:wandb.run_manager:file/dir modified: /home/faessler/work/Research/trec-covid/wandb/run-20200730_143736-41afdt7h/wandb-summary.json\n"
     ]
    },
    {
     "name": "stdout",
     "output_type": "stream",
     "text": [
      "\n",
      "\n"
     ]
    },
    {
     "name": "stderr",
     "output_type": "stream",
     "text": [
      "INFO:simpletransformers.classification.classification_model: Training of roberta model complete. Saved to outputs/.\n"
     ]
    },
    {
     "data": {
      "application/vnd.jupyter.widget-view+json": {
       "model_id": "559543cb00964eb982fd049427f452a4",
       "version_major": 2,
       "version_minor": 0
      },
      "text/plain": [
       "HBox(children=(FloatProgress(value=0.0, description='Running Evaluation', max=751.0, style=ProgressStyle(descr…"
      ]
     },
     "metadata": {},
     "output_type": "display_data"
    },
    {
     "name": "stderr",
     "output_type": "stream",
     "text": [
      "INFO:wandb.run_manager:file/dir modified: /home/faessler/work/Research/trec-covid/wandb/run-20200730_143727-41afdt7h/wandb-metadata.json\n",
      "INFO:wandb.run_manager:file/dir modified: /home/faessler/work/Research/trec-covid/wandb/run-20200730_143736-41afdt7h/wandb-metadata.json\n",
      "INFO:wandb.run_manager:file/dir modified: /home/faessler/work/Research/trec-covid/wandb/run-20200730_143727-41afdt7h/wandb-events.jsonl\n",
      "INFO:wandb.run_manager:file/dir modified: /home/faessler/work/Research/trec-covid/wandb/run-20200730_143736-41afdt7h/wandb-events.jsonl\n",
      "INFO:wandb.run_manager:file/dir modified: /home/faessler/work/Research/trec-covid/wandb/run-20200730_143727-41afdt7h/wandb-metadata.json\n",
      "INFO:wandb.run_manager:file/dir modified: /home/faessler/work/Research/trec-covid/wandb/run-20200730_143736-41afdt7h/wandb-metadata.json\n",
      "INFO:wandb.run_manager:file/dir modified: /home/faessler/work/Research/trec-covid/wandb/run-20200730_143727-41afdt7h/wandb-metadata.json\n"
     ]
    },
    {
     "name": "stdout",
     "output_type": "stream",
     "text": [
      "\n"
     ]
    },
    {
     "data": {
      "text/html": [
       "\n",
       "                Logging results to <a href=\"https://wandb.com\" target=\"_blank\">Weights & Biases</a> <a href=\"https://docs.wandb.com/integrations/jupyter.html\" target=\"_blank\">(Documentation)</a>.<br/>\n",
       "                Project page: <a href=\"https://app.wandb.ai/khituras/TREC-Covid\" target=\"_blank\">https://app.wandb.ai/khituras/TREC-Covid</a><br/>\n",
       "                Run page: <a href=\"https://app.wandb.ai/khituras/TREC-Covid/runs/41afdt7h\" target=\"_blank\">https://app.wandb.ai/khituras/TREC-Covid/runs/41afdt7h</a><br/>\n",
       "            "
      ],
      "text/plain": [
       "<IPython.core.display.HTML object>"
      ]
     },
     "metadata": {},
     "output_type": "display_data"
    },
    {
     "name": "stderr",
     "output_type": "stream",
     "text": [
      "INFO:wandb.run_manager:system metrics and metadata threads started\n",
      "INFO:wandb.run_manager:checking resume status, waiting at most 10 seconds\n",
      "INFO:wandb.run_manager:resuming run from id: UnVuOnYxOjQxYWZkdDdoOlRSRUMtQ292aWQ6a2hpdHVyYXM=\n",
      "INFO:wandb.run_manager:upserting run before process can begin, waiting at most 10 seconds\n",
      "INFO:wandb.run_manager:saving pip packages\n",
      "INFO:wandb.run_manager:initializing streaming files api\n",
      "INFO:wandb.run_manager:unblocking file change observer, beginning sync with W&B servers\n",
      "INFO:wandb.run_manager:file/dir modified: /home/faessler/work/Research/trec-covid/wandb/run-20200730_143927-41afdt7h/config.yaml\n",
      "INFO:wandb.run_manager:file/dir created: /home/faessler/work/Research/trec-covid/wandb/run-20200730_143927-41afdt7h/requirements.txt\n",
      "INFO:wandb.run_manager:file/dir created: /home/faessler/work/Research/trec-covid/wandb/run-20200730_143927-41afdt7h/wandb-summary.json\n",
      "INFO:wandb.run_manager:file/dir created: /home/faessler/work/Research/trec-covid/wandb/run-20200730_143927-41afdt7h/wandb-history.jsonl\n",
      "ERROR:wandb.run_manager:Streaming file created twice in same run: /home/faessler/work/Research/trec-covid/wandb/run-20200730_143927-41afdt7h/wandb-history.jsonl\n",
      "INFO:wandb.run_manager:file/dir created: /home/faessler/work/Research/trec-covid/wandb/run-20200730_143927-41afdt7h/wandb-events.jsonl\n",
      "ERROR:wandb.run_manager:Streaming file created twice in same run: /home/faessler/work/Research/trec-covid/wandb/run-20200730_143927-41afdt7h/wandb-events.jsonl\n",
      "INFO:wandb.run_manager:file/dir created: /home/faessler/work/Research/trec-covid/wandb/run-20200730_143927-41afdt7h/wandb-metadata.json\n",
      "INFO:wandb.run_manager:file/dir created: /home/faessler/work/Research/trec-covid/wandb/run-20200730_143927-41afdt7h/media/table\n",
      "INFO:wandb.run_manager:file/dir created: /home/faessler/work/Research/trec-covid/wandb/run-20200730_143927-41afdt7h/media\n",
      "INFO:simpletransformers.classification.classification_model:{'mcc': 0.7648363511718146, 'tp': 5356, 'tn': 5241, 'fp': 764, 'fn': 649, 'accuracy': 0.8823480432972522, 'eval_loss': 0.2933964234406002}\n"
     ]
    },
    {
     "name": "stdout",
     "output_type": "stream",
     "text": [
      "wandb: Agent Finished Run: 41afdt7h \n",
      "\n"
     ]
    },
    {
     "name": "stderr",
     "output_type": "stream",
     "text": [
      "INFO:wandb.run_manager:shutting down system stats and metadata service\n",
      "INFO:wandb.run_manager:file/dir modified: /home/faessler/work/Research/trec-covid/wandb/run-20200730_143727-41afdt7h/wandb-events.jsonl\n",
      "INFO:wandb.run_manager:file/dir modified: /home/faessler/work/Research/trec-covid/wandb/run-20200730_143927-41afdt7h/wandb-summary.json\n",
      "INFO:wandb.run_manager:file/dir modified: /home/faessler/work/Research/trec-covid/wandb/run-20200730_143927-41afdt7h/wandb-events.jsonl\n",
      "INFO:wandb.run_manager:file/dir modified: /home/faessler/work/Research/trec-covid/wandb/run-20200730_143927-41afdt7h/config.yaml\n",
      "INFO:wandb.run_manager:file/dir modified: /home/faessler/work/Research/trec-covid/wandb/run-20200730_143927-41afdt7h/wandb-history.jsonl\n",
      "INFO:wandb.run_manager:file/dir created: /home/faessler/work/Research/trec-covid/wandb/run-20200730_143927-41afdt7h/media/table/confusion_matrix_14_c2618beb.table.json\n",
      "INFO:wandb.run_manager:file/dir created: /home/faessler/work/Research/trec-covid/wandb/run-20200730_143927-41afdt7h/media/table/pr_13_23122629.table.json\n",
      "INFO:wandb.run_manager:file/dir created: /home/faessler/work/Research/trec-covid/wandb/run-20200730_143927-41afdt7h/media/table/roc_12_5fccc325.table.json\n",
      "INFO:wandb.run_manager:file/dir modified: /home/faessler/work/Research/trec-covid/wandb/run-20200730_143927-41afdt7h/media/table\n",
      "INFO:wandb.run_manager:file/dir modified: /home/faessler/work/Research/trec-covid/wandb/run-20200730_143927-41afdt7h/media\n",
      "INFO:wandb.run_manager:stopping streaming files and file change observer\n",
      "INFO:wandb.run_manager:file/dir modified: /home/faessler/work/Research/trec-covid/wandb/run-20200730_143736-41afdt7h/wandb-metadata.json\n",
      "INFO:wandb.run_manager:file/dir modified: /home/faessler/work/Research/trec-covid/wandb/run-20200730_143927-41afdt7h/wandb-metadata.json\n",
      "INFO:wandb.wandb_agent:Cleaning up finished run: 41afdt7h\n",
      "INFO:wandb.wandb_agent:Agent received command: run\n",
      "INFO:wandb.wandb_agent:Agent starting run with config:\n",
      "\tlearning_rate: 0.00019711127477515475\n",
      "\tnum_train_epochs: 1\n"
     ]
    },
    {
     "name": "stdout",
     "output_type": "stream",
     "text": [
      "wandb: Agent Starting Run: kn07ka4e with config:\n",
      "\tlearning_rate: 0.00019711127477515475\n",
      "\tnum_train_epochs: 1\n",
      "wandb: Agent Started Run: kn07ka4e\n"
     ]
    },
    {
     "data": {
      "text/html": [
       "\n",
       "                Logging results to <a href=\"https://wandb.com\" target=\"_blank\">Weights & Biases</a> <a href=\"https://docs.wandb.com/integrations/jupyter.html\" target=\"_blank\">(Documentation)</a>.<br/>\n",
       "                Project page: <a href=\"https://app.wandb.ai/khituras/TREC-Covid\" target=\"_blank\">https://app.wandb.ai/khituras/TREC-Covid</a><br/>\n",
       "                Sweep page: <a href=\"https://app.wandb.ai/khituras/TREC-Covid/sweeps/revtmojb\" target=\"_blank\">https://app.wandb.ai/khituras/TREC-Covid/sweeps/revtmojb</a><br/>\n",
       "Run page: <a href=\"https://app.wandb.ai/khituras/TREC-Covid/runs/kn07ka4e\" target=\"_blank\">https://app.wandb.ai/khituras/TREC-Covid/runs/kn07ka4e</a><br/>\n",
       "            "
      ],
      "text/plain": [
       "<IPython.core.display.HTML object>"
      ]
     },
     "metadata": {},
     "output_type": "display_data"
    },
    {
     "name": "stderr",
     "output_type": "stream",
     "text": [
      "INFO:wandb.run_manager:system metrics and metadata threads started\n",
      "INFO:wandb.run_manager:checking resume status, waiting at most 10 seconds\n",
      "INFO:wandb.run_manager:resuming run from id: UnVuOnYxOmtuMDdrYTRlOlRSRUMtQ292aWQ6a2hpdHVyYXM=\n",
      "INFO:wandb.run_manager:upserting run before process can begin, waiting at most 10 seconds\n",
      "INFO:wandb.run_manager:file/dir modified: /home/faessler/work/Research/trec-covid/wandb/run-20200730_143932-kn07ka4e/config.yaml\n",
      "INFO:wandb.run_manager:saving pip packages\n",
      "INFO:wandb.run_manager:initializing streaming files api\n",
      "INFO:wandb.run_manager:unblocking file change observer, beginning sync with W&B servers\n",
      "INFO:wandb.run_manager:file/dir created: /home/faessler/work/Research/trec-covid/wandb/run-20200730_143932-kn07ka4e/wandb-history.jsonl\n",
      "INFO:wandb.run_manager:file/dir created: /home/faessler/work/Research/trec-covid/wandb/run-20200730_143932-kn07ka4e/wandb-events.jsonl\n",
      "INFO:wandb.run_manager:file/dir created: /home/faessler/work/Research/trec-covid/wandb/run-20200730_143932-kn07ka4e/wandb-summary.json\n",
      "INFO:wandb.run_manager:file/dir created: /home/faessler/work/Research/trec-covid/wandb/run-20200730_143932-kn07ka4e/wandb-metadata.json\n",
      "INFO:wandb.run_manager:file/dir created: /home/faessler/work/Research/trec-covid/wandb/run-20200730_143932-kn07ka4e/requirements.txt\n",
      "INFO:wandb.wandb_agent:Running runs: ['kn07ka4e']\n"
     ]
    },
    {
     "name": "stdout",
     "output_type": "stream",
     "text": [
      "Selected optimization level O1:  Insert automatic casts around Pytorch functions and Tensor methods.\n",
      "\n",
      "Defaults for this optimization level are:\n",
      "enabled                : True\n",
      "opt_level              : O1\n",
      "cast_model_type        : None\n",
      "patch_torch_functions  : True\n",
      "keep_batchnorm_fp32    : None\n",
      "master_weights         : None\n",
      "loss_scale             : dynamic\n",
      "Processing user overrides (additional kwargs that are not None)...\n",
      "After processing overrides, optimization options are:\n",
      "enabled                : True\n",
      "opt_level              : O1\n",
      "cast_model_type        : None\n",
      "patch_torch_functions  : True\n",
      "keep_batchnorm_fp32    : None\n",
      "master_weights         : None\n",
      "loss_scale             : dynamic\n"
     ]
    },
    {
     "data": {
      "application/vnd.jupyter.widget-view+json": {
       "model_id": "36660ddf5b044090bcc51432004f8e99",
       "version_major": 2,
       "version_minor": 0
      },
      "text/plain": [
       "HBox(children=(FloatProgress(value=0.0, description='Epoch', max=1.0, style=ProgressStyle(description_width='i…"
      ]
     },
     "metadata": {},
     "output_type": "display_data"
    },
    {
     "data": {
      "text/html": [
       "\n",
       "                Logging results to <a href=\"https://wandb.com\" target=\"_blank\">Weights & Biases</a> <a href=\"https://docs.wandb.com/integrations/jupyter.html\" target=\"_blank\">(Documentation)</a>.<br/>\n",
       "                Project page: <a href=\"https://app.wandb.ai/khituras/TREC-Covid\" target=\"_blank\">https://app.wandb.ai/khituras/TREC-Covid</a><br/>\n",
       "                Run page: <a href=\"https://app.wandb.ai/khituras/TREC-Covid/runs/kn07ka4e\" target=\"_blank\">https://app.wandb.ai/khituras/TREC-Covid/runs/kn07ka4e</a><br/>\n",
       "            "
      ],
      "text/plain": [
       "<IPython.core.display.HTML object>"
      ]
     },
     "metadata": {},
     "output_type": "display_data"
    },
    {
     "name": "stderr",
     "output_type": "stream",
     "text": [
      "INFO:wandb.run_manager:system metrics and metadata threads started\n",
      "INFO:wandb.run_manager:checking resume status, waiting at most 10 seconds\n",
      "INFO:wandb.run_manager:resuming run from id: UnVuOnYxOmtuMDdrYTRlOlRSRUMtQ292aWQ6a2hpdHVyYXM=\n",
      "INFO:wandb.run_manager:upserting run before process can begin, waiting at most 10 seconds\n",
      "INFO:wandb.run_manager:saving pip packages\n",
      "INFO:wandb.run_manager:initializing streaming files api\n",
      "INFO:wandb.run_manager:unblocking file change observer, beginning sync with W&B servers\n"
     ]
    },
    {
     "data": {
      "application/vnd.jupyter.widget-view+json": {
       "model_id": "1af51083effb45319b5d6b47dcc3be1b",
       "version_major": 2,
       "version_minor": 0
      },
      "text/plain": [
       "HBox(children=(FloatProgress(value=0.0, description='Running Epoch 0 of 1', max=625.0, style=ProgressStyle(des…"
      ]
     },
     "metadata": {},
     "output_type": "display_data"
    },
    {
     "name": "stderr",
     "output_type": "stream",
     "text": [
      "INFO:wandb.run_manager:file/dir modified: /home/faessler/work/Research/trec-covid/wandb/run-20200730_143941-kn07ka4e/config.yaml\n",
      "INFO:wandb.run_manager:file/dir created: /home/faessler/work/Research/trec-covid/wandb/run-20200730_143941-kn07ka4e/wandb-events.jsonl\n",
      "INFO:wandb.run_manager:file/dir created: /home/faessler/work/Research/trec-covid/wandb/run-20200730_143941-kn07ka4e/wandb-summary.json\n",
      "INFO:wandb.run_manager:file/dir created: /home/faessler/work/Research/trec-covid/wandb/run-20200730_143941-kn07ka4e/wandb-metadata.json\n",
      "INFO:wandb.run_manager:file/dir created: /home/faessler/work/Research/trec-covid/wandb/run-20200730_143941-kn07ka4e/wandb-history.jsonl\n",
      "INFO:wandb.run_manager:file/dir created: /home/faessler/work/Research/trec-covid/wandb/run-20200730_143941-kn07ka4e/requirements.txt\n",
      "/opt/conda/lib/python3.7/site-packages/torch/optim/lr_scheduler.py:113: UserWarning: Seems like `optimizer.step()` has been overridden after learning rate scheduler initialization. Please, make sure to call `optimizer.step()` before `lr_scheduler.step()`. See more details at https://pytorch.org/docs/stable/optim.html#how-to-adjust-learning-rate\n",
      "  \"https://pytorch.org/docs/stable/optim.html#how-to-adjust-learning-rate\", UserWarning)\n",
      "INFO:wandb.run_manager:file/dir modified: /home/faessler/work/Research/trec-covid/wandb/run-20200730_143941-kn07ka4e/wandb-summary.json\n",
      "INFO:wandb.run_manager:file/dir created: /home/faessler/work/Research/trec-covid/wandb/run-20200730_143941-kn07ka4e/media/graph/graph_0_summary_705c26bc.graph.json\n",
      "INFO:wandb.run_manager:file/dir created: /home/faessler/work/Research/trec-covid/wandb/run-20200730_143941-kn07ka4e/media\n",
      "INFO:wandb.run_manager:file/dir created: /home/faessler/work/Research/trec-covid/wandb/run-20200730_143941-kn07ka4e/media/graph\n",
      "/opt/conda/lib/python3.7/site-packages/torch/optim/lr_scheduler.py:224: UserWarning: To get the last learning rate computed by the scheduler, please use `get_last_lr()`.\n",
      "  warnings.warn(\"To get the last learning rate computed by the scheduler, \"\n",
      "INFO:wandb.run_manager:file/dir modified: /home/faessler/work/Research/trec-covid/wandb/run-20200730_143941-kn07ka4e/wandb-summary.json\n",
      "INFO:wandb.run_manager:file/dir modified: /home/faessler/work/Research/trec-covid/wandb/run-20200730_143941-kn07ka4e/wandb-history.jsonl\n",
      "INFO:wandb.run_manager:file/dir modified: /home/faessler/work/Research/trec-covid/wandb/run-20200730_143932-kn07ka4e/wandb-metadata.json\n",
      "INFO:wandb.run_manager:file/dir modified: /home/faessler/work/Research/trec-covid/wandb/run-20200730_143941-kn07ka4e/wandb-summary.json\n",
      "INFO:wandb.run_manager:file/dir modified: /home/faessler/work/Research/trec-covid/wandb/run-20200730_143941-kn07ka4e/wandb-history.jsonl\n",
      "INFO:wandb.run_manager:file/dir modified: /home/faessler/work/Research/trec-covid/wandb/run-20200730_143941-kn07ka4e/wandb-metadata.json\n",
      "INFO:wandb.run_manager:file/dir modified: /home/faessler/work/Research/trec-covid/wandb/run-20200730_143941-kn07ka4e/wandb-summary.json\n",
      "INFO:wandb.run_manager:file/dir modified: /home/faessler/work/Research/trec-covid/wandb/run-20200730_143941-kn07ka4e/wandb-history.jsonl\n",
      "INFO:wandb.run_manager:file/dir modified: /home/faessler/work/Research/trec-covid/wandb/run-20200730_143932-kn07ka4e/wandb-events.jsonl\n",
      "INFO:wandb.run_manager:file/dir modified: /home/faessler/work/Research/trec-covid/wandb/run-20200730_143941-kn07ka4e/wandb-summary.json\n",
      "INFO:wandb.run_manager:file/dir modified: /home/faessler/work/Research/trec-covid/wandb/run-20200730_143941-kn07ka4e/wandb-history.jsonl\n",
      "INFO:wandb.run_manager:file/dir modified: /home/faessler/work/Research/trec-covid/wandb/run-20200730_143932-kn07ka4e/wandb-metadata.json\n",
      "INFO:wandb.run_manager:file/dir modified: /home/faessler/work/Research/trec-covid/wandb/run-20200730_143941-kn07ka4e/wandb-events.jsonl\n",
      "INFO:wandb.run_manager:file/dir modified: /home/faessler/work/Research/trec-covid/wandb/run-20200730_143941-kn07ka4e/wandb-summary.json\n",
      "INFO:wandb.run_manager:file/dir modified: /home/faessler/work/Research/trec-covid/wandb/run-20200730_143941-kn07ka4e/wandb-history.jsonl\n",
      "INFO:wandb.run_manager:file/dir modified: /home/faessler/work/Research/trec-covid/wandb/run-20200730_143941-kn07ka4e/wandb-metadata.json\n",
      "INFO:wandb.run_manager:file/dir modified: /home/faessler/work/Research/trec-covid/wandb/run-20200730_143941-kn07ka4e/wandb-summary.json\n",
      "INFO:wandb.run_manager:file/dir modified: /home/faessler/work/Research/trec-covid/wandb/run-20200730_143941-kn07ka4e/wandb-history.jsonl\n",
      "INFO:wandb.run_manager:file/dir modified: /home/faessler/work/Research/trec-covid/wandb/run-20200730_143941-kn07ka4e/wandb-summary.json\n",
      "INFO:wandb.run_manager:file/dir modified: /home/faessler/work/Research/trec-covid/wandb/run-20200730_143941-kn07ka4e/wandb-history.jsonl\n",
      "INFO:wandb.run_manager:file/dir modified: /home/faessler/work/Research/trec-covid/wandb/run-20200730_143932-kn07ka4e/wandb-metadata.json\n",
      "INFO:wandb.run_manager:file/dir modified: /home/faessler/work/Research/trec-covid/wandb/run-20200730_143941-kn07ka4e/wandb-summary.json\n",
      "INFO:wandb.run_manager:file/dir modified: /home/faessler/work/Research/trec-covid/wandb/run-20200730_143941-kn07ka4e/wandb-history.jsonl\n",
      "INFO:wandb.run_manager:file/dir modified: /home/faessler/work/Research/trec-covid/wandb/run-20200730_143941-kn07ka4e/wandb-metadata.json\n",
      "INFO:wandb.run_manager:file/dir modified: /home/faessler/work/Research/trec-covid/wandb/run-20200730_143941-kn07ka4e/wandb-history.jsonl\n",
      "INFO:wandb.run_manager:file/dir modified: /home/faessler/work/Research/trec-covid/wandb/run-20200730_143932-kn07ka4e/wandb-events.jsonl\n",
      "INFO:wandb.run_manager:file/dir modified: /home/faessler/work/Research/trec-covid/wandb/run-20200730_143941-kn07ka4e/wandb-summary.json\n",
      "INFO:wandb.run_manager:file/dir modified: /home/faessler/work/Research/trec-covid/wandb/run-20200730_143932-kn07ka4e/wandb-metadata.json\n",
      "INFO:wandb.run_manager:file/dir modified: /home/faessler/work/Research/trec-covid/wandb/run-20200730_143941-kn07ka4e/wandb-summary.json\n",
      "INFO:wandb.run_manager:file/dir modified: /home/faessler/work/Research/trec-covid/wandb/run-20200730_143941-kn07ka4e/wandb-history.jsonl\n",
      "INFO:wandb.run_manager:file/dir modified: /home/faessler/work/Research/trec-covid/wandb/run-20200730_143941-kn07ka4e/wandb-events.jsonl\n",
      "INFO:wandb.run_manager:file/dir modified: /home/faessler/work/Research/trec-covid/wandb/run-20200730_143941-kn07ka4e/wandb-summary.json\n",
      "INFO:wandb.run_manager:file/dir modified: /home/faessler/work/Research/trec-covid/wandb/run-20200730_143941-kn07ka4e/wandb-history.jsonl\n",
      "INFO:wandb.run_manager:file/dir modified: /home/faessler/work/Research/trec-covid/wandb/run-20200730_143941-kn07ka4e/wandb-metadata.json\n",
      "INFO:wandb.run_manager:file/dir modified: /home/faessler/work/Research/trec-covid/wandb/run-20200730_143941-kn07ka4e/wandb-summary.json\n",
      "INFO:wandb.run_manager:file/dir modified: /home/faessler/work/Research/trec-covid/wandb/run-20200730_143941-kn07ka4e/wandb-history.jsonl\n"
     ]
    },
    {
     "name": "stdout",
     "output_type": "stream",
     "text": [
      "\n",
      "\n"
     ]
    },
    {
     "name": "stderr",
     "output_type": "stream",
     "text": [
      "INFO:simpletransformers.classification.classification_model: Training of roberta model complete. Saved to outputs/.\n"
     ]
    },
    {
     "data": {
      "application/vnd.jupyter.widget-view+json": {
       "model_id": "9b443f6535c148a59e8b36b4ddce455a",
       "version_major": 2,
       "version_minor": 0
      },
      "text/plain": [
       "HBox(children=(FloatProgress(value=0.0, description='Running Evaluation', max=751.0, style=ProgressStyle(descr…"
      ]
     },
     "metadata": {},
     "output_type": "display_data"
    },
    {
     "name": "stderr",
     "output_type": "stream",
     "text": [
      "INFO:wandb.run_manager:file/dir modified: /home/faessler/work/Research/trec-covid/wandb/run-20200730_143932-kn07ka4e/wandb-metadata.json\n",
      "INFO:wandb.run_manager:file/dir modified: /home/faessler/work/Research/trec-covid/wandb/run-20200730_143941-kn07ka4e/wandb-metadata.json\n",
      "INFO:wandb.run_manager:file/dir modified: /home/faessler/work/Research/trec-covid/wandb/run-20200730_143932-kn07ka4e/wandb-events.jsonl\n",
      "INFO:wandb.run_manager:file/dir modified: /home/faessler/work/Research/trec-covid/wandb/run-20200730_143941-kn07ka4e/wandb-events.jsonl\n",
      "INFO:wandb.run_manager:file/dir modified: /home/faessler/work/Research/trec-covid/wandb/run-20200730_143932-kn07ka4e/wandb-metadata.json\n",
      "INFO:wandb.run_manager:file/dir modified: /home/faessler/work/Research/trec-covid/wandb/run-20200730_143941-kn07ka4e/wandb-metadata.json\n",
      "INFO:wandb.run_manager:file/dir modified: /home/faessler/work/Research/trec-covid/wandb/run-20200730_143932-kn07ka4e/wandb-metadata.json\n"
     ]
    },
    {
     "name": "stdout",
     "output_type": "stream",
     "text": [
      "\n"
     ]
    },
    {
     "name": "stderr",
     "output_type": "stream",
     "text": [
      "/opt/conda/lib/python3.7/site-packages/sklearn/metrics/_classification.py:846: RuntimeWarning: invalid value encountered in double_scalars\n",
      "  mcc = cov_ytyp / np.sqrt(cov_ytyt * cov_ypyp)\n"
     ]
    },
    {
     "data": {
      "text/html": [
       "\n",
       "                Logging results to <a href=\"https://wandb.com\" target=\"_blank\">Weights & Biases</a> <a href=\"https://docs.wandb.com/integrations/jupyter.html\" target=\"_blank\">(Documentation)</a>.<br/>\n",
       "                Project page: <a href=\"https://app.wandb.ai/khituras/TREC-Covid\" target=\"_blank\">https://app.wandb.ai/khituras/TREC-Covid</a><br/>\n",
       "                Run page: <a href=\"https://app.wandb.ai/khituras/TREC-Covid/runs/kn07ka4e\" target=\"_blank\">https://app.wandb.ai/khituras/TREC-Covid/runs/kn07ka4e</a><br/>\n",
       "            "
      ],
      "text/plain": [
       "<IPython.core.display.HTML object>"
      ]
     },
     "metadata": {},
     "output_type": "display_data"
    },
    {
     "name": "stderr",
     "output_type": "stream",
     "text": [
      "INFO:wandb.run_manager:system metrics and metadata threads started\n",
      "INFO:wandb.run_manager:checking resume status, waiting at most 10 seconds\n",
      "INFO:wandb.run_manager:resuming run from id: UnVuOnYxOmtuMDdrYTRlOlRSRUMtQ292aWQ6a2hpdHVyYXM=\n",
      "INFO:wandb.run_manager:upserting run before process can begin, waiting at most 10 seconds\n",
      "INFO:wandb.run_manager:saving pip packages\n",
      "INFO:wandb.run_manager:initializing streaming files api\n",
      "INFO:wandb.run_manager:unblocking file change observer, beginning sync with W&B servers\n",
      "INFO:wandb.run_manager:file/dir modified: /home/faessler/work/Research/trec-covid/wandb/run-20200730_144131-kn07ka4e/config.yaml\n",
      "INFO:wandb.run_manager:file/dir created: /home/faessler/work/Research/trec-covid/wandb/run-20200730_144131-kn07ka4e/requirements.txt\n",
      "INFO:wandb.run_manager:file/dir created: /home/faessler/work/Research/trec-covid/wandb/run-20200730_144131-kn07ka4e/wandb-history.jsonl\n",
      "ERROR:wandb.run_manager:Streaming file created twice in same run: /home/faessler/work/Research/trec-covid/wandb/run-20200730_144131-kn07ka4e/wandb-history.jsonl\n",
      "INFO:wandb.run_manager:file/dir created: /home/faessler/work/Research/trec-covid/wandb/run-20200730_144131-kn07ka4e/wandb-events.jsonl\n",
      "ERROR:wandb.run_manager:Streaming file created twice in same run: /home/faessler/work/Research/trec-covid/wandb/run-20200730_144131-kn07ka4e/wandb-events.jsonl\n",
      "INFO:wandb.run_manager:file/dir created: /home/faessler/work/Research/trec-covid/wandb/run-20200730_144131-kn07ka4e/wandb-summary.json\n",
      "INFO:wandb.run_manager:file/dir created: /home/faessler/work/Research/trec-covid/wandb/run-20200730_144131-kn07ka4e/media/table/roc_12_88f36667.table.json\n",
      "INFO:wandb.run_manager:file/dir created: /home/faessler/work/Research/trec-covid/wandb/run-20200730_144131-kn07ka4e/media/table/pr_13_8c24a740.table.json\n",
      "INFO:wandb.run_manager:file/dir created: /home/faessler/work/Research/trec-covid/wandb/run-20200730_144131-kn07ka4e/wandb-metadata.json\n",
      "INFO:wandb.run_manager:file/dir created: /home/faessler/work/Research/trec-covid/wandb/run-20200730_144131-kn07ka4e/media\n",
      "INFO:wandb.run_manager:file/dir created: /home/faessler/work/Research/trec-covid/wandb/run-20200730_144131-kn07ka4e/media/table\n",
      "INFO:simpletransformers.classification.classification_model:{'mcc': 0.0, 'tp': 0, 'tn': 6005, 'fp': 0, 'fn': 6005, 'accuracy': 0.5, 'eval_loss': 0.6931465423694463}\n"
     ]
    },
    {
     "name": "stdout",
     "output_type": "stream",
     "text": [
      "wandb: Agent Finished Run: kn07ka4e \n",
      "\n"
     ]
    },
    {
     "name": "stderr",
     "output_type": "stream",
     "text": [
      "INFO:wandb.run_manager:shutting down system stats and metadata service\n",
      "INFO:wandb.run_manager:file/dir modified: /home/faessler/work/Research/trec-covid/wandb/run-20200730_144131-kn07ka4e/config.yaml\n",
      "INFO:wandb.run_manager:file/dir modified: /home/faessler/work/Research/trec-covid/wandb/run-20200730_144131-kn07ka4e/wandb-summary.json\n",
      "INFO:wandb.run_manager:file/dir modified: /home/faessler/work/Research/trec-covid/wandb/run-20200730_144131-kn07ka4e/wandb-history.jsonl\n",
      "INFO:wandb.run_manager:file/dir modified: /home/faessler/work/Research/trec-covid/wandb/run-20200730_144131-kn07ka4e/wandb-events.jsonl\n",
      "INFO:wandb.run_manager:file/dir created: /home/faessler/work/Research/trec-covid/wandb/run-20200730_144131-kn07ka4e/media/table/confusion_matrix_14_745cd91c.table.json\n",
      "INFO:wandb.run_manager:file/dir modified: /home/faessler/work/Research/trec-covid/wandb/run-20200730_144131-kn07ka4e/media/table\n",
      "INFO:wandb.run_manager:stopping streaming files and file change observer\n",
      "INFO:wandb.run_manager:file/dir modified: /home/faessler/work/Research/trec-covid/wandb/run-20200730_143932-kn07ka4e/wandb-events.jsonl\n",
      "INFO:wandb.run_manager:file/dir modified: /home/faessler/work/Research/trec-covid/wandb/run-20200730_144131-kn07ka4e/wandb-metadata.json\n",
      "INFO:wandb.run_manager:file/dir modified: /home/faessler/work/Research/trec-covid/wandb/run-20200730_143941-kn07ka4e/wandb-metadata.json\n",
      "INFO:wandb.wandb_agent:Cleaning up finished run: kn07ka4e\n",
      "INFO:wandb.wandb_agent:Agent received command: run\n",
      "INFO:wandb.wandb_agent:Agent starting run with config:\n",
      "\tlearning_rate: 3.398911520424397e-06\n",
      "\tnum_train_epochs: 3\n"
     ]
    },
    {
     "name": "stdout",
     "output_type": "stream",
     "text": [
      "wandb: Agent Starting Run: e3vf3xup with config:\n",
      "\tlearning_rate: 3.398911520424397e-06\n",
      "\tnum_train_epochs: 3\n",
      "wandb: Agent Started Run: e3vf3xup\n"
     ]
    },
    {
     "data": {
      "text/html": [
       "\n",
       "                Logging results to <a href=\"https://wandb.com\" target=\"_blank\">Weights & Biases</a> <a href=\"https://docs.wandb.com/integrations/jupyter.html\" target=\"_blank\">(Documentation)</a>.<br/>\n",
       "                Project page: <a href=\"https://app.wandb.ai/khituras/TREC-Covid\" target=\"_blank\">https://app.wandb.ai/khituras/TREC-Covid</a><br/>\n",
       "                Sweep page: <a href=\"https://app.wandb.ai/khituras/TREC-Covid/sweeps/revtmojb\" target=\"_blank\">https://app.wandb.ai/khituras/TREC-Covid/sweeps/revtmojb</a><br/>\n",
       "Run page: <a href=\"https://app.wandb.ai/khituras/TREC-Covid/runs/e3vf3xup\" target=\"_blank\">https://app.wandb.ai/khituras/TREC-Covid/runs/e3vf3xup</a><br/>\n",
       "            "
      ],
      "text/plain": [
       "<IPython.core.display.HTML object>"
      ]
     },
     "metadata": {},
     "output_type": "display_data"
    },
    {
     "name": "stderr",
     "output_type": "stream",
     "text": [
      "INFO:wandb.run_manager:system metrics and metadata threads started\n",
      "INFO:wandb.run_manager:checking resume status, waiting at most 10 seconds\n",
      "INFO:wandb.run_manager:resuming run from id: UnVuOnYxOmUzdmYzeHVwOlRSRUMtQ292aWQ6a2hpdHVyYXM=\n",
      "INFO:wandb.run_manager:upserting run before process can begin, waiting at most 10 seconds\n",
      "INFO:wandb.run_manager:file/dir modified: /home/faessler/work/Research/trec-covid/wandb/run-20200730_144137-e3vf3xup/config.yaml\n",
      "INFO:wandb.run_manager:saving pip packages\n",
      "INFO:wandb.run_manager:initializing streaming files api\n",
      "INFO:wandb.run_manager:unblocking file change observer, beginning sync with W&B servers\n",
      "INFO:wandb.run_manager:file/dir created: /home/faessler/work/Research/trec-covid/wandb/run-20200730_144137-e3vf3xup/wandb-events.jsonl\n",
      "INFO:wandb.run_manager:file/dir created: /home/faessler/work/Research/trec-covid/wandb/run-20200730_144137-e3vf3xup/wandb-history.jsonl\n",
      "INFO:wandb.run_manager:file/dir created: /home/faessler/work/Research/trec-covid/wandb/run-20200730_144137-e3vf3xup/wandb-metadata.json\n",
      "INFO:wandb.run_manager:file/dir created: /home/faessler/work/Research/trec-covid/wandb/run-20200730_144137-e3vf3xup/wandb-summary.json\n",
      "INFO:wandb.run_manager:file/dir created: /home/faessler/work/Research/trec-covid/wandb/run-20200730_144137-e3vf3xup/requirements.txt\n",
      "INFO:wandb.wandb_agent:Running runs: ['e3vf3xup']\n"
     ]
    },
    {
     "name": "stdout",
     "output_type": "stream",
     "text": [
      "Selected optimization level O1:  Insert automatic casts around Pytorch functions and Tensor methods.\n",
      "\n",
      "Defaults for this optimization level are:\n",
      "enabled                : True\n",
      "opt_level              : O1\n",
      "cast_model_type        : None\n",
      "patch_torch_functions  : True\n",
      "keep_batchnorm_fp32    : None\n",
      "master_weights         : None\n",
      "loss_scale             : dynamic\n",
      "Processing user overrides (additional kwargs that are not None)...\n",
      "After processing overrides, optimization options are:\n",
      "enabled                : True\n",
      "opt_level              : O1\n",
      "cast_model_type        : None\n",
      "patch_torch_functions  : True\n",
      "keep_batchnorm_fp32    : None\n",
      "master_weights         : None\n",
      "loss_scale             : dynamic\n"
     ]
    },
    {
     "data": {
      "application/vnd.jupyter.widget-view+json": {
       "model_id": "3d96e9e484b349b9abe38b56048987c7",
       "version_major": 2,
       "version_minor": 0
      },
      "text/plain": [
       "HBox(children=(FloatProgress(value=0.0, description='Epoch', max=3.0, style=ProgressStyle(description_width='i…"
      ]
     },
     "metadata": {},
     "output_type": "display_data"
    },
    {
     "data": {
      "text/html": [
       "\n",
       "                Logging results to <a href=\"https://wandb.com\" target=\"_blank\">Weights & Biases</a> <a href=\"https://docs.wandb.com/integrations/jupyter.html\" target=\"_blank\">(Documentation)</a>.<br/>\n",
       "                Project page: <a href=\"https://app.wandb.ai/khituras/TREC-Covid\" target=\"_blank\">https://app.wandb.ai/khituras/TREC-Covid</a><br/>\n",
       "                Run page: <a href=\"https://app.wandb.ai/khituras/TREC-Covid/runs/e3vf3xup\" target=\"_blank\">https://app.wandb.ai/khituras/TREC-Covid/runs/e3vf3xup</a><br/>\n",
       "            "
      ],
      "text/plain": [
       "<IPython.core.display.HTML object>"
      ]
     },
     "metadata": {},
     "output_type": "display_data"
    },
    {
     "name": "stderr",
     "output_type": "stream",
     "text": [
      "INFO:wandb.run_manager:system metrics and metadata threads started\n",
      "INFO:wandb.run_manager:checking resume status, waiting at most 10 seconds\n",
      "INFO:wandb.run_manager:resuming run from id: UnVuOnYxOmUzdmYzeHVwOlRSRUMtQ292aWQ6a2hpdHVyYXM=\n",
      "INFO:wandb.run_manager:upserting run before process can begin, waiting at most 10 seconds\n",
      "INFO:wandb.run_manager:saving pip packages\n",
      "INFO:wandb.run_manager:initializing streaming files api\n",
      "INFO:wandb.run_manager:unblocking file change observer, beginning sync with W&B servers\n"
     ]
    },
    {
     "data": {
      "application/vnd.jupyter.widget-view+json": {
       "model_id": "257865bd24754f23b4ac2d52b89d6e3f",
       "version_major": 2,
       "version_minor": 0
      },
      "text/plain": [
       "HBox(children=(FloatProgress(value=0.0, description='Running Epoch 0 of 3', max=625.0, style=ProgressStyle(des…"
      ]
     },
     "metadata": {},
     "output_type": "display_data"
    },
    {
     "name": "stderr",
     "output_type": "stream",
     "text": [
      "INFO:wandb.run_manager:file/dir modified: /home/faessler/work/Research/trec-covid/wandb/run-20200730_144146-e3vf3xup/config.yaml\n",
      "INFO:wandb.run_manager:file/dir created: /home/faessler/work/Research/trec-covid/wandb/run-20200730_144146-e3vf3xup/wandb-summary.json\n",
      "INFO:wandb.run_manager:file/dir created: /home/faessler/work/Research/trec-covid/wandb/run-20200730_144146-e3vf3xup/wandb-metadata.json\n",
      "INFO:wandb.run_manager:file/dir created: /home/faessler/work/Research/trec-covid/wandb/run-20200730_144146-e3vf3xup/requirements.txt\n",
      "INFO:wandb.run_manager:file/dir created: /home/faessler/work/Research/trec-covid/wandb/run-20200730_144146-e3vf3xup/wandb-events.jsonl\n",
      "INFO:wandb.run_manager:file/dir created: /home/faessler/work/Research/trec-covid/wandb/run-20200730_144146-e3vf3xup/wandb-history.jsonl\n",
      "/opt/conda/lib/python3.7/site-packages/torch/optim/lr_scheduler.py:113: UserWarning: Seems like `optimizer.step()` has been overridden after learning rate scheduler initialization. Please, make sure to call `optimizer.step()` before `lr_scheduler.step()`. See more details at https://pytorch.org/docs/stable/optim.html#how-to-adjust-learning-rate\n",
      "  \"https://pytorch.org/docs/stable/optim.html#how-to-adjust-learning-rate\", UserWarning)\n",
      "INFO:wandb.run_manager:file/dir modified: /home/faessler/work/Research/trec-covid/wandb/run-20200730_144146-e3vf3xup/wandb-summary.json\n",
      "INFO:wandb.run_manager:file/dir created: /home/faessler/work/Research/trec-covid/wandb/run-20200730_144146-e3vf3xup/media/graph/graph_0_summary_c736ba55.graph.json\n",
      "INFO:wandb.run_manager:file/dir created: /home/faessler/work/Research/trec-covid/wandb/run-20200730_144146-e3vf3xup/media\n",
      "INFO:wandb.run_manager:file/dir created: /home/faessler/work/Research/trec-covid/wandb/run-20200730_144146-e3vf3xup/media/graph\n",
      "/opt/conda/lib/python3.7/site-packages/torch/optim/lr_scheduler.py:224: UserWarning: To get the last learning rate computed by the scheduler, please use `get_last_lr()`.\n",
      "  warnings.warn(\"To get the last learning rate computed by the scheduler, \"\n",
      "INFO:wandb.run_manager:file/dir modified: /home/faessler/work/Research/trec-covid/wandb/run-20200730_144146-e3vf3xup/wandb-summary.json\n",
      "INFO:wandb.run_manager:file/dir modified: /home/faessler/work/Research/trec-covid/wandb/run-20200730_144146-e3vf3xup/wandb-history.jsonl\n",
      "INFO:wandb.run_manager:file/dir modified: /home/faessler/work/Research/trec-covid/wandb/run-20200730_144137-e3vf3xup/wandb-metadata.json\n",
      "INFO:wandb.run_manager:file/dir modified: /home/faessler/work/Research/trec-covid/wandb/run-20200730_144146-e3vf3xup/wandb-summary.json\n",
      "INFO:wandb.run_manager:file/dir modified: /home/faessler/work/Research/trec-covid/wandb/run-20200730_144146-e3vf3xup/wandb-history.jsonl\n",
      "INFO:wandb.run_manager:file/dir modified: /home/faessler/work/Research/trec-covid/wandb/run-20200730_144146-e3vf3xup/wandb-metadata.json\n",
      "INFO:wandb.run_manager:file/dir modified: /home/faessler/work/Research/trec-covid/wandb/run-20200730_144146-e3vf3xup/wandb-summary.json\n",
      "INFO:wandb.run_manager:file/dir modified: /home/faessler/work/Research/trec-covid/wandb/run-20200730_144146-e3vf3xup/wandb-history.jsonl\n",
      "INFO:wandb.run_manager:file/dir modified: /home/faessler/work/Research/trec-covid/wandb/run-20200730_144137-e3vf3xup/wandb-events.jsonl\n",
      "INFO:wandb.run_manager:file/dir modified: /home/faessler/work/Research/trec-covid/wandb/run-20200730_144146-e3vf3xup/wandb-summary.json\n",
      "INFO:wandb.run_manager:file/dir modified: /home/faessler/work/Research/trec-covid/wandb/run-20200730_144146-e3vf3xup/wandb-history.jsonl\n",
      "INFO:wandb.run_manager:file/dir modified: /home/faessler/work/Research/trec-covid/wandb/run-20200730_144137-e3vf3xup/wandb-metadata.json\n",
      "INFO:wandb.run_manager:file/dir modified: /home/faessler/work/Research/trec-covid/wandb/run-20200730_144146-e3vf3xup/wandb-events.jsonl\n",
      "INFO:wandb.run_manager:file/dir modified: /home/faessler/work/Research/trec-covid/wandb/run-20200730_144146-e3vf3xup/wandb-summary.json\n",
      "INFO:wandb.run_manager:file/dir modified: /home/faessler/work/Research/trec-covid/wandb/run-20200730_144146-e3vf3xup/wandb-history.jsonl\n",
      "INFO:wandb.run_manager:file/dir modified: /home/faessler/work/Research/trec-covid/wandb/run-20200730_144146-e3vf3xup/wandb-metadata.json\n",
      "INFO:wandb.run_manager:file/dir modified: /home/faessler/work/Research/trec-covid/wandb/run-20200730_144146-e3vf3xup/wandb-summary.json\n",
      "INFO:wandb.run_manager:file/dir modified: /home/faessler/work/Research/trec-covid/wandb/run-20200730_144146-e3vf3xup/wandb-history.jsonl\n",
      "INFO:wandb.run_manager:file/dir modified: /home/faessler/work/Research/trec-covid/wandb/run-20200730_144137-e3vf3xup/wandb-metadata.json\n",
      "INFO:wandb.run_manager:file/dir modified: /home/faessler/work/Research/trec-covid/wandb/run-20200730_144146-e3vf3xup/wandb-summary.json\n",
      "INFO:wandb.run_manager:file/dir modified: /home/faessler/work/Research/trec-covid/wandb/run-20200730_144146-e3vf3xup/wandb-history.jsonl\n"
     ]
    },
    {
     "name": "stdout",
     "output_type": "stream",
     "text": [
      "Gradient overflow.  Skipping step, loss scaler 0 reducing loss scale to 32768.0\n"
     ]
    },
    {
     "name": "stderr",
     "output_type": "stream",
     "text": [
      "INFO:wandb.run_manager:file/dir modified: /home/faessler/work/Research/trec-covid/wandb/run-20200730_144146-e3vf3xup/wandb-summary.json\n",
      "INFO:wandb.run_manager:file/dir modified: /home/faessler/work/Research/trec-covid/wandb/run-20200730_144146-e3vf3xup/wandb-history.jsonl\n",
      "INFO:wandb.run_manager:file/dir modified: /home/faessler/work/Research/trec-covid/wandb/run-20200730_144146-e3vf3xup/wandb-metadata.json\n",
      "INFO:wandb.run_manager:file/dir modified: /home/faessler/work/Research/trec-covid/wandb/run-20200730_144137-e3vf3xup/wandb-events.jsonl\n",
      "INFO:wandb.run_manager:file/dir modified: /home/faessler/work/Research/trec-covid/wandb/run-20200730_144146-e3vf3xup/wandb-summary.json\n",
      "INFO:wandb.run_manager:file/dir modified: /home/faessler/work/Research/trec-covid/wandb/run-20200730_144146-e3vf3xup/wandb-history.jsonl\n",
      "INFO:wandb.run_manager:file/dir modified: /home/faessler/work/Research/trec-covid/wandb/run-20200730_144137-e3vf3xup/wandb-metadata.json\n",
      "INFO:wandb.run_manager:file/dir modified: /home/faessler/work/Research/trec-covid/wandb/run-20200730_144146-e3vf3xup/wandb-summary.json\n",
      "INFO:wandb.run_manager:file/dir modified: /home/faessler/work/Research/trec-covid/wandb/run-20200730_144146-e3vf3xup/wandb-events.jsonl\n",
      "INFO:wandb.run_manager:file/dir modified: /home/faessler/work/Research/trec-covid/wandb/run-20200730_144146-e3vf3xup/wandb-history.jsonl\n"
     ]
    },
    {
     "name": "stdout",
     "output_type": "stream",
     "text": [
      "Gradient overflow.  Skipping step, loss scaler 0 reducing loss scale to 16384.0\n"
     ]
    },
    {
     "name": "stderr",
     "output_type": "stream",
     "text": [
      "INFO:wandb.run_manager:file/dir modified: /home/faessler/work/Research/trec-covid/wandb/run-20200730_144146-e3vf3xup/wandb-summary.json\n",
      "INFO:wandb.run_manager:file/dir modified: /home/faessler/work/Research/trec-covid/wandb/run-20200730_144146-e3vf3xup/wandb-history.jsonl\n",
      "INFO:wandb.run_manager:file/dir modified: /home/faessler/work/Research/trec-covid/wandb/run-20200730_144146-e3vf3xup/wandb-metadata.json\n"
     ]
    },
    {
     "name": "stdout",
     "output_type": "stream",
     "text": [
      "Gradient overflow.  Skipping step, loss scaler 0 reducing loss scale to 8192.0\n"
     ]
    },
    {
     "name": "stderr",
     "output_type": "stream",
     "text": [
      "INFO:wandb.run_manager:file/dir modified: /home/faessler/work/Research/trec-covid/wandb/run-20200730_144146-e3vf3xup/wandb-summary.json\n",
      "INFO:wandb.run_manager:file/dir modified: /home/faessler/work/Research/trec-covid/wandb/run-20200730_144146-e3vf3xup/wandb-history.jsonl\n"
     ]
    },
    {
     "name": "stdout",
     "output_type": "stream",
     "text": [
      "\n"
     ]
    },
    {
     "data": {
      "application/vnd.jupyter.widget-view+json": {
       "model_id": "3f79c5a0d91b44c5ac20a60d2fefc913",
       "version_major": 2,
       "version_minor": 0
      },
      "text/plain": [
       "HBox(children=(FloatProgress(value=0.0, description='Running Epoch 1 of 3', max=625.0, style=ProgressStyle(des…"
      ]
     },
     "metadata": {},
     "output_type": "display_data"
    },
    {
     "name": "stderr",
     "output_type": "stream",
     "text": [
      "INFO:wandb.run_manager:file/dir modified: /home/faessler/work/Research/trec-covid/wandb/run-20200730_144137-e3vf3xup/wandb-metadata.json\n",
      "INFO:wandb.run_manager:file/dir modified: /home/faessler/work/Research/trec-covid/wandb/run-20200730_144146-e3vf3xup/wandb-summary.json\n",
      "INFO:wandb.run_manager:file/dir modified: /home/faessler/work/Research/trec-covid/wandb/run-20200730_144146-e3vf3xup/wandb-history.jsonl\n",
      "INFO:wandb.run_manager:file/dir modified: /home/faessler/work/Research/trec-covid/wandb/run-20200730_144146-e3vf3xup/wandb-metadata.json\n",
      "INFO:wandb.run_manager:file/dir modified: /home/faessler/work/Research/trec-covid/wandb/run-20200730_144146-e3vf3xup/wandb-summary.json\n",
      "INFO:wandb.run_manager:file/dir modified: /home/faessler/work/Research/trec-covid/wandb/run-20200730_144146-e3vf3xup/wandb-history.jsonl\n",
      "INFO:wandb.run_manager:file/dir modified: /home/faessler/work/Research/trec-covid/wandb/run-20200730_144137-e3vf3xup/wandb-events.jsonl\n"
     ]
    },
    {
     "name": "stdout",
     "output_type": "stream",
     "text": [
      "Gradient overflow.  Skipping step, loss scaler 0 reducing loss scale to 4096.0\n"
     ]
    },
    {
     "name": "stderr",
     "output_type": "stream",
     "text": [
      "INFO:wandb.run_manager:file/dir modified: /home/faessler/work/Research/trec-covid/wandb/run-20200730_144146-e3vf3xup/wandb-summary.json\n",
      "INFO:wandb.run_manager:file/dir modified: /home/faessler/work/Research/trec-covid/wandb/run-20200730_144146-e3vf3xup/wandb-history.jsonl\n",
      "INFO:wandb.run_manager:file/dir modified: /home/faessler/work/Research/trec-covid/wandb/run-20200730_144146-e3vf3xup/wandb-events.jsonl\n",
      "INFO:wandb.run_manager:file/dir modified: /home/faessler/work/Research/trec-covid/wandb/run-20200730_144137-e3vf3xup/wandb-metadata.json\n",
      "INFO:wandb.run_manager:file/dir modified: /home/faessler/work/Research/trec-covid/wandb/run-20200730_144146-e3vf3xup/wandb-summary.json\n",
      "INFO:wandb.run_manager:file/dir modified: /home/faessler/work/Research/trec-covid/wandb/run-20200730_144146-e3vf3xup/wandb-history.jsonl\n",
      "INFO:wandb.run_manager:file/dir modified: /home/faessler/work/Research/trec-covid/wandb/run-20200730_144146-e3vf3xup/wandb-metadata.json\n",
      "INFO:wandb.run_manager:file/dir modified: /home/faessler/work/Research/trec-covid/wandb/run-20200730_144146-e3vf3xup/wandb-summary.json\n",
      "INFO:wandb.run_manager:file/dir modified: /home/faessler/work/Research/trec-covid/wandb/run-20200730_144146-e3vf3xup/wandb-history.jsonl\n",
      "INFO:wandb.run_manager:file/dir modified: /home/faessler/work/Research/trec-covid/wandb/run-20200730_144146-e3vf3xup/wandb-summary.json\n",
      "INFO:wandb.run_manager:file/dir modified: /home/faessler/work/Research/trec-covid/wandb/run-20200730_144146-e3vf3xup/wandb-history.jsonl\n",
      "INFO:wandb.run_manager:file/dir modified: /home/faessler/work/Research/trec-covid/wandb/run-20200730_144137-e3vf3xup/wandb-metadata.json\n",
      "INFO:wandb.run_manager:file/dir modified: /home/faessler/work/Research/trec-covid/wandb/run-20200730_144146-e3vf3xup/wandb-summary.json\n",
      "INFO:wandb.run_manager:file/dir modified: /home/faessler/work/Research/trec-covid/wandb/run-20200730_144146-e3vf3xup/wandb-history.jsonl\n",
      "INFO:wandb.run_manager:file/dir modified: /home/faessler/work/Research/trec-covid/wandb/run-20200730_144137-e3vf3xup/wandb-events.jsonl\n",
      "INFO:wandb.run_manager:file/dir modified: /home/faessler/work/Research/trec-covid/wandb/run-20200730_144146-e3vf3xup/wandb-metadata.json\n",
      "INFO:wandb.run_manager:file/dir modified: /home/faessler/work/Research/trec-covid/wandb/run-20200730_144146-e3vf3xup/wandb-summary.json\n",
      "INFO:wandb.run_manager:file/dir modified: /home/faessler/work/Research/trec-covid/wandb/run-20200730_144146-e3vf3xup/wandb-history.jsonl\n",
      "INFO:wandb.run_manager:file/dir modified: /home/faessler/work/Research/trec-covid/wandb/run-20200730_144146-e3vf3xup/wandb-events.jsonl\n",
      "INFO:wandb.run_manager:file/dir modified: /home/faessler/work/Research/trec-covid/wandb/run-20200730_144137-e3vf3xup/wandb-metadata.json\n",
      "INFO:wandb.run_manager:file/dir modified: /home/faessler/work/Research/trec-covid/wandb/run-20200730_144146-e3vf3xup/wandb-summary.json\n",
      "INFO:wandb.run_manager:file/dir modified: /home/faessler/work/Research/trec-covid/wandb/run-20200730_144146-e3vf3xup/wandb-history.jsonl\n",
      "INFO:wandb.run_manager:file/dir modified: /home/faessler/work/Research/trec-covid/wandb/run-20200730_144146-e3vf3xup/wandb-summary.json\n",
      "INFO:wandb.run_manager:file/dir modified: /home/faessler/work/Research/trec-covid/wandb/run-20200730_144146-e3vf3xup/wandb-history.jsonl\n",
      "INFO:wandb.run_manager:file/dir modified: /home/faessler/work/Research/trec-covid/wandb/run-20200730_144146-e3vf3xup/wandb-metadata.json\n",
      "INFO:wandb.run_manager:file/dir modified: /home/faessler/work/Research/trec-covid/wandb/run-20200730_144146-e3vf3xup/wandb-summary.json\n",
      "INFO:wandb.run_manager:file/dir modified: /home/faessler/work/Research/trec-covid/wandb/run-20200730_144146-e3vf3xup/wandb-history.jsonl\n",
      "INFO:wandb.run_manager:file/dir modified: /home/faessler/work/Research/trec-covid/wandb/run-20200730_144137-e3vf3xup/wandb-metadata.json\n",
      "INFO:wandb.run_manager:file/dir modified: /home/faessler/work/Research/trec-covid/wandb/run-20200730_144146-e3vf3xup/wandb-summary.json\n",
      "INFO:wandb.run_manager:file/dir modified: /home/faessler/work/Research/trec-covid/wandb/run-20200730_144146-e3vf3xup/wandb-history.jsonl\n",
      "INFO:wandb.run_manager:file/dir modified: /home/faessler/work/Research/trec-covid/wandb/run-20200730_144137-e3vf3xup/wandb-events.jsonl\n",
      "INFO:wandb.run_manager:file/dir modified: /home/faessler/work/Research/trec-covid/wandb/run-20200730_144146-e3vf3xup/wandb-history.jsonl\n"
     ]
    },
    {
     "name": "stdout",
     "output_type": "stream",
     "text": [
      "\n"
     ]
    },
    {
     "data": {
      "application/vnd.jupyter.widget-view+json": {
       "model_id": "ee11e0b0ee974450973c41d2347813b0",
       "version_major": 2,
       "version_minor": 0
      },
      "text/plain": [
       "HBox(children=(FloatProgress(value=0.0, description='Running Epoch 2 of 3', max=625.0, style=ProgressStyle(des…"
      ]
     },
     "metadata": {},
     "output_type": "display_data"
    },
    {
     "name": "stderr",
     "output_type": "stream",
     "text": [
      "INFO:wandb.run_manager:file/dir modified: /home/faessler/work/Research/trec-covid/wandb/run-20200730_144146-e3vf3xup/wandb-metadata.json\n",
      "INFO:wandb.run_manager:file/dir modified: /home/faessler/work/Research/trec-covid/wandb/run-20200730_144146-e3vf3xup/wandb-summary.json\n",
      "INFO:wandb.run_manager:file/dir modified: /home/faessler/work/Research/trec-covid/wandb/run-20200730_144146-e3vf3xup/wandb-events.jsonl\n",
      "INFO:wandb.run_manager:file/dir modified: /home/faessler/work/Research/trec-covid/wandb/run-20200730_144146-e3vf3xup/wandb-summary.json\n",
      "INFO:wandb.run_manager:file/dir modified: /home/faessler/work/Research/trec-covid/wandb/run-20200730_144146-e3vf3xup/wandb-history.jsonl\n",
      "INFO:wandb.run_manager:file/dir modified: /home/faessler/work/Research/trec-covid/wandb/run-20200730_144137-e3vf3xup/wandb-metadata.json\n",
      "INFO:wandb.run_manager:file/dir modified: /home/faessler/work/Research/trec-covid/wandb/run-20200730_144146-e3vf3xup/wandb-summary.json\n",
      "INFO:wandb.run_manager:file/dir modified: /home/faessler/work/Research/trec-covid/wandb/run-20200730_144146-e3vf3xup/wandb-history.jsonl\n",
      "INFO:wandb.run_manager:file/dir modified: /home/faessler/work/Research/trec-covid/wandb/run-20200730_144146-e3vf3xup/wandb-metadata.json\n",
      "INFO:wandb.run_manager:file/dir modified: /home/faessler/work/Research/trec-covid/wandb/run-20200730_144146-e3vf3xup/wandb-summary.json\n",
      "INFO:wandb.run_manager:file/dir modified: /home/faessler/work/Research/trec-covid/wandb/run-20200730_144146-e3vf3xup/wandb-history.jsonl\n",
      "INFO:wandb.run_manager:file/dir modified: /home/faessler/work/Research/trec-covid/wandb/run-20200730_144146-e3vf3xup/wandb-summary.json\n",
      "INFO:wandb.run_manager:file/dir modified: /home/faessler/work/Research/trec-covid/wandb/run-20200730_144146-e3vf3xup/wandb-history.jsonl\n",
      "INFO:wandb.run_manager:file/dir modified: /home/faessler/work/Research/trec-covid/wandb/run-20200730_144137-e3vf3xup/wandb-metadata.json\n",
      "INFO:wandb.run_manager:file/dir modified: /home/faessler/work/Research/trec-covid/wandb/run-20200730_144137-e3vf3xup/wandb-events.jsonl\n",
      "INFO:wandb.run_manager:file/dir modified: /home/faessler/work/Research/trec-covid/wandb/run-20200730_144146-e3vf3xup/wandb-summary.json\n",
      "INFO:wandb.run_manager:file/dir modified: /home/faessler/work/Research/trec-covid/wandb/run-20200730_144146-e3vf3xup/wandb-history.jsonl\n",
      "INFO:wandb.run_manager:file/dir modified: /home/faessler/work/Research/trec-covid/wandb/run-20200730_144146-e3vf3xup/wandb-metadata.json\n",
      "INFO:wandb.run_manager:file/dir modified: /home/faessler/work/Research/trec-covid/wandb/run-20200730_144146-e3vf3xup/wandb-summary.json\n",
      "INFO:wandb.run_manager:file/dir modified: /home/faessler/work/Research/trec-covid/wandb/run-20200730_144146-e3vf3xup/wandb-events.jsonl\n",
      "INFO:wandb.run_manager:file/dir modified: /home/faessler/work/Research/trec-covid/wandb/run-20200730_144146-e3vf3xup/wandb-history.jsonl\n",
      "INFO:wandb.run_manager:file/dir modified: /home/faessler/work/Research/trec-covid/wandb/run-20200730_144146-e3vf3xup/wandb-summary.json\n",
      "INFO:wandb.run_manager:file/dir modified: /home/faessler/work/Research/trec-covid/wandb/run-20200730_144146-e3vf3xup/wandb-history.jsonl\n",
      "INFO:wandb.run_manager:file/dir modified: /home/faessler/work/Research/trec-covid/wandb/run-20200730_144137-e3vf3xup/wandb-metadata.json\n",
      "INFO:wandb.run_manager:file/dir modified: /home/faessler/work/Research/trec-covid/wandb/run-20200730_144146-e3vf3xup/wandb-summary.json\n",
      "INFO:wandb.run_manager:file/dir modified: /home/faessler/work/Research/trec-covid/wandb/run-20200730_144146-e3vf3xup/wandb-history.jsonl\n",
      "INFO:wandb.run_manager:file/dir modified: /home/faessler/work/Research/trec-covid/wandb/run-20200730_144146-e3vf3xup/wandb-metadata.json\n",
      "INFO:wandb.run_manager:file/dir modified: /home/faessler/work/Research/trec-covid/wandb/run-20200730_144146-e3vf3xup/wandb-summary.json\n",
      "INFO:wandb.run_manager:file/dir modified: /home/faessler/work/Research/trec-covid/wandb/run-20200730_144146-e3vf3xup/wandb-history.jsonl\n",
      "INFO:wandb.run_manager:file/dir modified: /home/faessler/work/Research/trec-covid/wandb/run-20200730_144146-e3vf3xup/wandb-summary.json\n",
      "INFO:wandb.run_manager:file/dir modified: /home/faessler/work/Research/trec-covid/wandb/run-20200730_144146-e3vf3xup/wandb-history.jsonl\n",
      "INFO:wandb.run_manager:file/dir modified: /home/faessler/work/Research/trec-covid/wandb/run-20200730_144137-e3vf3xup/wandb-events.jsonl\n",
      "INFO:wandb.run_manager:file/dir modified: /home/faessler/work/Research/trec-covid/wandb/run-20200730_144137-e3vf3xup/wandb-metadata.json\n",
      "INFO:wandb.run_manager:file/dir modified: /home/faessler/work/Research/trec-covid/wandb/run-20200730_144146-e3vf3xup/wandb-summary.json\n",
      "INFO:wandb.run_manager:file/dir modified: /home/faessler/work/Research/trec-covid/wandb/run-20200730_144146-e3vf3xup/wandb-history.jsonl\n",
      "INFO:wandb.run_manager:file/dir modified: /home/faessler/work/Research/trec-covid/wandb/run-20200730_144146-e3vf3xup/wandb-metadata.json\n",
      "INFO:wandb.run_manager:file/dir modified: /home/faessler/work/Research/trec-covid/wandb/run-20200730_144146-e3vf3xup/wandb-events.jsonl\n",
      "INFO:wandb.run_manager:file/dir modified: /home/faessler/work/Research/trec-covid/wandb/run-20200730_144146-e3vf3xup/wandb-summary.json\n",
      "INFO:wandb.run_manager:file/dir modified: /home/faessler/work/Research/trec-covid/wandb/run-20200730_144146-e3vf3xup/wandb-history.jsonl\n"
     ]
    },
    {
     "name": "stdout",
     "output_type": "stream",
     "text": [
      "\n",
      "\n"
     ]
    },
    {
     "name": "stderr",
     "output_type": "stream",
     "text": [
      "INFO:simpletransformers.classification.classification_model: Training of roberta model complete. Saved to outputs/.\n"
     ]
    },
    {
     "data": {
      "application/vnd.jupyter.widget-view+json": {
       "model_id": "ccb00645d1e947a596bf0e361ef44f04",
       "version_major": 2,
       "version_minor": 0
      },
      "text/plain": [
       "HBox(children=(FloatProgress(value=0.0, description='Running Evaluation', max=751.0, style=ProgressStyle(descr…"
      ]
     },
     "metadata": {},
     "output_type": "display_data"
    },
    {
     "name": "stderr",
     "output_type": "stream",
     "text": [
      "INFO:wandb.run_manager:file/dir modified: /home/faessler/work/Research/trec-covid/wandb/run-20200730_144137-e3vf3xup/wandb-metadata.json\n",
      "INFO:wandb.run_manager:file/dir modified: /home/faessler/work/Research/trec-covid/wandb/run-20200730_144146-e3vf3xup/wandb-metadata.json\n",
      "INFO:wandb.run_manager:file/dir modified: /home/faessler/work/Research/trec-covid/wandb/run-20200730_144137-e3vf3xup/wandb-events.jsonl\n",
      "INFO:wandb.run_manager:file/dir modified: /home/faessler/work/Research/trec-covid/wandb/run-20200730_144137-e3vf3xup/wandb-metadata.json\n",
      "INFO:wandb.run_manager:file/dir modified: /home/faessler/work/Research/trec-covid/wandb/run-20200730_144146-e3vf3xup/wandb-events.jsonl\n",
      "INFO:wandb.run_manager:file/dir modified: /home/faessler/work/Research/trec-covid/wandb/run-20200730_144146-e3vf3xup/wandb-metadata.json\n",
      "INFO:wandb.run_manager:file/dir modified: /home/faessler/work/Research/trec-covid/wandb/run-20200730_144137-e3vf3xup/wandb-metadata.json\n"
     ]
    },
    {
     "name": "stdout",
     "output_type": "stream",
     "text": [
      "\n"
     ]
    },
    {
     "data": {
      "text/html": [
       "\n",
       "                Logging results to <a href=\"https://wandb.com\" target=\"_blank\">Weights & Biases</a> <a href=\"https://docs.wandb.com/integrations/jupyter.html\" target=\"_blank\">(Documentation)</a>.<br/>\n",
       "                Project page: <a href=\"https://app.wandb.ai/khituras/TREC-Covid\" target=\"_blank\">https://app.wandb.ai/khituras/TREC-Covid</a><br/>\n",
       "                Run page: <a href=\"https://app.wandb.ai/khituras/TREC-Covid/runs/e3vf3xup\" target=\"_blank\">https://app.wandb.ai/khituras/TREC-Covid/runs/e3vf3xup</a><br/>\n",
       "            "
      ],
      "text/plain": [
       "<IPython.core.display.HTML object>"
      ]
     },
     "metadata": {},
     "output_type": "display_data"
    },
    {
     "name": "stderr",
     "output_type": "stream",
     "text": [
      "INFO:wandb.run_manager:system metrics and metadata threads started\n",
      "INFO:wandb.run_manager:checking resume status, waiting at most 10 seconds\n",
      "INFO:wandb.run_manager:resuming run from id: UnVuOnYxOmUzdmYzeHVwOlRSRUMtQ292aWQ6a2hpdHVyYXM=\n",
      "INFO:wandb.run_manager:upserting run before process can begin, waiting at most 10 seconds\n",
      "INFO:wandb.run_manager:saving pip packages\n",
      "INFO:wandb.run_manager:initializing streaming files api\n",
      "INFO:wandb.run_manager:unblocking file change observer, beginning sync with W&B servers\n",
      "INFO:wandb.run_manager:file/dir modified: /home/faessler/work/Research/trec-covid/wandb/run-20200730_144600-e3vf3xup/config.yaml\n",
      "INFO:wandb.run_manager:file/dir created: /home/faessler/work/Research/trec-covid/wandb/run-20200730_144600-e3vf3xup/requirements.txt\n",
      "INFO:wandb.run_manager:file/dir created: /home/faessler/work/Research/trec-covid/wandb/run-20200730_144600-e3vf3xup/wandb-events.jsonl\n",
      "ERROR:wandb.run_manager:Streaming file created twice in same run: /home/faessler/work/Research/trec-covid/wandb/run-20200730_144600-e3vf3xup/wandb-events.jsonl\n",
      "INFO:wandb.run_manager:file/dir created: /home/faessler/work/Research/trec-covid/wandb/run-20200730_144600-e3vf3xup/wandb-history.jsonl\n",
      "ERROR:wandb.run_manager:Streaming file created twice in same run: /home/faessler/work/Research/trec-covid/wandb/run-20200730_144600-e3vf3xup/wandb-history.jsonl\n",
      "INFO:wandb.run_manager:file/dir created: /home/faessler/work/Research/trec-covid/wandb/run-20200730_144600-e3vf3xup/wandb-metadata.json\n",
      "INFO:wandb.run_manager:file/dir created: /home/faessler/work/Research/trec-covid/wandb/run-20200730_144600-e3vf3xup/wandb-summary.json\n",
      "INFO:simpletransformers.classification.classification_model:{'mcc': 0.7186739043049437, 'tp': 5392, 'tn': 4915, 'fp': 1090, 'fn': 613, 'accuracy': 0.8582014987510408, 'eval_loss': 0.3575518881869856}\n"
     ]
    },
    {
     "name": "stdout",
     "output_type": "stream",
     "text": [
      "wandb: Agent Finished Run: e3vf3xup \n",
      "\n"
     ]
    },
    {
     "name": "stderr",
     "output_type": "stream",
     "text": [
      "INFO:wandb.run_manager:shutting down system stats and metadata service\n",
      "INFO:wandb.run_manager:file/dir modified: /home/faessler/work/Research/trec-covid/wandb/run-20200730_144600-e3vf3xup/config.yaml\n",
      "INFO:wandb.run_manager:file/dir modified: /home/faessler/work/Research/trec-covid/wandb/run-20200730_144600-e3vf3xup/wandb-history.jsonl\n",
      "INFO:wandb.run_manager:file/dir modified: /home/faessler/work/Research/trec-covid/wandb/run-20200730_144600-e3vf3xup/wandb-summary.json\n",
      "INFO:wandb.run_manager:file/dir created: /home/faessler/work/Research/trec-covid/wandb/run-20200730_144600-e3vf3xup/media/table/pr_38_6c7a65fa.table.json\n",
      "INFO:wandb.run_manager:file/dir created: /home/faessler/work/Research/trec-covid/wandb/run-20200730_144600-e3vf3xup/media/table/confusion_matrix_39_ab662560.table.json\n",
      "INFO:wandb.run_manager:file/dir created: /home/faessler/work/Research/trec-covid/wandb/run-20200730_144600-e3vf3xup/media/table/roc_37_c9357c57.table.json\n",
      "INFO:wandb.run_manager:file/dir created: /home/faessler/work/Research/trec-covid/wandb/run-20200730_144600-e3vf3xup/media\n",
      "INFO:wandb.run_manager:file/dir created: /home/faessler/work/Research/trec-covid/wandb/run-20200730_144600-e3vf3xup/media/table\n",
      "INFO:wandb.run_manager:stopping streaming files and file change observer\n",
      "INFO:wandb.run_manager:file/dir modified: /home/faessler/work/Research/trec-covid/wandb/run-20200730_144600-e3vf3xup/wandb-events.jsonl\n",
      "INFO:wandb.run_manager:file/dir modified: /home/faessler/work/Research/trec-covid/wandb/run-20200730_144600-e3vf3xup/wandb-metadata.json\n",
      "INFO:wandb.run_manager:file/dir modified: /home/faessler/work/Research/trec-covid/wandb/run-20200730_144146-e3vf3xup/wandb-metadata.json\n",
      "INFO:wandb.wandb_agent:Cleaning up finished run: e3vf3xup\n",
      "INFO:wandb.wandb_agent:Agent received command: run\n",
      "INFO:wandb.wandb_agent:Agent starting run with config:\n",
      "\tlearning_rate: 0.0003098426125792862\n",
      "\tnum_train_epochs: 3\n"
     ]
    },
    {
     "name": "stdout",
     "output_type": "stream",
     "text": [
      "wandb: Agent Starting Run: 1elpp3vo with config:\n",
      "\tlearning_rate: 0.0003098426125792862\n",
      "\tnum_train_epochs: 3\n",
      "wandb: Agent Started Run: 1elpp3vo\n"
     ]
    },
    {
     "data": {
      "text/html": [
       "\n",
       "                Logging results to <a href=\"https://wandb.com\" target=\"_blank\">Weights & Biases</a> <a href=\"https://docs.wandb.com/integrations/jupyter.html\" target=\"_blank\">(Documentation)</a>.<br/>\n",
       "                Project page: <a href=\"https://app.wandb.ai/khituras/TREC-Covid\" target=\"_blank\">https://app.wandb.ai/khituras/TREC-Covid</a><br/>\n",
       "                Sweep page: <a href=\"https://app.wandb.ai/khituras/TREC-Covid/sweeps/revtmojb\" target=\"_blank\">https://app.wandb.ai/khituras/TREC-Covid/sweeps/revtmojb</a><br/>\n",
       "Run page: <a href=\"https://app.wandb.ai/khituras/TREC-Covid/runs/1elpp3vo\" target=\"_blank\">https://app.wandb.ai/khituras/TREC-Covid/runs/1elpp3vo</a><br/>\n",
       "            "
      ],
      "text/plain": [
       "<IPython.core.display.HTML object>"
      ]
     },
     "metadata": {},
     "output_type": "display_data"
    },
    {
     "name": "stderr",
     "output_type": "stream",
     "text": [
      "INFO:wandb.run_manager:system metrics and metadata threads started\n",
      "INFO:wandb.run_manager:checking resume status, waiting at most 10 seconds\n",
      "INFO:wandb.run_manager:resuming run from id: UnVuOnYxOjFlbHBwM3ZvOlRSRUMtQ292aWQ6a2hpdHVyYXM=\n",
      "INFO:wandb.run_manager:upserting run before process can begin, waiting at most 10 seconds\n",
      "INFO:wandb.run_manager:file/dir modified: /home/faessler/work/Research/trec-covid/wandb/run-20200730_144608-1elpp3vo/config.yaml\n",
      "INFO:wandb.run_manager:saving pip packages\n",
      "INFO:wandb.run_manager:initializing streaming files api\n",
      "INFO:wandb.run_manager:unblocking file change observer, beginning sync with W&B servers\n",
      "INFO:wandb.run_manager:file/dir created: /home/faessler/work/Research/trec-covid/wandb/run-20200730_144608-1elpp3vo/wandb-history.jsonl\n",
      "INFO:wandb.run_manager:file/dir created: /home/faessler/work/Research/trec-covid/wandb/run-20200730_144608-1elpp3vo/wandb-metadata.json\n",
      "INFO:wandb.run_manager:file/dir created: /home/faessler/work/Research/trec-covid/wandb/run-20200730_144608-1elpp3vo/wandb-events.jsonl\n",
      "INFO:wandb.run_manager:file/dir created: /home/faessler/work/Research/trec-covid/wandb/run-20200730_144608-1elpp3vo/wandb-summary.json\n",
      "INFO:wandb.run_manager:file/dir created: /home/faessler/work/Research/trec-covid/wandb/run-20200730_144608-1elpp3vo/requirements.txt\n",
      "INFO:wandb.wandb_agent:Running runs: ['1elpp3vo']\n"
     ]
    },
    {
     "name": "stdout",
     "output_type": "stream",
     "text": [
      "Selected optimization level O1:  Insert automatic casts around Pytorch functions and Tensor methods.\n",
      "\n",
      "Defaults for this optimization level are:\n",
      "enabled                : True\n",
      "opt_level              : O1\n",
      "cast_model_type        : None\n",
      "patch_torch_functions  : True\n",
      "keep_batchnorm_fp32    : None\n",
      "master_weights         : None\n",
      "loss_scale             : dynamic\n",
      "Processing user overrides (additional kwargs that are not None)...\n",
      "After processing overrides, optimization options are:\n",
      "enabled                : True\n",
      "opt_level              : O1\n",
      "cast_model_type        : None\n",
      "patch_torch_functions  : True\n",
      "keep_batchnorm_fp32    : None\n",
      "master_weights         : None\n",
      "loss_scale             : dynamic\n"
     ]
    },
    {
     "data": {
      "application/vnd.jupyter.widget-view+json": {
       "model_id": "3d2983de2cf74a3cab8e8b747ef28b0d",
       "version_major": 2,
       "version_minor": 0
      },
      "text/plain": [
       "HBox(children=(FloatProgress(value=0.0, description='Epoch', max=3.0, style=ProgressStyle(description_width='i…"
      ]
     },
     "metadata": {},
     "output_type": "display_data"
    },
    {
     "data": {
      "text/html": [
       "\n",
       "                Logging results to <a href=\"https://wandb.com\" target=\"_blank\">Weights & Biases</a> <a href=\"https://docs.wandb.com/integrations/jupyter.html\" target=\"_blank\">(Documentation)</a>.<br/>\n",
       "                Project page: <a href=\"https://app.wandb.ai/khituras/TREC-Covid\" target=\"_blank\">https://app.wandb.ai/khituras/TREC-Covid</a><br/>\n",
       "                Run page: <a href=\"https://app.wandb.ai/khituras/TREC-Covid/runs/1elpp3vo\" target=\"_blank\">https://app.wandb.ai/khituras/TREC-Covid/runs/1elpp3vo</a><br/>\n",
       "            "
      ],
      "text/plain": [
       "<IPython.core.display.HTML object>"
      ]
     },
     "metadata": {},
     "output_type": "display_data"
    },
    {
     "name": "stderr",
     "output_type": "stream",
     "text": [
      "INFO:wandb.run_manager:system metrics and metadata threads started\n",
      "INFO:wandb.run_manager:checking resume status, waiting at most 10 seconds\n",
      "INFO:wandb.run_manager:resuming run from id: UnVuOnYxOjFlbHBwM3ZvOlRSRUMtQ292aWQ6a2hpdHVyYXM=\n",
      "INFO:wandb.run_manager:upserting run before process can begin, waiting at most 10 seconds\n",
      "INFO:wandb.run_manager:saving pip packages\n",
      "INFO:wandb.run_manager:initializing streaming files api\n",
      "INFO:wandb.run_manager:unblocking file change observer, beginning sync with W&B servers\n"
     ]
    },
    {
     "data": {
      "application/vnd.jupyter.widget-view+json": {
       "model_id": "fc033a632fa043d4af9f94179e055b57",
       "version_major": 2,
       "version_minor": 0
      },
      "text/plain": [
       "HBox(children=(FloatProgress(value=0.0, description='Running Epoch 0 of 3', max=625.0, style=ProgressStyle(des…"
      ]
     },
     "metadata": {},
     "output_type": "display_data"
    },
    {
     "name": "stderr",
     "output_type": "stream",
     "text": [
      "INFO:wandb.run_manager:file/dir modified: /home/faessler/work/Research/trec-covid/wandb/run-20200730_144617-1elpp3vo/config.yaml\n",
      "INFO:wandb.run_manager:file/dir created: /home/faessler/work/Research/trec-covid/wandb/run-20200730_144617-1elpp3vo/wandb-metadata.json\n",
      "INFO:wandb.run_manager:file/dir created: /home/faessler/work/Research/trec-covid/wandb/run-20200730_144617-1elpp3vo/requirements.txt\n",
      "INFO:wandb.run_manager:file/dir created: /home/faessler/work/Research/trec-covid/wandb/run-20200730_144617-1elpp3vo/wandb-history.jsonl\n",
      "INFO:wandb.run_manager:file/dir created: /home/faessler/work/Research/trec-covid/wandb/run-20200730_144617-1elpp3vo/wandb-summary.json\n",
      "INFO:wandb.run_manager:file/dir created: /home/faessler/work/Research/trec-covid/wandb/run-20200730_144617-1elpp3vo/wandb-events.jsonl\n",
      "/opt/conda/lib/python3.7/site-packages/torch/optim/lr_scheduler.py:113: UserWarning: Seems like `optimizer.step()` has been overridden after learning rate scheduler initialization. Please, make sure to call `optimizer.step()` before `lr_scheduler.step()`. See more details at https://pytorch.org/docs/stable/optim.html#how-to-adjust-learning-rate\n",
      "  \"https://pytorch.org/docs/stable/optim.html#how-to-adjust-learning-rate\", UserWarning)\n",
      "INFO:wandb.run_manager:file/dir modified: /home/faessler/work/Research/trec-covid/wandb/run-20200730_144617-1elpp3vo/wandb-summary.json\n",
      "INFO:wandb.run_manager:file/dir created: /home/faessler/work/Research/trec-covid/wandb/run-20200730_144617-1elpp3vo/media/graph/graph_0_summary_3e2ccc98.graph.json\n",
      "INFO:wandb.run_manager:file/dir created: /home/faessler/work/Research/trec-covid/wandb/run-20200730_144617-1elpp3vo/media/graph\n",
      "INFO:wandb.run_manager:file/dir created: /home/faessler/work/Research/trec-covid/wandb/run-20200730_144617-1elpp3vo/media\n",
      "/opt/conda/lib/python3.7/site-packages/torch/optim/lr_scheduler.py:224: UserWarning: To get the last learning rate computed by the scheduler, please use `get_last_lr()`.\n",
      "  warnings.warn(\"To get the last learning rate computed by the scheduler, \"\n",
      "INFO:wandb.run_manager:file/dir modified: /home/faessler/work/Research/trec-covid/wandb/run-20200730_144617-1elpp3vo/wandb-history.jsonl\n",
      "INFO:wandb.run_manager:file/dir modified: /home/faessler/work/Research/trec-covid/wandb/run-20200730_144617-1elpp3vo/wandb-summary.json\n",
      "INFO:wandb.run_manager:file/dir modified: /home/faessler/work/Research/trec-covid/wandb/run-20200730_144608-1elpp3vo/wandb-metadata.json\n",
      "INFO:wandb.run_manager:file/dir modified: /home/faessler/work/Research/trec-covid/wandb/run-20200730_144617-1elpp3vo/wandb-history.jsonl\n",
      "INFO:wandb.run_manager:file/dir modified: /home/faessler/work/Research/trec-covid/wandb/run-20200730_144617-1elpp3vo/wandb-summary.json\n",
      "INFO:wandb.run_manager:file/dir modified: /home/faessler/work/Research/trec-covid/wandb/run-20200730_144617-1elpp3vo/wandb-metadata.json\n",
      "INFO:wandb.run_manager:file/dir modified: /home/faessler/work/Research/trec-covid/wandb/run-20200730_144617-1elpp3vo/wandb-history.jsonl\n",
      "INFO:wandb.run_manager:file/dir modified: /home/faessler/work/Research/trec-covid/wandb/run-20200730_144617-1elpp3vo/wandb-summary.json\n",
      "INFO:wandb.run_manager:file/dir modified: /home/faessler/work/Research/trec-covid/wandb/run-20200730_144608-1elpp3vo/wandb-events.jsonl\n",
      "INFO:wandb.run_manager:file/dir modified: /home/faessler/work/Research/trec-covid/wandb/run-20200730_144617-1elpp3vo/wandb-history.jsonl\n",
      "INFO:wandb.run_manager:file/dir modified: /home/faessler/work/Research/trec-covid/wandb/run-20200730_144617-1elpp3vo/wandb-summary.json\n",
      "INFO:wandb.run_manager:file/dir modified: /home/faessler/work/Research/trec-covid/wandb/run-20200730_144608-1elpp3vo/wandb-metadata.json\n",
      "INFO:wandb.run_manager:file/dir modified: /home/faessler/work/Research/trec-covid/wandb/run-20200730_144617-1elpp3vo/wandb-events.jsonl\n",
      "INFO:wandb.run_manager:file/dir modified: /home/faessler/work/Research/trec-covid/wandb/run-20200730_144617-1elpp3vo/wandb-history.jsonl\n",
      "INFO:wandb.run_manager:file/dir modified: /home/faessler/work/Research/trec-covid/wandb/run-20200730_144617-1elpp3vo/wandb-summary.json\n",
      "INFO:wandb.run_manager:file/dir modified: /home/faessler/work/Research/trec-covid/wandb/run-20200730_144617-1elpp3vo/wandb-metadata.json\n",
      "INFO:wandb.run_manager:file/dir modified: /home/faessler/work/Research/trec-covid/wandb/run-20200730_144617-1elpp3vo/wandb-history.jsonl\n",
      "INFO:wandb.run_manager:file/dir modified: /home/faessler/work/Research/trec-covid/wandb/run-20200730_144617-1elpp3vo/wandb-summary.json\n",
      "INFO:wandb.run_manager:file/dir modified: /home/faessler/work/Research/trec-covid/wandb/run-20200730_144617-1elpp3vo/wandb-history.jsonl\n",
      "INFO:wandb.run_manager:file/dir modified: /home/faessler/work/Research/trec-covid/wandb/run-20200730_144617-1elpp3vo/wandb-summary.json\n",
      "INFO:wandb.run_manager:file/dir modified: /home/faessler/work/Research/trec-covid/wandb/run-20200730_144608-1elpp3vo/wandb-metadata.json\n",
      "INFO:wandb.run_manager:file/dir modified: /home/faessler/work/Research/trec-covid/wandb/run-20200730_144617-1elpp3vo/wandb-history.jsonl\n",
      "INFO:wandb.run_manager:file/dir modified: /home/faessler/work/Research/trec-covid/wandb/run-20200730_144617-1elpp3vo/wandb-summary.json\n",
      "INFO:wandb.run_manager:file/dir modified: /home/faessler/work/Research/trec-covid/wandb/run-20200730_144617-1elpp3vo/wandb-metadata.json\n",
      "INFO:wandb.run_manager:file/dir modified: /home/faessler/work/Research/trec-covid/wandb/run-20200730_144608-1elpp3vo/wandb-events.jsonl\n",
      "INFO:wandb.run_manager:file/dir modified: /home/faessler/work/Research/trec-covid/wandb/run-20200730_144617-1elpp3vo/wandb-history.jsonl\n",
      "INFO:wandb.run_manager:file/dir modified: /home/faessler/work/Research/trec-covid/wandb/run-20200730_144617-1elpp3vo/wandb-summary.json\n",
      "INFO:wandb.run_manager:file/dir modified: /home/faessler/work/Research/trec-covid/wandb/run-20200730_144608-1elpp3vo/wandb-metadata.json\n",
      "INFO:wandb.run_manager:file/dir modified: /home/faessler/work/Research/trec-covid/wandb/run-20200730_144617-1elpp3vo/wandb-history.jsonl\n",
      "INFO:wandb.run_manager:file/dir modified: /home/faessler/work/Research/trec-covid/wandb/run-20200730_144617-1elpp3vo/wandb-summary.json\n",
      "INFO:wandb.run_manager:file/dir modified: /home/faessler/work/Research/trec-covid/wandb/run-20200730_144617-1elpp3vo/wandb-events.jsonl\n",
      "INFO:wandb.run_manager:file/dir modified: /home/faessler/work/Research/trec-covid/wandb/run-20200730_144617-1elpp3vo/wandb-history.jsonl\n",
      "INFO:wandb.run_manager:file/dir modified: /home/faessler/work/Research/trec-covid/wandb/run-20200730_144617-1elpp3vo/wandb-summary.json\n",
      "INFO:wandb.run_manager:file/dir modified: /home/faessler/work/Research/trec-covid/wandb/run-20200730_144617-1elpp3vo/wandb-metadata.json\n",
      "INFO:wandb.run_manager:file/dir modified: /home/faessler/work/Research/trec-covid/wandb/run-20200730_144617-1elpp3vo/wandb-history.jsonl\n",
      "INFO:wandb.run_manager:file/dir modified: /home/faessler/work/Research/trec-covid/wandb/run-20200730_144617-1elpp3vo/wandb-summary.json\n"
     ]
    },
    {
     "name": "stdout",
     "output_type": "stream",
     "text": [
      "\n"
     ]
    },
    {
     "data": {
      "application/vnd.jupyter.widget-view+json": {
       "model_id": "22d5e431409b4f5da8257628aae8e440",
       "version_major": 2,
       "version_minor": 0
      },
      "text/plain": [
       "HBox(children=(FloatProgress(value=0.0, description='Running Epoch 1 of 3', max=625.0, style=ProgressStyle(des…"
      ]
     },
     "metadata": {},
     "output_type": "display_data"
    },
    {
     "name": "stderr",
     "output_type": "stream",
     "text": [
      "INFO:wandb.run_manager:file/dir modified: /home/faessler/work/Research/trec-covid/wandb/run-20200730_144608-1elpp3vo/wandb-metadata.json\n",
      "INFO:wandb.run_manager:file/dir modified: /home/faessler/work/Research/trec-covid/wandb/run-20200730_144617-1elpp3vo/wandb-history.jsonl\n",
      "INFO:wandb.run_manager:file/dir modified: /home/faessler/work/Research/trec-covid/wandb/run-20200730_144617-1elpp3vo/wandb-summary.json\n",
      "INFO:wandb.run_manager:file/dir modified: /home/faessler/work/Research/trec-covid/wandb/run-20200730_144617-1elpp3vo/wandb-history.jsonl\n",
      "INFO:wandb.run_manager:file/dir modified: /home/faessler/work/Research/trec-covid/wandb/run-20200730_144617-1elpp3vo/wandb-metadata.json\n",
      "INFO:wandb.run_manager:file/dir modified: /home/faessler/work/Research/trec-covid/wandb/run-20200730_144617-1elpp3vo/wandb-summary.json\n",
      "INFO:wandb.run_manager:file/dir modified: /home/faessler/work/Research/trec-covid/wandb/run-20200730_144608-1elpp3vo/wandb-events.jsonl\n",
      "INFO:wandb.run_manager:file/dir modified: /home/faessler/work/Research/trec-covid/wandb/run-20200730_144617-1elpp3vo/wandb-history.jsonl\n",
      "INFO:wandb.run_manager:file/dir modified: /home/faessler/work/Research/trec-covid/wandb/run-20200730_144617-1elpp3vo/wandb-summary.json\n",
      "INFO:wandb.run_manager:file/dir modified: /home/faessler/work/Research/trec-covid/wandb/run-20200730_144617-1elpp3vo/wandb-events.jsonl\n",
      "INFO:wandb.run_manager:file/dir modified: /home/faessler/work/Research/trec-covid/wandb/run-20200730_144608-1elpp3vo/wandb-metadata.json\n",
      "INFO:wandb.run_manager:file/dir modified: /home/faessler/work/Research/trec-covid/wandb/run-20200730_144617-1elpp3vo/wandb-history.jsonl\n",
      "INFO:wandb.run_manager:file/dir modified: /home/faessler/work/Research/trec-covid/wandb/run-20200730_144617-1elpp3vo/wandb-summary.json\n",
      "INFO:wandb.run_manager:file/dir modified: /home/faessler/work/Research/trec-covid/wandb/run-20200730_144617-1elpp3vo/wandb-metadata.json\n",
      "INFO:wandb.run_manager:file/dir modified: /home/faessler/work/Research/trec-covid/wandb/run-20200730_144617-1elpp3vo/wandb-history.jsonl\n",
      "INFO:wandb.run_manager:file/dir modified: /home/faessler/work/Research/trec-covid/wandb/run-20200730_144617-1elpp3vo/wandb-summary.json\n",
      "INFO:wandb.run_manager:file/dir modified: /home/faessler/work/Research/trec-covid/wandb/run-20200730_144617-1elpp3vo/wandb-history.jsonl\n",
      "INFO:wandb.run_manager:file/dir modified: /home/faessler/work/Research/trec-covid/wandb/run-20200730_144617-1elpp3vo/wandb-summary.json\n",
      "INFO:wandb.run_manager:file/dir modified: /home/faessler/work/Research/trec-covid/wandb/run-20200730_144608-1elpp3vo/wandb-metadata.json\n",
      "INFO:wandb.run_manager:file/dir modified: /home/faessler/work/Research/trec-covid/wandb/run-20200730_144617-1elpp3vo/wandb-history.jsonl\n",
      "INFO:wandb.run_manager:file/dir modified: /home/faessler/work/Research/trec-covid/wandb/run-20200730_144617-1elpp3vo/wandb-summary.json\n",
      "INFO:wandb.run_manager:file/dir modified: /home/faessler/work/Research/trec-covid/wandb/run-20200730_144608-1elpp3vo/wandb-events.jsonl\n",
      "INFO:wandb.run_manager:file/dir modified: /home/faessler/work/Research/trec-covid/wandb/run-20200730_144617-1elpp3vo/wandb-metadata.json\n",
      "INFO:wandb.run_manager:file/dir modified: /home/faessler/work/Research/trec-covid/wandb/run-20200730_144617-1elpp3vo/wandb-history.jsonl\n",
      "INFO:wandb.run_manager:file/dir modified: /home/faessler/work/Research/trec-covid/wandb/run-20200730_144617-1elpp3vo/wandb-summary.json\n",
      "INFO:wandb.run_manager:file/dir modified: /home/faessler/work/Research/trec-covid/wandb/run-20200730_144617-1elpp3vo/wandb-events.jsonl\n",
      "INFO:wandb.run_manager:file/dir modified: /home/faessler/work/Research/trec-covid/wandb/run-20200730_144617-1elpp3vo/wandb-history.jsonl\n",
      "INFO:wandb.run_manager:file/dir modified: /home/faessler/work/Research/trec-covid/wandb/run-20200730_144617-1elpp3vo/wandb-summary.json\n",
      "INFO:wandb.run_manager:file/dir modified: /home/faessler/work/Research/trec-covid/wandb/run-20200730_144608-1elpp3vo/wandb-metadata.json\n",
      "INFO:wandb.run_manager:file/dir modified: /home/faessler/work/Research/trec-covid/wandb/run-20200730_144617-1elpp3vo/wandb-history.jsonl\n",
      "INFO:wandb.run_manager:file/dir modified: /home/faessler/work/Research/trec-covid/wandb/run-20200730_144617-1elpp3vo/wandb-summary.json\n",
      "INFO:wandb.run_manager:file/dir modified: /home/faessler/work/Research/trec-covid/wandb/run-20200730_144617-1elpp3vo/wandb-metadata.json\n",
      "INFO:wandb.run_manager:file/dir modified: /home/faessler/work/Research/trec-covid/wandb/run-20200730_144617-1elpp3vo/wandb-history.jsonl\n",
      "INFO:wandb.run_manager:file/dir modified: /home/faessler/work/Research/trec-covid/wandb/run-20200730_144617-1elpp3vo/wandb-summary.json\n",
      "INFO:wandb.run_manager:file/dir modified: /home/faessler/work/Research/trec-covid/wandb/run-20200730_144617-1elpp3vo/wandb-history.jsonl\n",
      "INFO:wandb.run_manager:file/dir modified: /home/faessler/work/Research/trec-covid/wandb/run-20200730_144617-1elpp3vo/wandb-summary.json\n",
      "INFO:wandb.run_manager:file/dir modified: /home/faessler/work/Research/trec-covid/wandb/run-20200730_144608-1elpp3vo/wandb-metadata.json\n",
      "INFO:wandb.run_manager:file/dir modified: /home/faessler/work/Research/trec-covid/wandb/run-20200730_144608-1elpp3vo/wandb-events.jsonl\n"
     ]
    },
    {
     "name": "stdout",
     "output_type": "stream",
     "text": [
      "\n"
     ]
    },
    {
     "data": {
      "application/vnd.jupyter.widget-view+json": {
       "model_id": "0e6d2114989f4336828295abd04e9cbb",
       "version_major": 2,
       "version_minor": 0
      },
      "text/plain": [
       "HBox(children=(FloatProgress(value=0.0, description='Running Epoch 2 of 3', max=625.0, style=ProgressStyle(des…"
      ]
     },
     "metadata": {},
     "output_type": "display_data"
    },
    {
     "name": "stderr",
     "output_type": "stream",
     "text": [
      "INFO:wandb.run_manager:file/dir modified: /home/faessler/work/Research/trec-covid/wandb/run-20200730_144617-1elpp3vo/wandb-history.jsonl\n",
      "INFO:wandb.run_manager:file/dir modified: /home/faessler/work/Research/trec-covid/wandb/run-20200730_144617-1elpp3vo/wandb-summary.json\n",
      "INFO:wandb.run_manager:file/dir modified: /home/faessler/work/Research/trec-covid/wandb/run-20200730_144617-1elpp3vo/wandb-metadata.json\n",
      "INFO:wandb.run_manager:file/dir modified: /home/faessler/work/Research/trec-covid/wandb/run-20200730_144617-1elpp3vo/wandb-history.jsonl\n",
      "INFO:wandb.run_manager:file/dir modified: /home/faessler/work/Research/trec-covid/wandb/run-20200730_144617-1elpp3vo/wandb-summary.json\n",
      "INFO:wandb.run_manager:file/dir modified: /home/faessler/work/Research/trec-covid/wandb/run-20200730_144617-1elpp3vo/wandb-events.jsonl\n",
      "INFO:wandb.run_manager:file/dir modified: /home/faessler/work/Research/trec-covid/wandb/run-20200730_144608-1elpp3vo/wandb-metadata.json\n",
      "INFO:wandb.run_manager:file/dir modified: /home/faessler/work/Research/trec-covid/wandb/run-20200730_144617-1elpp3vo/wandb-history.jsonl\n",
      "INFO:wandb.run_manager:file/dir modified: /home/faessler/work/Research/trec-covid/wandb/run-20200730_144617-1elpp3vo/wandb-summary.json\n",
      "INFO:wandb.run_manager:file/dir modified: /home/faessler/work/Research/trec-covid/wandb/run-20200730_144617-1elpp3vo/wandb-history.jsonl\n",
      "INFO:wandb.run_manager:file/dir modified: /home/faessler/work/Research/trec-covid/wandb/run-20200730_144617-1elpp3vo/wandb-summary.json\n",
      "INFO:wandb.run_manager:file/dir modified: /home/faessler/work/Research/trec-covid/wandb/run-20200730_144617-1elpp3vo/wandb-metadata.json\n",
      "INFO:wandb.run_manager:file/dir modified: /home/faessler/work/Research/trec-covid/wandb/run-20200730_144617-1elpp3vo/wandb-history.jsonl\n",
      "INFO:wandb.run_manager:file/dir modified: /home/faessler/work/Research/trec-covid/wandb/run-20200730_144617-1elpp3vo/wandb-summary.json\n",
      "INFO:wandb.run_manager:file/dir modified: /home/faessler/work/Research/trec-covid/wandb/run-20200730_144608-1elpp3vo/wandb-metadata.json\n",
      "INFO:wandb.run_manager:file/dir modified: /home/faessler/work/Research/trec-covid/wandb/run-20200730_144617-1elpp3vo/wandb-history.jsonl\n",
      "INFO:wandb.run_manager:file/dir modified: /home/faessler/work/Research/trec-covid/wandb/run-20200730_144617-1elpp3vo/wandb-summary.json\n",
      "INFO:wandb.run_manager:file/dir modified: /home/faessler/work/Research/trec-covid/wandb/run-20200730_144608-1elpp3vo/wandb-events.jsonl\n",
      "INFO:wandb.run_manager:file/dir modified: /home/faessler/work/Research/trec-covid/wandb/run-20200730_144617-1elpp3vo/wandb-history.jsonl\n",
      "INFO:wandb.run_manager:file/dir modified: /home/faessler/work/Research/trec-covid/wandb/run-20200730_144617-1elpp3vo/wandb-metadata.json\n",
      "INFO:wandb.run_manager:file/dir modified: /home/faessler/work/Research/trec-covid/wandb/run-20200730_144617-1elpp3vo/wandb-summary.json\n",
      "INFO:wandb.run_manager:file/dir modified: /home/faessler/work/Research/trec-covid/wandb/run-20200730_144617-1elpp3vo/wandb-events.jsonl\n",
      "INFO:wandb.run_manager:file/dir modified: /home/faessler/work/Research/trec-covid/wandb/run-20200730_144617-1elpp3vo/wandb-history.jsonl\n",
      "INFO:wandb.run_manager:file/dir modified: /home/faessler/work/Research/trec-covid/wandb/run-20200730_144617-1elpp3vo/wandb-summary.json\n",
      "INFO:wandb.run_manager:file/dir modified: /home/faessler/work/Research/trec-covid/wandb/run-20200730_144608-1elpp3vo/wandb-metadata.json\n",
      "INFO:wandb.run_manager:file/dir modified: /home/faessler/work/Research/trec-covid/wandb/run-20200730_144617-1elpp3vo/wandb-history.jsonl\n",
      "INFO:wandb.run_manager:file/dir modified: /home/faessler/work/Research/trec-covid/wandb/run-20200730_144617-1elpp3vo/wandb-summary.json\n",
      "INFO:wandb.run_manager:file/dir modified: /home/faessler/work/Research/trec-covid/wandb/run-20200730_144617-1elpp3vo/wandb-metadata.json\n",
      "INFO:wandb.run_manager:file/dir modified: /home/faessler/work/Research/trec-covid/wandb/run-20200730_144617-1elpp3vo/wandb-history.jsonl\n",
      "INFO:wandb.run_manager:file/dir modified: /home/faessler/work/Research/trec-covid/wandb/run-20200730_144617-1elpp3vo/wandb-summary.json\n",
      "INFO:wandb.run_manager:file/dir modified: /home/faessler/work/Research/trec-covid/wandb/run-20200730_144617-1elpp3vo/wandb-history.jsonl\n",
      "INFO:wandb.run_manager:file/dir modified: /home/faessler/work/Research/trec-covid/wandb/run-20200730_144617-1elpp3vo/wandb-summary.json\n",
      "INFO:wandb.run_manager:file/dir modified: /home/faessler/work/Research/trec-covid/wandb/run-20200730_144608-1elpp3vo/wandb-metadata.json\n",
      "INFO:wandb.run_manager:file/dir modified: /home/faessler/work/Research/trec-covid/wandb/run-20200730_144608-1elpp3vo/wandb-events.jsonl\n",
      "INFO:wandb.run_manager:file/dir modified: /home/faessler/work/Research/trec-covid/wandb/run-20200730_144617-1elpp3vo/wandb-history.jsonl\n",
      "INFO:wandb.run_manager:file/dir modified: /home/faessler/work/Research/trec-covid/wandb/run-20200730_144617-1elpp3vo/wandb-summary.json\n",
      "INFO:wandb.run_manager:file/dir modified: /home/faessler/work/Research/trec-covid/wandb/run-20200730_144617-1elpp3vo/wandb-metadata.json\n",
      "INFO:wandb.run_manager:file/dir modified: /home/faessler/work/Research/trec-covid/wandb/run-20200730_144617-1elpp3vo/wandb-events.jsonl\n",
      "INFO:wandb.run_manager:file/dir modified: /home/faessler/work/Research/trec-covid/wandb/run-20200730_144617-1elpp3vo/wandb-history.jsonl\n",
      "INFO:wandb.run_manager:file/dir modified: /home/faessler/work/Research/trec-covid/wandb/run-20200730_144617-1elpp3vo/wandb-summary.json\n"
     ]
    },
    {
     "name": "stdout",
     "output_type": "stream",
     "text": [
      "\n",
      "\n"
     ]
    },
    {
     "name": "stderr",
     "output_type": "stream",
     "text": [
      "INFO:simpletransformers.classification.classification_model: Training of roberta model complete. Saved to outputs/.\n"
     ]
    },
    {
     "data": {
      "application/vnd.jupyter.widget-view+json": {
       "model_id": "de70717d8aee43959d1e479020e8fbaa",
       "version_major": 2,
       "version_minor": 0
      },
      "text/plain": [
       "HBox(children=(FloatProgress(value=0.0, description='Running Evaluation', max=751.0, style=ProgressStyle(descr…"
      ]
     },
     "metadata": {},
     "output_type": "display_data"
    },
    {
     "name": "stderr",
     "output_type": "stream",
     "text": [
      "INFO:wandb.run_manager:file/dir modified: /home/faessler/work/Research/trec-covid/wandb/run-20200730_144608-1elpp3vo/wandb-metadata.json\n",
      "INFO:wandb.run_manager:file/dir modified: /home/faessler/work/Research/trec-covid/wandb/run-20200730_144617-1elpp3vo/wandb-metadata.json\n",
      "INFO:wandb.run_manager:file/dir modified: /home/faessler/work/Research/trec-covid/wandb/run-20200730_144608-1elpp3vo/wandb-events.jsonl\n",
      "INFO:wandb.run_manager:file/dir modified: /home/faessler/work/Research/trec-covid/wandb/run-20200730_144608-1elpp3vo/wandb-metadata.json\n",
      "INFO:wandb.run_manager:file/dir modified: /home/faessler/work/Research/trec-covid/wandb/run-20200730_144617-1elpp3vo/wandb-events.jsonl\n",
      "INFO:wandb.run_manager:file/dir modified: /home/faessler/work/Research/trec-covid/wandb/run-20200730_144617-1elpp3vo/wandb-metadata.json\n",
      "INFO:wandb.run_manager:file/dir modified: /home/faessler/work/Research/trec-covid/wandb/run-20200730_144608-1elpp3vo/wandb-metadata.json\n"
     ]
    },
    {
     "name": "stdout",
     "output_type": "stream",
     "text": [
      "\n"
     ]
    },
    {
     "name": "stderr",
     "output_type": "stream",
     "text": [
      "/opt/conda/lib/python3.7/site-packages/sklearn/metrics/_classification.py:846: RuntimeWarning: invalid value encountered in double_scalars\n",
      "  mcc = cov_ytyp / np.sqrt(cov_ytyt * cov_ypyp)\n"
     ]
    },
    {
     "data": {
      "text/html": [
       "\n",
       "                Logging results to <a href=\"https://wandb.com\" target=\"_blank\">Weights & Biases</a> <a href=\"https://docs.wandb.com/integrations/jupyter.html\" target=\"_blank\">(Documentation)</a>.<br/>\n",
       "                Project page: <a href=\"https://app.wandb.ai/khituras/TREC-Covid\" target=\"_blank\">https://app.wandb.ai/khituras/TREC-Covid</a><br/>\n",
       "                Run page: <a href=\"https://app.wandb.ai/khituras/TREC-Covid/runs/1elpp3vo\" target=\"_blank\">https://app.wandb.ai/khituras/TREC-Covid/runs/1elpp3vo</a><br/>\n",
       "            "
      ],
      "text/plain": [
       "<IPython.core.display.HTML object>"
      ]
     },
     "metadata": {},
     "output_type": "display_data"
    },
    {
     "name": "stderr",
     "output_type": "stream",
     "text": [
      "INFO:wandb.run_manager:system metrics and metadata threads started\n",
      "INFO:wandb.run_manager:checking resume status, waiting at most 10 seconds\n",
      "INFO:wandb.run_manager:resuming run from id: UnVuOnYxOjFlbHBwM3ZvOlRSRUMtQ292aWQ6a2hpdHVyYXM=\n",
      "INFO:wandb.run_manager:upserting run before process can begin, waiting at most 10 seconds\n",
      "INFO:wandb.run_manager:saving pip packages\n",
      "INFO:wandb.run_manager:initializing streaming files api\n",
      "INFO:wandb.run_manager:unblocking file change observer, beginning sync with W&B servers\n",
      "INFO:wandb.run_manager:file/dir modified: /home/faessler/work/Research/trec-covid/wandb/run-20200730_145028-1elpp3vo/config.yaml\n",
      "INFO:wandb.run_manager:file/dir created: /home/faessler/work/Research/trec-covid/wandb/run-20200730_145028-1elpp3vo/wandb-events.jsonl\n",
      "ERROR:wandb.run_manager:Streaming file created twice in same run: /home/faessler/work/Research/trec-covid/wandb/run-20200730_145028-1elpp3vo/wandb-events.jsonl\n",
      "INFO:wandb.run_manager:file/dir created: /home/faessler/work/Research/trec-covid/wandb/run-20200730_145028-1elpp3vo/wandb-history.jsonl\n",
      "ERROR:wandb.run_manager:Streaming file created twice in same run: /home/faessler/work/Research/trec-covid/wandb/run-20200730_145028-1elpp3vo/wandb-history.jsonl\n",
      "INFO:wandb.run_manager:file/dir created: /home/faessler/work/Research/trec-covid/wandb/run-20200730_145028-1elpp3vo/wandb-summary.json\n",
      "INFO:wandb.run_manager:file/dir created: /home/faessler/work/Research/trec-covid/wandb/run-20200730_145028-1elpp3vo/media/table/roc_37_cccb306d.table.json\n",
      "INFO:wandb.run_manager:file/dir created: /home/faessler/work/Research/trec-covid/wandb/run-20200730_145028-1elpp3vo/wandb-metadata.json\n",
      "INFO:wandb.run_manager:file/dir created: /home/faessler/work/Research/trec-covid/wandb/run-20200730_145028-1elpp3vo/requirements.txt\n",
      "INFO:wandb.run_manager:file/dir created: /home/faessler/work/Research/trec-covid/wandb/run-20200730_145028-1elpp3vo/media/table\n",
      "INFO:wandb.run_manager:file/dir created: /home/faessler/work/Research/trec-covid/wandb/run-20200730_145028-1elpp3vo/media\n",
      "INFO:simpletransformers.classification.classification_model:{'mcc': 0.0, 'tp': 6005, 'tn': 0, 'fp': 6005, 'fn': 0, 'accuracy': 0.5, 'eval_loss': 0.6940461063829465}\n"
     ]
    },
    {
     "name": "stdout",
     "output_type": "stream",
     "text": [
      "wandb: Agent Finished Run: 1elpp3vo \n",
      "\n"
     ]
    },
    {
     "name": "stderr",
     "output_type": "stream",
     "text": [
      "INFO:wandb.run_manager:shutting down system stats and metadata service\n",
      "\u001b[34m\u001b[1mwandb\u001b[0m: \u001b[32m\u001b[41mERROR\u001b[0m Error uploading \"config.yaml\": CommError, /tmp/tmptui8d0cmwandb/6gjhmnpr-config.yaml is an empty file\n",
      "INFO:wandb.run_manager:file/dir modified: /home/faessler/work/Research/trec-covid/wandb/run-20200730_145028-1elpp3vo/wandb-history.jsonl\n",
      "INFO:wandb.run_manager:file/dir modified: /home/faessler/work/Research/trec-covid/wandb/run-20200730_145028-1elpp3vo/wandb-summary.json\n",
      "INFO:wandb.run_manager:file/dir modified: /home/faessler/work/Research/trec-covid/wandb/run-20200730_145028-1elpp3vo/config.yaml\n",
      "INFO:wandb.run_manager:file/dir modified: /home/faessler/work/Research/trec-covid/wandb/run-20200730_145028-1elpp3vo/wandb-events.jsonl\n",
      "INFO:wandb.run_manager:file/dir created: /home/faessler/work/Research/trec-covid/wandb/run-20200730_145028-1elpp3vo/media/table/pr_38_68a40beb.table.json\n",
      "INFO:wandb.run_manager:file/dir created: /home/faessler/work/Research/trec-covid/wandb/run-20200730_145028-1elpp3vo/media/table/confusion_matrix_39_139cf12c.table.json\n",
      "INFO:wandb.run_manager:file/dir modified: /home/faessler/work/Research/trec-covid/wandb/run-20200730_145028-1elpp3vo/media/table\n",
      "INFO:wandb.run_manager:stopping streaming files and file change observer\n",
      "INFO:wandb.run_manager:file/dir modified: /home/faessler/work/Research/trec-covid/wandb/run-20200730_145028-1elpp3vo/wandb-metadata.json\n",
      "INFO:wandb.wandb_agent:Cleaning up finished run: 1elpp3vo\n",
      "INFO:wandb.wandb_agent:Agent received command: run\n",
      "INFO:wandb.wandb_agent:Agent starting run with config:\n",
      "\tlearning_rate: 0.00015314181863693285\n",
      "\tnum_train_epochs: 3\n"
     ]
    },
    {
     "name": "stdout",
     "output_type": "stream",
     "text": [
      "wandb: Agent Starting Run: aazsv3ez with config:\n",
      "\tlearning_rate: 0.00015314181863693285\n",
      "\tnum_train_epochs: 3\n",
      "wandb: Agent Started Run: aazsv3ez\n"
     ]
    },
    {
     "data": {
      "text/html": [
       "\n",
       "                Logging results to <a href=\"https://wandb.com\" target=\"_blank\">Weights & Biases</a> <a href=\"https://docs.wandb.com/integrations/jupyter.html\" target=\"_blank\">(Documentation)</a>.<br/>\n",
       "                Project page: <a href=\"https://app.wandb.ai/khituras/TREC-Covid\" target=\"_blank\">https://app.wandb.ai/khituras/TREC-Covid</a><br/>\n",
       "                Sweep page: <a href=\"https://app.wandb.ai/khituras/TREC-Covid/sweeps/revtmojb\" target=\"_blank\">https://app.wandb.ai/khituras/TREC-Covid/sweeps/revtmojb</a><br/>\n",
       "Run page: <a href=\"https://app.wandb.ai/khituras/TREC-Covid/runs/aazsv3ez\" target=\"_blank\">https://app.wandb.ai/khituras/TREC-Covid/runs/aazsv3ez</a><br/>\n",
       "            "
      ],
      "text/plain": [
       "<IPython.core.display.HTML object>"
      ]
     },
     "metadata": {},
     "output_type": "display_data"
    },
    {
     "name": "stderr",
     "output_type": "stream",
     "text": [
      "INFO:wandb.run_manager:system metrics and metadata threads started\n",
      "INFO:wandb.run_manager:checking resume status, waiting at most 10 seconds\n",
      "INFO:wandb.run_manager:resuming run from id: UnVuOnYxOmFhenN2M2V6OlRSRUMtQ292aWQ6a2hpdHVyYXM=\n",
      "INFO:wandb.run_manager:upserting run before process can begin, waiting at most 10 seconds\n",
      "INFO:wandb.run_manager:file/dir modified: /home/faessler/work/Research/trec-covid/wandb/run-20200730_145041-aazsv3ez/config.yaml\n",
      "INFO:wandb.run_manager:saving pip packages\n",
      "INFO:wandb.run_manager:initializing streaming files api\n",
      "INFO:wandb.run_manager:unblocking file change observer, beginning sync with W&B servers\n",
      "INFO:wandb.run_manager:file/dir created: /home/faessler/work/Research/trec-covid/wandb/run-20200730_145041-aazsv3ez/wandb-metadata.json\n",
      "INFO:wandb.run_manager:file/dir created: /home/faessler/work/Research/trec-covid/wandb/run-20200730_145041-aazsv3ez/wandb-events.jsonl\n",
      "INFO:wandb.run_manager:file/dir created: /home/faessler/work/Research/trec-covid/wandb/run-20200730_145041-aazsv3ez/wandb-history.jsonl\n",
      "INFO:wandb.run_manager:file/dir created: /home/faessler/work/Research/trec-covid/wandb/run-20200730_145041-aazsv3ez/wandb-summary.json\n",
      "INFO:wandb.run_manager:file/dir created: /home/faessler/work/Research/trec-covid/wandb/run-20200730_145041-aazsv3ez/requirements.txt\n",
      "INFO:wandb.wandb_agent:Running runs: ['aazsv3ez']\n"
     ]
    },
    {
     "name": "stdout",
     "output_type": "stream",
     "text": [
      "Selected optimization level O1:  Insert automatic casts around Pytorch functions and Tensor methods.\n",
      "\n",
      "Defaults for this optimization level are:\n",
      "enabled                : True\n",
      "opt_level              : O1\n",
      "cast_model_type        : None\n",
      "patch_torch_functions  : True\n",
      "keep_batchnorm_fp32    : None\n",
      "master_weights         : None\n",
      "loss_scale             : dynamic\n",
      "Processing user overrides (additional kwargs that are not None)...\n",
      "After processing overrides, optimization options are:\n",
      "enabled                : True\n",
      "opt_level              : O1\n",
      "cast_model_type        : None\n",
      "patch_torch_functions  : True\n",
      "keep_batchnorm_fp32    : None\n",
      "master_weights         : None\n",
      "loss_scale             : dynamic\n"
     ]
    },
    {
     "data": {
      "application/vnd.jupyter.widget-view+json": {
       "model_id": "df117973ae684149b96e535955e80599",
       "version_major": 2,
       "version_minor": 0
      },
      "text/plain": [
       "HBox(children=(FloatProgress(value=0.0, description='Epoch', max=3.0, style=ProgressStyle(description_width='i…"
      ]
     },
     "metadata": {},
     "output_type": "display_data"
    },
    {
     "data": {
      "text/html": [
       "\n",
       "                Logging results to <a href=\"https://wandb.com\" target=\"_blank\">Weights & Biases</a> <a href=\"https://docs.wandb.com/integrations/jupyter.html\" target=\"_blank\">(Documentation)</a>.<br/>\n",
       "                Project page: <a href=\"https://app.wandb.ai/khituras/TREC-Covid\" target=\"_blank\">https://app.wandb.ai/khituras/TREC-Covid</a><br/>\n",
       "                Run page: <a href=\"https://app.wandb.ai/khituras/TREC-Covid/runs/aazsv3ez\" target=\"_blank\">https://app.wandb.ai/khituras/TREC-Covid/runs/aazsv3ez</a><br/>\n",
       "            "
      ],
      "text/plain": [
       "<IPython.core.display.HTML object>"
      ]
     },
     "metadata": {},
     "output_type": "display_data"
    },
    {
     "name": "stderr",
     "output_type": "stream",
     "text": [
      "INFO:wandb.run_manager:system metrics and metadata threads started\n",
      "INFO:wandb.run_manager:checking resume status, waiting at most 10 seconds\n",
      "INFO:wandb.run_manager:resuming run from id: UnVuOnYxOmFhenN2M2V6OlRSRUMtQ292aWQ6a2hpdHVyYXM=\n",
      "INFO:wandb.run_manager:upserting run before process can begin, waiting at most 10 seconds\n",
      "INFO:wandb.run_manager:saving pip packages\n",
      "INFO:wandb.run_manager:initializing streaming files api\n",
      "INFO:wandb.run_manager:unblocking file change observer, beginning sync with W&B servers\n"
     ]
    },
    {
     "data": {
      "application/vnd.jupyter.widget-view+json": {
       "model_id": "31558fb98f9040c0b70cac19e5d0792b",
       "version_major": 2,
       "version_minor": 0
      },
      "text/plain": [
       "HBox(children=(FloatProgress(value=0.0, description='Running Epoch 0 of 3', max=625.0, style=ProgressStyle(des…"
      ]
     },
     "metadata": {},
     "output_type": "display_data"
    },
    {
     "name": "stderr",
     "output_type": "stream",
     "text": [
      "INFO:wandb.run_manager:file/dir modified: /home/faessler/work/Research/trec-covid/wandb/run-20200730_145050-aazsv3ez/config.yaml\n",
      "INFO:wandb.run_manager:file/dir created: /home/faessler/work/Research/trec-covid/wandb/run-20200730_145050-aazsv3ez/wandb-metadata.json\n",
      "INFO:wandb.run_manager:file/dir created: /home/faessler/work/Research/trec-covid/wandb/run-20200730_145050-aazsv3ez/wandb-history.jsonl\n",
      "INFO:wandb.run_manager:file/dir created: /home/faessler/work/Research/trec-covid/wandb/run-20200730_145050-aazsv3ez/wandb-summary.json\n",
      "INFO:wandb.run_manager:file/dir created: /home/faessler/work/Research/trec-covid/wandb/run-20200730_145050-aazsv3ez/requirements.txt\n",
      "INFO:wandb.run_manager:file/dir created: /home/faessler/work/Research/trec-covid/wandb/run-20200730_145050-aazsv3ez/wandb-events.jsonl\n",
      "/opt/conda/lib/python3.7/site-packages/torch/optim/lr_scheduler.py:113: UserWarning: Seems like `optimizer.step()` has been overridden after learning rate scheduler initialization. Please, make sure to call `optimizer.step()` before `lr_scheduler.step()`. See more details at https://pytorch.org/docs/stable/optim.html#how-to-adjust-learning-rate\n",
      "  \"https://pytorch.org/docs/stable/optim.html#how-to-adjust-learning-rate\", UserWarning)\n",
      "INFO:wandb.run_manager:file/dir modified: /home/faessler/work/Research/trec-covid/wandb/run-20200730_145050-aazsv3ez/wandb-summary.json\n",
      "INFO:wandb.run_manager:file/dir created: /home/faessler/work/Research/trec-covid/wandb/run-20200730_145050-aazsv3ez/media/graph/graph_0_summary_aa97cc40.graph.json\n",
      "INFO:wandb.run_manager:file/dir created: /home/faessler/work/Research/trec-covid/wandb/run-20200730_145050-aazsv3ez/media/graph\n",
      "INFO:wandb.run_manager:file/dir created: /home/faessler/work/Research/trec-covid/wandb/run-20200730_145050-aazsv3ez/media\n",
      "/opt/conda/lib/python3.7/site-packages/torch/optim/lr_scheduler.py:224: UserWarning: To get the last learning rate computed by the scheduler, please use `get_last_lr()`.\n",
      "  warnings.warn(\"To get the last learning rate computed by the scheduler, \"\n",
      "INFO:wandb.run_manager:file/dir modified: /home/faessler/work/Research/trec-covid/wandb/run-20200730_145050-aazsv3ez/wandb-history.jsonl\n",
      "INFO:wandb.run_manager:file/dir modified: /home/faessler/work/Research/trec-covid/wandb/run-20200730_145050-aazsv3ez/wandb-summary.json\n",
      "INFO:wandb.run_manager:file/dir modified: /home/faessler/work/Research/trec-covid/wandb/run-20200730_145041-aazsv3ez/wandb-metadata.json\n"
     ]
    },
    {
     "name": "stdout",
     "output_type": "stream",
     "text": [
      "Gradient overflow.  Skipping step, loss scaler 0 reducing loss scale to 32768.0\n"
     ]
    },
    {
     "name": "stderr",
     "output_type": "stream",
     "text": [
      "INFO:wandb.run_manager:file/dir modified: /home/faessler/work/Research/trec-covid/wandb/run-20200730_145050-aazsv3ez/wandb-history.jsonl\n",
      "INFO:wandb.run_manager:file/dir modified: /home/faessler/work/Research/trec-covid/wandb/run-20200730_145050-aazsv3ez/wandb-summary.json\n"
     ]
    },
    {
     "name": "stdout",
     "output_type": "stream",
     "text": [
      "Gradient overflow.  Skipping step, loss scaler 0 reducing loss scale to 16384.0\n"
     ]
    },
    {
     "name": "stderr",
     "output_type": "stream",
     "text": [
      "INFO:wandb.run_manager:file/dir modified: /home/faessler/work/Research/trec-covid/wandb/run-20200730_145050-aazsv3ez/wandb-metadata.json\n",
      "INFO:wandb.run_manager:file/dir modified: /home/faessler/work/Research/trec-covid/wandb/run-20200730_145050-aazsv3ez/wandb-history.jsonl\n",
      "INFO:wandb.run_manager:file/dir modified: /home/faessler/work/Research/trec-covid/wandb/run-20200730_145050-aazsv3ez/wandb-summary.json\n",
      "INFO:wandb.run_manager:file/dir modified: /home/faessler/work/Research/trec-covid/wandb/run-20200730_145041-aazsv3ez/wandb-events.jsonl\n",
      "INFO:wandb.run_manager:file/dir modified: /home/faessler/work/Research/trec-covid/wandb/run-20200730_145050-aazsv3ez/wandb-history.jsonl\n",
      "INFO:wandb.run_manager:file/dir modified: /home/faessler/work/Research/trec-covid/wandb/run-20200730_145050-aazsv3ez/wandb-summary.json\n",
      "INFO:wandb.run_manager:file/dir modified: /home/faessler/work/Research/trec-covid/wandb/run-20200730_145041-aazsv3ez/wandb-metadata.json\n",
      "INFO:wandb.run_manager:file/dir modified: /home/faessler/work/Research/trec-covid/wandb/run-20200730_145050-aazsv3ez/wandb-events.jsonl\n",
      "INFO:wandb.run_manager:file/dir modified: /home/faessler/work/Research/trec-covid/wandb/run-20200730_145050-aazsv3ez/wandb-history.jsonl\n",
      "INFO:wandb.run_manager:file/dir modified: /home/faessler/work/Research/trec-covid/wandb/run-20200730_145050-aazsv3ez/wandb-summary.json\n",
      "INFO:wandb.run_manager:file/dir modified: /home/faessler/work/Research/trec-covid/wandb/run-20200730_145050-aazsv3ez/wandb-metadata.json\n",
      "INFO:wandb.run_manager:file/dir modified: /home/faessler/work/Research/trec-covid/wandb/run-20200730_145050-aazsv3ez/wandb-history.jsonl\n",
      "INFO:wandb.run_manager:file/dir modified: /home/faessler/work/Research/trec-covid/wandb/run-20200730_145050-aazsv3ez/wandb-summary.json\n",
      "INFO:wandb.run_manager:file/dir modified: /home/faessler/work/Research/trec-covid/wandb/run-20200730_145050-aazsv3ez/wandb-history.jsonl\n",
      "INFO:wandb.run_manager:file/dir modified: /home/faessler/work/Research/trec-covid/wandb/run-20200730_145050-aazsv3ez/wandb-summary.json\n",
      "INFO:wandb.run_manager:file/dir modified: /home/faessler/work/Research/trec-covid/wandb/run-20200730_145041-aazsv3ez/wandb-metadata.json\n",
      "INFO:wandb.run_manager:file/dir modified: /home/faessler/work/Research/trec-covid/wandb/run-20200730_145050-aazsv3ez/wandb-history.jsonl\n",
      "INFO:wandb.run_manager:file/dir modified: /home/faessler/work/Research/trec-covid/wandb/run-20200730_145050-aazsv3ez/wandb-summary.json\n",
      "INFO:wandb.run_manager:file/dir modified: /home/faessler/work/Research/trec-covid/wandb/run-20200730_145050-aazsv3ez/wandb-metadata.json\n",
      "INFO:wandb.run_manager:file/dir modified: /home/faessler/work/Research/trec-covid/wandb/run-20200730_145050-aazsv3ez/wandb-history.jsonl\n",
      "INFO:wandb.run_manager:file/dir modified: /home/faessler/work/Research/trec-covid/wandb/run-20200730_145041-aazsv3ez/wandb-events.jsonl\n",
      "INFO:wandb.run_manager:file/dir modified: /home/faessler/work/Research/trec-covid/wandb/run-20200730_145050-aazsv3ez/wandb-summary.json\n",
      "INFO:wandb.run_manager:file/dir modified: /home/faessler/work/Research/trec-covid/wandb/run-20200730_145041-aazsv3ez/wandb-metadata.json\n",
      "INFO:wandb.run_manager:file/dir modified: /home/faessler/work/Research/trec-covid/wandb/run-20200730_145050-aazsv3ez/wandb-history.jsonl\n",
      "INFO:wandb.run_manager:file/dir modified: /home/faessler/work/Research/trec-covid/wandb/run-20200730_145050-aazsv3ez/wandb-summary.json\n",
      "INFO:wandb.run_manager:file/dir modified: /home/faessler/work/Research/trec-covid/wandb/run-20200730_145050-aazsv3ez/wandb-events.jsonl\n"
     ]
    },
    {
     "name": "stdout",
     "output_type": "stream",
     "text": [
      "Gradient overflow.  Skipping step, loss scaler 0 reducing loss scale to 8192.0\n",
      "Gradient overflow.  Skipping step, loss scaler 0 reducing loss scale to 4096.0\n"
     ]
    },
    {
     "name": "stderr",
     "output_type": "stream",
     "text": [
      "INFO:wandb.run_manager:file/dir modified: /home/faessler/work/Research/trec-covid/wandb/run-20200730_145050-aazsv3ez/wandb-history.jsonl\n",
      "INFO:wandb.run_manager:file/dir modified: /home/faessler/work/Research/trec-covid/wandb/run-20200730_145050-aazsv3ez/wandb-summary.json\n",
      "INFO:wandb.run_manager:file/dir modified: /home/faessler/work/Research/trec-covid/wandb/run-20200730_145050-aazsv3ez/wandb-metadata.json\n",
      "INFO:wandb.run_manager:file/dir modified: /home/faessler/work/Research/trec-covid/wandb/run-20200730_145050-aazsv3ez/wandb-history.jsonl\n",
      "INFO:wandb.run_manager:file/dir modified: /home/faessler/work/Research/trec-covid/wandb/run-20200730_145050-aazsv3ez/wandb-summary.json\n"
     ]
    },
    {
     "name": "stdout",
     "output_type": "stream",
     "text": [
      "\n"
     ]
    },
    {
     "data": {
      "application/vnd.jupyter.widget-view+json": {
       "model_id": "39cf516c5629496fa618d5cdd680b21a",
       "version_major": 2,
       "version_minor": 0
      },
      "text/plain": [
       "HBox(children=(FloatProgress(value=0.0, description='Running Epoch 1 of 3', max=625.0, style=ProgressStyle(des…"
      ]
     },
     "metadata": {},
     "output_type": "display_data"
    },
    {
     "name": "stderr",
     "output_type": "stream",
     "text": [
      "INFO:wandb.run_manager:file/dir modified: /home/faessler/work/Research/trec-covid/wandb/run-20200730_145041-aazsv3ez/wandb-metadata.json\n",
      "INFO:wandb.run_manager:file/dir modified: /home/faessler/work/Research/trec-covid/wandb/run-20200730_145050-aazsv3ez/wandb-history.jsonl\n",
      "INFO:wandb.run_manager:file/dir modified: /home/faessler/work/Research/trec-covid/wandb/run-20200730_145050-aazsv3ez/wandb-summary.json\n",
      "INFO:wandb.run_manager:file/dir modified: /home/faessler/work/Research/trec-covid/wandb/run-20200730_145050-aazsv3ez/wandb-metadata.json\n",
      "INFO:wandb.run_manager:file/dir modified: /home/faessler/work/Research/trec-covid/wandb/run-20200730_145050-aazsv3ez/wandb-history.jsonl\n",
      "INFO:wandb.run_manager:file/dir modified: /home/faessler/work/Research/trec-covid/wandb/run-20200730_145050-aazsv3ez/wandb-summary.json\n",
      "INFO:wandb.run_manager:file/dir modified: /home/faessler/work/Research/trec-covid/wandb/run-20200730_145041-aazsv3ez/wandb-events.jsonl\n",
      "INFO:wandb.run_manager:file/dir modified: /home/faessler/work/Research/trec-covid/wandb/run-20200730_145050-aazsv3ez/wandb-history.jsonl\n",
      "INFO:wandb.run_manager:file/dir modified: /home/faessler/work/Research/trec-covid/wandb/run-20200730_145050-aazsv3ez/wandb-summary.json\n",
      "INFO:wandb.run_manager:file/dir modified: /home/faessler/work/Research/trec-covid/wandb/run-20200730_145050-aazsv3ez/wandb-events.jsonl\n",
      "INFO:wandb.run_manager:file/dir modified: /home/faessler/work/Research/trec-covid/wandb/run-20200730_145041-aazsv3ez/wandb-metadata.json\n",
      "INFO:wandb.run_manager:file/dir modified: /home/faessler/work/Research/trec-covid/wandb/run-20200730_145050-aazsv3ez/wandb-history.jsonl\n",
      "INFO:wandb.run_manager:file/dir modified: /home/faessler/work/Research/trec-covid/wandb/run-20200730_145050-aazsv3ez/wandb-summary.json\n",
      "INFO:wandb.run_manager:file/dir modified: /home/faessler/work/Research/trec-covid/wandb/run-20200730_145050-aazsv3ez/wandb-metadata.json\n",
      "INFO:wandb.run_manager:file/dir modified: /home/faessler/work/Research/trec-covid/wandb/run-20200730_145050-aazsv3ez/wandb-history.jsonl\n",
      "INFO:wandb.run_manager:file/dir modified: /home/faessler/work/Research/trec-covid/wandb/run-20200730_145050-aazsv3ez/wandb-summary.json\n",
      "INFO:wandb.run_manager:file/dir modified: /home/faessler/work/Research/trec-covid/wandb/run-20200730_145050-aazsv3ez/wandb-history.jsonl\n",
      "INFO:wandb.run_manager:file/dir modified: /home/faessler/work/Research/trec-covid/wandb/run-20200730_145050-aazsv3ez/wandb-summary.json\n",
      "INFO:wandb.run_manager:file/dir modified: /home/faessler/work/Research/trec-covid/wandb/run-20200730_145041-aazsv3ez/wandb-metadata.json\n",
      "INFO:wandb.run_manager:file/dir modified: /home/faessler/work/Research/trec-covid/wandb/run-20200730_145050-aazsv3ez/wandb-history.jsonl\n",
      "INFO:wandb.run_manager:file/dir modified: /home/faessler/work/Research/trec-covid/wandb/run-20200730_145050-aazsv3ez/wandb-summary.json\n",
      "INFO:wandb.run_manager:file/dir modified: /home/faessler/work/Research/trec-covid/wandb/run-20200730_145041-aazsv3ez/wandb-events.jsonl\n",
      "INFO:wandb.run_manager:file/dir modified: /home/faessler/work/Research/trec-covid/wandb/run-20200730_145050-aazsv3ez/wandb-metadata.json\n",
      "INFO:wandb.run_manager:file/dir modified: /home/faessler/work/Research/trec-covid/wandb/run-20200730_145050-aazsv3ez/wandb-history.jsonl\n",
      "INFO:wandb.run_manager:file/dir modified: /home/faessler/work/Research/trec-covid/wandb/run-20200730_145050-aazsv3ez/wandb-summary.json\n",
      "INFO:wandb.run_manager:file/dir modified: /home/faessler/work/Research/trec-covid/wandb/run-20200730_145050-aazsv3ez/wandb-events.jsonl\n",
      "INFO:wandb.run_manager:file/dir modified: /home/faessler/work/Research/trec-covid/wandb/run-20200730_145050-aazsv3ez/wandb-history.jsonl\n",
      "INFO:wandb.run_manager:file/dir modified: /home/faessler/work/Research/trec-covid/wandb/run-20200730_145050-aazsv3ez/wandb-summary.json\n",
      "INFO:wandb.run_manager:file/dir modified: /home/faessler/work/Research/trec-covid/wandb/run-20200730_145041-aazsv3ez/wandb-metadata.json\n",
      "INFO:wandb.run_manager:file/dir modified: /home/faessler/work/Research/trec-covid/wandb/run-20200730_145050-aazsv3ez/wandb-history.jsonl\n",
      "INFO:wandb.run_manager:file/dir modified: /home/faessler/work/Research/trec-covid/wandb/run-20200730_145050-aazsv3ez/wandb-summary.json\n",
      "INFO:wandb.run_manager:file/dir modified: /home/faessler/work/Research/trec-covid/wandb/run-20200730_145050-aazsv3ez/wandb-metadata.json\n",
      "INFO:wandb.run_manager:file/dir modified: /home/faessler/work/Research/trec-covid/wandb/run-20200730_145050-aazsv3ez/wandb-history.jsonl\n",
      "INFO:wandb.run_manager:file/dir modified: /home/faessler/work/Research/trec-covid/wandb/run-20200730_145050-aazsv3ez/wandb-summary.json\n",
      "INFO:wandb.run_manager:file/dir modified: /home/faessler/work/Research/trec-covid/wandb/run-20200730_145050-aazsv3ez/wandb-history.jsonl\n",
      "INFO:wandb.run_manager:file/dir modified: /home/faessler/work/Research/trec-covid/wandb/run-20200730_145050-aazsv3ez/wandb-summary.json\n",
      "INFO:wandb.run_manager:file/dir modified: /home/faessler/work/Research/trec-covid/wandb/run-20200730_145041-aazsv3ez/wandb-metadata.json\n",
      "INFO:wandb.run_manager:file/dir modified: /home/faessler/work/Research/trec-covid/wandb/run-20200730_145041-aazsv3ez/wandb-events.jsonl\n"
     ]
    },
    {
     "name": "stdout",
     "output_type": "stream",
     "text": [
      "\n"
     ]
    },
    {
     "data": {
      "application/vnd.jupyter.widget-view+json": {
       "model_id": "bfd8cee7da2f4bd5a6ee840b428c2425",
       "version_major": 2,
       "version_minor": 0
      },
      "text/plain": [
       "HBox(children=(FloatProgress(value=0.0, description='Running Epoch 2 of 3', max=625.0, style=ProgressStyle(des…"
      ]
     },
     "metadata": {},
     "output_type": "display_data"
    },
    {
     "name": "stderr",
     "output_type": "stream",
     "text": [
      "INFO:wandb.run_manager:file/dir modified: /home/faessler/work/Research/trec-covid/wandb/run-20200730_145050-aazsv3ez/wandb-history.jsonl\n",
      "INFO:wandb.run_manager:file/dir modified: /home/faessler/work/Research/trec-covid/wandb/run-20200730_145050-aazsv3ez/wandb-summary.json\n",
      "INFO:wandb.run_manager:file/dir modified: /home/faessler/work/Research/trec-covid/wandb/run-20200730_145050-aazsv3ez/wandb-metadata.json\n",
      "INFO:wandb.run_manager:file/dir modified: /home/faessler/work/Research/trec-covid/wandb/run-20200730_145050-aazsv3ez/wandb-history.jsonl\n",
      "INFO:wandb.run_manager:file/dir modified: /home/faessler/work/Research/trec-covid/wandb/run-20200730_145050-aazsv3ez/wandb-events.jsonl\n",
      "INFO:wandb.run_manager:file/dir modified: /home/faessler/work/Research/trec-covid/wandb/run-20200730_145050-aazsv3ez/wandb-summary.json\n",
      "INFO:wandb.run_manager:file/dir modified: /home/faessler/work/Research/trec-covid/wandb/run-20200730_145041-aazsv3ez/wandb-metadata.json\n",
      "INFO:wandb.run_manager:file/dir modified: /home/faessler/work/Research/trec-covid/wandb/run-20200730_145050-aazsv3ez/wandb-history.jsonl\n",
      "INFO:wandb.run_manager:file/dir modified: /home/faessler/work/Research/trec-covid/wandb/run-20200730_145050-aazsv3ez/wandb-summary.json\n",
      "INFO:wandb.run_manager:file/dir modified: /home/faessler/work/Research/trec-covid/wandb/run-20200730_145050-aazsv3ez/wandb-history.jsonl\n",
      "INFO:wandb.run_manager:file/dir modified: /home/faessler/work/Research/trec-covid/wandb/run-20200730_145050-aazsv3ez/wandb-summary.json\n",
      "INFO:wandb.run_manager:file/dir modified: /home/faessler/work/Research/trec-covid/wandb/run-20200730_145050-aazsv3ez/wandb-metadata.json\n",
      "INFO:wandb.run_manager:file/dir modified: /home/faessler/work/Research/trec-covid/wandb/run-20200730_145050-aazsv3ez/wandb-history.jsonl\n",
      "INFO:wandb.run_manager:file/dir modified: /home/faessler/work/Research/trec-covid/wandb/run-20200730_145050-aazsv3ez/wandb-summary.json\n",
      "INFO:wandb.run_manager:file/dir modified: /home/faessler/work/Research/trec-covid/wandb/run-20200730_145041-aazsv3ez/wandb-metadata.json\n",
      "INFO:wandb.run_manager:file/dir modified: /home/faessler/work/Research/trec-covid/wandb/run-20200730_145050-aazsv3ez/wandb-history.jsonl\n",
      "INFO:wandb.run_manager:file/dir modified: /home/faessler/work/Research/trec-covid/wandb/run-20200730_145050-aazsv3ez/wandb-summary.json\n",
      "INFO:wandb.run_manager:file/dir modified: /home/faessler/work/Research/trec-covid/wandb/run-20200730_145041-aazsv3ez/wandb-events.jsonl\n",
      "INFO:wandb.run_manager:file/dir modified: /home/faessler/work/Research/trec-covid/wandb/run-20200730_145050-aazsv3ez/wandb-metadata.json\n",
      "INFO:wandb.run_manager:file/dir modified: /home/faessler/work/Research/trec-covid/wandb/run-20200730_145050-aazsv3ez/wandb-history.jsonl\n",
      "INFO:wandb.run_manager:file/dir modified: /home/faessler/work/Research/trec-covid/wandb/run-20200730_145050-aazsv3ez/wandb-summary.json\n",
      "INFO:wandb.run_manager:file/dir modified: /home/faessler/work/Research/trec-covid/wandb/run-20200730_145050-aazsv3ez/wandb-events.jsonl\n",
      "INFO:wandb.run_manager:file/dir modified: /home/faessler/work/Research/trec-covid/wandb/run-20200730_145050-aazsv3ez/wandb-history.jsonl\n",
      "INFO:wandb.run_manager:file/dir modified: /home/faessler/work/Research/trec-covid/wandb/run-20200730_145050-aazsv3ez/wandb-summary.json\n",
      "INFO:wandb.run_manager:file/dir modified: /home/faessler/work/Research/trec-covid/wandb/run-20200730_145041-aazsv3ez/wandb-metadata.json\n",
      "INFO:wandb.run_manager:file/dir modified: /home/faessler/work/Research/trec-covid/wandb/run-20200730_145050-aazsv3ez/wandb-history.jsonl\n",
      "INFO:wandb.run_manager:file/dir modified: /home/faessler/work/Research/trec-covid/wandb/run-20200730_145050-aazsv3ez/wandb-summary.json\n",
      "INFO:wandb.run_manager:file/dir modified: /home/faessler/work/Research/trec-covid/wandb/run-20200730_145050-aazsv3ez/wandb-metadata.json\n",
      "INFO:wandb.run_manager:file/dir modified: /home/faessler/work/Research/trec-covid/wandb/run-20200730_145050-aazsv3ez/wandb-history.jsonl\n",
      "INFO:wandb.run_manager:file/dir modified: /home/faessler/work/Research/trec-covid/wandb/run-20200730_145050-aazsv3ez/wandb-summary.json\n",
      "INFO:wandb.run_manager:file/dir modified: /home/faessler/work/Research/trec-covid/wandb/run-20200730_145050-aazsv3ez/wandb-history.jsonl\n",
      "INFO:wandb.run_manager:file/dir modified: /home/faessler/work/Research/trec-covid/wandb/run-20200730_145050-aazsv3ez/wandb-summary.json\n",
      "INFO:wandb.run_manager:file/dir modified: /home/faessler/work/Research/trec-covid/wandb/run-20200730_145041-aazsv3ez/wandb-metadata.json\n",
      "INFO:wandb.run_manager:file/dir modified: /home/faessler/work/Research/trec-covid/wandb/run-20200730_145041-aazsv3ez/wandb-events.jsonl\n",
      "INFO:wandb.run_manager:file/dir modified: /home/faessler/work/Research/trec-covid/wandb/run-20200730_145050-aazsv3ez/wandb-history.jsonl\n",
      "INFO:wandb.run_manager:file/dir modified: /home/faessler/work/Research/trec-covid/wandb/run-20200730_145050-aazsv3ez/wandb-summary.json\n",
      "INFO:wandb.run_manager:file/dir modified: /home/faessler/work/Research/trec-covid/wandb/run-20200730_145050-aazsv3ez/wandb-metadata.json\n",
      "INFO:wandb.run_manager:file/dir modified: /home/faessler/work/Research/trec-covid/wandb/run-20200730_145050-aazsv3ez/wandb-events.jsonl\n",
      "INFO:wandb.run_manager:file/dir modified: /home/faessler/work/Research/trec-covid/wandb/run-20200730_145050-aazsv3ez/wandb-history.jsonl\n",
      "INFO:wandb.run_manager:file/dir modified: /home/faessler/work/Research/trec-covid/wandb/run-20200730_145050-aazsv3ez/wandb-summary.json\n"
     ]
    },
    {
     "name": "stdout",
     "output_type": "stream",
     "text": [
      "\n",
      "\n"
     ]
    },
    {
     "name": "stderr",
     "output_type": "stream",
     "text": [
      "INFO:simpletransformers.classification.classification_model: Training of roberta model complete. Saved to outputs/.\n"
     ]
    },
    {
     "data": {
      "application/vnd.jupyter.widget-view+json": {
       "model_id": "db353135264d4a41a4edac3c3452b09b",
       "version_major": 2,
       "version_minor": 0
      },
      "text/plain": [
       "HBox(children=(FloatProgress(value=0.0, description='Running Evaluation', max=751.0, style=ProgressStyle(descr…"
      ]
     },
     "metadata": {},
     "output_type": "display_data"
    },
    {
     "name": "stderr",
     "output_type": "stream",
     "text": [
      "INFO:wandb.run_manager:file/dir modified: /home/faessler/work/Research/trec-covid/wandb/run-20200730_145041-aazsv3ez/wandb-metadata.json\n",
      "INFO:wandb.run_manager:file/dir modified: /home/faessler/work/Research/trec-covid/wandb/run-20200730_145050-aazsv3ez/wandb-metadata.json\n",
      "INFO:wandb.run_manager:file/dir modified: /home/faessler/work/Research/trec-covid/wandb/run-20200730_145041-aazsv3ez/wandb-events.jsonl\n",
      "INFO:wandb.run_manager:file/dir modified: /home/faessler/work/Research/trec-covid/wandb/run-20200730_145041-aazsv3ez/wandb-metadata.json\n",
      "INFO:wandb.run_manager:file/dir modified: /home/faessler/work/Research/trec-covid/wandb/run-20200730_145050-aazsv3ez/wandb-events.jsonl\n",
      "INFO:wandb.run_manager:file/dir modified: /home/faessler/work/Research/trec-covid/wandb/run-20200730_145050-aazsv3ez/wandb-metadata.json\n",
      "INFO:wandb.run_manager:file/dir modified: /home/faessler/work/Research/trec-covid/wandb/run-20200730_145041-aazsv3ez/wandb-metadata.json\n"
     ]
    },
    {
     "name": "stdout",
     "output_type": "stream",
     "text": [
      "\n"
     ]
    },
    {
     "name": "stderr",
     "output_type": "stream",
     "text": [
      "/opt/conda/lib/python3.7/site-packages/sklearn/metrics/_classification.py:846: RuntimeWarning: invalid value encountered in double_scalars\n",
      "  mcc = cov_ytyp / np.sqrt(cov_ytyt * cov_ypyp)\n"
     ]
    },
    {
     "data": {
      "text/html": [
       "\n",
       "                Logging results to <a href=\"https://wandb.com\" target=\"_blank\">Weights & Biases</a> <a href=\"https://docs.wandb.com/integrations/jupyter.html\" target=\"_blank\">(Documentation)</a>.<br/>\n",
       "                Project page: <a href=\"https://app.wandb.ai/khituras/TREC-Covid\" target=\"_blank\">https://app.wandb.ai/khituras/TREC-Covid</a><br/>\n",
       "                Run page: <a href=\"https://app.wandb.ai/khituras/TREC-Covid/runs/aazsv3ez\" target=\"_blank\">https://app.wandb.ai/khituras/TREC-Covid/runs/aazsv3ez</a><br/>\n",
       "            "
      ],
      "text/plain": [
       "<IPython.core.display.HTML object>"
      ]
     },
     "metadata": {},
     "output_type": "display_data"
    },
    {
     "name": "stderr",
     "output_type": "stream",
     "text": [
      "INFO:wandb.run_manager:system metrics and metadata threads started\n",
      "INFO:wandb.run_manager:checking resume status, waiting at most 10 seconds\n",
      "INFO:wandb.run_manager:resuming run from id: UnVuOnYxOmFhenN2M2V6OlRSRUMtQ292aWQ6a2hpdHVyYXM=\n",
      "INFO:wandb.run_manager:upserting run before process can begin, waiting at most 10 seconds\n",
      "INFO:wandb.run_manager:saving pip packages\n",
      "INFO:wandb.run_manager:initializing streaming files api\n",
      "INFO:wandb.run_manager:unblocking file change observer, beginning sync with W&B servers\n",
      "INFO:wandb.run_manager:file/dir modified: /home/faessler/work/Research/trec-covid/wandb/run-20200730_145501-aazsv3ez/config.yaml\n",
      "INFO:wandb.run_manager:file/dir created: /home/faessler/work/Research/trec-covid/wandb/run-20200730_145501-aazsv3ez/wandb-events.jsonl\n",
      "ERROR:wandb.run_manager:Streaming file created twice in same run: /home/faessler/work/Research/trec-covid/wandb/run-20200730_145501-aazsv3ez/wandb-events.jsonl\n",
      "INFO:wandb.run_manager:file/dir created: /home/faessler/work/Research/trec-covid/wandb/run-20200730_145501-aazsv3ez/requirements.txt\n",
      "INFO:wandb.run_manager:file/dir created: /home/faessler/work/Research/trec-covid/wandb/run-20200730_145501-aazsv3ez/wandb-metadata.json\n",
      "INFO:wandb.run_manager:file/dir created: /home/faessler/work/Research/trec-covid/wandb/run-20200730_145501-aazsv3ez/wandb-history.jsonl\n",
      "ERROR:wandb.run_manager:Streaming file created twice in same run: /home/faessler/work/Research/trec-covid/wandb/run-20200730_145501-aazsv3ez/wandb-history.jsonl\n",
      "INFO:wandb.run_manager:file/dir created: /home/faessler/work/Research/trec-covid/wandb/run-20200730_145501-aazsv3ez/wandb-summary.json\n",
      "INFO:wandb.run_manager:file/dir created: /home/faessler/work/Research/trec-covid/wandb/run-20200730_145501-aazsv3ez/media/table/roc_37_891c744b.table.json\n",
      "INFO:wandb.run_manager:file/dir created: /home/faessler/work/Research/trec-covid/wandb/run-20200730_145501-aazsv3ez/media\n",
      "INFO:wandb.run_manager:file/dir created: /home/faessler/work/Research/trec-covid/wandb/run-20200730_145501-aazsv3ez/media/table\n",
      "INFO:simpletransformers.classification.classification_model:{'mcc': 0.0, 'tp': 6005, 'tn': 0, 'fp': 6005, 'fn': 0, 'accuracy': 0.5, 'eval_loss': 0.6941332726599214}\n"
     ]
    },
    {
     "name": "stdout",
     "output_type": "stream",
     "text": [
      "wandb: Agent Finished Run: aazsv3ez \n",
      "\n"
     ]
    },
    {
     "name": "stderr",
     "output_type": "stream",
     "text": [
      "INFO:wandb.run_manager:shutting down system stats and metadata service\n",
      "INFO:wandb.run_manager:file/dir modified: /home/faessler/work/Research/trec-covid/wandb/run-20200730_145501-aazsv3ez/wandb-events.jsonl\n",
      "INFO:wandb.run_manager:file/dir modified: /home/faessler/work/Research/trec-covid/wandb/run-20200730_145501-aazsv3ez/config.yaml\n",
      "INFO:wandb.run_manager:file/dir modified: /home/faessler/work/Research/trec-covid/wandb/run-20200730_145501-aazsv3ez/wandb-history.jsonl\n",
      "INFO:wandb.run_manager:file/dir modified: /home/faessler/work/Research/trec-covid/wandb/run-20200730_145501-aazsv3ez/wandb-summary.json\n",
      "INFO:wandb.run_manager:file/dir created: /home/faessler/work/Research/trec-covid/wandb/run-20200730_145501-aazsv3ez/media/table/confusion_matrix_39_139cf12c.table.json\n",
      "INFO:wandb.run_manager:file/dir created: /home/faessler/work/Research/trec-covid/wandb/run-20200730_145501-aazsv3ez/media/table/pr_38_ed41cad7.table.json\n",
      "INFO:wandb.run_manager:file/dir modified: /home/faessler/work/Research/trec-covid/wandb/run-20200730_145501-aazsv3ez/media/table\n",
      "INFO:wandb.run_manager:stopping streaming files and file change observer\n",
      "INFO:wandb.run_manager:file/dir modified: /home/faessler/work/Research/trec-covid/wandb/run-20200730_145501-aazsv3ez/wandb-metadata.json\n",
      "INFO:wandb.wandb_agent:Cleaning up finished run: aazsv3ez\n",
      "INFO:wandb.wandb_agent:Agent received command: run\n",
      "INFO:wandb.wandb_agent:Agent starting run with config:\n",
      "\tlearning_rate: 0.00030595119781972506\n",
      "\tnum_train_epochs: 1\n"
     ]
    },
    {
     "name": "stdout",
     "output_type": "stream",
     "text": [
      "wandb: Agent Starting Run: u7pg7acd with config:\n",
      "\tlearning_rate: 0.00030595119781972506\n",
      "\tnum_train_epochs: 1\n",
      "wandb: Agent Started Run: u7pg7acd\n"
     ]
    },
    {
     "data": {
      "text/html": [
       "\n",
       "                Logging results to <a href=\"https://wandb.com\" target=\"_blank\">Weights & Biases</a> <a href=\"https://docs.wandb.com/integrations/jupyter.html\" target=\"_blank\">(Documentation)</a>.<br/>\n",
       "                Project page: <a href=\"https://app.wandb.ai/khituras/TREC-Covid\" target=\"_blank\">https://app.wandb.ai/khituras/TREC-Covid</a><br/>\n",
       "                Sweep page: <a href=\"https://app.wandb.ai/khituras/TREC-Covid/sweeps/revtmojb\" target=\"_blank\">https://app.wandb.ai/khituras/TREC-Covid/sweeps/revtmojb</a><br/>\n",
       "Run page: <a href=\"https://app.wandb.ai/khituras/TREC-Covid/runs/u7pg7acd\" target=\"_blank\">https://app.wandb.ai/khituras/TREC-Covid/runs/u7pg7acd</a><br/>\n",
       "            "
      ],
      "text/plain": [
       "<IPython.core.display.HTML object>"
      ]
     },
     "metadata": {},
     "output_type": "display_data"
    },
    {
     "name": "stderr",
     "output_type": "stream",
     "text": [
      "INFO:wandb.run_manager:system metrics and metadata threads started\n",
      "INFO:wandb.run_manager:checking resume status, waiting at most 10 seconds\n",
      "INFO:wandb.run_manager:resuming run from id: UnVuOnYxOnU3cGc3YWNkOlRSRUMtQ292aWQ6a2hpdHVyYXM=\n",
      "INFO:wandb.run_manager:upserting run before process can begin, waiting at most 10 seconds\n",
      "INFO:wandb.run_manager:file/dir modified: /home/faessler/work/Research/trec-covid/wandb/run-20200730_145514-u7pg7acd/config.yaml\n",
      "INFO:wandb.run_manager:saving pip packages\n",
      "INFO:wandb.run_manager:initializing streaming files api\n",
      "INFO:wandb.run_manager:unblocking file change observer, beginning sync with W&B servers\n",
      "INFO:wandb.run_manager:file/dir created: /home/faessler/work/Research/trec-covid/wandb/run-20200730_145514-u7pg7acd/wandb-events.jsonl\n",
      "INFO:wandb.run_manager:file/dir created: /home/faessler/work/Research/trec-covid/wandb/run-20200730_145514-u7pg7acd/wandb-summary.json\n",
      "INFO:wandb.run_manager:file/dir created: /home/faessler/work/Research/trec-covid/wandb/run-20200730_145514-u7pg7acd/wandb-metadata.json\n",
      "INFO:wandb.run_manager:file/dir created: /home/faessler/work/Research/trec-covid/wandb/run-20200730_145514-u7pg7acd/wandb-history.jsonl\n",
      "INFO:wandb.run_manager:file/dir created: /home/faessler/work/Research/trec-covid/wandb/run-20200730_145514-u7pg7acd/requirements.txt\n",
      "INFO:wandb.wandb_agent:Running runs: ['u7pg7acd']\n"
     ]
    },
    {
     "name": "stdout",
     "output_type": "stream",
     "text": [
      "Selected optimization level O1:  Insert automatic casts around Pytorch functions and Tensor methods.\n",
      "\n",
      "Defaults for this optimization level are:\n",
      "enabled                : True\n",
      "opt_level              : O1\n",
      "cast_model_type        : None\n",
      "patch_torch_functions  : True\n",
      "keep_batchnorm_fp32    : None\n",
      "master_weights         : None\n",
      "loss_scale             : dynamic\n",
      "Processing user overrides (additional kwargs that are not None)...\n",
      "After processing overrides, optimization options are:\n",
      "enabled                : True\n",
      "opt_level              : O1\n",
      "cast_model_type        : None\n",
      "patch_torch_functions  : True\n",
      "keep_batchnorm_fp32    : None\n",
      "master_weights         : None\n",
      "loss_scale             : dynamic\n"
     ]
    },
    {
     "data": {
      "application/vnd.jupyter.widget-view+json": {
       "model_id": "489707f45cdd465f88a6336649990cb5",
       "version_major": 2,
       "version_minor": 0
      },
      "text/plain": [
       "HBox(children=(FloatProgress(value=0.0, description='Epoch', max=1.0, style=ProgressStyle(description_width='i…"
      ]
     },
     "metadata": {},
     "output_type": "display_data"
    },
    {
     "data": {
      "text/html": [
       "\n",
       "                Logging results to <a href=\"https://wandb.com\" target=\"_blank\">Weights & Biases</a> <a href=\"https://docs.wandb.com/integrations/jupyter.html\" target=\"_blank\">(Documentation)</a>.<br/>\n",
       "                Project page: <a href=\"https://app.wandb.ai/khituras/TREC-Covid\" target=\"_blank\">https://app.wandb.ai/khituras/TREC-Covid</a><br/>\n",
       "                Run page: <a href=\"https://app.wandb.ai/khituras/TREC-Covid/runs/u7pg7acd\" target=\"_blank\">https://app.wandb.ai/khituras/TREC-Covid/runs/u7pg7acd</a><br/>\n",
       "            "
      ],
      "text/plain": [
       "<IPython.core.display.HTML object>"
      ]
     },
     "metadata": {},
     "output_type": "display_data"
    },
    {
     "name": "stderr",
     "output_type": "stream",
     "text": [
      "INFO:wandb.run_manager:system metrics and metadata threads started\n",
      "INFO:wandb.run_manager:checking resume status, waiting at most 10 seconds\n",
      "INFO:wandb.run_manager:resuming run from id: UnVuOnYxOnU3cGc3YWNkOlRSRUMtQ292aWQ6a2hpdHVyYXM=\n",
      "INFO:wandb.run_manager:upserting run before process can begin, waiting at most 10 seconds\n",
      "INFO:wandb.run_manager:saving pip packages\n",
      "INFO:wandb.run_manager:initializing streaming files api\n",
      "INFO:wandb.run_manager:unblocking file change observer, beginning sync with W&B servers\n"
     ]
    },
    {
     "data": {
      "application/vnd.jupyter.widget-view+json": {
       "model_id": "2e11307e189640839eb0d71a5bdd5671",
       "version_major": 2,
       "version_minor": 0
      },
      "text/plain": [
       "HBox(children=(FloatProgress(value=0.0, description='Running Epoch 0 of 1', max=625.0, style=ProgressStyle(des…"
      ]
     },
     "metadata": {},
     "output_type": "display_data"
    },
    {
     "name": "stderr",
     "output_type": "stream",
     "text": [
      "INFO:wandb.run_manager:file/dir modified: /home/faessler/work/Research/trec-covid/wandb/run-20200730_145523-u7pg7acd/config.yaml\n",
      "INFO:wandb.run_manager:file/dir created: /home/faessler/work/Research/trec-covid/wandb/run-20200730_145523-u7pg7acd/requirements.txt\n",
      "INFO:wandb.run_manager:file/dir created: /home/faessler/work/Research/trec-covid/wandb/run-20200730_145523-u7pg7acd/wandb-summary.json\n",
      "INFO:wandb.run_manager:file/dir created: /home/faessler/work/Research/trec-covid/wandb/run-20200730_145523-u7pg7acd/wandb-history.jsonl\n",
      "INFO:wandb.run_manager:file/dir created: /home/faessler/work/Research/trec-covid/wandb/run-20200730_145523-u7pg7acd/wandb-events.jsonl\n",
      "INFO:wandb.run_manager:file/dir created: /home/faessler/work/Research/trec-covid/wandb/run-20200730_145523-u7pg7acd/wandb-metadata.json\n",
      "/opt/conda/lib/python3.7/site-packages/torch/optim/lr_scheduler.py:113: UserWarning: Seems like `optimizer.step()` has been overridden after learning rate scheduler initialization. Please, make sure to call `optimizer.step()` before `lr_scheduler.step()`. See more details at https://pytorch.org/docs/stable/optim.html#how-to-adjust-learning-rate\n",
      "  \"https://pytorch.org/docs/stable/optim.html#how-to-adjust-learning-rate\", UserWarning)\n",
      "INFO:wandb.run_manager:file/dir modified: /home/faessler/work/Research/trec-covid/wandb/run-20200730_145523-u7pg7acd/wandb-summary.json\n",
      "INFO:wandb.run_manager:file/dir created: /home/faessler/work/Research/trec-covid/wandb/run-20200730_145523-u7pg7acd/media/graph/graph_0_summary_b72f02e6.graph.json\n",
      "INFO:wandb.run_manager:file/dir created: /home/faessler/work/Research/trec-covid/wandb/run-20200730_145523-u7pg7acd/media/graph\n",
      "INFO:wandb.run_manager:file/dir created: /home/faessler/work/Research/trec-covid/wandb/run-20200730_145523-u7pg7acd/media\n",
      "/opt/conda/lib/python3.7/site-packages/torch/optim/lr_scheduler.py:224: UserWarning: To get the last learning rate computed by the scheduler, please use `get_last_lr()`.\n",
      "  warnings.warn(\"To get the last learning rate computed by the scheduler, \"\n",
      "INFO:wandb.run_manager:file/dir modified: /home/faessler/work/Research/trec-covid/wandb/run-20200730_145523-u7pg7acd/wandb-summary.json\n",
      "INFO:wandb.run_manager:file/dir modified: /home/faessler/work/Research/trec-covid/wandb/run-20200730_145523-u7pg7acd/wandb-history.jsonl\n",
      "INFO:wandb.run_manager:file/dir modified: /home/faessler/work/Research/trec-covid/wandb/run-20200730_145514-u7pg7acd/wandb-metadata.json\n",
      "INFO:wandb.run_manager:file/dir modified: /home/faessler/work/Research/trec-covid/wandb/run-20200730_145523-u7pg7acd/wandb-summary.json\n",
      "INFO:wandb.run_manager:file/dir modified: /home/faessler/work/Research/trec-covid/wandb/run-20200730_145523-u7pg7acd/wandb-history.jsonl\n",
      "INFO:wandb.run_manager:file/dir modified: /home/faessler/work/Research/trec-covid/wandb/run-20200730_145523-u7pg7acd/wandb-metadata.json\n",
      "INFO:wandb.run_manager:file/dir modified: /home/faessler/work/Research/trec-covid/wandb/run-20200730_145523-u7pg7acd/wandb-summary.json\n",
      "INFO:wandb.run_manager:file/dir modified: /home/faessler/work/Research/trec-covid/wandb/run-20200730_145523-u7pg7acd/wandb-history.jsonl\n",
      "INFO:wandb.run_manager:file/dir modified: /home/faessler/work/Research/trec-covid/wandb/run-20200730_145514-u7pg7acd/wandb-events.jsonl\n",
      "INFO:wandb.run_manager:file/dir modified: /home/faessler/work/Research/trec-covid/wandb/run-20200730_145523-u7pg7acd/wandb-summary.json\n",
      "INFO:wandb.run_manager:file/dir modified: /home/faessler/work/Research/trec-covid/wandb/run-20200730_145523-u7pg7acd/wandb-history.jsonl\n",
      "INFO:wandb.run_manager:file/dir modified: /home/faessler/work/Research/trec-covid/wandb/run-20200730_145514-u7pg7acd/wandb-metadata.json\n",
      "INFO:wandb.run_manager:file/dir modified: /home/faessler/work/Research/trec-covid/wandb/run-20200730_145523-u7pg7acd/wandb-events.jsonl\n",
      "INFO:wandb.run_manager:file/dir modified: /home/faessler/work/Research/trec-covid/wandb/run-20200730_145523-u7pg7acd/wandb-summary.json\n",
      "INFO:wandb.run_manager:file/dir modified: /home/faessler/work/Research/trec-covid/wandb/run-20200730_145523-u7pg7acd/wandb-history.jsonl\n",
      "INFO:wandb.run_manager:file/dir modified: /home/faessler/work/Research/trec-covid/wandb/run-20200730_145523-u7pg7acd/wandb-metadata.json\n",
      "INFO:wandb.run_manager:file/dir modified: /home/faessler/work/Research/trec-covid/wandb/run-20200730_145523-u7pg7acd/wandb-summary.json\n",
      "INFO:wandb.run_manager:file/dir modified: /home/faessler/work/Research/trec-covid/wandb/run-20200730_145523-u7pg7acd/wandb-history.jsonl\n",
      "INFO:wandb.run_manager:file/dir modified: /home/faessler/work/Research/trec-covid/wandb/run-20200730_145523-u7pg7acd/wandb-summary.json\n",
      "INFO:wandb.run_manager:file/dir modified: /home/faessler/work/Research/trec-covid/wandb/run-20200730_145523-u7pg7acd/wandb-history.jsonl\n",
      "INFO:wandb.run_manager:file/dir modified: /home/faessler/work/Research/trec-covid/wandb/run-20200730_145514-u7pg7acd/wandb-metadata.json\n",
      "INFO:wandb.run_manager:file/dir modified: /home/faessler/work/Research/trec-covid/wandb/run-20200730_145523-u7pg7acd/wandb-summary.json\n",
      "INFO:wandb.run_manager:file/dir modified: /home/faessler/work/Research/trec-covid/wandb/run-20200730_145523-u7pg7acd/wandb-history.jsonl\n",
      "INFO:wandb.run_manager:file/dir modified: /home/faessler/work/Research/trec-covid/wandb/run-20200730_145523-u7pg7acd/wandb-metadata.json\n",
      "INFO:wandb.run_manager:file/dir modified: /home/faessler/work/Research/trec-covid/wandb/run-20200730_145523-u7pg7acd/wandb-history.jsonl\n",
      "INFO:wandb.run_manager:file/dir modified: /home/faessler/work/Research/trec-covid/wandb/run-20200730_145514-u7pg7acd/wandb-events.jsonl\n",
      "INFO:wandb.run_manager:file/dir modified: /home/faessler/work/Research/trec-covid/wandb/run-20200730_145523-u7pg7acd/wandb-summary.json\n",
      "INFO:wandb.run_manager:file/dir modified: /home/faessler/work/Research/trec-covid/wandb/run-20200730_145514-u7pg7acd/wandb-metadata.json\n",
      "INFO:wandb.run_manager:file/dir modified: /home/faessler/work/Research/trec-covid/wandb/run-20200730_145523-u7pg7acd/wandb-summary.json\n",
      "INFO:wandb.run_manager:file/dir modified: /home/faessler/work/Research/trec-covid/wandb/run-20200730_145523-u7pg7acd/wandb-history.jsonl\n",
      "INFO:wandb.run_manager:file/dir modified: /home/faessler/work/Research/trec-covid/wandb/run-20200730_145523-u7pg7acd/wandb-events.jsonl\n",
      "INFO:wandb.run_manager:file/dir modified: /home/faessler/work/Research/trec-covid/wandb/run-20200730_145523-u7pg7acd/wandb-summary.json\n",
      "INFO:wandb.run_manager:file/dir modified: /home/faessler/work/Research/trec-covid/wandb/run-20200730_145523-u7pg7acd/wandb-history.jsonl\n",
      "INFO:wandb.run_manager:file/dir modified: /home/faessler/work/Research/trec-covid/wandb/run-20200730_145523-u7pg7acd/wandb-metadata.json\n",
      "INFO:wandb.run_manager:file/dir modified: /home/faessler/work/Research/trec-covid/wandb/run-20200730_145523-u7pg7acd/wandb-summary.json\n",
      "INFO:wandb.run_manager:file/dir modified: /home/faessler/work/Research/trec-covid/wandb/run-20200730_145523-u7pg7acd/wandb-history.jsonl\n"
     ]
    },
    {
     "name": "stdout",
     "output_type": "stream",
     "text": [
      "\n",
      "\n"
     ]
    },
    {
     "name": "stderr",
     "output_type": "stream",
     "text": [
      "INFO:simpletransformers.classification.classification_model: Training of roberta model complete. Saved to outputs/.\n"
     ]
    },
    {
     "data": {
      "application/vnd.jupyter.widget-view+json": {
       "model_id": "6375345310fd40e2b474fde200637311",
       "version_major": 2,
       "version_minor": 0
      },
      "text/plain": [
       "HBox(children=(FloatProgress(value=0.0, description='Running Evaluation', max=751.0, style=ProgressStyle(descr…"
      ]
     },
     "metadata": {},
     "output_type": "display_data"
    },
    {
     "name": "stderr",
     "output_type": "stream",
     "text": [
      "INFO:wandb.run_manager:file/dir modified: /home/faessler/work/Research/trec-covid/wandb/run-20200730_145514-u7pg7acd/wandb-metadata.json\n",
      "INFO:wandb.run_manager:file/dir modified: /home/faessler/work/Research/trec-covid/wandb/run-20200730_145523-u7pg7acd/wandb-metadata.json\n",
      "INFO:wandb.run_manager:file/dir modified: /home/faessler/work/Research/trec-covid/wandb/run-20200730_145514-u7pg7acd/wandb-events.jsonl\n",
      "INFO:wandb.run_manager:file/dir modified: /home/faessler/work/Research/trec-covid/wandb/run-20200730_145523-u7pg7acd/wandb-events.jsonl\n",
      "INFO:wandb.run_manager:file/dir modified: /home/faessler/work/Research/trec-covid/wandb/run-20200730_145514-u7pg7acd/wandb-metadata.json\n",
      "INFO:wandb.run_manager:file/dir modified: /home/faessler/work/Research/trec-covid/wandb/run-20200730_145523-u7pg7acd/wandb-metadata.json\n",
      "INFO:wandb.run_manager:file/dir modified: /home/faessler/work/Research/trec-covid/wandb/run-20200730_145514-u7pg7acd/wandb-metadata.json\n"
     ]
    },
    {
     "name": "stdout",
     "output_type": "stream",
     "text": [
      "\n"
     ]
    },
    {
     "name": "stderr",
     "output_type": "stream",
     "text": [
      "/opt/conda/lib/python3.7/site-packages/sklearn/metrics/_classification.py:846: RuntimeWarning: invalid value encountered in double_scalars\n",
      "  mcc = cov_ytyp / np.sqrt(cov_ytyt * cov_ypyp)\n"
     ]
    },
    {
     "data": {
      "text/html": [
       "\n",
       "                Logging results to <a href=\"https://wandb.com\" target=\"_blank\">Weights & Biases</a> <a href=\"https://docs.wandb.com/integrations/jupyter.html\" target=\"_blank\">(Documentation)</a>.<br/>\n",
       "                Project page: <a href=\"https://app.wandb.ai/khituras/TREC-Covid\" target=\"_blank\">https://app.wandb.ai/khituras/TREC-Covid</a><br/>\n",
       "                Run page: <a href=\"https://app.wandb.ai/khituras/TREC-Covid/runs/u7pg7acd\" target=\"_blank\">https://app.wandb.ai/khituras/TREC-Covid/runs/u7pg7acd</a><br/>\n",
       "            "
      ],
      "text/plain": [
       "<IPython.core.display.HTML object>"
      ]
     },
     "metadata": {},
     "output_type": "display_data"
    },
    {
     "name": "stderr",
     "output_type": "stream",
     "text": [
      "INFO:wandb.run_manager:system metrics and metadata threads started\n",
      "INFO:wandb.run_manager:checking resume status, waiting at most 10 seconds\n",
      "INFO:wandb.run_manager:resuming run from id: UnVuOnYxOnU3cGc3YWNkOlRSRUMtQ292aWQ6a2hpdHVyYXM=\n",
      "INFO:wandb.run_manager:upserting run before process can begin, waiting at most 10 seconds\n",
      "INFO:wandb.run_manager:saving pip packages\n",
      "INFO:wandb.run_manager:initializing streaming files api\n",
      "INFO:wandb.run_manager:unblocking file change observer, beginning sync with W&B servers\n",
      "INFO:wandb.run_manager:file/dir modified: /home/faessler/work/Research/trec-covid/wandb/run-20200730_145713-u7pg7acd/config.yaml\n",
      "INFO:wandb.run_manager:file/dir created: /home/faessler/work/Research/trec-covid/wandb/run-20200730_145713-u7pg7acd/media/table/pr_13_f36bf833.table.json\n",
      "INFO:wandb.run_manager:file/dir created: /home/faessler/work/Research/trec-covid/wandb/run-20200730_145713-u7pg7acd/wandb-summary.json\n",
      "INFO:wandb.run_manager:file/dir created: /home/faessler/work/Research/trec-covid/wandb/run-20200730_145713-u7pg7acd/requirements.txt\n",
      "INFO:wandb.run_manager:file/dir created: /home/faessler/work/Research/trec-covid/wandb/run-20200730_145713-u7pg7acd/media/table/roc_12_0bc75278.table.json\n",
      "INFO:wandb.run_manager:file/dir created: /home/faessler/work/Research/trec-covid/wandb/run-20200730_145713-u7pg7acd/wandb-events.jsonl\n",
      "ERROR:wandb.run_manager:Streaming file created twice in same run: /home/faessler/work/Research/trec-covid/wandb/run-20200730_145713-u7pg7acd/wandb-events.jsonl\n",
      "INFO:wandb.run_manager:file/dir created: /home/faessler/work/Research/trec-covid/wandb/run-20200730_145713-u7pg7acd/wandb-history.jsonl\n",
      "ERROR:wandb.run_manager:Streaming file created twice in same run: /home/faessler/work/Research/trec-covid/wandb/run-20200730_145713-u7pg7acd/wandb-history.jsonl\n",
      "INFO:wandb.run_manager:file/dir created: /home/faessler/work/Research/trec-covid/wandb/run-20200730_145713-u7pg7acd/wandb-metadata.json\n",
      "INFO:wandb.run_manager:file/dir created: /home/faessler/work/Research/trec-covid/wandb/run-20200730_145713-u7pg7acd/media\n",
      "INFO:wandb.run_manager:file/dir created: /home/faessler/work/Research/trec-covid/wandb/run-20200730_145713-u7pg7acd/media/table\n",
      "INFO:simpletransformers.classification.classification_model:{'mcc': 0.0, 'tp': 0, 'tn': 6005, 'fp': 0, 'fn': 6005, 'accuracy': 0.5, 'eval_loss': 0.6932488280669669}\n"
     ]
    },
    {
     "name": "stdout",
     "output_type": "stream",
     "text": [
      "wandb: Agent Finished Run: u7pg7acd \n",
      "\n"
     ]
    },
    {
     "name": "stderr",
     "output_type": "stream",
     "text": [
      "INFO:wandb.run_manager:shutting down system stats and metadata service\n",
      "INFO:wandb.run_manager:file/dir modified: /home/faessler/work/Research/trec-covid/wandb/run-20200730_145713-u7pg7acd/config.yaml\n",
      "INFO:wandb.run_manager:file/dir modified: /home/faessler/work/Research/trec-covid/wandb/run-20200730_145713-u7pg7acd/wandb-history.jsonl\n",
      "INFO:wandb.run_manager:file/dir modified: /home/faessler/work/Research/trec-covid/wandb/run-20200730_145713-u7pg7acd/wandb-summary.json\n",
      "INFO:wandb.run_manager:file/dir modified: /home/faessler/work/Research/trec-covid/wandb/run-20200730_145713-u7pg7acd/wandb-events.jsonl\n",
      "INFO:wandb.run_manager:file/dir created: /home/faessler/work/Research/trec-covid/wandb/run-20200730_145713-u7pg7acd/media/table/confusion_matrix_14_745cd91c.table.json\n",
      "INFO:wandb.run_manager:file/dir modified: /home/faessler/work/Research/trec-covid/wandb/run-20200730_145713-u7pg7acd/media/table\n",
      "INFO:wandb.run_manager:stopping streaming files and file change observer\n",
      "INFO:wandb.run_manager:file/dir modified: /home/faessler/work/Research/trec-covid/wandb/run-20200730_145514-u7pg7acd/wandb-events.jsonl\n",
      "INFO:wandb.run_manager:file/dir modified: /home/faessler/work/Research/trec-covid/wandb/run-20200730_145713-u7pg7acd/wandb-metadata.json\n",
      "INFO:wandb.run_manager:file/dir modified: /home/faessler/work/Research/trec-covid/wandb/run-20200730_145523-u7pg7acd/wandb-metadata.json\n",
      "INFO:wandb.wandb_agent:Cleaning up finished run: u7pg7acd\n",
      "INFO:wandb.wandb_agent:Agent received command: run\n",
      "INFO:wandb.wandb_agent:Agent starting run with config:\n",
      "\tlearning_rate: 6.641285136059007e-05\n",
      "\tnum_train_epochs: 1\n"
     ]
    },
    {
     "name": "stdout",
     "output_type": "stream",
     "text": [
      "wandb: Agent Starting Run: o868ecm1 with config:\n",
      "\tlearning_rate: 6.641285136059007e-05\n",
      "\tnum_train_epochs: 1\n",
      "wandb: Agent Started Run: o868ecm1\n"
     ]
    },
    {
     "data": {
      "text/html": [
       "\n",
       "                Logging results to <a href=\"https://wandb.com\" target=\"_blank\">Weights & Biases</a> <a href=\"https://docs.wandb.com/integrations/jupyter.html\" target=\"_blank\">(Documentation)</a>.<br/>\n",
       "                Project page: <a href=\"https://app.wandb.ai/khituras/TREC-Covid\" target=\"_blank\">https://app.wandb.ai/khituras/TREC-Covid</a><br/>\n",
       "                Sweep page: <a href=\"https://app.wandb.ai/khituras/TREC-Covid/sweeps/revtmojb\" target=\"_blank\">https://app.wandb.ai/khituras/TREC-Covid/sweeps/revtmojb</a><br/>\n",
       "Run page: <a href=\"https://app.wandb.ai/khituras/TREC-Covid/runs/o868ecm1\" target=\"_blank\">https://app.wandb.ai/khituras/TREC-Covid/runs/o868ecm1</a><br/>\n",
       "            "
      ],
      "text/plain": [
       "<IPython.core.display.HTML object>"
      ]
     },
     "metadata": {},
     "output_type": "display_data"
    },
    {
     "name": "stderr",
     "output_type": "stream",
     "text": [
      "INFO:wandb.run_manager:system metrics and metadata threads started\n",
      "INFO:wandb.run_manager:checking resume status, waiting at most 10 seconds\n",
      "INFO:wandb.run_manager:resuming run from id: UnVuOnYxOm84NjhlY20xOlRSRUMtQ292aWQ6a2hpdHVyYXM=\n",
      "INFO:wandb.run_manager:upserting run before process can begin, waiting at most 10 seconds\n",
      "INFO:wandb.run_manager:file/dir modified: /home/faessler/work/Research/trec-covid/wandb/run-20200730_145719-o868ecm1/config.yaml\n",
      "INFO:wandb.run_manager:saving pip packages\n",
      "INFO:wandb.run_manager:initializing streaming files api\n",
      "INFO:wandb.run_manager:unblocking file change observer, beginning sync with W&B servers\n",
      "INFO:wandb.run_manager:file/dir created: /home/faessler/work/Research/trec-covid/wandb/run-20200730_145719-o868ecm1/wandb-events.jsonl\n",
      "INFO:wandb.run_manager:file/dir created: /home/faessler/work/Research/trec-covid/wandb/run-20200730_145719-o868ecm1/wandb-history.jsonl\n",
      "INFO:wandb.run_manager:file/dir created: /home/faessler/work/Research/trec-covid/wandb/run-20200730_145719-o868ecm1/wandb-metadata.json\n",
      "INFO:wandb.run_manager:file/dir created: /home/faessler/work/Research/trec-covid/wandb/run-20200730_145719-o868ecm1/wandb-summary.json\n",
      "INFO:wandb.run_manager:file/dir created: /home/faessler/work/Research/trec-covid/wandb/run-20200730_145719-o868ecm1/requirements.txt\n",
      "INFO:wandb.wandb_agent:Running runs: ['o868ecm1']\n"
     ]
    },
    {
     "name": "stdout",
     "output_type": "stream",
     "text": [
      "Selected optimization level O1:  Insert automatic casts around Pytorch functions and Tensor methods.\n",
      "\n",
      "Defaults for this optimization level are:\n",
      "enabled                : True\n",
      "opt_level              : O1\n",
      "cast_model_type        : None\n",
      "patch_torch_functions  : True\n",
      "keep_batchnorm_fp32    : None\n",
      "master_weights         : None\n",
      "loss_scale             : dynamic\n",
      "Processing user overrides (additional kwargs that are not None)...\n",
      "After processing overrides, optimization options are:\n",
      "enabled                : True\n",
      "opt_level              : O1\n",
      "cast_model_type        : None\n",
      "patch_torch_functions  : True\n",
      "keep_batchnorm_fp32    : None\n",
      "master_weights         : None\n",
      "loss_scale             : dynamic\n"
     ]
    },
    {
     "data": {
      "application/vnd.jupyter.widget-view+json": {
       "model_id": "3da62a5f773b4d139eead1cb9834cf8a",
       "version_major": 2,
       "version_minor": 0
      },
      "text/plain": [
       "HBox(children=(FloatProgress(value=0.0, description='Epoch', max=1.0, style=ProgressStyle(description_width='i…"
      ]
     },
     "metadata": {},
     "output_type": "display_data"
    },
    {
     "data": {
      "text/html": [
       "\n",
       "                Logging results to <a href=\"https://wandb.com\" target=\"_blank\">Weights & Biases</a> <a href=\"https://docs.wandb.com/integrations/jupyter.html\" target=\"_blank\">(Documentation)</a>.<br/>\n",
       "                Project page: <a href=\"https://app.wandb.ai/khituras/TREC-Covid\" target=\"_blank\">https://app.wandb.ai/khituras/TREC-Covid</a><br/>\n",
       "                Run page: <a href=\"https://app.wandb.ai/khituras/TREC-Covid/runs/o868ecm1\" target=\"_blank\">https://app.wandb.ai/khituras/TREC-Covid/runs/o868ecm1</a><br/>\n",
       "            "
      ],
      "text/plain": [
       "<IPython.core.display.HTML object>"
      ]
     },
     "metadata": {},
     "output_type": "display_data"
    },
    {
     "name": "stderr",
     "output_type": "stream",
     "text": [
      "INFO:wandb.run_manager:system metrics and metadata threads started\n",
      "INFO:wandb.run_manager:checking resume status, waiting at most 10 seconds\n",
      "INFO:wandb.run_manager:resuming run from id: UnVuOnYxOm84NjhlY20xOlRSRUMtQ292aWQ6a2hpdHVyYXM=\n",
      "INFO:wandb.run_manager:upserting run before process can begin, waiting at most 10 seconds\n",
      "INFO:wandb.run_manager:saving pip packages\n",
      "INFO:wandb.run_manager:initializing streaming files api\n",
      "INFO:wandb.run_manager:unblocking file change observer, beginning sync with W&B servers\n"
     ]
    },
    {
     "data": {
      "application/vnd.jupyter.widget-view+json": {
       "model_id": "09fd05658ec6405c9835544b463e33b2",
       "version_major": 2,
       "version_minor": 0
      },
      "text/plain": [
       "HBox(children=(FloatProgress(value=0.0, description='Running Epoch 0 of 1', max=625.0, style=ProgressStyle(des…"
      ]
     },
     "metadata": {},
     "output_type": "display_data"
    },
    {
     "name": "stderr",
     "output_type": "stream",
     "text": [
      "INFO:wandb.run_manager:file/dir modified: /home/faessler/work/Research/trec-covid/wandb/run-20200730_145728-o868ecm1/config.yaml\n",
      "INFO:wandb.run_manager:file/dir created: /home/faessler/work/Research/trec-covid/wandb/run-20200730_145728-o868ecm1/wandb-metadata.json\n",
      "INFO:wandb.run_manager:file/dir created: /home/faessler/work/Research/trec-covid/wandb/run-20200730_145728-o868ecm1/requirements.txt\n",
      "INFO:wandb.run_manager:file/dir created: /home/faessler/work/Research/trec-covid/wandb/run-20200730_145728-o868ecm1/wandb-history.jsonl\n",
      "INFO:wandb.run_manager:file/dir created: /home/faessler/work/Research/trec-covid/wandb/run-20200730_145728-o868ecm1/wandb-events.jsonl\n",
      "INFO:wandb.run_manager:file/dir created: /home/faessler/work/Research/trec-covid/wandb/run-20200730_145728-o868ecm1/wandb-summary.json\n",
      "/opt/conda/lib/python3.7/site-packages/torch/optim/lr_scheduler.py:113: UserWarning: Seems like `optimizer.step()` has been overridden after learning rate scheduler initialization. Please, make sure to call `optimizer.step()` before `lr_scheduler.step()`. See more details at https://pytorch.org/docs/stable/optim.html#how-to-adjust-learning-rate\n",
      "  \"https://pytorch.org/docs/stable/optim.html#how-to-adjust-learning-rate\", UserWarning)\n",
      "INFO:wandb.run_manager:file/dir modified: /home/faessler/work/Research/trec-covid/wandb/run-20200730_145728-o868ecm1/wandb-summary.json\n",
      "INFO:wandb.run_manager:file/dir created: /home/faessler/work/Research/trec-covid/wandb/run-20200730_145728-o868ecm1/media/graph/graph_0_summary_bf267899.graph.json\n",
      "INFO:wandb.run_manager:file/dir created: /home/faessler/work/Research/trec-covid/wandb/run-20200730_145728-o868ecm1/media\n",
      "INFO:wandb.run_manager:file/dir created: /home/faessler/work/Research/trec-covid/wandb/run-20200730_145728-o868ecm1/media/graph\n",
      "/opt/conda/lib/python3.7/site-packages/torch/optim/lr_scheduler.py:224: UserWarning: To get the last learning rate computed by the scheduler, please use `get_last_lr()`.\n",
      "  warnings.warn(\"To get the last learning rate computed by the scheduler, \"\n",
      "INFO:wandb.run_manager:file/dir modified: /home/faessler/work/Research/trec-covid/wandb/run-20200730_145728-o868ecm1/wandb-history.jsonl\n",
      "INFO:wandb.run_manager:file/dir modified: /home/faessler/work/Research/trec-covid/wandb/run-20200730_145728-o868ecm1/wandb-summary.json\n",
      "INFO:wandb.run_manager:file/dir modified: /home/faessler/work/Research/trec-covid/wandb/run-20200730_145719-o868ecm1/wandb-metadata.json\n"
     ]
    },
    {
     "name": "stdout",
     "output_type": "stream",
     "text": [
      "Gradient overflow.  Skipping step, loss scaler 0 reducing loss scale to 32768.0\n",
      "Gradient overflow.  Skipping step, loss scaler 0 reducing loss scale to 16384.0\n",
      "Gradient overflow.  Skipping step, loss scaler 0 reducing loss scale to 8192.0\n"
     ]
    },
    {
     "name": "stderr",
     "output_type": "stream",
     "text": [
      "INFO:wandb.run_manager:file/dir modified: /home/faessler/work/Research/trec-covid/wandb/run-20200730_145728-o868ecm1/wandb-history.jsonl\n",
      "INFO:wandb.run_manager:file/dir modified: /home/faessler/work/Research/trec-covid/wandb/run-20200730_145728-o868ecm1/wandb-summary.json\n",
      "INFO:wandb.run_manager:file/dir modified: /home/faessler/work/Research/trec-covid/wandb/run-20200730_145728-o868ecm1/wandb-metadata.json\n",
      "INFO:wandb.run_manager:file/dir modified: /home/faessler/work/Research/trec-covid/wandb/run-20200730_145728-o868ecm1/wandb-history.jsonl\n",
      "INFO:wandb.run_manager:file/dir modified: /home/faessler/work/Research/trec-covid/wandb/run-20200730_145728-o868ecm1/wandb-summary.json\n",
      "INFO:wandb.run_manager:file/dir modified: /home/faessler/work/Research/trec-covid/wandb/run-20200730_145719-o868ecm1/wandb-events.jsonl\n",
      "INFO:wandb.run_manager:file/dir modified: /home/faessler/work/Research/trec-covid/wandb/run-20200730_145728-o868ecm1/wandb-history.jsonl\n",
      "INFO:wandb.run_manager:file/dir modified: /home/faessler/work/Research/trec-covid/wandb/run-20200730_145728-o868ecm1/wandb-summary.json\n",
      "INFO:wandb.run_manager:file/dir modified: /home/faessler/work/Research/trec-covid/wandb/run-20200730_145719-o868ecm1/wandb-metadata.json\n",
      "INFO:wandb.run_manager:file/dir modified: /home/faessler/work/Research/trec-covid/wandb/run-20200730_145728-o868ecm1/wandb-events.jsonl\n",
      "INFO:wandb.run_manager:file/dir modified: /home/faessler/work/Research/trec-covid/wandb/run-20200730_145728-o868ecm1/wandb-history.jsonl\n",
      "INFO:wandb.run_manager:file/dir modified: /home/faessler/work/Research/trec-covid/wandb/run-20200730_145728-o868ecm1/wandb-summary.json\n",
      "INFO:wandb.run_manager:file/dir modified: /home/faessler/work/Research/trec-covid/wandb/run-20200730_145728-o868ecm1/wandb-metadata.json\n",
      "INFO:wandb.run_manager:file/dir modified: /home/faessler/work/Research/trec-covid/wandb/run-20200730_145728-o868ecm1/wandb-history.jsonl\n",
      "INFO:wandb.run_manager:file/dir modified: /home/faessler/work/Research/trec-covid/wandb/run-20200730_145728-o868ecm1/wandb-summary.json\n",
      "INFO:wandb.run_manager:file/dir modified: /home/faessler/work/Research/trec-covid/wandb/run-20200730_145728-o868ecm1/wandb-history.jsonl\n",
      "INFO:wandb.run_manager:file/dir modified: /home/faessler/work/Research/trec-covid/wandb/run-20200730_145719-o868ecm1/wandb-metadata.json\n",
      "INFO:wandb.run_manager:file/dir modified: /home/faessler/work/Research/trec-covid/wandb/run-20200730_145728-o868ecm1/wandb-summary.json\n",
      "INFO:wandb.run_manager:file/dir modified: /home/faessler/work/Research/trec-covid/wandb/run-20200730_145728-o868ecm1/wandb-history.jsonl\n",
      "INFO:wandb.run_manager:file/dir modified: /home/faessler/work/Research/trec-covid/wandb/run-20200730_145728-o868ecm1/wandb-summary.json\n",
      "INFO:wandb.run_manager:file/dir modified: /home/faessler/work/Research/trec-covid/wandb/run-20200730_145728-o868ecm1/wandb-metadata.json\n",
      "INFO:wandb.run_manager:file/dir modified: /home/faessler/work/Research/trec-covid/wandb/run-20200730_145719-o868ecm1/wandb-events.jsonl\n",
      "INFO:wandb.run_manager:file/dir modified: /home/faessler/work/Research/trec-covid/wandb/run-20200730_145728-o868ecm1/wandb-history.jsonl\n",
      "INFO:wandb.run_manager:file/dir modified: /home/faessler/work/Research/trec-covid/wandb/run-20200730_145728-o868ecm1/wandb-summary.json\n",
      "INFO:wandb.run_manager:file/dir modified: /home/faessler/work/Research/trec-covid/wandb/run-20200730_145719-o868ecm1/wandb-metadata.json\n",
      "INFO:wandb.run_manager:file/dir modified: /home/faessler/work/Research/trec-covid/wandb/run-20200730_145728-o868ecm1/wandb-history.jsonl\n",
      "INFO:wandb.run_manager:file/dir modified: /home/faessler/work/Research/trec-covid/wandb/run-20200730_145728-o868ecm1/wandb-events.jsonl\n",
      "INFO:wandb.run_manager:file/dir modified: /home/faessler/work/Research/trec-covid/wandb/run-20200730_145728-o868ecm1/wandb-summary.json\n",
      "INFO:wandb.run_manager:file/dir modified: /home/faessler/work/Research/trec-covid/wandb/run-20200730_145728-o868ecm1/wandb-history.jsonl\n",
      "INFO:wandb.run_manager:file/dir modified: /home/faessler/work/Research/trec-covid/wandb/run-20200730_145728-o868ecm1/wandb-summary.json\n",
      "INFO:wandb.run_manager:file/dir modified: /home/faessler/work/Research/trec-covid/wandb/run-20200730_145728-o868ecm1/wandb-metadata.json\n",
      "INFO:wandb.run_manager:file/dir modified: /home/faessler/work/Research/trec-covid/wandb/run-20200730_145728-o868ecm1/wandb-history.jsonl\n",
      "INFO:wandb.run_manager:file/dir modified: /home/faessler/work/Research/trec-covid/wandb/run-20200730_145728-o868ecm1/wandb-summary.json\n"
     ]
    },
    {
     "name": "stdout",
     "output_type": "stream",
     "text": [
      "\n",
      "\n"
     ]
    },
    {
     "name": "stderr",
     "output_type": "stream",
     "text": [
      "INFO:simpletransformers.classification.classification_model: Training of roberta model complete. Saved to outputs/.\n"
     ]
    },
    {
     "data": {
      "application/vnd.jupyter.widget-view+json": {
       "model_id": "dee6efede6604bb6bf0d9b14bdbb5a79",
       "version_major": 2,
       "version_minor": 0
      },
      "text/plain": [
       "HBox(children=(FloatProgress(value=0.0, description='Running Evaluation', max=751.0, style=ProgressStyle(descr…"
      ]
     },
     "metadata": {},
     "output_type": "display_data"
    },
    {
     "name": "stderr",
     "output_type": "stream",
     "text": [
      "INFO:wandb.run_manager:file/dir modified: /home/faessler/work/Research/trec-covid/wandb/run-20200730_145719-o868ecm1/wandb-metadata.json\n",
      "INFO:wandb.run_manager:file/dir modified: /home/faessler/work/Research/trec-covid/wandb/run-20200730_145728-o868ecm1/wandb-metadata.json\n",
      "INFO:wandb.run_manager:file/dir modified: /home/faessler/work/Research/trec-covid/wandb/run-20200730_145719-o868ecm1/wandb-events.jsonl\n",
      "INFO:wandb.run_manager:file/dir modified: /home/faessler/work/Research/trec-covid/wandb/run-20200730_145728-o868ecm1/wandb-events.jsonl\n",
      "INFO:wandb.run_manager:file/dir modified: /home/faessler/work/Research/trec-covid/wandb/run-20200730_145719-o868ecm1/wandb-metadata.json\n",
      "INFO:wandb.run_manager:file/dir modified: /home/faessler/work/Research/trec-covid/wandb/run-20200730_145728-o868ecm1/wandb-metadata.json\n",
      "INFO:wandb.run_manager:file/dir modified: /home/faessler/work/Research/trec-covid/wandb/run-20200730_145719-o868ecm1/wandb-metadata.json\n"
     ]
    },
    {
     "name": "stdout",
     "output_type": "stream",
     "text": [
      "\n"
     ]
    },
    {
     "data": {
      "text/html": [
       "\n",
       "                Logging results to <a href=\"https://wandb.com\" target=\"_blank\">Weights & Biases</a> <a href=\"https://docs.wandb.com/integrations/jupyter.html\" target=\"_blank\">(Documentation)</a>.<br/>\n",
       "                Project page: <a href=\"https://app.wandb.ai/khituras/TREC-Covid\" target=\"_blank\">https://app.wandb.ai/khituras/TREC-Covid</a><br/>\n",
       "                Run page: <a href=\"https://app.wandb.ai/khituras/TREC-Covid/runs/o868ecm1\" target=\"_blank\">https://app.wandb.ai/khituras/TREC-Covid/runs/o868ecm1</a><br/>\n",
       "            "
      ],
      "text/plain": [
       "<IPython.core.display.HTML object>"
      ]
     },
     "metadata": {},
     "output_type": "display_data"
    },
    {
     "name": "stderr",
     "output_type": "stream",
     "text": [
      "INFO:wandb.run_manager:system metrics and metadata threads started\n",
      "INFO:wandb.run_manager:checking resume status, waiting at most 10 seconds\n",
      "INFO:wandb.run_manager:resuming run from id: UnVuOnYxOm84NjhlY20xOlRSRUMtQ292aWQ6a2hpdHVyYXM=\n",
      "INFO:wandb.run_manager:upserting run before process can begin, waiting at most 10 seconds\n",
      "INFO:wandb.run_manager:saving pip packages\n",
      "INFO:wandb.run_manager:initializing streaming files api\n",
      "INFO:wandb.run_manager:unblocking file change observer, beginning sync with W&B servers\n",
      "INFO:wandb.run_manager:file/dir modified: /home/faessler/work/Research/trec-covid/wandb/run-20200730_145919-o868ecm1/config.yaml\n",
      "INFO:wandb.run_manager:file/dir created: /home/faessler/work/Research/trec-covid/wandb/run-20200730_145919-o868ecm1/wandb-metadata.json\n",
      "INFO:wandb.run_manager:file/dir created: /home/faessler/work/Research/trec-covid/wandb/run-20200730_145919-o868ecm1/wandb-history.jsonl\n",
      "ERROR:wandb.run_manager:Streaming file created twice in same run: /home/faessler/work/Research/trec-covid/wandb/run-20200730_145919-o868ecm1/wandb-history.jsonl\n",
      "INFO:wandb.run_manager:file/dir created: /home/faessler/work/Research/trec-covid/wandb/run-20200730_145919-o868ecm1/requirements.txt\n",
      "INFO:wandb.run_manager:file/dir created: /home/faessler/work/Research/trec-covid/wandb/run-20200730_145919-o868ecm1/wandb-events.jsonl\n",
      "ERROR:wandb.run_manager:Streaming file created twice in same run: /home/faessler/work/Research/trec-covid/wandb/run-20200730_145919-o868ecm1/wandb-events.jsonl\n",
      "INFO:wandb.run_manager:file/dir created: /home/faessler/work/Research/trec-covid/wandb/run-20200730_145919-o868ecm1/wandb-summary.json\n",
      "INFO:wandb.run_manager:file/dir created: /home/faessler/work/Research/trec-covid/wandb/run-20200730_145919-o868ecm1/media\n",
      "INFO:wandb.run_manager:file/dir created: /home/faessler/work/Research/trec-covid/wandb/run-20200730_145919-o868ecm1/media/table\n",
      "INFO:simpletransformers.classification.classification_model:{'mcc': 0.7689345177574783, 'tp': 5353, 'tn': 5269, 'fp': 736, 'fn': 652, 'accuracy': 0.8844296419650292, 'eval_loss': 0.29316976230923886}\n"
     ]
    },
    {
     "name": "stdout",
     "output_type": "stream",
     "text": [
      "wandb: Agent Finished Run: o868ecm1 \n",
      "\n"
     ]
    },
    {
     "name": "stderr",
     "output_type": "stream",
     "text": [
      "INFO:wandb.run_manager:shutting down system stats and metadata service\n",
      "INFO:wandb.run_manager:file/dir modified: /home/faessler/work/Research/trec-covid/wandb/run-20200730_145919-o868ecm1/config.yaml\n",
      "INFO:wandb.run_manager:file/dir modified: /home/faessler/work/Research/trec-covid/wandb/run-20200730_145919-o868ecm1/wandb-summary.json\n",
      "INFO:wandb.run_manager:file/dir modified: /home/faessler/work/Research/trec-covid/wandb/run-20200730_145919-o868ecm1/wandb-events.jsonl\n",
      "INFO:wandb.run_manager:file/dir modified: /home/faessler/work/Research/trec-covid/wandb/run-20200730_145919-o868ecm1/wandb-history.jsonl\n",
      "INFO:wandb.run_manager:file/dir created: /home/faessler/work/Research/trec-covid/wandb/run-20200730_145919-o868ecm1/media/table/confusion_matrix_14_475cd16c.table.json\n",
      "INFO:wandb.run_manager:file/dir created: /home/faessler/work/Research/trec-covid/wandb/run-20200730_145919-o868ecm1/media/table/pr_13_b248008a.table.json\n",
      "INFO:wandb.run_manager:file/dir created: /home/faessler/work/Research/trec-covid/wandb/run-20200730_145919-o868ecm1/media/table/roc_12_18dd1b4e.table.json\n",
      "INFO:wandb.run_manager:file/dir modified: /home/faessler/work/Research/trec-covid/wandb/run-20200730_145919-o868ecm1/media\n",
      "INFO:wandb.run_manager:file/dir modified: /home/faessler/work/Research/trec-covid/wandb/run-20200730_145919-o868ecm1/media/table\n",
      "INFO:wandb.run_manager:stopping streaming files and file change observer\n",
      "INFO:wandb.run_manager:file/dir modified: /home/faessler/work/Research/trec-covid/wandb/run-20200730_145719-o868ecm1/wandb-events.jsonl\n",
      "INFO:wandb.run_manager:file/dir modified: /home/faessler/work/Research/trec-covid/wandb/run-20200730_145919-o868ecm1/wandb-metadata.json\n",
      "INFO:wandb.run_manager:file/dir modified: /home/faessler/work/Research/trec-covid/wandb/run-20200730_145728-o868ecm1/wandb-metadata.json\n",
      "INFO:wandb.wandb_agent:Cleaning up finished run: o868ecm1\n",
      "INFO:wandb.wandb_agent:Agent received command: run\n",
      "INFO:wandb.wandb_agent:Agent starting run with config:\n",
      "\tlearning_rate: 1.2796468819642027e-06\n",
      "\tnum_train_epochs: 2\n"
     ]
    },
    {
     "name": "stdout",
     "output_type": "stream",
     "text": [
      "wandb: Agent Starting Run: e1n3z6x4 with config:\n",
      "\tlearning_rate: 1.2796468819642027e-06\n",
      "\tnum_train_epochs: 2\n",
      "wandb: Agent Started Run: e1n3z6x4\n"
     ]
    },
    {
     "data": {
      "text/html": [
       "\n",
       "                Logging results to <a href=\"https://wandb.com\" target=\"_blank\">Weights & Biases</a> <a href=\"https://docs.wandb.com/integrations/jupyter.html\" target=\"_blank\">(Documentation)</a>.<br/>\n",
       "                Project page: <a href=\"https://app.wandb.ai/khituras/TREC-Covid\" target=\"_blank\">https://app.wandb.ai/khituras/TREC-Covid</a><br/>\n",
       "                Sweep page: <a href=\"https://app.wandb.ai/khituras/TREC-Covid/sweeps/revtmojb\" target=\"_blank\">https://app.wandb.ai/khituras/TREC-Covid/sweeps/revtmojb</a><br/>\n",
       "Run page: <a href=\"https://app.wandb.ai/khituras/TREC-Covid/runs/e1n3z6x4\" target=\"_blank\">https://app.wandb.ai/khituras/TREC-Covid/runs/e1n3z6x4</a><br/>\n",
       "            "
      ],
      "text/plain": [
       "<IPython.core.display.HTML object>"
      ]
     },
     "metadata": {},
     "output_type": "display_data"
    },
    {
     "name": "stderr",
     "output_type": "stream",
     "text": [
      "INFO:wandb.run_manager:system metrics and metadata threads started\n",
      "INFO:wandb.run_manager:checking resume status, waiting at most 10 seconds\n",
      "INFO:wandb.run_manager:resuming run from id: UnVuOnYxOmUxbjN6Nng0OlRSRUMtQ292aWQ6a2hpdHVyYXM=\n",
      "INFO:wandb.run_manager:upserting run before process can begin, waiting at most 10 seconds\n",
      "INFO:wandb.run_manager:file/dir modified: /home/faessler/work/Research/trec-covid/wandb/run-20200730_145925-e1n3z6x4/config.yaml\n",
      "INFO:wandb.run_manager:saving pip packages\n",
      "INFO:wandb.run_manager:initializing streaming files api\n",
      "INFO:wandb.run_manager:unblocking file change observer, beginning sync with W&B servers\n",
      "INFO:wandb.run_manager:file/dir created: /home/faessler/work/Research/trec-covid/wandb/run-20200730_145925-e1n3z6x4/wandb-summary.json\n",
      "INFO:wandb.run_manager:file/dir created: /home/faessler/work/Research/trec-covid/wandb/run-20200730_145925-e1n3z6x4/wandb-history.jsonl\n",
      "INFO:wandb.run_manager:file/dir created: /home/faessler/work/Research/trec-covid/wandb/run-20200730_145925-e1n3z6x4/wandb-events.jsonl\n",
      "INFO:wandb.run_manager:file/dir created: /home/faessler/work/Research/trec-covid/wandb/run-20200730_145925-e1n3z6x4/wandb-metadata.json\n",
      "INFO:wandb.run_manager:file/dir created: /home/faessler/work/Research/trec-covid/wandb/run-20200730_145925-e1n3z6x4/requirements.txt\n",
      "INFO:wandb.wandb_agent:Running runs: ['e1n3z6x4']\n"
     ]
    },
    {
     "name": "stdout",
     "output_type": "stream",
     "text": [
      "Selected optimization level O1:  Insert automatic casts around Pytorch functions and Tensor methods.\n",
      "\n",
      "Defaults for this optimization level are:\n",
      "enabled                : True\n",
      "opt_level              : O1\n",
      "cast_model_type        : None\n",
      "patch_torch_functions  : True\n",
      "keep_batchnorm_fp32    : None\n",
      "master_weights         : None\n",
      "loss_scale             : dynamic\n",
      "Processing user overrides (additional kwargs that are not None)...\n",
      "After processing overrides, optimization options are:\n",
      "enabled                : True\n",
      "opt_level              : O1\n",
      "cast_model_type        : None\n",
      "patch_torch_functions  : True\n",
      "keep_batchnorm_fp32    : None\n",
      "master_weights         : None\n",
      "loss_scale             : dynamic\n"
     ]
    },
    {
     "data": {
      "application/vnd.jupyter.widget-view+json": {
       "model_id": "a56d235645ef44d9b569b14236307e06",
       "version_major": 2,
       "version_minor": 0
      },
      "text/plain": [
       "HBox(children=(FloatProgress(value=0.0, description='Epoch', max=2.0, style=ProgressStyle(description_width='i…"
      ]
     },
     "metadata": {},
     "output_type": "display_data"
    },
    {
     "data": {
      "text/html": [
       "\n",
       "                Logging results to <a href=\"https://wandb.com\" target=\"_blank\">Weights & Biases</a> <a href=\"https://docs.wandb.com/integrations/jupyter.html\" target=\"_blank\">(Documentation)</a>.<br/>\n",
       "                Project page: <a href=\"https://app.wandb.ai/khituras/TREC-Covid\" target=\"_blank\">https://app.wandb.ai/khituras/TREC-Covid</a><br/>\n",
       "                Run page: <a href=\"https://app.wandb.ai/khituras/TREC-Covid/runs/e1n3z6x4\" target=\"_blank\">https://app.wandb.ai/khituras/TREC-Covid/runs/e1n3z6x4</a><br/>\n",
       "            "
      ],
      "text/plain": [
       "<IPython.core.display.HTML object>"
      ]
     },
     "metadata": {},
     "output_type": "display_data"
    },
    {
     "name": "stderr",
     "output_type": "stream",
     "text": [
      "INFO:wandb.run_manager:system metrics and metadata threads started\n",
      "INFO:wandb.run_manager:checking resume status, waiting at most 10 seconds\n",
      "INFO:wandb.run_manager:resuming run from id: UnVuOnYxOmUxbjN6Nng0OlRSRUMtQ292aWQ6a2hpdHVyYXM=\n",
      "INFO:wandb.run_manager:upserting run before process can begin, waiting at most 10 seconds\n",
      "INFO:wandb.run_manager:saving pip packages\n",
      "INFO:wandb.run_manager:initializing streaming files api\n",
      "INFO:wandb.run_manager:unblocking file change observer, beginning sync with W&B servers\n"
     ]
    },
    {
     "data": {
      "application/vnd.jupyter.widget-view+json": {
       "model_id": "b2472f0909e74c76a7941f594da26b51",
       "version_major": 2,
       "version_minor": 0
      },
      "text/plain": [
       "HBox(children=(FloatProgress(value=0.0, description='Running Epoch 0 of 2', max=625.0, style=ProgressStyle(des…"
      ]
     },
     "metadata": {},
     "output_type": "display_data"
    },
    {
     "name": "stderr",
     "output_type": "stream",
     "text": [
      "INFO:wandb.run_manager:file/dir modified: /home/faessler/work/Research/trec-covid/wandb/run-20200730_145933-e1n3z6x4/config.yaml\n",
      "INFO:wandb.run_manager:file/dir created: /home/faessler/work/Research/trec-covid/wandb/run-20200730_145933-e1n3z6x4/wandb-summary.json\n",
      "INFO:wandb.run_manager:file/dir created: /home/faessler/work/Research/trec-covid/wandb/run-20200730_145933-e1n3z6x4/wandb-metadata.json\n",
      "INFO:wandb.run_manager:file/dir created: /home/faessler/work/Research/trec-covid/wandb/run-20200730_145933-e1n3z6x4/requirements.txt\n",
      "INFO:wandb.run_manager:file/dir created: /home/faessler/work/Research/trec-covid/wandb/run-20200730_145933-e1n3z6x4/wandb-history.jsonl\n",
      "INFO:wandb.run_manager:file/dir created: /home/faessler/work/Research/trec-covid/wandb/run-20200730_145933-e1n3z6x4/wandb-events.jsonl\n",
      "/opt/conda/lib/python3.7/site-packages/torch/optim/lr_scheduler.py:113: UserWarning: Seems like `optimizer.step()` has been overridden after learning rate scheduler initialization. Please, make sure to call `optimizer.step()` before `lr_scheduler.step()`. See more details at https://pytorch.org/docs/stable/optim.html#how-to-adjust-learning-rate\n",
      "  \"https://pytorch.org/docs/stable/optim.html#how-to-adjust-learning-rate\", UserWarning)\n",
      "INFO:wandb.run_manager:file/dir modified: /home/faessler/work/Research/trec-covid/wandb/run-20200730_145933-e1n3z6x4/wandb-summary.json\n",
      "INFO:wandb.run_manager:file/dir created: /home/faessler/work/Research/trec-covid/wandb/run-20200730_145933-e1n3z6x4/media/graph/graph_0_summary_8f8fffcf.graph.json\n",
      "INFO:wandb.run_manager:file/dir created: /home/faessler/work/Research/trec-covid/wandb/run-20200730_145933-e1n3z6x4/media/graph\n",
      "INFO:wandb.run_manager:file/dir created: /home/faessler/work/Research/trec-covid/wandb/run-20200730_145933-e1n3z6x4/media\n",
      "/opt/conda/lib/python3.7/site-packages/torch/optim/lr_scheduler.py:224: UserWarning: To get the last learning rate computed by the scheduler, please use `get_last_lr()`.\n",
      "  warnings.warn(\"To get the last learning rate computed by the scheduler, \"\n",
      "INFO:wandb.run_manager:file/dir modified: /home/faessler/work/Research/trec-covid/wandb/run-20200730_145933-e1n3z6x4/wandb-summary.json\n",
      "INFO:wandb.run_manager:file/dir modified: /home/faessler/work/Research/trec-covid/wandb/run-20200730_145933-e1n3z6x4/wandb-history.jsonl\n",
      "INFO:wandb.run_manager:file/dir modified: /home/faessler/work/Research/trec-covid/wandb/run-20200730_145925-e1n3z6x4/wandb-metadata.json\n",
      "INFO:wandb.run_manager:file/dir modified: /home/faessler/work/Research/trec-covid/wandb/run-20200730_145933-e1n3z6x4/wandb-summary.json\n",
      "INFO:wandb.run_manager:file/dir modified: /home/faessler/work/Research/trec-covid/wandb/run-20200730_145933-e1n3z6x4/wandb-history.jsonl\n",
      "INFO:wandb.run_manager:file/dir modified: /home/faessler/work/Research/trec-covid/wandb/run-20200730_145933-e1n3z6x4/wandb-metadata.json\n",
      "INFO:wandb.run_manager:file/dir modified: /home/faessler/work/Research/trec-covid/wandb/run-20200730_145933-e1n3z6x4/wandb-summary.json\n",
      "INFO:wandb.run_manager:file/dir modified: /home/faessler/work/Research/trec-covid/wandb/run-20200730_145933-e1n3z6x4/wandb-history.jsonl\n",
      "INFO:wandb.run_manager:file/dir modified: /home/faessler/work/Research/trec-covid/wandb/run-20200730_145925-e1n3z6x4/wandb-events.jsonl\n",
      "INFO:wandb.run_manager:file/dir modified: /home/faessler/work/Research/trec-covid/wandb/run-20200730_145933-e1n3z6x4/wandb-summary.json\n",
      "INFO:wandb.run_manager:file/dir modified: /home/faessler/work/Research/trec-covid/wandb/run-20200730_145933-e1n3z6x4/wandb-history.jsonl\n",
      "INFO:wandb.run_manager:file/dir modified: /home/faessler/work/Research/trec-covid/wandb/run-20200730_145925-e1n3z6x4/wandb-metadata.json\n",
      "INFO:wandb.run_manager:file/dir modified: /home/faessler/work/Research/trec-covid/wandb/run-20200730_145933-e1n3z6x4/wandb-events.jsonl\n",
      "INFO:wandb.run_manager:file/dir modified: /home/faessler/work/Research/trec-covid/wandb/run-20200730_145933-e1n3z6x4/wandb-summary.json\n",
      "INFO:wandb.run_manager:file/dir modified: /home/faessler/work/Research/trec-covid/wandb/run-20200730_145933-e1n3z6x4/wandb-history.jsonl\n",
      "INFO:wandb.run_manager:file/dir modified: /home/faessler/work/Research/trec-covid/wandb/run-20200730_145933-e1n3z6x4/wandb-metadata.json\n",
      "INFO:wandb.run_manager:file/dir modified: /home/faessler/work/Research/trec-covid/wandb/run-20200730_145933-e1n3z6x4/wandb-summary.json\n",
      "INFO:wandb.run_manager:file/dir modified: /home/faessler/work/Research/trec-covid/wandb/run-20200730_145933-e1n3z6x4/wandb-history.jsonl\n",
      "INFO:wandb.run_manager:file/dir modified: /home/faessler/work/Research/trec-covid/wandb/run-20200730_145933-e1n3z6x4/wandb-summary.json\n",
      "INFO:wandb.run_manager:file/dir modified: /home/faessler/work/Research/trec-covid/wandb/run-20200730_145933-e1n3z6x4/wandb-history.jsonl\n",
      "INFO:wandb.run_manager:file/dir modified: /home/faessler/work/Research/trec-covid/wandb/run-20200730_145925-e1n3z6x4/wandb-metadata.json\n",
      "INFO:wandb.run_manager:file/dir modified: /home/faessler/work/Research/trec-covid/wandb/run-20200730_145933-e1n3z6x4/wandb-summary.json\n",
      "INFO:wandb.run_manager:file/dir modified: /home/faessler/work/Research/trec-covid/wandb/run-20200730_145933-e1n3z6x4/wandb-history.jsonl\n",
      "INFO:wandb.run_manager:file/dir modified: /home/faessler/work/Research/trec-covid/wandb/run-20200730_145933-e1n3z6x4/wandb-metadata.json\n",
      "INFO:wandb.run_manager:file/dir modified: /home/faessler/work/Research/trec-covid/wandb/run-20200730_145925-e1n3z6x4/wandb-events.jsonl\n",
      "INFO:wandb.run_manager:file/dir modified: /home/faessler/work/Research/trec-covid/wandb/run-20200730_145933-e1n3z6x4/wandb-summary.json\n",
      "INFO:wandb.run_manager:file/dir modified: /home/faessler/work/Research/trec-covid/wandb/run-20200730_145933-e1n3z6x4/wandb-history.jsonl\n",
      "INFO:wandb.run_manager:file/dir modified: /home/faessler/work/Research/trec-covid/wandb/run-20200730_145925-e1n3z6x4/wandb-metadata.json\n",
      "INFO:wandb.run_manager:file/dir modified: /home/faessler/work/Research/trec-covid/wandb/run-20200730_145933-e1n3z6x4/wandb-summary.json\n",
      "INFO:wandb.run_manager:file/dir modified: /home/faessler/work/Research/trec-covid/wandb/run-20200730_145933-e1n3z6x4/wandb-history.jsonl\n",
      "INFO:wandb.run_manager:file/dir modified: /home/faessler/work/Research/trec-covid/wandb/run-20200730_145933-e1n3z6x4/wandb-events.jsonl\n",
      "INFO:wandb.run_manager:file/dir modified: /home/faessler/work/Research/trec-covid/wandb/run-20200730_145933-e1n3z6x4/wandb-summary.json\n",
      "INFO:wandb.run_manager:file/dir modified: /home/faessler/work/Research/trec-covid/wandb/run-20200730_145933-e1n3z6x4/wandb-history.jsonl\n",
      "INFO:wandb.run_manager:file/dir modified: /home/faessler/work/Research/trec-covid/wandb/run-20200730_145933-e1n3z6x4/wandb-metadata.json\n",
      "INFO:wandb.run_manager:file/dir modified: /home/faessler/work/Research/trec-covid/wandb/run-20200730_145933-e1n3z6x4/wandb-summary.json\n",
      "INFO:wandb.run_manager:file/dir modified: /home/faessler/work/Research/trec-covid/wandb/run-20200730_145933-e1n3z6x4/wandb-history.jsonl\n"
     ]
    },
    {
     "name": "stdout",
     "output_type": "stream",
     "text": [
      "\n"
     ]
    },
    {
     "data": {
      "application/vnd.jupyter.widget-view+json": {
       "model_id": "92fdb49afe9f49e685618a8ddbd515c4",
       "version_major": 2,
       "version_minor": 0
      },
      "text/plain": [
       "HBox(children=(FloatProgress(value=0.0, description='Running Epoch 1 of 2', max=625.0, style=ProgressStyle(des…"
      ]
     },
     "metadata": {},
     "output_type": "display_data"
    },
    {
     "name": "stderr",
     "output_type": "stream",
     "text": [
      "INFO:wandb.run_manager:file/dir modified: /home/faessler/work/Research/trec-covid/wandb/run-20200730_145925-e1n3z6x4/wandb-metadata.json\n",
      "INFO:wandb.run_manager:file/dir modified: /home/faessler/work/Research/trec-covid/wandb/run-20200730_145933-e1n3z6x4/wandb-summary.json\n",
      "INFO:wandb.run_manager:file/dir modified: /home/faessler/work/Research/trec-covid/wandb/run-20200730_145933-e1n3z6x4/wandb-history.jsonl\n",
      "INFO:wandb.run_manager:file/dir modified: /home/faessler/work/Research/trec-covid/wandb/run-20200730_145933-e1n3z6x4/wandb-summary.json\n",
      "INFO:wandb.run_manager:file/dir modified: /home/faessler/work/Research/trec-covid/wandb/run-20200730_145933-e1n3z6x4/wandb-history.jsonl\n",
      "INFO:wandb.run_manager:file/dir modified: /home/faessler/work/Research/trec-covid/wandb/run-20200730_145933-e1n3z6x4/wandb-metadata.json\n",
      "INFO:wandb.run_manager:file/dir modified: /home/faessler/work/Research/trec-covid/wandb/run-20200730_145925-e1n3z6x4/wandb-events.jsonl\n",
      "INFO:wandb.run_manager:file/dir modified: /home/faessler/work/Research/trec-covid/wandb/run-20200730_145933-e1n3z6x4/wandb-summary.json\n",
      "INFO:wandb.run_manager:file/dir modified: /home/faessler/work/Research/trec-covid/wandb/run-20200730_145933-e1n3z6x4/wandb-history.jsonl\n",
      "INFO:wandb.run_manager:file/dir modified: /home/faessler/work/Research/trec-covid/wandb/run-20200730_145933-e1n3z6x4/wandb-events.jsonl\n",
      "INFO:wandb.run_manager:file/dir modified: /home/faessler/work/Research/trec-covid/wandb/run-20200730_145925-e1n3z6x4/wandb-metadata.json\n",
      "INFO:wandb.run_manager:file/dir modified: /home/faessler/work/Research/trec-covid/wandb/run-20200730_145933-e1n3z6x4/wandb-summary.json\n",
      "INFO:wandb.run_manager:file/dir modified: /home/faessler/work/Research/trec-covid/wandb/run-20200730_145933-e1n3z6x4/wandb-history.jsonl\n",
      "INFO:wandb.run_manager:file/dir modified: /home/faessler/work/Research/trec-covid/wandb/run-20200730_145933-e1n3z6x4/wandb-metadata.json\n",
      "INFO:wandb.run_manager:file/dir modified: /home/faessler/work/Research/trec-covid/wandb/run-20200730_145933-e1n3z6x4/wandb-summary.json\n",
      "INFO:wandb.run_manager:file/dir modified: /home/faessler/work/Research/trec-covid/wandb/run-20200730_145933-e1n3z6x4/wandb-history.jsonl\n",
      "INFO:wandb.run_manager:file/dir modified: /home/faessler/work/Research/trec-covid/wandb/run-20200730_145933-e1n3z6x4/wandb-summary.json\n",
      "INFO:wandb.run_manager:file/dir modified: /home/faessler/work/Research/trec-covid/wandb/run-20200730_145933-e1n3z6x4/wandb-history.jsonl\n",
      "INFO:wandb.run_manager:file/dir modified: /home/faessler/work/Research/trec-covid/wandb/run-20200730_145925-e1n3z6x4/wandb-metadata.json\n",
      "INFO:wandb.run_manager:file/dir modified: /home/faessler/work/Research/trec-covid/wandb/run-20200730_145933-e1n3z6x4/wandb-summary.json\n",
      "INFO:wandb.run_manager:file/dir modified: /home/faessler/work/Research/trec-covid/wandb/run-20200730_145933-e1n3z6x4/wandb-history.jsonl\n",
      "INFO:wandb.run_manager:file/dir modified: /home/faessler/work/Research/trec-covid/wandb/run-20200730_145925-e1n3z6x4/wandb-events.jsonl\n",
      "INFO:wandb.run_manager:file/dir modified: /home/faessler/work/Research/trec-covid/wandb/run-20200730_145933-e1n3z6x4/wandb-metadata.json\n",
      "INFO:wandb.run_manager:file/dir modified: /home/faessler/work/Research/trec-covid/wandb/run-20200730_145933-e1n3z6x4/wandb-summary.json\n",
      "INFO:wandb.run_manager:file/dir modified: /home/faessler/work/Research/trec-covid/wandb/run-20200730_145933-e1n3z6x4/wandb-history.jsonl\n",
      "INFO:wandb.run_manager:file/dir modified: /home/faessler/work/Research/trec-covid/wandb/run-20200730_145933-e1n3z6x4/wandb-events.jsonl\n",
      "INFO:wandb.run_manager:file/dir modified: /home/faessler/work/Research/trec-covid/wandb/run-20200730_145933-e1n3z6x4/wandb-summary.json\n",
      "INFO:wandb.run_manager:file/dir modified: /home/faessler/work/Research/trec-covid/wandb/run-20200730_145933-e1n3z6x4/wandb-history.jsonl\n",
      "INFO:wandb.run_manager:file/dir modified: /home/faessler/work/Research/trec-covid/wandb/run-20200730_145925-e1n3z6x4/wandb-metadata.json\n",
      "INFO:wandb.run_manager:file/dir modified: /home/faessler/work/Research/trec-covid/wandb/run-20200730_145933-e1n3z6x4/wandb-summary.json\n",
      "INFO:wandb.run_manager:file/dir modified: /home/faessler/work/Research/trec-covid/wandb/run-20200730_145933-e1n3z6x4/wandb-history.jsonl\n",
      "INFO:wandb.run_manager:file/dir modified: /home/faessler/work/Research/trec-covid/wandb/run-20200730_145933-e1n3z6x4/wandb-metadata.json\n",
      "INFO:wandb.run_manager:file/dir modified: /home/faessler/work/Research/trec-covid/wandb/run-20200730_145933-e1n3z6x4/wandb-summary.json\n",
      "INFO:wandb.run_manager:file/dir modified: /home/faessler/work/Research/trec-covid/wandb/run-20200730_145933-e1n3z6x4/wandb-history.jsonl\n",
      "INFO:wandb.run_manager:file/dir modified: /home/faessler/work/Research/trec-covid/wandb/run-20200730_145925-e1n3z6x4/wandb-metadata.json\n",
      "INFO:wandb.run_manager:file/dir modified: /home/faessler/work/Research/trec-covid/wandb/run-20200730_145933-e1n3z6x4/wandb-summary.json\n",
      "INFO:wandb.run_manager:file/dir modified: /home/faessler/work/Research/trec-covid/wandb/run-20200730_145933-e1n3z6x4/wandb-history.jsonl\n",
      "INFO:wandb.run_manager:file/dir modified: /home/faessler/work/Research/trec-covid/wandb/run-20200730_145925-e1n3z6x4/wandb-events.jsonl\n"
     ]
    },
    {
     "name": "stdout",
     "output_type": "stream",
     "text": [
      "\n",
      "\n"
     ]
    },
    {
     "name": "stderr",
     "output_type": "stream",
     "text": [
      "INFO:simpletransformers.classification.classification_model: Training of roberta model complete. Saved to outputs/.\n"
     ]
    },
    {
     "data": {
      "application/vnd.jupyter.widget-view+json": {
       "model_id": "628710338f3342efbb69651852a8df89",
       "version_major": 2,
       "version_minor": 0
      },
      "text/plain": [
       "HBox(children=(FloatProgress(value=0.0, description='Running Evaluation', max=751.0, style=ProgressStyle(descr…"
      ]
     },
     "metadata": {},
     "output_type": "display_data"
    },
    {
     "name": "stderr",
     "output_type": "stream",
     "text": [
      "INFO:wandb.run_manager:file/dir modified: /home/faessler/work/Research/trec-covid/wandb/run-20200730_145933-e1n3z6x4/wandb-summary.json\n",
      "INFO:wandb.run_manager:file/dir modified: /home/faessler/work/Research/trec-covid/wandb/run-20200730_145933-e1n3z6x4/wandb-history.jsonl\n",
      "INFO:wandb.run_manager:file/dir modified: /home/faessler/work/Research/trec-covid/wandb/run-20200730_145933-e1n3z6x4/wandb-metadata.json\n",
      "INFO:wandb.run_manager:file/dir modified: /home/faessler/work/Research/trec-covid/wandb/run-20200730_145933-e1n3z6x4/wandb-events.jsonl\n",
      "INFO:wandb.run_manager:file/dir modified: /home/faessler/work/Research/trec-covid/wandb/run-20200730_145925-e1n3z6x4/wandb-metadata.json\n",
      "INFO:wandb.run_manager:file/dir modified: /home/faessler/work/Research/trec-covid/wandb/run-20200730_145933-e1n3z6x4/wandb-metadata.json\n",
      "INFO:wandb.run_manager:file/dir modified: /home/faessler/work/Research/trec-covid/wandb/run-20200730_145925-e1n3z6x4/wandb-metadata.json\n",
      "INFO:wandb.run_manager:file/dir modified: /home/faessler/work/Research/trec-covid/wandb/run-20200730_145925-e1n3z6x4/wandb-events.jsonl\n",
      "INFO:wandb.run_manager:file/dir modified: /home/faessler/work/Research/trec-covid/wandb/run-20200730_145933-e1n3z6x4/wandb-metadata.json\n",
      "INFO:wandb.run_manager:file/dir modified: /home/faessler/work/Research/trec-covid/wandb/run-20200730_145933-e1n3z6x4/wandb-events.jsonl\n"
     ]
    },
    {
     "name": "stdout",
     "output_type": "stream",
     "text": [
      "\n"
     ]
    },
    {
     "data": {
      "text/html": [
       "\n",
       "                Logging results to <a href=\"https://wandb.com\" target=\"_blank\">Weights & Biases</a> <a href=\"https://docs.wandb.com/integrations/jupyter.html\" target=\"_blank\">(Documentation)</a>.<br/>\n",
       "                Project page: <a href=\"https://app.wandb.ai/khituras/TREC-Covid\" target=\"_blank\">https://app.wandb.ai/khituras/TREC-Covid</a><br/>\n",
       "                Run page: <a href=\"https://app.wandb.ai/khituras/TREC-Covid/runs/e1n3z6x4\" target=\"_blank\">https://app.wandb.ai/khituras/TREC-Covid/runs/e1n3z6x4</a><br/>\n",
       "            "
      ],
      "text/plain": [
       "<IPython.core.display.HTML object>"
      ]
     },
     "metadata": {},
     "output_type": "display_data"
    },
    {
     "name": "stderr",
     "output_type": "stream",
     "text": [
      "INFO:wandb.run_manager:system metrics and metadata threads started\n",
      "INFO:wandb.run_manager:checking resume status, waiting at most 10 seconds\n",
      "INFO:wandb.run_manager:resuming run from id: UnVuOnYxOmUxbjN6Nng0OlRSRUMtQ292aWQ6a2hpdHVyYXM=\n",
      "INFO:wandb.run_manager:upserting run before process can begin, waiting at most 10 seconds\n",
      "INFO:wandb.run_manager:saving pip packages\n",
      "INFO:wandb.run_manager:initializing streaming files api\n",
      "INFO:wandb.run_manager:unblocking file change observer, beginning sync with W&B servers\n",
      "INFO:wandb.run_manager:file/dir modified: /home/faessler/work/Research/trec-covid/wandb/run-20200730_150236-e1n3z6x4/config.yaml\n",
      "INFO:wandb.run_manager:file/dir created: /home/faessler/work/Research/trec-covid/wandb/run-20200730_150236-e1n3z6x4/wandb-history.jsonl\n",
      "ERROR:wandb.run_manager:Streaming file created twice in same run: /home/faessler/work/Research/trec-covid/wandb/run-20200730_150236-e1n3z6x4/wandb-history.jsonl\n",
      "INFO:wandb.run_manager:file/dir created: /home/faessler/work/Research/trec-covid/wandb/run-20200730_150236-e1n3z6x4/wandb-metadata.json\n",
      "INFO:wandb.run_manager:file/dir created: /home/faessler/work/Research/trec-covid/wandb/run-20200730_150236-e1n3z6x4/requirements.txt\n",
      "INFO:wandb.run_manager:file/dir created: /home/faessler/work/Research/trec-covid/wandb/run-20200730_150236-e1n3z6x4/wandb-events.jsonl\n",
      "ERROR:wandb.run_manager:Streaming file created twice in same run: /home/faessler/work/Research/trec-covid/wandb/run-20200730_150236-e1n3z6x4/wandb-events.jsonl\n",
      "INFO:wandb.run_manager:file/dir created: /home/faessler/work/Research/trec-covid/wandb/run-20200730_150236-e1n3z6x4/wandb-summary.json\n",
      "INFO:simpletransformers.classification.classification_model:{'mcc': 0.21574205155228293, 'tp': 3990, 'tn': 3302, 'fp': 2703, 'fn': 2015, 'accuracy': 0.6071606994171523, 'eval_loss': 0.6825796042714074}\n"
     ]
    },
    {
     "name": "stdout",
     "output_type": "stream",
     "text": [
      "wandb: Agent Finished Run: e1n3z6x4 \n",
      "\n"
     ]
    },
    {
     "name": "stderr",
     "output_type": "stream",
     "text": [
      "INFO:wandb.run_manager:shutting down system stats and metadata service\n",
      "INFO:wandb.run_manager:file/dir modified: /home/faessler/work/Research/trec-covid/wandb/run-20200730_150236-e1n3z6x4/wandb-history.jsonl\n",
      "INFO:wandb.run_manager:file/dir modified: /home/faessler/work/Research/trec-covid/wandb/run-20200730_150236-e1n3z6x4/config.yaml\n",
      "INFO:wandb.run_manager:file/dir modified: /home/faessler/work/Research/trec-covid/wandb/run-20200730_150236-e1n3z6x4/wandb-summary.json\n",
      "INFO:wandb.run_manager:file/dir created: /home/faessler/work/Research/trec-covid/wandb/run-20200730_150236-e1n3z6x4/media/table/confusion_matrix_27_05bd93af.table.json\n",
      "INFO:wandb.run_manager:file/dir created: /home/faessler/work/Research/trec-covid/wandb/run-20200730_150236-e1n3z6x4/media/table/pr_26_63876a02.table.json\n",
      "INFO:wandb.run_manager:file/dir created: /home/faessler/work/Research/trec-covid/wandb/run-20200730_150236-e1n3z6x4/media/table/roc_25_a32349d6.table.json\n",
      "INFO:wandb.run_manager:file/dir created: /home/faessler/work/Research/trec-covid/wandb/run-20200730_150236-e1n3z6x4/media/table\n",
      "INFO:wandb.run_manager:file/dir created: /home/faessler/work/Research/trec-covid/wandb/run-20200730_150236-e1n3z6x4/media\n",
      "INFO:wandb.run_manager:stopping streaming files and file change observer\n",
      "INFO:wandb.run_manager:file/dir modified: /home/faessler/work/Research/trec-covid/wandb/run-20200730_150236-e1n3z6x4/wandb-events.jsonl\n",
      "INFO:wandb.run_manager:file/dir modified: /home/faessler/work/Research/trec-covid/wandb/run-20200730_150236-e1n3z6x4/wandb-metadata.json\n",
      "INFO:wandb.run_manager:file/dir modified: /home/faessler/work/Research/trec-covid/wandb/run-20200730_145925-e1n3z6x4/wandb-metadata.json\n",
      "INFO:wandb.wandb_agent:Cleaning up finished run: e1n3z6x4\n",
      "INFO:wandb.wandb_agent:Agent received command: run\n",
      "INFO:wandb.wandb_agent:Agent starting run with config:\n",
      "\tlearning_rate: 4.9358188084286695e-05\n",
      "\tnum_train_epochs: 1\n"
     ]
    },
    {
     "name": "stdout",
     "output_type": "stream",
     "text": [
      "wandb: Agent Starting Run: abgj80yu with config:\n",
      "\tlearning_rate: 4.9358188084286695e-05\n",
      "\tnum_train_epochs: 1\n",
      "wandb: Agent Started Run: abgj80yu\n"
     ]
    },
    {
     "data": {
      "text/html": [
       "\n",
       "                Logging results to <a href=\"https://wandb.com\" target=\"_blank\">Weights & Biases</a> <a href=\"https://docs.wandb.com/integrations/jupyter.html\" target=\"_blank\">(Documentation)</a>.<br/>\n",
       "                Project page: <a href=\"https://app.wandb.ai/khituras/TREC-Covid\" target=\"_blank\">https://app.wandb.ai/khituras/TREC-Covid</a><br/>\n",
       "                Sweep page: <a href=\"https://app.wandb.ai/khituras/TREC-Covid/sweeps/revtmojb\" target=\"_blank\">https://app.wandb.ai/khituras/TREC-Covid/sweeps/revtmojb</a><br/>\n",
       "Run page: <a href=\"https://app.wandb.ai/khituras/TREC-Covid/runs/abgj80yu\" target=\"_blank\">https://app.wandb.ai/khituras/TREC-Covid/runs/abgj80yu</a><br/>\n",
       "            "
      ],
      "text/plain": [
       "<IPython.core.display.HTML object>"
      ]
     },
     "metadata": {},
     "output_type": "display_data"
    },
    {
     "name": "stderr",
     "output_type": "stream",
     "text": [
      "INFO:wandb.run_manager:system metrics and metadata threads started\n",
      "INFO:wandb.run_manager:checking resume status, waiting at most 10 seconds\n",
      "INFO:wandb.run_manager:resuming run from id: UnVuOnYxOmFiZ2o4MHl1OlRSRUMtQ292aWQ6a2hpdHVyYXM=\n",
      "INFO:wandb.run_manager:upserting run before process can begin, waiting at most 10 seconds\n",
      "INFO:wandb.run_manager:file/dir modified: /home/faessler/work/Research/trec-covid/wandb/run-20200730_150248-abgj80yu/config.yaml\n",
      "INFO:wandb.run_manager:saving pip packages\n",
      "INFO:wandb.run_manager:initializing streaming files api\n",
      "INFO:wandb.run_manager:unblocking file change observer, beginning sync with W&B servers\n",
      "INFO:wandb.run_manager:file/dir created: /home/faessler/work/Research/trec-covid/wandb/run-20200730_150248-abgj80yu/wandb-events.jsonl\n",
      "INFO:wandb.run_manager:file/dir created: /home/faessler/work/Research/trec-covid/wandb/run-20200730_150248-abgj80yu/wandb-history.jsonl\n",
      "INFO:wandb.run_manager:file/dir created: /home/faessler/work/Research/trec-covid/wandb/run-20200730_150248-abgj80yu/wandb-metadata.json\n",
      "INFO:wandb.run_manager:file/dir created: /home/faessler/work/Research/trec-covid/wandb/run-20200730_150248-abgj80yu/wandb-summary.json\n",
      "INFO:wandb.run_manager:file/dir created: /home/faessler/work/Research/trec-covid/wandb/run-20200730_150248-abgj80yu/requirements.txt\n",
      "INFO:wandb.wandb_agent:Running runs: ['abgj80yu']\n"
     ]
    },
    {
     "name": "stdout",
     "output_type": "stream",
     "text": [
      "Selected optimization level O1:  Insert automatic casts around Pytorch functions and Tensor methods.\n",
      "\n",
      "Defaults for this optimization level are:\n",
      "enabled                : True\n",
      "opt_level              : O1\n",
      "cast_model_type        : None\n",
      "patch_torch_functions  : True\n",
      "keep_batchnorm_fp32    : None\n",
      "master_weights         : None\n",
      "loss_scale             : dynamic\n",
      "Processing user overrides (additional kwargs that are not None)...\n",
      "After processing overrides, optimization options are:\n",
      "enabled                : True\n",
      "opt_level              : O1\n",
      "cast_model_type        : None\n",
      "patch_torch_functions  : True\n",
      "keep_batchnorm_fp32    : None\n",
      "master_weights         : None\n",
      "loss_scale             : dynamic\n"
     ]
    },
    {
     "data": {
      "application/vnd.jupyter.widget-view+json": {
       "model_id": "57fda152acbf4a2985d47d9e9df1784a",
       "version_major": 2,
       "version_minor": 0
      },
      "text/plain": [
       "HBox(children=(FloatProgress(value=0.0, description='Epoch', max=1.0, style=ProgressStyle(description_width='i…"
      ]
     },
     "metadata": {},
     "output_type": "display_data"
    },
    {
     "data": {
      "text/html": [
       "\n",
       "                Logging results to <a href=\"https://wandb.com\" target=\"_blank\">Weights & Biases</a> <a href=\"https://docs.wandb.com/integrations/jupyter.html\" target=\"_blank\">(Documentation)</a>.<br/>\n",
       "                Project page: <a href=\"https://app.wandb.ai/khituras/TREC-Covid\" target=\"_blank\">https://app.wandb.ai/khituras/TREC-Covid</a><br/>\n",
       "                Run page: <a href=\"https://app.wandb.ai/khituras/TREC-Covid/runs/abgj80yu\" target=\"_blank\">https://app.wandb.ai/khituras/TREC-Covid/runs/abgj80yu</a><br/>\n",
       "            "
      ],
      "text/plain": [
       "<IPython.core.display.HTML object>"
      ]
     },
     "metadata": {},
     "output_type": "display_data"
    },
    {
     "name": "stderr",
     "output_type": "stream",
     "text": [
      "INFO:wandb.run_manager:system metrics and metadata threads started\n",
      "INFO:wandb.run_manager:checking resume status, waiting at most 10 seconds\n",
      "INFO:wandb.run_manager:resuming run from id: UnVuOnYxOmFiZ2o4MHl1OlRSRUMtQ292aWQ6a2hpdHVyYXM=\n",
      "INFO:wandb.run_manager:upserting run before process can begin, waiting at most 10 seconds\n",
      "INFO:wandb.run_manager:saving pip packages\n",
      "INFO:wandb.run_manager:initializing streaming files api\n",
      "INFO:wandb.run_manager:unblocking file change observer, beginning sync with W&B servers\n"
     ]
    },
    {
     "data": {
      "application/vnd.jupyter.widget-view+json": {
       "model_id": "c9704d2ecb114188929d2f5778201b4b",
       "version_major": 2,
       "version_minor": 0
      },
      "text/plain": [
       "HBox(children=(FloatProgress(value=0.0, description='Running Epoch 0 of 1', max=625.0, style=ProgressStyle(des…"
      ]
     },
     "metadata": {},
     "output_type": "display_data"
    },
    {
     "name": "stderr",
     "output_type": "stream",
     "text": [
      "INFO:wandb.run_manager:file/dir modified: /home/faessler/work/Research/trec-covid/wandb/run-20200730_150257-abgj80yu/config.yaml\n",
      "INFO:wandb.run_manager:file/dir created: /home/faessler/work/Research/trec-covid/wandb/run-20200730_150257-abgj80yu/wandb-events.jsonl\n",
      "INFO:wandb.run_manager:file/dir created: /home/faessler/work/Research/trec-covid/wandb/run-20200730_150257-abgj80yu/wandb-history.jsonl\n",
      "INFO:wandb.run_manager:file/dir created: /home/faessler/work/Research/trec-covid/wandb/run-20200730_150257-abgj80yu/wandb-summary.json\n",
      "INFO:wandb.run_manager:file/dir created: /home/faessler/work/Research/trec-covid/wandb/run-20200730_150257-abgj80yu/requirements.txt\n",
      "INFO:wandb.run_manager:file/dir created: /home/faessler/work/Research/trec-covid/wandb/run-20200730_150257-abgj80yu/wandb-metadata.json\n",
      "/opt/conda/lib/python3.7/site-packages/torch/optim/lr_scheduler.py:113: UserWarning: Seems like `optimizer.step()` has been overridden after learning rate scheduler initialization. Please, make sure to call `optimizer.step()` before `lr_scheduler.step()`. See more details at https://pytorch.org/docs/stable/optim.html#how-to-adjust-learning-rate\n",
      "  \"https://pytorch.org/docs/stable/optim.html#how-to-adjust-learning-rate\", UserWarning)\n",
      "INFO:wandb.run_manager:file/dir modified: /home/faessler/work/Research/trec-covid/wandb/run-20200730_150257-abgj80yu/wandb-summary.json\n",
      "INFO:wandb.run_manager:file/dir created: /home/faessler/work/Research/trec-covid/wandb/run-20200730_150257-abgj80yu/media/graph/graph_0_summary_5902998e.graph.json\n",
      "INFO:wandb.run_manager:file/dir created: /home/faessler/work/Research/trec-covid/wandb/run-20200730_150257-abgj80yu/media\n",
      "INFO:wandb.run_manager:file/dir created: /home/faessler/work/Research/trec-covid/wandb/run-20200730_150257-abgj80yu/media/graph\n",
      "/opt/conda/lib/python3.7/site-packages/torch/optim/lr_scheduler.py:224: UserWarning: To get the last learning rate computed by the scheduler, please use `get_last_lr()`.\n",
      "  warnings.warn(\"To get the last learning rate computed by the scheduler, \"\n",
      "INFO:wandb.run_manager:file/dir modified: /home/faessler/work/Research/trec-covid/wandb/run-20200730_150257-abgj80yu/wandb-summary.json\n",
      "INFO:wandb.run_manager:file/dir modified: /home/faessler/work/Research/trec-covid/wandb/run-20200730_150257-abgj80yu/wandb-history.jsonl\n",
      "INFO:wandb.run_manager:file/dir modified: /home/faessler/work/Research/trec-covid/wandb/run-20200730_150248-abgj80yu/wandb-metadata.json\n",
      "INFO:wandb.run_manager:file/dir modified: /home/faessler/work/Research/trec-covid/wandb/run-20200730_150257-abgj80yu/wandb-summary.json\n",
      "INFO:wandb.run_manager:file/dir modified: /home/faessler/work/Research/trec-covid/wandb/run-20200730_150257-abgj80yu/wandb-history.jsonl\n"
     ]
    },
    {
     "name": "stdout",
     "output_type": "stream",
     "text": [
      "Gradient overflow.  Skipping step, loss scaler 0 reducing loss scale to 32768.0\n",
      "Gradient overflow.  Skipping step, loss scaler 0 reducing loss scale to 16384.0\n"
     ]
    },
    {
     "name": "stderr",
     "output_type": "stream",
     "text": [
      "INFO:wandb.run_manager:file/dir modified: /home/faessler/work/Research/trec-covid/wandb/run-20200730_150257-abgj80yu/wandb-metadata.json\n",
      "INFO:wandb.run_manager:file/dir modified: /home/faessler/work/Research/trec-covid/wandb/run-20200730_150257-abgj80yu/wandb-summary.json\n",
      "INFO:wandb.run_manager:file/dir modified: /home/faessler/work/Research/trec-covid/wandb/run-20200730_150257-abgj80yu/wandb-history.jsonl\n"
     ]
    },
    {
     "name": "stdout",
     "output_type": "stream",
     "text": [
      "Gradient overflow.  Skipping step, loss scaler 0 reducing loss scale to 8192.0\n"
     ]
    },
    {
     "name": "stderr",
     "output_type": "stream",
     "text": [
      "INFO:wandb.run_manager:file/dir modified: /home/faessler/work/Research/trec-covid/wandb/run-20200730_150248-abgj80yu/wandb-events.jsonl\n",
      "INFO:wandb.run_manager:file/dir modified: /home/faessler/work/Research/trec-covid/wandb/run-20200730_150257-abgj80yu/wandb-summary.json\n",
      "INFO:wandb.run_manager:file/dir modified: /home/faessler/work/Research/trec-covid/wandb/run-20200730_150257-abgj80yu/wandb-history.jsonl\n",
      "INFO:wandb.run_manager:file/dir modified: /home/faessler/work/Research/trec-covid/wandb/run-20200730_150248-abgj80yu/wandb-metadata.json\n",
      "INFO:wandb.run_manager:file/dir modified: /home/faessler/work/Research/trec-covid/wandb/run-20200730_150257-abgj80yu/wandb-events.jsonl\n",
      "INFO:wandb.run_manager:file/dir modified: /home/faessler/work/Research/trec-covid/wandb/run-20200730_150257-abgj80yu/wandb-summary.json\n",
      "INFO:wandb.run_manager:file/dir modified: /home/faessler/work/Research/trec-covid/wandb/run-20200730_150257-abgj80yu/wandb-history.jsonl\n",
      "INFO:wandb.run_manager:file/dir modified: /home/faessler/work/Research/trec-covid/wandb/run-20200730_150257-abgj80yu/wandb-metadata.json\n",
      "INFO:wandb.run_manager:file/dir modified: /home/faessler/work/Research/trec-covid/wandb/run-20200730_150257-abgj80yu/wandb-summary.json\n",
      "INFO:wandb.run_manager:file/dir modified: /home/faessler/work/Research/trec-covid/wandb/run-20200730_150257-abgj80yu/wandb-history.jsonl\n",
      "INFO:wandb.run_manager:file/dir modified: /home/faessler/work/Research/trec-covid/wandb/run-20200730_150257-abgj80yu/wandb-history.jsonl\n",
      "INFO:wandb.run_manager:file/dir modified: /home/faessler/work/Research/trec-covid/wandb/run-20200730_150248-abgj80yu/wandb-metadata.json\n",
      "INFO:wandb.run_manager:file/dir modified: /home/faessler/work/Research/trec-covid/wandb/run-20200730_150257-abgj80yu/wandb-summary.json\n",
      "INFO:wandb.run_manager:file/dir modified: /home/faessler/work/Research/trec-covid/wandb/run-20200730_150257-abgj80yu/wandb-summary.json\n",
      "INFO:wandb.run_manager:file/dir modified: /home/faessler/work/Research/trec-covid/wandb/run-20200730_150257-abgj80yu/wandb-history.jsonl\n",
      "INFO:wandb.run_manager:file/dir modified: /home/faessler/work/Research/trec-covid/wandb/run-20200730_150257-abgj80yu/wandb-metadata.json\n",
      "INFO:wandb.run_manager:file/dir modified: /home/faessler/work/Research/trec-covid/wandb/run-20200730_150248-abgj80yu/wandb-events.jsonl\n",
      "INFO:wandb.run_manager:file/dir modified: /home/faessler/work/Research/trec-covid/wandb/run-20200730_150257-abgj80yu/wandb-summary.json\n",
      "INFO:wandb.run_manager:file/dir modified: /home/faessler/work/Research/trec-covid/wandb/run-20200730_150257-abgj80yu/wandb-history.jsonl\n",
      "INFO:wandb.run_manager:file/dir modified: /home/faessler/work/Research/trec-covid/wandb/run-20200730_150248-abgj80yu/wandb-metadata.json\n",
      "INFO:wandb.run_manager:file/dir modified: /home/faessler/work/Research/trec-covid/wandb/run-20200730_150257-abgj80yu/wandb-events.jsonl\n",
      "INFO:wandb.run_manager:file/dir modified: /home/faessler/work/Research/trec-covid/wandb/run-20200730_150257-abgj80yu/wandb-summary.json\n",
      "INFO:wandb.run_manager:file/dir modified: /home/faessler/work/Research/trec-covid/wandb/run-20200730_150257-abgj80yu/wandb-history.jsonl\n",
      "INFO:wandb.run_manager:file/dir modified: /home/faessler/work/Research/trec-covid/wandb/run-20200730_150257-abgj80yu/wandb-summary.json\n",
      "INFO:wandb.run_manager:file/dir modified: /home/faessler/work/Research/trec-covid/wandb/run-20200730_150257-abgj80yu/wandb-history.jsonl\n",
      "INFO:wandb.run_manager:file/dir modified: /home/faessler/work/Research/trec-covid/wandb/run-20200730_150257-abgj80yu/wandb-metadata.json\n",
      "INFO:wandb.run_manager:file/dir modified: /home/faessler/work/Research/trec-covid/wandb/run-20200730_150257-abgj80yu/wandb-summary.json\n",
      "INFO:wandb.run_manager:file/dir modified: /home/faessler/work/Research/trec-covid/wandb/run-20200730_150257-abgj80yu/wandb-history.jsonl\n"
     ]
    },
    {
     "name": "stdout",
     "output_type": "stream",
     "text": [
      "\n",
      "\n"
     ]
    },
    {
     "name": "stderr",
     "output_type": "stream",
     "text": [
      "INFO:simpletransformers.classification.classification_model: Training of roberta model complete. Saved to outputs/.\n"
     ]
    },
    {
     "data": {
      "application/vnd.jupyter.widget-view+json": {
       "model_id": "f58bc4d2ceaf45eb91f884b3d527f223",
       "version_major": 2,
       "version_minor": 0
      },
      "text/plain": [
       "HBox(children=(FloatProgress(value=0.0, description='Running Evaluation', max=751.0, style=ProgressStyle(descr…"
      ]
     },
     "metadata": {},
     "output_type": "display_data"
    },
    {
     "name": "stderr",
     "output_type": "stream",
     "text": [
      "INFO:wandb.run_manager:file/dir modified: /home/faessler/work/Research/trec-covid/wandb/run-20200730_150248-abgj80yu/wandb-metadata.json\n",
      "INFO:wandb.run_manager:file/dir modified: /home/faessler/work/Research/trec-covid/wandb/run-20200730_150257-abgj80yu/wandb-metadata.json\n",
      "INFO:wandb.run_manager:file/dir modified: /home/faessler/work/Research/trec-covid/wandb/run-20200730_150248-abgj80yu/wandb-events.jsonl\n",
      "INFO:wandb.run_manager:file/dir modified: /home/faessler/work/Research/trec-covid/wandb/run-20200730_150257-abgj80yu/wandb-events.jsonl\n",
      "INFO:wandb.run_manager:file/dir modified: /home/faessler/work/Research/trec-covid/wandb/run-20200730_150248-abgj80yu/wandb-metadata.json\n",
      "INFO:wandb.run_manager:file/dir modified: /home/faessler/work/Research/trec-covid/wandb/run-20200730_150257-abgj80yu/wandb-metadata.json\n",
      "INFO:wandb.run_manager:file/dir modified: /home/faessler/work/Research/trec-covid/wandb/run-20200730_150248-abgj80yu/wandb-metadata.json\n"
     ]
    },
    {
     "name": "stdout",
     "output_type": "stream",
     "text": [
      "\n"
     ]
    },
    {
     "data": {
      "text/html": [
       "\n",
       "                Logging results to <a href=\"https://wandb.com\" target=\"_blank\">Weights & Biases</a> <a href=\"https://docs.wandb.com/integrations/jupyter.html\" target=\"_blank\">(Documentation)</a>.<br/>\n",
       "                Project page: <a href=\"https://app.wandb.ai/khituras/TREC-Covid\" target=\"_blank\">https://app.wandb.ai/khituras/TREC-Covid</a><br/>\n",
       "                Run page: <a href=\"https://app.wandb.ai/khituras/TREC-Covid/runs/abgj80yu\" target=\"_blank\">https://app.wandb.ai/khituras/TREC-Covid/runs/abgj80yu</a><br/>\n",
       "            "
      ],
      "text/plain": [
       "<IPython.core.display.HTML object>"
      ]
     },
     "metadata": {},
     "output_type": "display_data"
    },
    {
     "name": "stderr",
     "output_type": "stream",
     "text": [
      "INFO:wandb.run_manager:system metrics and metadata threads started\n",
      "INFO:wandb.run_manager:checking resume status, waiting at most 10 seconds\n",
      "INFO:wandb.run_manager:resuming run from id: UnVuOnYxOmFiZ2o4MHl1OlRSRUMtQ292aWQ6a2hpdHVyYXM=\n",
      "INFO:wandb.run_manager:upserting run before process can begin, waiting at most 10 seconds\n",
      "INFO:wandb.run_manager:saving pip packages\n",
      "INFO:wandb.run_manager:initializing streaming files api\n",
      "INFO:wandb.run_manager:unblocking file change observer, beginning sync with W&B servers\n",
      "INFO:wandb.run_manager:file/dir modified: /home/faessler/work/Research/trec-covid/wandb/run-20200730_150447-abgj80yu/config.yaml\n",
      "INFO:wandb.run_manager:file/dir created: /home/faessler/work/Research/trec-covid/wandb/run-20200730_150447-abgj80yu/requirements.txt\n",
      "INFO:wandb.run_manager:file/dir created: /home/faessler/work/Research/trec-covid/wandb/run-20200730_150447-abgj80yu/wandb-history.jsonl\n",
      "ERROR:wandb.run_manager:Streaming file created twice in same run: /home/faessler/work/Research/trec-covid/wandb/run-20200730_150447-abgj80yu/wandb-history.jsonl\n",
      "INFO:wandb.run_manager:file/dir created: /home/faessler/work/Research/trec-covid/wandb/run-20200730_150447-abgj80yu/wandb-summary.json\n",
      "INFO:wandb.run_manager:file/dir created: /home/faessler/work/Research/trec-covid/wandb/run-20200730_150447-abgj80yu/media/table/roc_12_f5f5a7f7.table.json\n",
      "INFO:wandb.run_manager:file/dir created: /home/faessler/work/Research/trec-covid/wandb/run-20200730_150447-abgj80yu/wandb-metadata.json\n",
      "INFO:wandb.run_manager:file/dir created: /home/faessler/work/Research/trec-covid/wandb/run-20200730_150447-abgj80yu/wandb-events.jsonl\n",
      "ERROR:wandb.run_manager:Streaming file created twice in same run: /home/faessler/work/Research/trec-covid/wandb/run-20200730_150447-abgj80yu/wandb-events.jsonl\n",
      "INFO:wandb.run_manager:file/dir created: /home/faessler/work/Research/trec-covid/wandb/run-20200730_150447-abgj80yu/media/table\n",
      "INFO:wandb.run_manager:file/dir created: /home/faessler/work/Research/trec-covid/wandb/run-20200730_150447-abgj80yu/media\n",
      "INFO:simpletransformers.classification.classification_model:{'mcc': 0.765192970627139, 'tp': 5423, 'tn': 5173, 'fp': 832, 'fn': 582, 'accuracy': 0.8822647793505413, 'eval_loss': 0.2897955308235517}\n"
     ]
    },
    {
     "name": "stdout",
     "output_type": "stream",
     "text": [
      "wandb: Agent Finished Run: abgj80yu \n",
      "\n"
     ]
    },
    {
     "name": "stderr",
     "output_type": "stream",
     "text": [
      "INFO:wandb.run_manager:shutting down system stats and metadata service\n",
      "INFO:wandb.run_manager:file/dir modified: /home/faessler/work/Research/trec-covid/wandb/run-20200730_150248-abgj80yu/wandb-events.jsonl\n",
      "INFO:wandb.run_manager:file/dir modified: /home/faessler/work/Research/trec-covid/wandb/run-20200730_150447-abgj80yu/wandb-history.jsonl\n",
      "INFO:wandb.run_manager:file/dir modified: /home/faessler/work/Research/trec-covid/wandb/run-20200730_150447-abgj80yu/wandb-summary.json\n",
      "INFO:wandb.run_manager:file/dir modified: /home/faessler/work/Research/trec-covid/wandb/run-20200730_150447-abgj80yu/media/table/roc_12_f5f5a7f7.table.json\n",
      "INFO:wandb.run_manager:file/dir modified: /home/faessler/work/Research/trec-covid/wandb/run-20200730_150447-abgj80yu/wandb-events.jsonl\n",
      "INFO:wandb.run_manager:file/dir modified: /home/faessler/work/Research/trec-covid/wandb/run-20200730_150447-abgj80yu/config.yaml\n",
      "INFO:wandb.run_manager:file/dir created: /home/faessler/work/Research/trec-covid/wandb/run-20200730_150447-abgj80yu/media/table/confusion_matrix_14_1311fe3f.table.json\n",
      "INFO:wandb.run_manager:file/dir created: /home/faessler/work/Research/trec-covid/wandb/run-20200730_150447-abgj80yu/media/table/pr_13_283d898d.table.json\n",
      "INFO:wandb.run_manager:file/dir modified: /home/faessler/work/Research/trec-covid/wandb/run-20200730_150447-abgj80yu/media/table\n",
      "INFO:wandb.run_manager:stopping streaming files and file change observer\n",
      "INFO:wandb.run_manager:file/dir modified: /home/faessler/work/Research/trec-covid/wandb/run-20200730_150257-abgj80yu/wandb-metadata.json\n",
      "INFO:wandb.run_manager:file/dir modified: /home/faessler/work/Research/trec-covid/wandb/run-20200730_150447-abgj80yu/wandb-metadata.json\n",
      "INFO:wandb.wandb_agent:Cleaning up finished run: abgj80yu\n",
      "INFO:wandb.wandb_agent:Agent received command: run\n",
      "INFO:wandb.wandb_agent:Agent starting run with config:\n",
      "\tlearning_rate: 4.851378775070954e-05\n",
      "\tnum_train_epochs: 1\n"
     ]
    },
    {
     "name": "stdout",
     "output_type": "stream",
     "text": [
      "wandb: Agent Starting Run: twsdumg2 with config:\n",
      "\tlearning_rate: 4.851378775070954e-05\n",
      "\tnum_train_epochs: 1\n",
      "wandb: Agent Started Run: twsdumg2\n"
     ]
    },
    {
     "data": {
      "text/html": [
       "\n",
       "                Logging results to <a href=\"https://wandb.com\" target=\"_blank\">Weights & Biases</a> <a href=\"https://docs.wandb.com/integrations/jupyter.html\" target=\"_blank\">(Documentation)</a>.<br/>\n",
       "                Project page: <a href=\"https://app.wandb.ai/khituras/TREC-Covid\" target=\"_blank\">https://app.wandb.ai/khituras/TREC-Covid</a><br/>\n",
       "                Sweep page: <a href=\"https://app.wandb.ai/khituras/TREC-Covid/sweeps/revtmojb\" target=\"_blank\">https://app.wandb.ai/khituras/TREC-Covid/sweeps/revtmojb</a><br/>\n",
       "Run page: <a href=\"https://app.wandb.ai/khituras/TREC-Covid/runs/twsdumg2\" target=\"_blank\">https://app.wandb.ai/khituras/TREC-Covid/runs/twsdumg2</a><br/>\n",
       "            "
      ],
      "text/plain": [
       "<IPython.core.display.HTML object>"
      ]
     },
     "metadata": {},
     "output_type": "display_data"
    },
    {
     "name": "stderr",
     "output_type": "stream",
     "text": [
      "INFO:wandb.run_manager:system metrics and metadata threads started\n",
      "INFO:wandb.run_manager:checking resume status, waiting at most 10 seconds\n",
      "INFO:wandb.run_manager:resuming run from id: UnVuOnYxOnR3c2R1bWcyOlRSRUMtQ292aWQ6a2hpdHVyYXM=\n",
      "INFO:wandb.run_manager:upserting run before process can begin, waiting at most 10 seconds\n",
      "INFO:wandb.run_manager:file/dir modified: /home/faessler/work/Research/trec-covid/wandb/run-20200730_150454-twsdumg2/config.yaml\n",
      "INFO:wandb.run_manager:saving pip packages\n",
      "INFO:wandb.run_manager:initializing streaming files api\n",
      "INFO:wandb.run_manager:unblocking file change observer, beginning sync with W&B servers\n",
      "INFO:wandb.run_manager:file/dir created: /home/faessler/work/Research/trec-covid/wandb/run-20200730_150454-twsdumg2/wandb-history.jsonl\n",
      "INFO:wandb.run_manager:file/dir created: /home/faessler/work/Research/trec-covid/wandb/run-20200730_150454-twsdumg2/wandb-metadata.json\n",
      "INFO:wandb.run_manager:file/dir created: /home/faessler/work/Research/trec-covid/wandb/run-20200730_150454-twsdumg2/wandb-summary.json\n",
      "INFO:wandb.run_manager:file/dir created: /home/faessler/work/Research/trec-covid/wandb/run-20200730_150454-twsdumg2/wandb-events.jsonl\n",
      "INFO:wandb.run_manager:file/dir created: /home/faessler/work/Research/trec-covid/wandb/run-20200730_150454-twsdumg2/requirements.txt\n",
      "INFO:wandb.wandb_agent:Running runs: ['twsdumg2']\n"
     ]
    },
    {
     "name": "stdout",
     "output_type": "stream",
     "text": [
      "Selected optimization level O1:  Insert automatic casts around Pytorch functions and Tensor methods.\n",
      "\n",
      "Defaults for this optimization level are:\n",
      "enabled                : True\n",
      "opt_level              : O1\n",
      "cast_model_type        : None\n",
      "patch_torch_functions  : True\n",
      "keep_batchnorm_fp32    : None\n",
      "master_weights         : None\n",
      "loss_scale             : dynamic\n",
      "Processing user overrides (additional kwargs that are not None)...\n",
      "After processing overrides, optimization options are:\n",
      "enabled                : True\n",
      "opt_level              : O1\n",
      "cast_model_type        : None\n",
      "patch_torch_functions  : True\n",
      "keep_batchnorm_fp32    : None\n",
      "master_weights         : None\n",
      "loss_scale             : dynamic\n"
     ]
    },
    {
     "data": {
      "application/vnd.jupyter.widget-view+json": {
       "model_id": "cb9febd95ac94d68b4dea4e25c30d391",
       "version_major": 2,
       "version_minor": 0
      },
      "text/plain": [
       "HBox(children=(FloatProgress(value=0.0, description='Epoch', max=1.0, style=ProgressStyle(description_width='i…"
      ]
     },
     "metadata": {},
     "output_type": "display_data"
    },
    {
     "data": {
      "text/html": [
       "\n",
       "                Logging results to <a href=\"https://wandb.com\" target=\"_blank\">Weights & Biases</a> <a href=\"https://docs.wandb.com/integrations/jupyter.html\" target=\"_blank\">(Documentation)</a>.<br/>\n",
       "                Project page: <a href=\"https://app.wandb.ai/khituras/TREC-Covid\" target=\"_blank\">https://app.wandb.ai/khituras/TREC-Covid</a><br/>\n",
       "                Run page: <a href=\"https://app.wandb.ai/khituras/TREC-Covid/runs/twsdumg2\" target=\"_blank\">https://app.wandb.ai/khituras/TREC-Covid/runs/twsdumg2</a><br/>\n",
       "            "
      ],
      "text/plain": [
       "<IPython.core.display.HTML object>"
      ]
     },
     "metadata": {},
     "output_type": "display_data"
    },
    {
     "name": "stderr",
     "output_type": "stream",
     "text": [
      "INFO:wandb.run_manager:system metrics and metadata threads started\n",
      "INFO:wandb.run_manager:checking resume status, waiting at most 10 seconds\n",
      "INFO:wandb.run_manager:resuming run from id: UnVuOnYxOnR3c2R1bWcyOlRSRUMtQ292aWQ6a2hpdHVyYXM=\n",
      "INFO:wandb.run_manager:upserting run before process can begin, waiting at most 10 seconds\n",
      "INFO:wandb.run_manager:saving pip packages\n",
      "INFO:wandb.run_manager:initializing streaming files api\n",
      "INFO:wandb.run_manager:unblocking file change observer, beginning sync with W&B servers\n"
     ]
    },
    {
     "data": {
      "application/vnd.jupyter.widget-view+json": {
       "model_id": "5ace8749c66b453ca6fc1acb4344df3f",
       "version_major": 2,
       "version_minor": 0
      },
      "text/plain": [
       "HBox(children=(FloatProgress(value=0.0, description='Running Epoch 0 of 1', max=625.0, style=ProgressStyle(des…"
      ]
     },
     "metadata": {},
     "output_type": "display_data"
    },
    {
     "name": "stderr",
     "output_type": "stream",
     "text": [
      "INFO:wandb.run_manager:file/dir modified: /home/faessler/work/Research/trec-covid/wandb/run-20200730_150503-twsdumg2/config.yaml\n",
      "INFO:wandb.run_manager:file/dir created: /home/faessler/work/Research/trec-covid/wandb/run-20200730_150503-twsdumg2/wandb-history.jsonl\n",
      "INFO:wandb.run_manager:file/dir created: /home/faessler/work/Research/trec-covid/wandb/run-20200730_150503-twsdumg2/wandb-metadata.json\n",
      "INFO:wandb.run_manager:file/dir created: /home/faessler/work/Research/trec-covid/wandb/run-20200730_150503-twsdumg2/requirements.txt\n",
      "INFO:wandb.run_manager:file/dir created: /home/faessler/work/Research/trec-covid/wandb/run-20200730_150503-twsdumg2/wandb-events.jsonl\n",
      "INFO:wandb.run_manager:file/dir created: /home/faessler/work/Research/trec-covid/wandb/run-20200730_150503-twsdumg2/wandb-summary.json\n",
      "/opt/conda/lib/python3.7/site-packages/torch/optim/lr_scheduler.py:113: UserWarning: Seems like `optimizer.step()` has been overridden after learning rate scheduler initialization. Please, make sure to call `optimizer.step()` before `lr_scheduler.step()`. See more details at https://pytorch.org/docs/stable/optim.html#how-to-adjust-learning-rate\n",
      "  \"https://pytorch.org/docs/stable/optim.html#how-to-adjust-learning-rate\", UserWarning)\n",
      "INFO:wandb.run_manager:file/dir modified: /home/faessler/work/Research/trec-covid/wandb/run-20200730_150503-twsdumg2/wandb-summary.json\n",
      "INFO:wandb.run_manager:file/dir created: /home/faessler/work/Research/trec-covid/wandb/run-20200730_150503-twsdumg2/media/graph/graph_0_summary_fecf8857.graph.json\n",
      "INFO:wandb.run_manager:file/dir created: /home/faessler/work/Research/trec-covid/wandb/run-20200730_150503-twsdumg2/media/graph\n",
      "INFO:wandb.run_manager:file/dir created: /home/faessler/work/Research/trec-covid/wandb/run-20200730_150503-twsdumg2/media\n",
      "/opt/conda/lib/python3.7/site-packages/torch/optim/lr_scheduler.py:224: UserWarning: To get the last learning rate computed by the scheduler, please use `get_last_lr()`.\n",
      "  warnings.warn(\"To get the last learning rate computed by the scheduler, \"\n",
      "INFO:wandb.run_manager:file/dir modified: /home/faessler/work/Research/trec-covid/wandb/run-20200730_150503-twsdumg2/wandb-summary.json\n",
      "INFO:wandb.run_manager:file/dir modified: /home/faessler/work/Research/trec-covid/wandb/run-20200730_150503-twsdumg2/wandb-history.jsonl\n",
      "INFO:wandb.run_manager:file/dir modified: /home/faessler/work/Research/trec-covid/wandb/run-20200730_150454-twsdumg2/wandb-metadata.json\n",
      "INFO:wandb.run_manager:file/dir modified: /home/faessler/work/Research/trec-covid/wandb/run-20200730_150503-twsdumg2/wandb-summary.json\n",
      "INFO:wandb.run_manager:file/dir modified: /home/faessler/work/Research/trec-covid/wandb/run-20200730_150503-twsdumg2/wandb-history.jsonl\n"
     ]
    },
    {
     "name": "stdout",
     "output_type": "stream",
     "text": [
      "Gradient overflow.  Skipping step, loss scaler 0 reducing loss scale to 32768.0\n"
     ]
    },
    {
     "name": "stderr",
     "output_type": "stream",
     "text": [
      "INFO:wandb.run_manager:file/dir modified: /home/faessler/work/Research/trec-covid/wandb/run-20200730_150503-twsdumg2/wandb-metadata.json\n",
      "INFO:wandb.run_manager:file/dir modified: /home/faessler/work/Research/trec-covid/wandb/run-20200730_150503-twsdumg2/wandb-summary.json\n",
      "INFO:wandb.run_manager:file/dir modified: /home/faessler/work/Research/trec-covid/wandb/run-20200730_150503-twsdumg2/wandb-history.jsonl\n"
     ]
    },
    {
     "name": "stdout",
     "output_type": "stream",
     "text": [
      "Gradient overflow.  Skipping step, loss scaler 0 reducing loss scale to 16384.0\n"
     ]
    },
    {
     "name": "stderr",
     "output_type": "stream",
     "text": [
      "INFO:wandb.run_manager:file/dir modified: /home/faessler/work/Research/trec-covid/wandb/run-20200730_150454-twsdumg2/wandb-events.jsonl\n",
      "INFO:wandb.run_manager:file/dir modified: /home/faessler/work/Research/trec-covid/wandb/run-20200730_150503-twsdumg2/wandb-summary.json\n",
      "INFO:wandb.run_manager:file/dir modified: /home/faessler/work/Research/trec-covid/wandb/run-20200730_150503-twsdumg2/wandb-history.jsonl\n",
      "INFO:wandb.run_manager:file/dir modified: /home/faessler/work/Research/trec-covid/wandb/run-20200730_150454-twsdumg2/wandb-metadata.json\n",
      "INFO:wandb.run_manager:file/dir modified: /home/faessler/work/Research/trec-covid/wandb/run-20200730_150503-twsdumg2/wandb-events.jsonl\n",
      "INFO:wandb.run_manager:file/dir modified: /home/faessler/work/Research/trec-covid/wandb/run-20200730_150503-twsdumg2/wandb-summary.json\n",
      "INFO:wandb.run_manager:file/dir modified: /home/faessler/work/Research/trec-covid/wandb/run-20200730_150503-twsdumg2/wandb-history.jsonl\n",
      "INFO:wandb.run_manager:file/dir modified: /home/faessler/work/Research/trec-covid/wandb/run-20200730_150503-twsdumg2/wandb-metadata.json\n"
     ]
    },
    {
     "name": "stdout",
     "output_type": "stream",
     "text": [
      "Gradient overflow.  Skipping step, loss scaler 0 reducing loss scale to 8192.0\n"
     ]
    },
    {
     "name": "stderr",
     "output_type": "stream",
     "text": [
      "INFO:wandb.run_manager:file/dir modified: /home/faessler/work/Research/trec-covid/wandb/run-20200730_150503-twsdumg2/wandb-summary.json\n",
      "INFO:wandb.run_manager:file/dir modified: /home/faessler/work/Research/trec-covid/wandb/run-20200730_150503-twsdumg2/wandb-history.jsonl\n",
      "INFO:wandb.run_manager:file/dir modified: /home/faessler/work/Research/trec-covid/wandb/run-20200730_150503-twsdumg2/wandb-summary.json\n",
      "INFO:wandb.run_manager:file/dir modified: /home/faessler/work/Research/trec-covid/wandb/run-20200730_150503-twsdumg2/wandb-history.jsonl\n",
      "INFO:wandb.run_manager:file/dir modified: /home/faessler/work/Research/trec-covid/wandb/run-20200730_150454-twsdumg2/wandb-metadata.json\n",
      "INFO:wandb.run_manager:file/dir modified: /home/faessler/work/Research/trec-covid/wandb/run-20200730_150503-twsdumg2/wandb-summary.json\n",
      "INFO:wandb.run_manager:file/dir modified: /home/faessler/work/Research/trec-covid/wandb/run-20200730_150503-twsdumg2/wandb-history.jsonl\n",
      "INFO:wandb.run_manager:file/dir modified: /home/faessler/work/Research/trec-covid/wandb/run-20200730_150503-twsdumg2/wandb-metadata.json\n",
      "INFO:wandb.run_manager:file/dir modified: /home/faessler/work/Research/trec-covid/wandb/run-20200730_150454-twsdumg2/wandb-events.jsonl\n",
      "INFO:wandb.run_manager:file/dir modified: /home/faessler/work/Research/trec-covid/wandb/run-20200730_150503-twsdumg2/wandb-summary.json\n",
      "INFO:wandb.run_manager:file/dir modified: /home/faessler/work/Research/trec-covid/wandb/run-20200730_150503-twsdumg2/wandb-history.jsonl\n",
      "INFO:wandb.run_manager:file/dir modified: /home/faessler/work/Research/trec-covid/wandb/run-20200730_150454-twsdumg2/wandb-metadata.json\n",
      "INFO:wandb.run_manager:file/dir modified: /home/faessler/work/Research/trec-covid/wandb/run-20200730_150503-twsdumg2/wandb-summary.json\n",
      "INFO:wandb.run_manager:file/dir modified: /home/faessler/work/Research/trec-covid/wandb/run-20200730_150503-twsdumg2/wandb-events.jsonl\n",
      "INFO:wandb.run_manager:file/dir modified: /home/faessler/work/Research/trec-covid/wandb/run-20200730_150503-twsdumg2/wandb-history.jsonl\n",
      "INFO:wandb.run_manager:file/dir modified: /home/faessler/work/Research/trec-covid/wandb/run-20200730_150503-twsdumg2/wandb-summary.json\n",
      "INFO:wandb.run_manager:file/dir modified: /home/faessler/work/Research/trec-covid/wandb/run-20200730_150503-twsdumg2/wandb-history.jsonl\n",
      "INFO:wandb.run_manager:file/dir modified: /home/faessler/work/Research/trec-covid/wandb/run-20200730_150503-twsdumg2/wandb-metadata.json\n",
      "INFO:wandb.run_manager:file/dir modified: /home/faessler/work/Research/trec-covid/wandb/run-20200730_150503-twsdumg2/wandb-summary.json\n",
      "INFO:wandb.run_manager:file/dir modified: /home/faessler/work/Research/trec-covid/wandb/run-20200730_150503-twsdumg2/wandb-history.jsonl\n"
     ]
    },
    {
     "name": "stdout",
     "output_type": "stream",
     "text": [
      "\n",
      "\n"
     ]
    },
    {
     "name": "stderr",
     "output_type": "stream",
     "text": [
      "INFO:simpletransformers.classification.classification_model: Training of roberta model complete. Saved to outputs/.\n"
     ]
    },
    {
     "data": {
      "application/vnd.jupyter.widget-view+json": {
       "model_id": "b2460c0b6c924a86a76c9ff7efbaaf35",
       "version_major": 2,
       "version_minor": 0
      },
      "text/plain": [
       "HBox(children=(FloatProgress(value=0.0, description='Running Evaluation', max=751.0, style=ProgressStyle(descr…"
      ]
     },
     "metadata": {},
     "output_type": "display_data"
    },
    {
     "name": "stderr",
     "output_type": "stream",
     "text": [
      "INFO:wandb.run_manager:file/dir modified: /home/faessler/work/Research/trec-covid/wandb/run-20200730_150454-twsdumg2/wandb-metadata.json\n",
      "INFO:wandb.run_manager:file/dir modified: /home/faessler/work/Research/trec-covid/wandb/run-20200730_150503-twsdumg2/wandb-metadata.json\n",
      "INFO:wandb.run_manager:file/dir modified: /home/faessler/work/Research/trec-covid/wandb/run-20200730_150454-twsdumg2/wandb-events.jsonl\n",
      "INFO:wandb.run_manager:file/dir modified: /home/faessler/work/Research/trec-covid/wandb/run-20200730_150503-twsdumg2/wandb-events.jsonl\n",
      "INFO:wandb.run_manager:file/dir modified: /home/faessler/work/Research/trec-covid/wandb/run-20200730_150454-twsdumg2/wandb-metadata.json\n",
      "INFO:wandb.run_manager:file/dir modified: /home/faessler/work/Research/trec-covid/wandb/run-20200730_150503-twsdumg2/wandb-metadata.json\n",
      "INFO:wandb.run_manager:file/dir modified: /home/faessler/work/Research/trec-covid/wandb/run-20200730_150454-twsdumg2/wandb-metadata.json\n"
     ]
    },
    {
     "name": "stdout",
     "output_type": "stream",
     "text": [
      "\n"
     ]
    },
    {
     "data": {
      "text/html": [
       "\n",
       "                Logging results to <a href=\"https://wandb.com\" target=\"_blank\">Weights & Biases</a> <a href=\"https://docs.wandb.com/integrations/jupyter.html\" target=\"_blank\">(Documentation)</a>.<br/>\n",
       "                Project page: <a href=\"https://app.wandb.ai/khituras/TREC-Covid\" target=\"_blank\">https://app.wandb.ai/khituras/TREC-Covid</a><br/>\n",
       "                Run page: <a href=\"https://app.wandb.ai/khituras/TREC-Covid/runs/twsdumg2\" target=\"_blank\">https://app.wandb.ai/khituras/TREC-Covid/runs/twsdumg2</a><br/>\n",
       "            "
      ],
      "text/plain": [
       "<IPython.core.display.HTML object>"
      ]
     },
     "metadata": {},
     "output_type": "display_data"
    },
    {
     "name": "stderr",
     "output_type": "stream",
     "text": [
      "INFO:wandb.run_manager:system metrics and metadata threads started\n",
      "INFO:wandb.run_manager:checking resume status, waiting at most 10 seconds\n",
      "INFO:wandb.run_manager:resuming run from id: UnVuOnYxOnR3c2R1bWcyOlRSRUMtQ292aWQ6a2hpdHVyYXM=\n",
      "INFO:wandb.run_manager:upserting run before process can begin, waiting at most 10 seconds\n",
      "INFO:wandb.run_manager:saving pip packages\n",
      "INFO:wandb.run_manager:initializing streaming files api\n",
      "INFO:wandb.run_manager:unblocking file change observer, beginning sync with W&B servers\n",
      "INFO:wandb.run_manager:file/dir modified: /home/faessler/work/Research/trec-covid/wandb/run-20200730_150653-twsdumg2/config.yaml\n",
      "INFO:wandb.run_manager:file/dir created: /home/faessler/work/Research/trec-covid/wandb/run-20200730_150653-twsdumg2/wandb-summary.json\n",
      "INFO:wandb.run_manager:file/dir created: /home/faessler/work/Research/trec-covid/wandb/run-20200730_150653-twsdumg2/wandb-metadata.json\n",
      "INFO:wandb.run_manager:file/dir created: /home/faessler/work/Research/trec-covid/wandb/run-20200730_150653-twsdumg2/requirements.txt\n",
      "INFO:wandb.run_manager:file/dir created: /home/faessler/work/Research/trec-covid/wandb/run-20200730_150653-twsdumg2/wandb-history.jsonl\n",
      "ERROR:wandb.run_manager:Streaming file created twice in same run: /home/faessler/work/Research/trec-covid/wandb/run-20200730_150653-twsdumg2/wandb-history.jsonl\n",
      "INFO:wandb.run_manager:file/dir created: /home/faessler/work/Research/trec-covid/wandb/run-20200730_150653-twsdumg2/wandb-events.jsonl\n",
      "ERROR:wandb.run_manager:Streaming file created twice in same run: /home/faessler/work/Research/trec-covid/wandb/run-20200730_150653-twsdumg2/wandb-events.jsonl\n",
      "INFO:wandb.run_manager:file/dir created: /home/faessler/work/Research/trec-covid/wandb/run-20200730_150653-twsdumg2/media\n",
      "INFO:wandb.run_manager:file/dir created: /home/faessler/work/Research/trec-covid/wandb/run-20200730_150653-twsdumg2/media/table\n",
      "INFO:simpletransformers.classification.classification_model:{'mcc': 0.7698075721574351, 'tp': 5415, 'tn': 5210, 'fp': 795, 'fn': 590, 'accuracy': 0.8846794338051623, 'eval_loss': 0.2881596650625672}\n"
     ]
    },
    {
     "name": "stdout",
     "output_type": "stream",
     "text": [
      "wandb: Agent Finished Run: twsdumg2 \n",
      "\n"
     ]
    },
    {
     "name": "stderr",
     "output_type": "stream",
     "text": [
      "INFO:wandb.run_manager:shutting down system stats and metadata service\n",
      "INFO:wandb.run_manager:file/dir modified: /home/faessler/work/Research/trec-covid/wandb/run-20200730_150653-twsdumg2/wandb-summary.json\n",
      "INFO:wandb.run_manager:file/dir modified: /home/faessler/work/Research/trec-covid/wandb/run-20200730_150653-twsdumg2/wandb-history.jsonl\n",
      "INFO:wandb.run_manager:file/dir modified: /home/faessler/work/Research/trec-covid/wandb/run-20200730_150653-twsdumg2/wandb-events.jsonl\n",
      "INFO:wandb.run_manager:file/dir modified: /home/faessler/work/Research/trec-covid/wandb/run-20200730_150653-twsdumg2/config.yaml\n",
      "INFO:wandb.run_manager:file/dir created: /home/faessler/work/Research/trec-covid/wandb/run-20200730_150653-twsdumg2/media/table/pr_13_4744205d.table.json\n",
      "INFO:wandb.run_manager:file/dir created: /home/faessler/work/Research/trec-covid/wandb/run-20200730_150653-twsdumg2/media/table/confusion_matrix_14_a79426b8.table.json\n",
      "INFO:wandb.run_manager:file/dir created: /home/faessler/work/Research/trec-covid/wandb/run-20200730_150653-twsdumg2/media/table/roc_12_6f346be0.table.json\n",
      "INFO:wandb.run_manager:file/dir modified: /home/faessler/work/Research/trec-covid/wandb/run-20200730_150653-twsdumg2/media\n",
      "INFO:wandb.run_manager:file/dir modified: /home/faessler/work/Research/trec-covid/wandb/run-20200730_150653-twsdumg2/media/table\n",
      "INFO:wandb.run_manager:file/dir modified: /home/faessler/work/Research/trec-covid/wandb/run-20200730_150454-twsdumg2/wandb-events.jsonl\n",
      "INFO:wandb.run_manager:stopping streaming files and file change observer\n",
      "INFO:wandb.run_manager:file/dir modified: /home/faessler/work/Research/trec-covid/wandb/run-20200730_150503-twsdumg2/wandb-metadata.json\n",
      "INFO:wandb.run_manager:file/dir modified: /home/faessler/work/Research/trec-covid/wandb/run-20200730_150653-twsdumg2/wandb-metadata.json\n",
      "INFO:wandb.wandb_agent:Cleaning up finished run: twsdumg2\n",
      "INFO:wandb.wandb_agent:Agent received command: run\n",
      "INFO:wandb.wandb_agent:Agent starting run with config:\n",
      "\tlearning_rate: 1.8990188272793642e-05\n",
      "\tnum_train_epochs: 1\n"
     ]
    },
    {
     "name": "stdout",
     "output_type": "stream",
     "text": [
      "wandb: Agent Starting Run: clc5olsd with config:\n",
      "\tlearning_rate: 1.8990188272793642e-05\n",
      "\tnum_train_epochs: 1\n",
      "wandb: Agent Started Run: clc5olsd\n"
     ]
    },
    {
     "data": {
      "text/html": [
       "\n",
       "                Logging results to <a href=\"https://wandb.com\" target=\"_blank\">Weights & Biases</a> <a href=\"https://docs.wandb.com/integrations/jupyter.html\" target=\"_blank\">(Documentation)</a>.<br/>\n",
       "                Project page: <a href=\"https://app.wandb.ai/khituras/TREC-Covid\" target=\"_blank\">https://app.wandb.ai/khituras/TREC-Covid</a><br/>\n",
       "                Sweep page: <a href=\"https://app.wandb.ai/khituras/TREC-Covid/sweeps/revtmojb\" target=\"_blank\">https://app.wandb.ai/khituras/TREC-Covid/sweeps/revtmojb</a><br/>\n",
       "Run page: <a href=\"https://app.wandb.ai/khituras/TREC-Covid/runs/clc5olsd\" target=\"_blank\">https://app.wandb.ai/khituras/TREC-Covid/runs/clc5olsd</a><br/>\n",
       "            "
      ],
      "text/plain": [
       "<IPython.core.display.HTML object>"
      ]
     },
     "metadata": {},
     "output_type": "display_data"
    },
    {
     "name": "stderr",
     "output_type": "stream",
     "text": [
      "INFO:wandb.run_manager:system metrics and metadata threads started\n",
      "INFO:wandb.run_manager:checking resume status, waiting at most 10 seconds\n",
      "INFO:wandb.run_manager:resuming run from id: UnVuOnYxOmNsYzVvbHNkOlRSRUMtQ292aWQ6a2hpdHVyYXM=\n",
      "INFO:wandb.run_manager:upserting run before process can begin, waiting at most 10 seconds\n",
      "INFO:wandb.run_manager:file/dir modified: /home/faessler/work/Research/trec-covid/wandb/run-20200730_150704-clc5olsd/config.yaml\n",
      "INFO:wandb.run_manager:saving pip packages\n",
      "INFO:wandb.run_manager:initializing streaming files api\n",
      "INFO:wandb.run_manager:unblocking file change observer, beginning sync with W&B servers\n",
      "INFO:wandb.run_manager:file/dir created: /home/faessler/work/Research/trec-covid/wandb/run-20200730_150704-clc5olsd/wandb-summary.json\n",
      "INFO:wandb.run_manager:file/dir created: /home/faessler/work/Research/trec-covid/wandb/run-20200730_150704-clc5olsd/wandb-metadata.json\n",
      "INFO:wandb.run_manager:file/dir created: /home/faessler/work/Research/trec-covid/wandb/run-20200730_150704-clc5olsd/wandb-events.jsonl\n",
      "INFO:wandb.run_manager:file/dir created: /home/faessler/work/Research/trec-covid/wandb/run-20200730_150704-clc5olsd/wandb-history.jsonl\n",
      "INFO:wandb.run_manager:file/dir created: /home/faessler/work/Research/trec-covid/wandb/run-20200730_150704-clc5olsd/requirements.txt\n",
      "INFO:wandb.wandb_agent:Running runs: ['clc5olsd']\n"
     ]
    },
    {
     "name": "stdout",
     "output_type": "stream",
     "text": [
      "Selected optimization level O1:  Insert automatic casts around Pytorch functions and Tensor methods.\n",
      "\n",
      "Defaults for this optimization level are:\n",
      "enabled                : True\n",
      "opt_level              : O1\n",
      "cast_model_type        : None\n",
      "patch_torch_functions  : True\n",
      "keep_batchnorm_fp32    : None\n",
      "master_weights         : None\n",
      "loss_scale             : dynamic\n",
      "Processing user overrides (additional kwargs that are not None)...\n",
      "After processing overrides, optimization options are:\n",
      "enabled                : True\n",
      "opt_level              : O1\n",
      "cast_model_type        : None\n",
      "patch_torch_functions  : True\n",
      "keep_batchnorm_fp32    : None\n",
      "master_weights         : None\n",
      "loss_scale             : dynamic\n"
     ]
    },
    {
     "data": {
      "application/vnd.jupyter.widget-view+json": {
       "model_id": "4f13e29c90fd4e7984b3724a5c5fab7b",
       "version_major": 2,
       "version_minor": 0
      },
      "text/plain": [
       "HBox(children=(FloatProgress(value=0.0, description='Epoch', max=1.0, style=ProgressStyle(description_width='i…"
      ]
     },
     "metadata": {},
     "output_type": "display_data"
    },
    {
     "data": {
      "text/html": [
       "\n",
       "                Logging results to <a href=\"https://wandb.com\" target=\"_blank\">Weights & Biases</a> <a href=\"https://docs.wandb.com/integrations/jupyter.html\" target=\"_blank\">(Documentation)</a>.<br/>\n",
       "                Project page: <a href=\"https://app.wandb.ai/khituras/TREC-Covid\" target=\"_blank\">https://app.wandb.ai/khituras/TREC-Covid</a><br/>\n",
       "                Run page: <a href=\"https://app.wandb.ai/khituras/TREC-Covid/runs/clc5olsd\" target=\"_blank\">https://app.wandb.ai/khituras/TREC-Covid/runs/clc5olsd</a><br/>\n",
       "            "
      ],
      "text/plain": [
       "<IPython.core.display.HTML object>"
      ]
     },
     "metadata": {},
     "output_type": "display_data"
    },
    {
     "name": "stderr",
     "output_type": "stream",
     "text": [
      "INFO:wandb.run_manager:system metrics and metadata threads started\n",
      "INFO:wandb.run_manager:checking resume status, waiting at most 10 seconds\n",
      "INFO:wandb.run_manager:resuming run from id: UnVuOnYxOmNsYzVvbHNkOlRSRUMtQ292aWQ6a2hpdHVyYXM=\n",
      "INFO:wandb.run_manager:upserting run before process can begin, waiting at most 10 seconds\n",
      "INFO:wandb.run_manager:saving pip packages\n",
      "INFO:wandb.run_manager:initializing streaming files api\n",
      "INFO:wandb.run_manager:unblocking file change observer, beginning sync with W&B servers\n"
     ]
    },
    {
     "data": {
      "application/vnd.jupyter.widget-view+json": {
       "model_id": "cac0b1119a0d410282a5ad7c581eb957",
       "version_major": 2,
       "version_minor": 0
      },
      "text/plain": [
       "HBox(children=(FloatProgress(value=0.0, description='Running Epoch 0 of 1', max=625.0, style=ProgressStyle(des…"
      ]
     },
     "metadata": {},
     "output_type": "display_data"
    },
    {
     "name": "stderr",
     "output_type": "stream",
     "text": [
      "INFO:wandb.run_manager:file/dir modified: /home/faessler/work/Research/trec-covid/wandb/run-20200730_150714-clc5olsd/config.yaml\n",
      "INFO:wandb.run_manager:file/dir created: /home/faessler/work/Research/trec-covid/wandb/run-20200730_150714-clc5olsd/wandb-summary.json\n",
      "INFO:wandb.run_manager:file/dir created: /home/faessler/work/Research/trec-covid/wandb/run-20200730_150714-clc5olsd/requirements.txt\n",
      "INFO:wandb.run_manager:file/dir created: /home/faessler/work/Research/trec-covid/wandb/run-20200730_150714-clc5olsd/wandb-metadata.json\n",
      "INFO:wandb.run_manager:file/dir created: /home/faessler/work/Research/trec-covid/wandb/run-20200730_150714-clc5olsd/wandb-history.jsonl\n",
      "INFO:wandb.run_manager:file/dir created: /home/faessler/work/Research/trec-covid/wandb/run-20200730_150714-clc5olsd/wandb-events.jsonl\n",
      "/opt/conda/lib/python3.7/site-packages/torch/optim/lr_scheduler.py:113: UserWarning: Seems like `optimizer.step()` has been overridden after learning rate scheduler initialization. Please, make sure to call `optimizer.step()` before `lr_scheduler.step()`. See more details at https://pytorch.org/docs/stable/optim.html#how-to-adjust-learning-rate\n",
      "  \"https://pytorch.org/docs/stable/optim.html#how-to-adjust-learning-rate\", UserWarning)\n",
      "INFO:wandb.run_manager:file/dir modified: /home/faessler/work/Research/trec-covid/wandb/run-20200730_150714-clc5olsd/wandb-summary.json\n",
      "INFO:wandb.run_manager:file/dir created: /home/faessler/work/Research/trec-covid/wandb/run-20200730_150714-clc5olsd/media/graph/graph_0_summary_1a8c2a6c.graph.json\n",
      "INFO:wandb.run_manager:file/dir created: /home/faessler/work/Research/trec-covid/wandb/run-20200730_150714-clc5olsd/media/graph\n",
      "INFO:wandb.run_manager:file/dir created: /home/faessler/work/Research/trec-covid/wandb/run-20200730_150714-clc5olsd/media\n",
      "/opt/conda/lib/python3.7/site-packages/torch/optim/lr_scheduler.py:224: UserWarning: To get the last learning rate computed by the scheduler, please use `get_last_lr()`.\n",
      "  warnings.warn(\"To get the last learning rate computed by the scheduler, \"\n",
      "INFO:wandb.run_manager:file/dir modified: /home/faessler/work/Research/trec-covid/wandb/run-20200730_150714-clc5olsd/wandb-history.jsonl\n",
      "INFO:wandb.run_manager:file/dir modified: /home/faessler/work/Research/trec-covid/wandb/run-20200730_150714-clc5olsd/wandb-summary.json\n",
      "INFO:wandb.run_manager:file/dir modified: /home/faessler/work/Research/trec-covid/wandb/run-20200730_150704-clc5olsd/wandb-metadata.json\n",
      "INFO:wandb.run_manager:file/dir modified: /home/faessler/work/Research/trec-covid/wandb/run-20200730_150714-clc5olsd/wandb-history.jsonl\n",
      "INFO:wandb.run_manager:file/dir modified: /home/faessler/work/Research/trec-covid/wandb/run-20200730_150714-clc5olsd/wandb-summary.json\n"
     ]
    },
    {
     "name": "stdout",
     "output_type": "stream",
     "text": [
      "Gradient overflow.  Skipping step, loss scaler 0 reducing loss scale to 32768.0\n",
      "Gradient overflow.  Skipping step, loss scaler 0 reducing loss scale to 16384.0\n"
     ]
    },
    {
     "name": "stderr",
     "output_type": "stream",
     "text": [
      "INFO:wandb.run_manager:file/dir modified: /home/faessler/work/Research/trec-covid/wandb/run-20200730_150714-clc5olsd/wandb-metadata.json\n"
     ]
    },
    {
     "name": "stdout",
     "output_type": "stream",
     "text": [
      "Gradient overflow.  Skipping step, loss scaler 0 reducing loss scale to 8192.0\n"
     ]
    },
    {
     "name": "stderr",
     "output_type": "stream",
     "text": [
      "INFO:wandb.run_manager:file/dir modified: /home/faessler/work/Research/trec-covid/wandb/run-20200730_150714-clc5olsd/wandb-history.jsonl\n",
      "INFO:wandb.run_manager:file/dir modified: /home/faessler/work/Research/trec-covid/wandb/run-20200730_150714-clc5olsd/wandb-summary.json\n",
      "INFO:wandb.run_manager:file/dir modified: /home/faessler/work/Research/trec-covid/wandb/run-20200730_150704-clc5olsd/wandb-events.jsonl\n",
      "INFO:wandb.run_manager:file/dir modified: /home/faessler/work/Research/trec-covid/wandb/run-20200730_150714-clc5olsd/wandb-history.jsonl\n",
      "INFO:wandb.run_manager:file/dir modified: /home/faessler/work/Research/trec-covid/wandb/run-20200730_150714-clc5olsd/wandb-summary.json\n",
      "INFO:wandb.run_manager:file/dir modified: /home/faessler/work/Research/trec-covid/wandb/run-20200730_150704-clc5olsd/wandb-metadata.json\n",
      "INFO:wandb.run_manager:file/dir modified: /home/faessler/work/Research/trec-covid/wandb/run-20200730_150714-clc5olsd/wandb-events.jsonl\n",
      "INFO:wandb.run_manager:file/dir modified: /home/faessler/work/Research/trec-covid/wandb/run-20200730_150714-clc5olsd/wandb-history.jsonl\n",
      "INFO:wandb.run_manager:file/dir modified: /home/faessler/work/Research/trec-covid/wandb/run-20200730_150714-clc5olsd/wandb-summary.json\n",
      "INFO:wandb.run_manager:file/dir modified: /home/faessler/work/Research/trec-covid/wandb/run-20200730_150714-clc5olsd/wandb-metadata.json\n",
      "INFO:wandb.run_manager:file/dir modified: /home/faessler/work/Research/trec-covid/wandb/run-20200730_150714-clc5olsd/wandb-history.jsonl\n",
      "INFO:wandb.run_manager:file/dir modified: /home/faessler/work/Research/trec-covid/wandb/run-20200730_150714-clc5olsd/wandb-summary.json\n",
      "INFO:wandb.run_manager:file/dir modified: /home/faessler/work/Research/trec-covid/wandb/run-20200730_150704-clc5olsd/wandb-metadata.json\n",
      "INFO:wandb.run_manager:file/dir modified: /home/faessler/work/Research/trec-covid/wandb/run-20200730_150714-clc5olsd/wandb-history.jsonl\n",
      "INFO:wandb.run_manager:file/dir modified: /home/faessler/work/Research/trec-covid/wandb/run-20200730_150714-clc5olsd/wandb-summary.json\n",
      "INFO:wandb.run_manager:file/dir modified: /home/faessler/work/Research/trec-covid/wandb/run-20200730_150714-clc5olsd/wandb-history.jsonl\n",
      "INFO:wandb.run_manager:file/dir modified: /home/faessler/work/Research/trec-covid/wandb/run-20200730_150714-clc5olsd/wandb-summary.json\n",
      "INFO:wandb.run_manager:file/dir modified: /home/faessler/work/Research/trec-covid/wandb/run-20200730_150714-clc5olsd/wandb-metadata.json\n",
      "INFO:wandb.run_manager:file/dir modified: /home/faessler/work/Research/trec-covid/wandb/run-20200730_150704-clc5olsd/wandb-events.jsonl\n",
      "INFO:wandb.run_manager:file/dir modified: /home/faessler/work/Research/trec-covid/wandb/run-20200730_150714-clc5olsd/wandb-history.jsonl\n",
      "INFO:wandb.run_manager:file/dir modified: /home/faessler/work/Research/trec-covid/wandb/run-20200730_150714-clc5olsd/wandb-summary.json\n",
      "INFO:wandb.run_manager:file/dir modified: /home/faessler/work/Research/trec-covid/wandb/run-20200730_150704-clc5olsd/wandb-metadata.json\n",
      "INFO:wandb.run_manager:file/dir modified: /home/faessler/work/Research/trec-covid/wandb/run-20200730_150714-clc5olsd/wandb-history.jsonl\n",
      "INFO:wandb.run_manager:file/dir modified: /home/faessler/work/Research/trec-covid/wandb/run-20200730_150714-clc5olsd/wandb-events.jsonl\n",
      "INFO:wandb.run_manager:file/dir modified: /home/faessler/work/Research/trec-covid/wandb/run-20200730_150714-clc5olsd/wandb-summary.json\n",
      "INFO:wandb.run_manager:file/dir modified: /home/faessler/work/Research/trec-covid/wandb/run-20200730_150714-clc5olsd/wandb-history.jsonl\n",
      "INFO:wandb.run_manager:file/dir modified: /home/faessler/work/Research/trec-covid/wandb/run-20200730_150714-clc5olsd/wandb-summary.json\n",
      "INFO:wandb.run_manager:file/dir modified: /home/faessler/work/Research/trec-covid/wandb/run-20200730_150714-clc5olsd/wandb-metadata.json\n",
      "INFO:wandb.run_manager:file/dir modified: /home/faessler/work/Research/trec-covid/wandb/run-20200730_150714-clc5olsd/wandb-history.jsonl\n",
      "INFO:wandb.run_manager:file/dir modified: /home/faessler/work/Research/trec-covid/wandb/run-20200730_150714-clc5olsd/wandb-summary.json\n"
     ]
    },
    {
     "name": "stdout",
     "output_type": "stream",
     "text": [
      "\n",
      "\n"
     ]
    },
    {
     "name": "stderr",
     "output_type": "stream",
     "text": [
      "INFO:simpletransformers.classification.classification_model: Training of roberta model complete. Saved to outputs/.\n"
     ]
    },
    {
     "data": {
      "application/vnd.jupyter.widget-view+json": {
       "model_id": "0ee4fdd78eb443bea5484c8cab5d6bf7",
       "version_major": 2,
       "version_minor": 0
      },
      "text/plain": [
       "HBox(children=(FloatProgress(value=0.0, description='Running Evaluation', max=751.0, style=ProgressStyle(descr…"
      ]
     },
     "metadata": {},
     "output_type": "display_data"
    },
    {
     "name": "stderr",
     "output_type": "stream",
     "text": [
      "INFO:wandb.run_manager:file/dir modified: /home/faessler/work/Research/trec-covid/wandb/run-20200730_150704-clc5olsd/wandb-metadata.json\n",
      "INFO:wandb.run_manager:file/dir modified: /home/faessler/work/Research/trec-covid/wandb/run-20200730_150714-clc5olsd/wandb-metadata.json\n",
      "INFO:wandb.run_manager:file/dir modified: /home/faessler/work/Research/trec-covid/wandb/run-20200730_150704-clc5olsd/wandb-events.jsonl\n",
      "INFO:wandb.run_manager:file/dir modified: /home/faessler/work/Research/trec-covid/wandb/run-20200730_150704-clc5olsd/wandb-metadata.json\n",
      "INFO:wandb.run_manager:file/dir modified: /home/faessler/work/Research/trec-covid/wandb/run-20200730_150714-clc5olsd/wandb-events.jsonl\n",
      "INFO:wandb.run_manager:file/dir modified: /home/faessler/work/Research/trec-covid/wandb/run-20200730_150714-clc5olsd/wandb-metadata.json\n",
      "INFO:wandb.run_manager:file/dir modified: /home/faessler/work/Research/trec-covid/wandb/run-20200730_150704-clc5olsd/wandb-metadata.json\n"
     ]
    },
    {
     "name": "stdout",
     "output_type": "stream",
     "text": [
      "\n"
     ]
    },
    {
     "data": {
      "text/html": [
       "\n",
       "                Logging results to <a href=\"https://wandb.com\" target=\"_blank\">Weights & Biases</a> <a href=\"https://docs.wandb.com/integrations/jupyter.html\" target=\"_blank\">(Documentation)</a>.<br/>\n",
       "                Project page: <a href=\"https://app.wandb.ai/khituras/TREC-Covid\" target=\"_blank\">https://app.wandb.ai/khituras/TREC-Covid</a><br/>\n",
       "                Run page: <a href=\"https://app.wandb.ai/khituras/TREC-Covid/runs/clc5olsd\" target=\"_blank\">https://app.wandb.ai/khituras/TREC-Covid/runs/clc5olsd</a><br/>\n",
       "            "
      ],
      "text/plain": [
       "<IPython.core.display.HTML object>"
      ]
     },
     "metadata": {},
     "output_type": "display_data"
    },
    {
     "name": "stderr",
     "output_type": "stream",
     "text": [
      "INFO:wandb.run_manager:system metrics and metadata threads started\n",
      "INFO:wandb.run_manager:checking resume status, waiting at most 10 seconds\n",
      "INFO:wandb.run_manager:resuming run from id: UnVuOnYxOmNsYzVvbHNkOlRSRUMtQ292aWQ6a2hpdHVyYXM=\n",
      "INFO:wandb.run_manager:upserting run before process can begin, waiting at most 10 seconds\n",
      "INFO:wandb.run_manager:saving pip packages\n",
      "INFO:wandb.run_manager:initializing streaming files api\n",
      "INFO:wandb.run_manager:unblocking file change observer, beginning sync with W&B servers\n",
      "INFO:wandb.run_manager:file/dir modified: /home/faessler/work/Research/trec-covid/wandb/run-20200730_150904-clc5olsd/config.yaml\n",
      "INFO:wandb.run_manager:file/dir created: /home/faessler/work/Research/trec-covid/wandb/run-20200730_150904-clc5olsd/wandb-events.jsonl\n",
      "ERROR:wandb.run_manager:Streaming file created twice in same run: /home/faessler/work/Research/trec-covid/wandb/run-20200730_150904-clc5olsd/wandb-events.jsonl\n",
      "INFO:wandb.run_manager:file/dir created: /home/faessler/work/Research/trec-covid/wandb/run-20200730_150904-clc5olsd/media/table/roc_12_0016e0fa.table.json\n",
      "INFO:wandb.run_manager:file/dir created: /home/faessler/work/Research/trec-covid/wandb/run-20200730_150904-clc5olsd/wandb-summary.json\n",
      "INFO:wandb.run_manager:file/dir created: /home/faessler/work/Research/trec-covid/wandb/run-20200730_150904-clc5olsd/wandb-history.jsonl\n",
      "ERROR:wandb.run_manager:Streaming file created twice in same run: /home/faessler/work/Research/trec-covid/wandb/run-20200730_150904-clc5olsd/wandb-history.jsonl\n",
      "INFO:wandb.run_manager:file/dir created: /home/faessler/work/Research/trec-covid/wandb/run-20200730_150904-clc5olsd/requirements.txt\n",
      "INFO:wandb.run_manager:file/dir created: /home/faessler/work/Research/trec-covid/wandb/run-20200730_150904-clc5olsd/wandb-metadata.json\n",
      "INFO:wandb.run_manager:file/dir created: /home/faessler/work/Research/trec-covid/wandb/run-20200730_150904-clc5olsd/media\n",
      "INFO:wandb.run_manager:file/dir created: /home/faessler/work/Research/trec-covid/wandb/run-20200730_150904-clc5olsd/media/table\n",
      "INFO:simpletransformers.classification.classification_model:{'mcc': 0.7616293891225393, 'tp': 5337, 'tn': 5241, 'fp': 764, 'fn': 668, 'accuracy': 0.8807660283097419, 'eval_loss': 0.30312479577075624}\n"
     ]
    },
    {
     "name": "stdout",
     "output_type": "stream",
     "text": [
      "wandb: Agent Finished Run: clc5olsd \n",
      "\n"
     ]
    },
    {
     "name": "stderr",
     "output_type": "stream",
     "text": [
      "INFO:wandb.run_manager:shutting down system stats and metadata service\n",
      "INFO:wandb.run_manager:file/dir modified: /home/faessler/work/Research/trec-covid/wandb/run-20200730_150704-clc5olsd/wandb-events.jsonl\n",
      "INFO:wandb.run_manager:file/dir modified: /home/faessler/work/Research/trec-covid/wandb/run-20200730_150904-clc5olsd/wandb-events.jsonl\n",
      "INFO:wandb.run_manager:file/dir modified: /home/faessler/work/Research/trec-covid/wandb/run-20200730_150904-clc5olsd/media/table/roc_12_0016e0fa.table.json\n",
      "INFO:wandb.run_manager:file/dir modified: /home/faessler/work/Research/trec-covid/wandb/run-20200730_150904-clc5olsd/wandb-summary.json\n",
      "INFO:wandb.run_manager:file/dir modified: /home/faessler/work/Research/trec-covid/wandb/run-20200730_150904-clc5olsd/config.yaml\n",
      "INFO:wandb.run_manager:file/dir modified: /home/faessler/work/Research/trec-covid/wandb/run-20200730_150904-clc5olsd/wandb-history.jsonl\n",
      "INFO:wandb.run_manager:file/dir created: /home/faessler/work/Research/trec-covid/wandb/run-20200730_150904-clc5olsd/media/table/pr_13_99c0395f.table.json\n",
      "INFO:wandb.run_manager:file/dir created: /home/faessler/work/Research/trec-covid/wandb/run-20200730_150904-clc5olsd/media/table/confusion_matrix_14_a65954f9.table.json\n",
      "INFO:wandb.run_manager:file/dir modified: /home/faessler/work/Research/trec-covid/wandb/run-20200730_150904-clc5olsd/media/table\n",
      "INFO:wandb.run_manager:stopping streaming files and file change observer\n",
      "INFO:wandb.run_manager:file/dir modified: /home/faessler/work/Research/trec-covid/wandb/run-20200730_150714-clc5olsd/wandb-metadata.json\n",
      "INFO:wandb.run_manager:file/dir modified: /home/faessler/work/Research/trec-covid/wandb/run-20200730_150904-clc5olsd/wandb-metadata.json\n",
      "INFO:wandb.wandb_agent:Cleaning up finished run: clc5olsd\n",
      "INFO:wandb.wandb_agent:Agent received command: run\n",
      "INFO:wandb.wandb_agent:Agent starting run with config:\n",
      "\tlearning_rate: 4.840878289965529e-05\n",
      "\tnum_train_epochs: 1\n"
     ]
    },
    {
     "name": "stdout",
     "output_type": "stream",
     "text": [
      "wandb: Agent Starting Run: 2ygtf7aj with config:\n",
      "\tlearning_rate: 4.840878289965529e-05\n",
      "\tnum_train_epochs: 1\n",
      "wandb: Agent Started Run: 2ygtf7aj\n"
     ]
    },
    {
     "data": {
      "text/html": [
       "\n",
       "                Logging results to <a href=\"https://wandb.com\" target=\"_blank\">Weights & Biases</a> <a href=\"https://docs.wandb.com/integrations/jupyter.html\" target=\"_blank\">(Documentation)</a>.<br/>\n",
       "                Project page: <a href=\"https://app.wandb.ai/khituras/TREC-Covid\" target=\"_blank\">https://app.wandb.ai/khituras/TREC-Covid</a><br/>\n",
       "                Sweep page: <a href=\"https://app.wandb.ai/khituras/TREC-Covid/sweeps/revtmojb\" target=\"_blank\">https://app.wandb.ai/khituras/TREC-Covid/sweeps/revtmojb</a><br/>\n",
       "Run page: <a href=\"https://app.wandb.ai/khituras/TREC-Covid/runs/2ygtf7aj\" target=\"_blank\">https://app.wandb.ai/khituras/TREC-Covid/runs/2ygtf7aj</a><br/>\n",
       "            "
      ],
      "text/plain": [
       "<IPython.core.display.HTML object>"
      ]
     },
     "metadata": {},
     "output_type": "display_data"
    },
    {
     "name": "stderr",
     "output_type": "stream",
     "text": [
      "INFO:wandb.run_manager:system metrics and metadata threads started\n",
      "INFO:wandb.run_manager:checking resume status, waiting at most 10 seconds\n",
      "INFO:wandb.run_manager:resuming run from id: UnVuOnYxOjJ5Z3RmN2FqOlRSRUMtQ292aWQ6a2hpdHVyYXM=\n",
      "INFO:wandb.run_manager:upserting run before process can begin, waiting at most 10 seconds\n",
      "INFO:wandb.run_manager:file/dir modified: /home/faessler/work/Research/trec-covid/wandb/run-20200730_150915-2ygtf7aj/config.yaml\n",
      "INFO:wandb.run_manager:saving pip packages\n",
      "INFO:wandb.run_manager:initializing streaming files api\n",
      "INFO:wandb.run_manager:unblocking file change observer, beginning sync with W&B servers\n",
      "INFO:wandb.run_manager:file/dir created: /home/faessler/work/Research/trec-covid/wandb/run-20200730_150915-2ygtf7aj/wandb-events.jsonl\n",
      "INFO:wandb.run_manager:file/dir created: /home/faessler/work/Research/trec-covid/wandb/run-20200730_150915-2ygtf7aj/wandb-metadata.json\n",
      "INFO:wandb.run_manager:file/dir created: /home/faessler/work/Research/trec-covid/wandb/run-20200730_150915-2ygtf7aj/wandb-history.jsonl\n",
      "INFO:wandb.run_manager:file/dir created: /home/faessler/work/Research/trec-covid/wandb/run-20200730_150915-2ygtf7aj/wandb-summary.json\n",
      "INFO:wandb.run_manager:file/dir created: /home/faessler/work/Research/trec-covid/wandb/run-20200730_150915-2ygtf7aj/requirements.txt\n",
      "INFO:wandb.wandb_agent:Running runs: ['2ygtf7aj']\n"
     ]
    },
    {
     "name": "stdout",
     "output_type": "stream",
     "text": [
      "Selected optimization level O1:  Insert automatic casts around Pytorch functions and Tensor methods.\n",
      "\n",
      "Defaults for this optimization level are:\n",
      "enabled                : True\n",
      "opt_level              : O1\n",
      "cast_model_type        : None\n",
      "patch_torch_functions  : True\n",
      "keep_batchnorm_fp32    : None\n",
      "master_weights         : None\n",
      "loss_scale             : dynamic\n",
      "Processing user overrides (additional kwargs that are not None)...\n",
      "After processing overrides, optimization options are:\n",
      "enabled                : True\n",
      "opt_level              : O1\n",
      "cast_model_type        : None\n",
      "patch_torch_functions  : True\n",
      "keep_batchnorm_fp32    : None\n",
      "master_weights         : None\n",
      "loss_scale             : dynamic\n"
     ]
    },
    {
     "data": {
      "application/vnd.jupyter.widget-view+json": {
       "model_id": "8e16f3b30d624f4b812830fef695b1e1",
       "version_major": 2,
       "version_minor": 0
      },
      "text/plain": [
       "HBox(children=(FloatProgress(value=0.0, description='Epoch', max=1.0, style=ProgressStyle(description_width='i…"
      ]
     },
     "metadata": {},
     "output_type": "display_data"
    },
    {
     "data": {
      "text/html": [
       "\n",
       "                Logging results to <a href=\"https://wandb.com\" target=\"_blank\">Weights & Biases</a> <a href=\"https://docs.wandb.com/integrations/jupyter.html\" target=\"_blank\">(Documentation)</a>.<br/>\n",
       "                Project page: <a href=\"https://app.wandb.ai/khituras/TREC-Covid\" target=\"_blank\">https://app.wandb.ai/khituras/TREC-Covid</a><br/>\n",
       "                Run page: <a href=\"https://app.wandb.ai/khituras/TREC-Covid/runs/2ygtf7aj\" target=\"_blank\">https://app.wandb.ai/khituras/TREC-Covid/runs/2ygtf7aj</a><br/>\n",
       "            "
      ],
      "text/plain": [
       "<IPython.core.display.HTML object>"
      ]
     },
     "metadata": {},
     "output_type": "display_data"
    },
    {
     "name": "stderr",
     "output_type": "stream",
     "text": [
      "INFO:wandb.run_manager:system metrics and metadata threads started\n",
      "INFO:wandb.run_manager:checking resume status, waiting at most 10 seconds\n",
      "INFO:wandb.run_manager:resuming run from id: UnVuOnYxOjJ5Z3RmN2FqOlRSRUMtQ292aWQ6a2hpdHVyYXM=\n",
      "INFO:wandb.run_manager:upserting run before process can begin, waiting at most 10 seconds\n",
      "INFO:wandb.run_manager:saving pip packages\n",
      "INFO:wandb.run_manager:initializing streaming files api\n",
      "INFO:wandb.run_manager:unblocking file change observer, beginning sync with W&B servers\n"
     ]
    },
    {
     "data": {
      "application/vnd.jupyter.widget-view+json": {
       "model_id": "668607a9c65040cdb253c9ca0c09963c",
       "version_major": 2,
       "version_minor": 0
      },
      "text/plain": [
       "HBox(children=(FloatProgress(value=0.0, description='Running Epoch 0 of 1', max=625.0, style=ProgressStyle(des…"
      ]
     },
     "metadata": {},
     "output_type": "display_data"
    },
    {
     "name": "stderr",
     "output_type": "stream",
     "text": [
      "INFO:wandb.run_manager:file/dir modified: /home/faessler/work/Research/trec-covid/wandb/run-20200730_150924-2ygtf7aj/config.yaml\n",
      "INFO:wandb.run_manager:file/dir created: /home/faessler/work/Research/trec-covid/wandb/run-20200730_150924-2ygtf7aj/wandb-events.jsonl\n",
      "INFO:wandb.run_manager:file/dir created: /home/faessler/work/Research/trec-covid/wandb/run-20200730_150924-2ygtf7aj/wandb-summary.json\n",
      "INFO:wandb.run_manager:file/dir created: /home/faessler/work/Research/trec-covid/wandb/run-20200730_150924-2ygtf7aj/wandb-history.jsonl\n",
      "INFO:wandb.run_manager:file/dir created: /home/faessler/work/Research/trec-covid/wandb/run-20200730_150924-2ygtf7aj/wandb-metadata.json\n",
      "INFO:wandb.run_manager:file/dir created: /home/faessler/work/Research/trec-covid/wandb/run-20200730_150924-2ygtf7aj/requirements.txt\n",
      "/opt/conda/lib/python3.7/site-packages/torch/optim/lr_scheduler.py:113: UserWarning: Seems like `optimizer.step()` has been overridden after learning rate scheduler initialization. Please, make sure to call `optimizer.step()` before `lr_scheduler.step()`. See more details at https://pytorch.org/docs/stable/optim.html#how-to-adjust-learning-rate\n",
      "  \"https://pytorch.org/docs/stable/optim.html#how-to-adjust-learning-rate\", UserWarning)\n",
      "INFO:wandb.run_manager:file/dir modified: /home/faessler/work/Research/trec-covid/wandb/run-20200730_150924-2ygtf7aj/wandb-summary.json\n",
      "INFO:wandb.run_manager:file/dir created: /home/faessler/work/Research/trec-covid/wandb/run-20200730_150924-2ygtf7aj/media/graph/graph_0_summary_9104c25b.graph.json\n",
      "INFO:wandb.run_manager:file/dir created: /home/faessler/work/Research/trec-covid/wandb/run-20200730_150924-2ygtf7aj/media/graph\n",
      "INFO:wandb.run_manager:file/dir created: /home/faessler/work/Research/trec-covid/wandb/run-20200730_150924-2ygtf7aj/media\n",
      "/opt/conda/lib/python3.7/site-packages/torch/optim/lr_scheduler.py:224: UserWarning: To get the last learning rate computed by the scheduler, please use `get_last_lr()`.\n",
      "  warnings.warn(\"To get the last learning rate computed by the scheduler, \"\n",
      "INFO:wandb.run_manager:file/dir modified: /home/faessler/work/Research/trec-covid/wandb/run-20200730_150924-2ygtf7aj/wandb-summary.json\n",
      "INFO:wandb.run_manager:file/dir modified: /home/faessler/work/Research/trec-covid/wandb/run-20200730_150924-2ygtf7aj/wandb-history.jsonl\n",
      "INFO:wandb.run_manager:file/dir modified: /home/faessler/work/Research/trec-covid/wandb/run-20200730_150915-2ygtf7aj/wandb-metadata.json\n",
      "INFO:wandb.run_manager:file/dir modified: /home/faessler/work/Research/trec-covid/wandb/run-20200730_150924-2ygtf7aj/wandb-summary.json\n",
      "INFO:wandb.run_manager:file/dir modified: /home/faessler/work/Research/trec-covid/wandb/run-20200730_150924-2ygtf7aj/wandb-history.jsonl\n"
     ]
    },
    {
     "name": "stdout",
     "output_type": "stream",
     "text": [
      "Gradient overflow.  Skipping step, loss scaler 0 reducing loss scale to 32768.0\n",
      "Gradient overflow.  Skipping step, loss scaler 0 reducing loss scale to 16384.0\n"
     ]
    },
    {
     "name": "stderr",
     "output_type": "stream",
     "text": [
      "INFO:wandb.run_manager:file/dir modified: /home/faessler/work/Research/trec-covid/wandb/run-20200730_150924-2ygtf7aj/wandb-metadata.json\n",
      "INFO:wandb.run_manager:file/dir modified: /home/faessler/work/Research/trec-covid/wandb/run-20200730_150924-2ygtf7aj/wandb-summary.json\n",
      "INFO:wandb.run_manager:file/dir modified: /home/faessler/work/Research/trec-covid/wandb/run-20200730_150924-2ygtf7aj/wandb-history.jsonl\n",
      "INFO:wandb.run_manager:file/dir modified: /home/faessler/work/Research/trec-covid/wandb/run-20200730_150915-2ygtf7aj/wandb-events.jsonl\n",
      "INFO:wandb.run_manager:file/dir modified: /home/faessler/work/Research/trec-covid/wandb/run-20200730_150924-2ygtf7aj/wandb-summary.json\n",
      "INFO:wandb.run_manager:file/dir modified: /home/faessler/work/Research/trec-covid/wandb/run-20200730_150924-2ygtf7aj/wandb-history.jsonl\n",
      "INFO:wandb.run_manager:file/dir modified: /home/faessler/work/Research/trec-covid/wandb/run-20200730_150915-2ygtf7aj/wandb-metadata.json\n",
      "INFO:wandb.run_manager:file/dir modified: /home/faessler/work/Research/trec-covid/wandb/run-20200730_150924-2ygtf7aj/wandb-events.jsonl\n",
      "INFO:wandb.run_manager:file/dir modified: /home/faessler/work/Research/trec-covid/wandb/run-20200730_150924-2ygtf7aj/wandb-summary.json\n",
      "INFO:wandb.run_manager:file/dir modified: /home/faessler/work/Research/trec-covid/wandb/run-20200730_150924-2ygtf7aj/wandb-history.jsonl\n"
     ]
    },
    {
     "name": "stdout",
     "output_type": "stream",
     "text": [
      "Gradient overflow.  Skipping step, loss scaler 0 reducing loss scale to 8192.0\n"
     ]
    },
    {
     "name": "stderr",
     "output_type": "stream",
     "text": [
      "INFO:wandb.run_manager:file/dir modified: /home/faessler/work/Research/trec-covid/wandb/run-20200730_150924-2ygtf7aj/wandb-metadata.json\n",
      "INFO:wandb.run_manager:file/dir modified: /home/faessler/work/Research/trec-covid/wandb/run-20200730_150924-2ygtf7aj/wandb-summary.json\n",
      "INFO:wandb.run_manager:file/dir modified: /home/faessler/work/Research/trec-covid/wandb/run-20200730_150924-2ygtf7aj/wandb-history.jsonl\n",
      "\u001b[34m\u001b[1mwandb\u001b[0m: Ctrl-c pressed. Waiting for runs to end. Press ctrl-c again to terminate them.\n"
     ]
    },
    {
     "name": "stdout",
     "output_type": "stream",
     "text": [
      "\n",
      "\n"
     ]
    },
    {
     "name": "stderr",
     "output_type": "stream",
     "text": [
      "Process Process-12:\n",
      "Exception in thread Thread-30:\n",
      "Traceback (most recent call last):\n",
      "  File \"/opt/conda/lib/python3.7/threading.py\", line 926, in _bootstrap_inner\n",
      "    self.run()\n",
      "  File \"/opt/conda/lib/python3.7/site-packages/tensorboardX/event_file_writer.py\", line 202, in run\n",
      "    data = self._queue.get(True, queue_wait_duration)\n",
      "  File \"/opt/conda/lib/python3.7/multiprocessing/queues.py\", line 108, in get\n",
      "    res = self._recv_bytes()\n",
      "  File \"/opt/conda/lib/python3.7/multiprocessing/connection.py\", line 216, in recv_bytes\n",
      "    buf = self._recv_bytes(maxlength)\n",
      "  File \"/opt/conda/lib/python3.7/multiprocessing/connection.py\", line 407, in _recv_bytes\n",
      "    buf = self._recv(4)\n",
      "  File \"/opt/conda/lib/python3.7/multiprocessing/connection.py\", line 383, in _recv\n",
      "    raise EOFError\n",
      "EOFError\n",
      "\n",
      "Traceback (most recent call last):\n",
      "  File \"/opt/conda/lib/python3.7/multiprocessing/process.py\", line 297, in _bootstrap\n",
      "    self.run()\n",
      "  File \"/opt/conda/lib/python3.7/multiprocessing/process.py\", line 99, in run\n",
      "    self._target(*self._args, **self._kwargs)\n",
      "  File \"/opt/conda/lib/python3.7/site-packages/wandb/wandb_agent.py\", line 64, in _start\n",
      "    function()\n",
      "  File \"<ipython-input-9-3470171f790e>\", line 13, in train\n",
      "    trainfile, eval_df=devfile, accuracy=lambda x,y: sklearn.metrics.accuracy_score(x,[round(p) for p in y])\n",
      "  File \"/opt/conda/lib/python3.7/site-packages/simpletransformers/classification/classification_model.py\", line 299, in train_model\n",
      "    **kwargs,\n",
      "  File \"/opt/conda/lib/python3.7/site-packages/simpletransformers/classification/classification_model.py\", line 458, in train\n",
      "    for step, batch in enumerate(batch_iterator):\n",
      "  File \"/opt/conda/lib/python3.7/site-packages/tqdm/notebook.py\", line 217, in __iter__\n",
      "    for obj in super(tqdm_notebook, self).__iter__(*args, **kwargs):\n",
      "  File \"/opt/conda/lib/python3.7/site-packages/tqdm/std.py\", line 1130, in __iter__\n",
      "    for obj in iterable:\n",
      "  File \"/opt/conda/lib/python3.7/site-packages/torch/utils/data/dataloader.py\", line 345, in __next__\n",
      "    data = self._next_data()\n",
      "  File \"/opt/conda/lib/python3.7/site-packages/torch/utils/data/dataloader.py\", line 841, in _next_data\n",
      "    idx, data = self._get_data()\n",
      "  File \"/opt/conda/lib/python3.7/site-packages/torch/utils/data/dataloader.py\", line 808, in _get_data\n",
      "    success, data = self._try_get_data()\n",
      "  File \"/opt/conda/lib/python3.7/site-packages/torch/utils/data/dataloader.py\", line 761, in _try_get_data\n",
      "    data = self._data_queue.get(timeout=timeout)\n",
      "  File \"/opt/conda/lib/python3.7/multiprocessing/queues.py\", line 113, in get\n",
      "    return _ForkingPickler.loads(res)\n",
      "  File \"/opt/conda/lib/python3.7/site-packages/torch/multiprocessing/reductions.py\", line 294, in rebuild_storage_fd\n",
      "    fd = df.detach()\n",
      "  File \"/opt/conda/lib/python3.7/multiprocessing/resource_sharer.py\", line 57, in detach\n",
      "    with _resource_sharer.get_connection(self._id) as conn:\n",
      "  File \"/opt/conda/lib/python3.7/multiprocessing/resource_sharer.py\", line 87, in get_connection\n",
      "    c = Client(address, authkey=process.current_process().authkey)\n",
      "  File \"/opt/conda/lib/python3.7/multiprocessing/connection.py\", line 498, in Client\n",
      "    answer_challenge(c, authkey)\n",
      "  File \"/opt/conda/lib/python3.7/multiprocessing/connection.py\", line 741, in answer_challenge\n",
      "    message = connection.recv_bytes(256)         # reject large message\n",
      "  File \"/opt/conda/lib/python3.7/multiprocessing/connection.py\", line 216, in recv_bytes\n",
      "    buf = self._recv_bytes(maxlength)\n",
      "  File \"/opt/conda/lib/python3.7/multiprocessing/connection.py\", line 407, in _recv_bytes\n",
      "    buf = self._recv(4)\n",
      "  File \"/opt/conda/lib/python3.7/multiprocessing/connection.py\", line 379, in _recv\n",
      "    chunk = read(handle, remaining)\n",
      "KeyboardInterrupt\n"
     ]
    }
   ],
   "source": [
    "wandb.agent(sweep_id, train)"
   ]
  }
 ],
 "metadata": {
  "kernelspec": {
   "display_name": "Python 3",
   "language": "python",
   "name": "python3"
  },
  "language_info": {
   "codemirror_mode": {
    "name": "ipython",
    "version": 3
   },
   "file_extension": ".py",
   "mimetype": "text/x-python",
   "name": "python",
   "nbconvert_exporter": "python",
   "pygments_lexer": "ipython3",
   "version": "3.7.4"
  }
 },
 "nbformat": 4,
 "nbformat_minor": 4
}
