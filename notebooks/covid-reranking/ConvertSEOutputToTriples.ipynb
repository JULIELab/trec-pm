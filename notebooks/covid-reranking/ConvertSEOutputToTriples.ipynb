{
 "cells": [
  {
   "cell_type": "code",
   "execution_count": 28,
   "metadata": {},
   "outputs": [],
   "source": [
    "import pandas as pd\n",
    "from functools import reduce"
   ]
  },
  {
   "cell_type": "code",
   "execution_count": 29,
   "metadata": {},
   "outputs": [],
   "source": [
    "df = pd.read_csv(\"jlbasernd5udeltopics.txt\", sep=\"\\t\", names=[\"topic\", \"relevance\", \"docid\", \"text\", \"title\", \"abstract\"])\n",
    "topics_udel = pd.read_csv(\"topics.covid-round4-udel.tsv\", sep=\"\\t\", names=[\"topic\", \"query_udel\"])\n",
    "topics_queries = pd.read_csv(\"topics-rnd4-queries.tsv\", sep=\"\\t\", names=[\"topic\", \"query\"])\n",
    "topics_questions = pd.read_csv(\"topics-rnd4-questions.tsv\", sep=\"\\t\", names=[\"topic\", \"question\"])\n",
    "topics_narrative = pd.read_csv(\"topics-rnd4-narrative.tsv\", sep=\"\\t\", names=[\"topic\", \"narrative\"])\n",
    "\n",
    "topics = reduce(lambda x,y: pd.merge(x, y, on=\"topic\"), [topics_udel, topics_queries, topics_questions, topics_narrative])\n",
    "input_data = pd.merge(topics, df, on=\"topic\", how=\"outer\").dropna()\n",
    "# Set relevance to 0 or 1 to match the transformer model labels\n",
    "input_data[\"relevance\"] = input_data[\"relevance\"].apply(lambda x: 1 if x > 0 else 0)"
   ]
  },
  {
   "cell_type": "code",
   "execution_count": 30,
   "metadata": {},
   "outputs": [],
   "source": [
    "eval_question_text = input_data[[\"question\", \"text\", \"relevance\"]]\n",
    "eval_question_title = input_data[[\"question\", \"title\", \"relevance\"]]\n",
    "eval_question_abstract = input_data[[\"question\", \"abstract\", \"relevance\"]]"
   ]
  },
  {
   "cell_type": "code",
   "execution_count": 31,
   "metadata": {},
   "outputs": [],
   "source": [
    "eval_question_text.to_csv(\"eval_question_text.tsv\", sep=\"\\t\", header=False, index=False)\n",
    "eval_question_title.to_csv(\"eval_question_title.tsv\", sep=\"\\t\", header=False, index=False)\n",
    "eval_question_abstract.to_csv(\"eval_question_abstract.tsv\", sep=\"\\t\", header=False, index=False)"
   ]
  }
 ],
 "metadata": {
  "kernelspec": {
   "display_name": "Python 3",
   "language": "python",
   "name": "python3"
  },
  "language_info": {
   "codemirror_mode": {
    "name": "ipython",
    "version": 3
   },
   "file_extension": ".py",
   "mimetype": "text/x-python",
   "name": "python",
   "nbconvert_exporter": "python",
   "pygments_lexer": "ipython3",
   "version": "3.7.4"
  }
 },
 "nbformat": 4,
 "nbformat_minor": 4
}
