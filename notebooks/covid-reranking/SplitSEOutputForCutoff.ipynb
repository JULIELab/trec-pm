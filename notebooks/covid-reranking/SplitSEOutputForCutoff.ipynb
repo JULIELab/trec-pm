{
 "cells": [
  {
   "cell_type": "markdown",
   "metadata": {},
   "source": [
    "Requires the file created at the beginning of the Trec-Covid-Reranking notebook"
   ]
  },
  {
   "cell_type": "code",
   "execution_count": 1,
   "metadata": {},
   "outputs": [],
   "source": [
    "def chunks(lst, n):\n",
    "    \"\"\"Yield successive n-sized chunks from lst.\"\"\"\n",
    "    for i in range(0, len(lst), n):\n",
    "        yield lst[i:i + n]"
   ]
  },
  {
   "cell_type": "code",
   "execution_count": 2,
   "metadata": {},
   "outputs": [
    {
     "name": "stdout",
     "output_type": "stream",
     "text": [
      "46651\n",
      "4095\n"
     ]
    }
   ],
   "source": [
    "with open(\"input.txt\", \"r\") as f:\n",
    "    with open(\"input-cutoffsplit.txt\", \"w\") as o:\n",
    "        i = 0\n",
    "        add = 0\n",
    "        for l in f:\n",
    "            split = [x.strip() for x in l.split(\"\\t\")]\n",
    "            alltext_chunks = chunks(split[6].split(\" \"), 512)\n",
    "            num_chunks = 0\n",
    "            for chunk in alltext_chunks:\n",
    "                split[6] = \" \".join(chunk)\n",
    "                o.write(\"\\t\".join(split) + \"\\n\")\n",
    "                i += 1\n",
    "                num_chunks += 1\n",
    "            add += num_chunks-1\n",
    "        print (i)\n",
    "        print(add)"
   ]
  }
 ],
 "metadata": {
  "kernelspec": {
   "display_name": "Python 3",
   "language": "python",
   "name": "python3"
  },
  "language_info": {
   "codemirror_mode": {
    "name": "ipython",
    "version": 3
   },
   "file_extension": ".py",
   "mimetype": "text/x-python",
   "name": "python",
   "nbconvert_exporter": "python",
   "pygments_lexer": "ipython3",
   "version": "3.7.4"
  }
 },
 "nbformat": 4,
 "nbformat_minor": 4
}
