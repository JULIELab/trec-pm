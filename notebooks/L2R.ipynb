{
 "cells": [
  {
   "cell_type": "code",
   "execution_count": 1,
   "metadata": {},
   "outputs": [],
   "source": [
    "from os import listdir\n",
    "from os.path import isfile, isdir, join\n",
    "from lxml import etree\n",
    "import pandas as pd\n",
    "import tarfile\n",
    "import gzip\n",
    "import time\n",
    "import csv\n",
    "import re\n",
    "import sys\n",
    "import math\n",
    "import nltk\n",
    "import string\n",
    "import numpy as np\n",
    "from nltk import word_tokenize\n",
    "from nltk.corpus import stopwords\n",
    "from nltk.stem.porter import PorterStemmer\n",
    "from nltk.stem.snowball import SnowballStemmer\n",
    "from sklearn.feature_extraction.text import TfidfVectorizer\n",
    "from sklearn.model_selection import train_test_split"
   ]
  },
  {
   "cell_type": "code",
   "execution_count": 2,
   "metadata": {},
   "outputs": [],
   "source": [
    "import pyltr"
   ]
  },
  {
   "cell_type": "markdown",
   "metadata": {},
   "source": [
    "# TESTING pyltr with LETOR"
   ]
  },
  {
   "cell_type": "code",
   "execution_count": null,
   "metadata": {},
   "outputs": [],
   "source": [
    "folder=\"/Users/ari/Downloads/MQ2007/Fold1\""
   ]
  },
  {
   "cell_type": "code",
   "execution_count": null,
   "metadata": {},
   "outputs": [],
   "source": [
    "with open(join(folder,'train.txt')) as trainfile, open(join(folder,'vali.txt')) as valifile, open(join(folder,'test.txt')) as evalfile:\n",
    "    TX, Ty, Tqids, _ = pyltr.data.letor.read_dataset(trainfile)\n",
    "    VX, Vy, Vqids, _ = pyltr.data.letor.read_dataset(valifile)\n",
    "    EX, Ey, Eqids, _ = pyltr.data.letor.read_dataset(evalfile)"
   ]
  },
  {
   "cell_type": "code",
   "execution_count": null,
   "metadata": {},
   "outputs": [],
   "source": [
    "metric = pyltr.metrics.NDCG(k=10)\n",
    "\n",
    "# Only needed if you want to perform validation (early stopping & trimming)\n",
    "monitor = pyltr.models.monitors.ValidationMonitor(VX, Vy, Vqids, metric=metric, stop_after=250)\n",
    "\n",
    "model = pyltr.models.LambdaMART(\n",
    "    metric=metric,\n",
    "    n_estimators=1000,\n",
    "    learning_rate=0.02,\n",
    "    max_features=0.5,\n",
    "    query_subsample=0.5,\n",
    "    max_leaf_nodes=10,\n",
    "    min_samples_leaf=64,\n",
    "    verbose=1,\n",
    ")\n",
    "\n",
    "model.fit(TX, Ty, Tqids, monitor=monitor)"
   ]
  },
  {
   "cell_type": "code",
   "execution_count": null,
   "metadata": {},
   "outputs": [],
   "source": [
    "Epred = model.predict(EX)\n",
    "print('Random ranking:', metric.calc_mean_random(Eqids, Ey))\n",
    "print('Our model:', metric.calc_mean(Eqids, Ey, Epred))"
   ]
  },
  {
   "cell_type": "markdown",
   "metadata": {},
   "source": [
    "# Reading GS Files"
   ]
  },
  {
   "cell_type": "code",
   "execution_count": 3,
   "metadata": {},
   "outputs": [],
   "source": [
    "gsPath = \"/Users/ari/Downloads/TREC/trec2018/results/goldstandard\"\n",
    "trainYear = \"2017\"\n",
    "testYear = \"2018\""
   ]
  },
  {
   "cell_type": "code",
   "execution_count": 4,
   "metadata": {},
   "outputs": [],
   "source": [
    "gsTrainFile = join(join(gsPath, trainYear),\"20180622processedGoldStandardXMLTXT.tsv\")\n",
    "gsTestFile = join(join(gsPath, testYear),\"20190111processedGoldStandardPub2018.tsv\")"
   ]
  },
  {
   "cell_type": "code",
   "execution_count": 5,
   "metadata": {},
   "outputs": [
    {
     "data": {
      "text/html": [
       "<div>\n",
       "<style scoped>\n",
       "    .dataframe tbody tr th:only-of-type {\n",
       "        vertical-align: middle;\n",
       "    }\n",
       "\n",
       "    .dataframe tbody tr th {\n",
       "        vertical-align: top;\n",
       "    }\n",
       "\n",
       "    .dataframe thead th {\n",
       "        text-align: right;\n",
       "    }\n",
       "</style>\n",
       "<table border=\"1\" class=\"dataframe\">\n",
       "  <thead>\n",
       "    <tr style=\"text-align: right;\">\n",
       "      <th></th>\n",
       "      <th>Unnamed: 0</th>\n",
       "      <th>trec_topic_number</th>\n",
       "      <th>trec_doc_id</th>\n",
       "      <th>pm_rel_desc</th>\n",
       "      <th>disease_desc</th>\n",
       "      <th>gene1_annotation_desc</th>\n",
       "      <th>gene1_name</th>\n",
       "      <th>gene2_annotation_desc</th>\n",
       "      <th>gene2_name</th>\n",
       "      <th>gene3_annotation_desc</th>\n",
       "      <th>...</th>\n",
       "      <th>title</th>\n",
       "      <th>abstract</th>\n",
       "      <th>major_mesh</th>\n",
       "      <th>minor_mesh</th>\n",
       "      <th>trec_topic_disease</th>\n",
       "      <th>trec_topic_age</th>\n",
       "      <th>trec_topic_sex</th>\n",
       "      <th>trec_topic_other1</th>\n",
       "      <th>trec_topic_other2</th>\n",
       "      <th>trec_topic_other3</th>\n",
       "    </tr>\n",
       "  </thead>\n",
       "  <tbody>\n",
       "    <tr>\n",
       "      <th>0</th>\n",
       "      <td>0</td>\n",
       "      <td>1</td>\n",
       "      <td>10065107</td>\n",
       "      <td>Human PM</td>\n",
       "      <td>Exact</td>\n",
       "      <td>Missing Gene</td>\n",
       "      <td>CDK4 Amplification</td>\n",
       "      <td></td>\n",
       "      <td></td>\n",
       "      <td></td>\n",
       "      <td>...</td>\n",
       "      <td>[A case of metastatic liposarcoma originating ...</td>\n",
       "      <td>We reported a 36-year-old woman with metastati...</td>\n",
       "      <td></td>\n",
       "      <td>Adult;Antineoplastic Combined Chemotherapy Pro...</td>\n",
       "      <td>Liposarcoma</td>\n",
       "      <td>38-year-old</td>\n",
       "      <td>male</td>\n",
       "      <td>GERD</td>\n",
       "      <td></td>\n",
       "      <td></td>\n",
       "    </tr>\n",
       "    <tr>\n",
       "      <th>1</th>\n",
       "      <td>1</td>\n",
       "      <td>1</td>\n",
       "      <td>10101594</td>\n",
       "      <td>Human PM</td>\n",
       "      <td>More General</td>\n",
       "      <td>Exact</td>\n",
       "      <td>CDK4 Amplification</td>\n",
       "      <td></td>\n",
       "      <td></td>\n",
       "      <td></td>\n",
       "      <td>...</td>\n",
       "      <td>Analysis of SAS gene and CDK4 and MDM2 protein...</td>\n",
       "      <td>The region q13-15 of chromosome 12 contains SA...</td>\n",
       "      <td>Nuclear Proteins</td>\n",
       "      <td>Adolescent;Adult;Chromosomes, Human, Pair 12;C...</td>\n",
       "      <td>Liposarcoma</td>\n",
       "      <td>38-year-old</td>\n",
       "      <td>male</td>\n",
       "      <td>GERD</td>\n",
       "      <td></td>\n",
       "      <td></td>\n",
       "    </tr>\n",
       "    <tr>\n",
       "      <th>2</th>\n",
       "      <td>2</td>\n",
       "      <td>1</td>\n",
       "      <td>10220412</td>\n",
       "      <td>Human PM</td>\n",
       "      <td>More Specific</td>\n",
       "      <td>Missing Gene</td>\n",
       "      <td>CDK4 Amplification</td>\n",
       "      <td></td>\n",
       "      <td></td>\n",
       "      <td></td>\n",
       "      <td>...</td>\n",
       "      <td>Induction of a secreted protein by the myxoid ...</td>\n",
       "      <td>The TLS-CHOP oncoprotein, found in the majorit...</td>\n",
       "      <td>CCAAT-Enhancer-Binding Proteins;Gene Expressio...</td>\n",
       "      <td>Animals;Cells, Cultured;Cloning, Molecular;DNA...</td>\n",
       "      <td>Liposarcoma</td>\n",
       "      <td>38-year-old</td>\n",
       "      <td>male</td>\n",
       "      <td>GERD</td>\n",
       "      <td></td>\n",
       "      <td></td>\n",
       "    </tr>\n",
       "    <tr>\n",
       "      <th>3</th>\n",
       "      <td>3</td>\n",
       "      <td>1</td>\n",
       "      <td>10323080</td>\n",
       "      <td>Human PM</td>\n",
       "      <td>More General</td>\n",
       "      <td>Exact</td>\n",
       "      <td>CDK4 Amplification</td>\n",
       "      <td></td>\n",
       "      <td></td>\n",
       "      <td></td>\n",
       "      <td>...</td>\n",
       "      <td>Mutations of TP53, amplification of EGFR, MDM2...</td>\n",
       "      <td>We investigated the frequency and mutual relat...</td>\n",
       "      <td>Gene Deletion;Nuclear Proteins</td>\n",
       "      <td>Cyclin-Dependent Kinase 4;Cyclin-Dependent Kin...</td>\n",
       "      <td>Liposarcoma</td>\n",
       "      <td>38-year-old</td>\n",
       "      <td>male</td>\n",
       "      <td>GERD</td>\n",
       "      <td></td>\n",
       "      <td></td>\n",
       "    </tr>\n",
       "    <tr>\n",
       "      <th>4</th>\n",
       "      <td>4</td>\n",
       "      <td>1</td>\n",
       "      <td>10466061</td>\n",
       "      <td>Human PM</td>\n",
       "      <td>Exact</td>\n",
       "      <td>Missing Gene</td>\n",
       "      <td>CDK4 Amplification</td>\n",
       "      <td></td>\n",
       "      <td></td>\n",
       "      <td></td>\n",
       "      <td>...</td>\n",
       "      <td>[A case of advanced retroperitoneal dedifferen...</td>\n",
       "      <td>We report a case of retroperitoneal dedifferen...</td>\n",
       "      <td></td>\n",
       "      <td>Antineoplastic Agents, Alkylating/administrati...</td>\n",
       "      <td>Liposarcoma</td>\n",
       "      <td>38-year-old</td>\n",
       "      <td>male</td>\n",
       "      <td>GERD</td>\n",
       "      <td></td>\n",
       "      <td></td>\n",
       "    </tr>\n",
       "  </tbody>\n",
       "</table>\n",
       "<p>5 rows × 24 columns</p>\n",
       "</div>"
      ],
      "text/plain": [
       "   Unnamed: 0  trec_topic_number trec_doc_id pm_rel_desc   disease_desc  \\\n",
       "0           0                  1    10065107    Human PM          Exact   \n",
       "1           1                  1    10101594    Human PM   More General   \n",
       "2           2                  1    10220412    Human PM  More Specific   \n",
       "3           3                  1    10323080    Human PM   More General   \n",
       "4           4                  1    10466061    Human PM          Exact   \n",
       "\n",
       "  gene1_annotation_desc          gene1_name gene2_annotation_desc gene2_name  \\\n",
       "0          Missing Gene  CDK4 Amplification                                    \n",
       "1                 Exact  CDK4 Amplification                                    \n",
       "2          Missing Gene  CDK4 Amplification                                    \n",
       "3                 Exact  CDK4 Amplification                                    \n",
       "4          Missing Gene  CDK4 Amplification                                    \n",
       "\n",
       "  gene3_annotation_desc        ...         \\\n",
       "0                              ...          \n",
       "1                              ...          \n",
       "2                              ...          \n",
       "3                              ...          \n",
       "4                              ...          \n",
       "\n",
       "                                               title  \\\n",
       "0  [A case of metastatic liposarcoma originating ...   \n",
       "1  Analysis of SAS gene and CDK4 and MDM2 protein...   \n",
       "2  Induction of a secreted protein by the myxoid ...   \n",
       "3  Mutations of TP53, amplification of EGFR, MDM2...   \n",
       "4  [A case of advanced retroperitoneal dedifferen...   \n",
       "\n",
       "                                            abstract  \\\n",
       "0  We reported a 36-year-old woman with metastati...   \n",
       "1  The region q13-15 of chromosome 12 contains SA...   \n",
       "2  The TLS-CHOP oncoprotein, found in the majorit...   \n",
       "3  We investigated the frequency and mutual relat...   \n",
       "4  We report a case of retroperitoneal dedifferen...   \n",
       "\n",
       "                                          major_mesh  \\\n",
       "0                                                      \n",
       "1                                   Nuclear Proteins   \n",
       "2  CCAAT-Enhancer-Binding Proteins;Gene Expressio...   \n",
       "3                     Gene Deletion;Nuclear Proteins   \n",
       "4                                                      \n",
       "\n",
       "                                          minor_mesh trec_topic_disease  \\\n",
       "0  Adult;Antineoplastic Combined Chemotherapy Pro...        Liposarcoma   \n",
       "1  Adolescent;Adult;Chromosomes, Human, Pair 12;C...        Liposarcoma   \n",
       "2  Animals;Cells, Cultured;Cloning, Molecular;DNA...        Liposarcoma   \n",
       "3  Cyclin-Dependent Kinase 4;Cyclin-Dependent Kin...        Liposarcoma   \n",
       "4  Antineoplastic Agents, Alkylating/administrati...        Liposarcoma   \n",
       "\n",
       "  trec_topic_age trec_topic_sex trec_topic_other1 trec_topic_other2  \\\n",
       "0    38-year-old           male              GERD                     \n",
       "1    38-year-old           male              GERD                     \n",
       "2    38-year-old           male              GERD                     \n",
       "3    38-year-old           male              GERD                     \n",
       "4    38-year-old           male              GERD                     \n",
       "\n",
       "  trec_topic_other3  \n",
       "0                    \n",
       "1                    \n",
       "2                    \n",
       "3                    \n",
       "4                    \n",
       "\n",
       "[5 rows x 24 columns]"
      ]
     },
     "execution_count": 5,
     "metadata": {},
     "output_type": "execute_result"
    }
   ],
   "source": [
    "trainData = pd.read_csv(gsTrainFile, sep = '\\t', encoding='utf8', dtype={'trec_doc_id':object})\n",
    "trainData.fillna(\"\", inplace=True)\n",
    "trainData.head()"
   ]
  },
  {
   "cell_type": "code",
   "execution_count": 6,
   "metadata": {},
   "outputs": [
    {
     "data": {
      "text/html": [
       "<div>\n",
       "<style scoped>\n",
       "    .dataframe tbody tr th:only-of-type {\n",
       "        vertical-align: middle;\n",
       "    }\n",
       "\n",
       "    .dataframe tbody tr th {\n",
       "        vertical-align: top;\n",
       "    }\n",
       "\n",
       "    .dataframe thead th {\n",
       "        text-align: right;\n",
       "    }\n",
       "</style>\n",
       "<table border=\"1\" class=\"dataframe\">\n",
       "  <thead>\n",
       "    <tr style=\"text-align: right;\">\n",
       "      <th></th>\n",
       "      <th>Unnamed: 0</th>\n",
       "      <th>trec_topic_number</th>\n",
       "      <th>trec_doc_id</th>\n",
       "      <th>pm_rel_desc</th>\n",
       "      <th>disease_desc</th>\n",
       "      <th>gene1_annotation_desc</th>\n",
       "      <th>gene1_name</th>\n",
       "      <th>gene2_annotation_desc</th>\n",
       "      <th>gene2_name</th>\n",
       "      <th>gene3_annotation_desc</th>\n",
       "      <th>...</th>\n",
       "      <th>demographics_desc</th>\n",
       "      <th>other_desc</th>\n",
       "      <th>relevance_score</th>\n",
       "      <th>title</th>\n",
       "      <th>abstract</th>\n",
       "      <th>major_mesh</th>\n",
       "      <th>minor_mesh</th>\n",
       "      <th>trec_topic_disease</th>\n",
       "      <th>trec_topic_age</th>\n",
       "      <th>trec_topic_sex</th>\n",
       "    </tr>\n",
       "  </thead>\n",
       "  <tbody>\n",
       "    <tr>\n",
       "      <th>0</th>\n",
       "      <td>0</td>\n",
       "      <td>1</td>\n",
       "      <td>1007359</td>\n",
       "      <td>Human PM</td>\n",
       "      <td>More Specific</td>\n",
       "      <td>Missing Gene</td>\n",
       "      <td>BRAF (V600E)</td>\n",
       "      <td></td>\n",
       "      <td></td>\n",
       "      <td></td>\n",
       "      <td>...</td>\n",
       "      <td>Matches</td>\n",
       "      <td>Not Discussed</td>\n",
       "      <td>0</td>\n",
       "      <td>[Primary multiple malignant melanomas of unusu...</td>\n",
       "      <td>In 1975, 117 patients with malignant melanoma ...</td>\n",
       "      <td>Melanoma/pathology;Neoplasms, Multiple Primary...</td>\n",
       "      <td>Adult;Aged;Female;Humans;Male;Middle Aged;Skin...</td>\n",
       "      <td>melanoma</td>\n",
       "      <td>64-year-old</td>\n",
       "      <td>male</td>\n",
       "    </tr>\n",
       "    <tr>\n",
       "      <th>1</th>\n",
       "      <td>1</td>\n",
       "      <td>1</td>\n",
       "      <td>10833951</td>\n",
       "      <td>Human PM</td>\n",
       "      <td>More Specific</td>\n",
       "      <td>Missing Gene</td>\n",
       "      <td>BRAF (V600E)</td>\n",
       "      <td></td>\n",
       "      <td></td>\n",
       "      <td></td>\n",
       "      <td>...</td>\n",
       "      <td>Excludes</td>\n",
       "      <td>Not Discussed</td>\n",
       "      <td>0</td>\n",
       "      <td>[Malignant melanomas and young men].</td>\n",
       "      <td>Medullary thyroid cancer (MTC) is a distinct C...</td>\n",
       "      <td>Melanoma/epidemiology;Melanoma/etiology;Melano...</td>\n",
       "      <td>Adult;Age Factors;Humans;Male;Risk Factors</td>\n",
       "      <td>melanoma</td>\n",
       "      <td>64-year-old</td>\n",
       "      <td>male</td>\n",
       "    </tr>\n",
       "    <tr>\n",
       "      <th>2</th>\n",
       "      <td>2</td>\n",
       "      <td>1</td>\n",
       "      <td>11381855</td>\n",
       "      <td>Human PM</td>\n",
       "      <td>More Specific</td>\n",
       "      <td>Missing Gene</td>\n",
       "      <td>BRAF (V600E)</td>\n",
       "      <td></td>\n",
       "      <td></td>\n",
       "      <td></td>\n",
       "      <td>...</td>\n",
       "      <td>Excludes</td>\n",
       "      <td>Not Discussed</td>\n",
       "      <td>0</td>\n",
       "      <td>Update on malignant melanoma in children.</td>\n",
       "      <td>Malignant melanoma is a rare event in children...</td>\n",
       "      <td>Melanoma/diagnosis;Melanoma/etiology;Melanoma/...</td>\n",
       "      <td>Adolescent;Child;Child, Preschool;Female;Human...</td>\n",
       "      <td>melanoma</td>\n",
       "      <td>64-year-old</td>\n",
       "      <td>male</td>\n",
       "    </tr>\n",
       "    <tr>\n",
       "      <th>3</th>\n",
       "      <td>3</td>\n",
       "      <td>1</td>\n",
       "      <td>1234252</td>\n",
       "      <td>Not PM</td>\n",
       "      <td></td>\n",
       "      <td></td>\n",
       "      <td></td>\n",
       "      <td></td>\n",
       "      <td></td>\n",
       "      <td></td>\n",
       "      <td>...</td>\n",
       "      <td></td>\n",
       "      <td></td>\n",
       "      <td>0</td>\n",
       "      <td>[Triage].</td>\n",
       "      <td>Multiple endocrine neoplasia, type 2B (MEN 2B)...</td>\n",
       "      <td>Disasters;Emergency Medical Services;Triage</td>\n",
       "      <td>Austria;Humans</td>\n",
       "      <td>melanoma</td>\n",
       "      <td>64-year-old</td>\n",
       "      <td>male</td>\n",
       "    </tr>\n",
       "    <tr>\n",
       "      <th>4</th>\n",
       "      <td>4</td>\n",
       "      <td>1</td>\n",
       "      <td>1234878</td>\n",
       "      <td>Not PM</td>\n",
       "      <td></td>\n",
       "      <td></td>\n",
       "      <td></td>\n",
       "      <td></td>\n",
       "      <td></td>\n",
       "      <td></td>\n",
       "      <td>...</td>\n",
       "      <td></td>\n",
       "      <td></td>\n",
       "      <td>0</td>\n",
       "      <td>Malignant melanoma--an overview.</td>\n",
       "      <td>Multiple endocrine neoplasia, type 2B (MEN 2B)...</td>\n",
       "      <td>Melanoma/diagnosis;Melanoma/therapy;Skin Neopl...</td>\n",
       "      <td>Female;Humans;Immunotherapy</td>\n",
       "      <td>melanoma</td>\n",
       "      <td>64-year-old</td>\n",
       "      <td>male</td>\n",
       "    </tr>\n",
       "  </tbody>\n",
       "</table>\n",
       "<p>5 rows × 21 columns</p>\n",
       "</div>"
      ],
      "text/plain": [
       "   Unnamed: 0  trec_topic_number trec_doc_id pm_rel_desc   disease_desc  \\\n",
       "0           0                  1     1007359    Human PM  More Specific   \n",
       "1           1                  1    10833951    Human PM  More Specific   \n",
       "2           2                  1    11381855    Human PM  More Specific   \n",
       "3           3                  1     1234252      Not PM                  \n",
       "4           4                  1     1234878      Not PM                  \n",
       "\n",
       "  gene1_annotation_desc    gene1_name gene2_annotation_desc gene2_name  \\\n",
       "0          Missing Gene  BRAF (V600E)                                    \n",
       "1          Missing Gene  BRAF (V600E)                                    \n",
       "2          Missing Gene  BRAF (V600E)                                    \n",
       "3                                                                        \n",
       "4                                                                        \n",
       "\n",
       "  gene3_annotation_desc      ...       demographics_desc     other_desc  \\\n",
       "0                            ...                 Matches  Not Discussed   \n",
       "1                            ...                Excludes  Not Discussed   \n",
       "2                            ...                Excludes  Not Discussed   \n",
       "3                            ...                                          \n",
       "4                            ...                                          \n",
       "\n",
       "  relevance_score                                              title  \\\n",
       "0               0  [Primary multiple malignant melanomas of unusu...   \n",
       "1               0               [Malignant melanomas and young men].   \n",
       "2               0          Update on malignant melanoma in children.   \n",
       "3               0                                          [Triage].   \n",
       "4               0                   Malignant melanoma--an overview.   \n",
       "\n",
       "                                            abstract  \\\n",
       "0  In 1975, 117 patients with malignant melanoma ...   \n",
       "1  Medullary thyroid cancer (MTC) is a distinct C...   \n",
       "2  Malignant melanoma is a rare event in children...   \n",
       "3  Multiple endocrine neoplasia, type 2B (MEN 2B)...   \n",
       "4  Multiple endocrine neoplasia, type 2B (MEN 2B)...   \n",
       "\n",
       "                                          major_mesh  \\\n",
       "0  Melanoma/pathology;Neoplasms, Multiple Primary...   \n",
       "1  Melanoma/epidemiology;Melanoma/etiology;Melano...   \n",
       "2  Melanoma/diagnosis;Melanoma/etiology;Melanoma/...   \n",
       "3        Disasters;Emergency Medical Services;Triage   \n",
       "4  Melanoma/diagnosis;Melanoma/therapy;Skin Neopl...   \n",
       "\n",
       "                                          minor_mesh trec_topic_disease  \\\n",
       "0  Adult;Aged;Female;Humans;Male;Middle Aged;Skin...           melanoma   \n",
       "1         Adult;Age Factors;Humans;Male;Risk Factors           melanoma   \n",
       "2  Adolescent;Child;Child, Preschool;Female;Human...           melanoma   \n",
       "3                                     Austria;Humans           melanoma   \n",
       "4                        Female;Humans;Immunotherapy           melanoma   \n",
       "\n",
       "  trec_topic_age trec_topic_sex  \n",
       "0    64-year-old           male  \n",
       "1    64-year-old           male  \n",
       "2    64-year-old           male  \n",
       "3    64-year-old           male  \n",
       "4    64-year-old           male  \n",
       "\n",
       "[5 rows x 21 columns]"
      ]
     },
     "execution_count": 6,
     "metadata": {},
     "output_type": "execute_result"
    }
   ],
   "source": [
    "testValData = pd.read_csv(gsTestFile, sep = '\\t', encoding='utf8', dtype={'trec_doc_id':object})\n",
    "testValData.fillna(\"\", inplace=True)\n",
    "testValData.head()"
   ]
  },
  {
   "cell_type": "markdown",
   "metadata": {},
   "source": [
    "# Preprocessing the data"
   ]
  },
  {
   "cell_type": "markdown",
   "metadata": {},
   "source": [
    "## Functions to tokenize, remove stop words, get stemms"
   ]
  },
  {
   "cell_type": "code",
   "execution_count": 7,
   "metadata": {},
   "outputs": [
    {
     "name": "stdout",
     "output_type": "stream",
     "text": [
      "[nltk_data] Downloading package stopwords to /Users/ari/nltk_data...\n",
      "[nltk_data]   Package stopwords is already up-to-date!\n",
      "[nltk_data] Downloading package punkt to /Users/ari/nltk_data...\n",
      "[nltk_data]   Package punkt is already up-to-date!\n"
     ]
    }
   ],
   "source": [
    "# Get Stopwords\n",
    "nltk.download('stopwords')\n",
    "nltk.download('punkt')\n",
    "stopWords = stopwords.words('english')\n",
    "\n",
    "def tokenizePorter(text):\n",
    "    tokens = word_tokenize(text)\n",
    "    stems = []\n",
    "    stemmer = PorterStemmer()\n",
    "    for item in tokens:\n",
    "        if item not in stopWords: \n",
    "            stems.append(stemmer.stem(item))\n",
    "    return ' '.join(stems)\n",
    "\n",
    "def tokenizeSnowball(text):\n",
    "    tokens = word_tokenize(text)\n",
    "    stems = []\n",
    "    stemmer = SnowballStemmer(\"english\")\n",
    "    for item in tokens:\n",
    "        if item not in stopWords: \n",
    "            stems.append(stemmer.stem(item))\n",
    "    return ' '.join(stems)"
   ]
  },
  {
   "cell_type": "markdown",
   "metadata": {},
   "source": [
    "## TrainData"
   ]
  },
  {
   "cell_type": "code",
   "execution_count": 8,
   "metadata": {},
   "outputs": [
    {
     "name": "stderr",
     "output_type": "stream",
     "text": [
      "/anaconda3/lib/python3.6/site-packages/ipykernel_launcher.py:14: SettingWithCopyWarning: \n",
      "A value is trying to be set on a copy of a slice from a DataFrame\n",
      "\n",
      "See the caveats in the documentation: http://pandas.pydata.org/pandas-docs/stable/indexing.html#indexing-view-versus-copy\n",
      "  \n",
      "/anaconda3/lib/python3.6/site-packages/ipykernel_launcher.py:15: SettingWithCopyWarning: \n",
      "A value is trying to be set on a copy of a slice from a DataFrame\n",
      "\n",
      "See the caveats in the documentation: http://pandas.pydata.org/pandas-docs/stable/indexing.html#indexing-view-versus-copy\n",
      "  from ipykernel import kernelapp as app\n"
     ]
    },
    {
     "data": {
      "text/html": [
       "<div>\n",
       "<style scoped>\n",
       "    .dataframe tbody tr th:only-of-type {\n",
       "        vertical-align: middle;\n",
       "    }\n",
       "\n",
       "    .dataframe tbody tr th {\n",
       "        vertical-align: top;\n",
       "    }\n",
       "\n",
       "    .dataframe thead th {\n",
       "        text-align: right;\n",
       "    }\n",
       "</style>\n",
       "<table border=\"1\" class=\"dataframe\">\n",
       "  <thead>\n",
       "    <tr style=\"text-align: right;\">\n",
       "      <th></th>\n",
       "      <th>relevance_score</th>\n",
       "      <th>qid</th>\n",
       "      <th>title_abstract_mesh_stemmed</th>\n",
       "    </tr>\n",
       "  </thead>\n",
       "  <tbody>\n",
       "    <tr>\n",
       "      <th>0</th>\n",
       "      <td>0</td>\n",
       "      <td>1</td>\n",
       "      <td>case metastat liposarcoma origin retroperitoneum success treat combin chemotherapi report 36yearold woman metastat liposarcoma origin retroperitoneum respond well adjuv chemotherapi primari tumor remov surgeri two month later patient develop metastasi brain lung four month later metastat liposarcoma brain general extrem rare patient treat combin chemotherapi use cyclophosphamid vincristin adriamycin dacarbazin cyvad examin former two drug altern vindesin ifosfamid anoth regimen cisplatin etoposid given threeweek interv result metastas total disappear recurr lesion note two year although role chemotherapi liposarcoma well defin littl data support use adjuv set combin chemotherapi seem effect advanc liposarcoma adult antineoplast combin chemotherapi protocol therapeut use brain neoplasm drug therapi brain neoplasm secondari cyclophosphamid administr dosag dacarbazin administr dosag doxorubicin administr dosag drug administr schedul femal human liposarcoma drug therapi liposarcoma secondari lung neoplasm drug therapi lung neoplasm secondari remiss induct retroperiton neoplasm patholog vincristin administr dosag</td>\n",
       "    </tr>\n",
       "    <tr>\n",
       "      <th>1</th>\n",
       "      <td>1</td>\n",
       "      <td>1</td>\n",
       "      <td>analysi sas gene cdk4 mdm2 protein lowgrad osteosarcoma region q1315 chromosom 12 contain sas cdk4 mdm2 gene rearrang amplifi varieti human sarcoma studi evalu sas gene amplif mdm2 cdk4 protein express 20 tumor sampl central lowgrad osteosarcoma 16 primari 3 recurr 1 lung metastasi sas amplif analyz quantit polymeras chain reaction pcr paraffinembed sampl mdm2 cdk4 protein express evalu immunohistochemistri mdm2 cdk4 protein found strong express 35 65 respect sampl sas found amplifi 15 sampl find indic gene may involv tumorigenesi progress lowgrad osteosarcoma nuclear protein adolesc adult chromosom human pair 12 cyclindepend kinas 4 cyclindepend kinas genet cyclindepend kinas metabol dna neoplasm isol purif femal gene express human immunohistochemistri male membran protein genet membran protein metabol middl age neoplasm protein genet neoplasm protein metabol osteosarcoma genet osteosarcoma metabol osteosarcoma patholog polymeras chain reaction protooncogen protein genet protooncogen protein metabol protooncogen protein cmdm2 tetraspanin</td>\n",
       "    </tr>\n",
       "    <tr>\n",
       "      <th>2</th>\n",
       "      <td>0</td>\n",
       "      <td>1</td>\n",
       "      <td>induct secret protein myxoid liposarcoma oncogen tlschop oncoprotein found major human myxoid liposarcoma consist fusion transcript factor chop gadd153 n terminus rnabind protein tls fus clinic correl vitro transform assay indic n terminus tls play import role oncogenesi tlschop howev activ attribut oncoprotein inhibit bind transcript factor c ebp class certain adipogen target gene function tlschop share nononcogen chop protein report isol gene dol54 activ primari fibroblast express tlschop dol54 express neoplast compon human myxoid liposarcoma increas tumorigen cell inject nude mice activ dol54 requir intact dnabind dimer domain tlschop suitabl cellular dimer partner depend tls n terminus normal adipocyt differenti associ earli transient express dol54 gene encod secret protein tight associ cell surfac extracellular matrix tlschop thus lead unschedul express gene normal associ adipocyt differenti ccaatenhancerbind protein gene express regul neoplast rnabind protein fus anim cell cultur clone molecular dnabind protein genet dnabind protein metabol fibroblast metabol human liposarcoma myxoid genet liposarcoma myxoid metabol mice molecular sequenc data neoplasm protein genet neoplasm protein secret nuclear protein genet oncogen protein fusion genet transcript factor chop</td>\n",
       "    </tr>\n",
       "    <tr>\n",
       "      <th>3</th>\n",
       "      <td>1</td>\n",
       "      <td>1</td>\n",
       "      <td>mutat tp53 amplif egfr mdm2 cdk4 delet cdkn2a malign astrocytoma investig frequenc mutual relationship molecular alter 33 malign astrocytoma 28 glioblastoma 5 anaplast astrocytoma genet alter analyz delet cdkn2a p16 gene tp53 mutat amplif egfr mdm2 cdk4 common genet alter egfr amplif reveal 15 case 45 tp53 mutat identifi 9 case 27 cdkn2 p16 delet detect 13 case 41 either mdm2 cdk4 amplif less frequent identifi 4 12 1 3 case respect 15 case show amplif egfr 9 cdkn2 p16 delet 60 p 004 hand cdkn2 p16 delet egfr amplif rare occur tp53 mutat 2 14 case cdkn2 p16 delet 14 result confirm exist least two differ pathway lead format glioblastoma gene delet nuclear protein cyclindepend kinas 4 cyclindepend kinas inhibitor p16 genet cyclindepend kinas genet glioblastoma genet human mutat neoplasm protein genet polymeras chain reaction protooncogen protein genet protooncogen protein cmdm2 receptor epiderm growth factor genet retrospect studi tumor suppressor protein p53 genet</td>\n",
       "    </tr>\n",
       "    <tr>\n",
       "      <th>4</th>\n",
       "      <td>0</td>\n",
       "      <td>1</td>\n",
       "      <td>case advanc retroperiton dedifferenti liposarcoma treat effect highdos ifosfamid report case retroperiton dedifferenti liposarcoma treat effect highdos ifosfamid 59yearold man receiv tumorectomi right nephrectomi retroperiton liposarcoma twentytwo month oper liver metastasi resect incomplet three month later right pleural retroperiton periton metastas appear 6 cycl highdos ifosfamid therapi tumor reduc partial ten cycl chemotherapi administ tumor show regrowth 14 month administr high dose ifosfamid combin chemotherapi ifosfamid doxorubicin etoposid effect regrowth tumor antineoplast agent alkyl administr dosag antineoplast combin chemotherapi protocol therapeut use combin modal therapi drug administr schedul human ifosfamid administr dosag liposarcoma drug therapi liposarcoma secondari liposarcoma surgeri liver neoplasm secondari male middl age periton neoplasm secondari pleural neoplasm secondari retroperiton neoplasm drug therapi retroperiton neoplasm patholog retroperiton neoplasm surgeri</td>\n",
       "    </tr>\n",
       "  </tbody>\n",
       "</table>\n",
       "</div>"
      ],
      "text/plain": [
       "   relevance_score qid  \\\n",
       "0  0                1    \n",
       "1  1                1    \n",
       "2  0                1    \n",
       "3  1                1    \n",
       "4  0                1    \n",
       "\n",
       "                                                                                                                                                                                                                                                                                                                                                                                                                                                                                                                                                                                                                                                                                                                                                                                                                                                                                                                                                                                                                                                                                                                                                                                                                                                                                                                title_abstract_mesh_stemmed  \n",
       "0  case metastat liposarcoma origin retroperitoneum success treat combin chemotherapi report 36yearold woman metastat liposarcoma origin retroperitoneum respond well adjuv chemotherapi primari tumor remov surgeri two month later patient develop metastasi brain lung four month later metastat liposarcoma brain general extrem rare patient treat combin chemotherapi use cyclophosphamid vincristin adriamycin dacarbazin cyvad examin former two drug altern vindesin ifosfamid anoth regimen cisplatin etoposid given threeweek interv result metastas total disappear recurr lesion note two year although role chemotherapi liposarcoma well defin littl data support use adjuv set combin chemotherapi seem effect advanc liposarcoma adult antineoplast combin chemotherapi protocol therapeut use brain neoplasm drug therapi brain neoplasm secondari cyclophosphamid administr dosag dacarbazin administr dosag doxorubicin administr dosag drug administr schedul femal human liposarcoma drug therapi liposarcoma secondari lung neoplasm drug therapi lung neoplasm secondari remiss induct retroperiton neoplasm patholog vincristin administr dosag                                                                                                                                                                     \n",
       "1  analysi sas gene cdk4 mdm2 protein lowgrad osteosarcoma region q1315 chromosom 12 contain sas cdk4 mdm2 gene rearrang amplifi varieti human sarcoma studi evalu sas gene amplif mdm2 cdk4 protein express 20 tumor sampl central lowgrad osteosarcoma 16 primari 3 recurr 1 lung metastasi sas amplif analyz quantit polymeras chain reaction pcr paraffinembed sampl mdm2 cdk4 protein express evalu immunohistochemistri mdm2 cdk4 protein found strong express 35 65 respect sampl sas found amplifi 15 sampl find indic gene may involv tumorigenesi progress lowgrad osteosarcoma nuclear protein adolesc adult chromosom human pair 12 cyclindepend kinas 4 cyclindepend kinas genet cyclindepend kinas metabol dna neoplasm isol purif femal gene express human immunohistochemistri male membran protein genet membran protein metabol middl age neoplasm protein genet neoplasm protein metabol osteosarcoma genet osteosarcoma metabol osteosarcoma patholog polymeras chain reaction protooncogen protein genet protooncogen protein metabol protooncogen protein cmdm2 tetraspanin                                                                                                                                                                                                                                            \n",
       "2  induct secret protein myxoid liposarcoma oncogen tlschop oncoprotein found major human myxoid liposarcoma consist fusion transcript factor chop gadd153 n terminus rnabind protein tls fus clinic correl vitro transform assay indic n terminus tls play import role oncogenesi tlschop howev activ attribut oncoprotein inhibit bind transcript factor c ebp class certain adipogen target gene function tlschop share nononcogen chop protein report isol gene dol54 activ primari fibroblast express tlschop dol54 express neoplast compon human myxoid liposarcoma increas tumorigen cell inject nude mice activ dol54 requir intact dnabind dimer domain tlschop suitabl cellular dimer partner depend tls n terminus normal adipocyt differenti associ earli transient express dol54 gene encod secret protein tight associ cell surfac extracellular matrix tlschop thus lead unschedul express gene normal associ adipocyt differenti ccaatenhancerbind protein gene express regul neoplast rnabind protein fus anim cell cultur clone molecular dnabind protein genet dnabind protein metabol fibroblast metabol human liposarcoma myxoid genet liposarcoma myxoid metabol mice molecular sequenc data neoplasm protein genet neoplasm protein secret nuclear protein genet oncogen protein fusion genet transcript factor chop  \n",
       "3  mutat tp53 amplif egfr mdm2 cdk4 delet cdkn2a malign astrocytoma investig frequenc mutual relationship molecular alter 33 malign astrocytoma 28 glioblastoma 5 anaplast astrocytoma genet alter analyz delet cdkn2a p16 gene tp53 mutat amplif egfr mdm2 cdk4 common genet alter egfr amplif reveal 15 case 45 tp53 mutat identifi 9 case 27 cdkn2 p16 delet detect 13 case 41 either mdm2 cdk4 amplif less frequent identifi 4 12 1 3 case respect 15 case show amplif egfr 9 cdkn2 p16 delet 60 p 004 hand cdkn2 p16 delet egfr amplif rare occur tp53 mutat 2 14 case cdkn2 p16 delet 14 result confirm exist least two differ pathway lead format glioblastoma gene delet nuclear protein cyclindepend kinas 4 cyclindepend kinas inhibitor p16 genet cyclindepend kinas genet glioblastoma genet human mutat neoplasm protein genet polymeras chain reaction protooncogen protein genet protooncogen protein cmdm2 receptor epiderm growth factor genet retrospect studi tumor suppressor protein p53 genet                                                                                                                                                                                                                                                                                                                          \n",
       "4  case advanc retroperiton dedifferenti liposarcoma treat effect highdos ifosfamid report case retroperiton dedifferenti liposarcoma treat effect highdos ifosfamid 59yearold man receiv tumorectomi right nephrectomi retroperiton liposarcoma twentytwo month oper liver metastasi resect incomplet three month later right pleural retroperiton periton metastas appear 6 cycl highdos ifosfamid therapi tumor reduc partial ten cycl chemotherapi administ tumor show regrowth 14 month administr high dose ifosfamid combin chemotherapi ifosfamid doxorubicin etoposid effect regrowth tumor antineoplast agent alkyl administr dosag antineoplast combin chemotherapi protocol therapeut use combin modal therapi drug administr schedul human ifosfamid administr dosag liposarcoma drug therapi liposarcoma secondari liposarcoma surgeri liver neoplasm secondari male middl age periton neoplasm secondari pleural neoplasm secondari retroperiton neoplasm drug therapi retroperiton neoplasm patholog retroperiton neoplasm surgeri                                                                                                                                                                                                                                                                                            "
      ]
     },
     "execution_count": 8,
     "metadata": {},
     "output_type": "execute_result"
    }
   ],
   "source": [
    "pd.options.display.max_rows\n",
    "pd.set_option('display.max_colwidth', -1)\n",
    "\n",
    "# Preprocessing the Text\n",
    "removePunctuation = str.maketrans('\\n', ' ', string.punctuation)\n",
    "\n",
    "# Transforms the text to lower case, remove punctuations, get the stemms of words \n",
    "trainData['title_abstract_mesh'] = trainData[['title', 'abstract', \"major_mesh\", \"minor_mesh\"]].apply(lambda x: ''.join(re.sub(r';|\\/', ' ', x.to_string(index=False).lower()).translate(removePunctuation)), axis=1)\n",
    "trainData['title_abstract_mesh_stemmed'] = trainData['title_abstract_mesh'].apply(tokenizeSnowball)\n",
    "\n",
    "np.unique(trainData['pm_rel_desc'])\n",
    "\n",
    "trainData[\"qid\"] = \"0\"\n",
    "trainData[\"qid\"][trainData[\"pm_rel_desc\"] == \"Human PM\"] = \"1\"\n",
    "trainData[\"qid\"][trainData[\"pm_rel_desc\"] == \"Animal PM\"] = \"1\"\n",
    "\n",
    "trainDataSliced = trainData[['relevance_score','qid','title_abstract_mesh_stemmed']]\n",
    "trainDocId = trainData[['trec_doc_id']]\n",
    "trainDataSliced.head()"
   ]
  },
  {
   "cell_type": "markdown",
   "metadata": {},
   "source": [
    "## Test Data Only (No Validation)"
   ]
  },
  {
   "cell_type": "code",
   "execution_count": null,
   "metadata": {},
   "outputs": [],
   "source": [
    "pd.options.display.max_rows\n",
    "pd.set_option('display.max_colwidth', -1)\n",
    "\n",
    "# Preprocessing the Text\n",
    "removePunctuation = str.maketrans('\\n', ' ', string.punctuation)\n",
    "\n",
    "# Transforms the text to lower case, remove punctuations, get the stemms of words \n",
    "testValData['title_abstract_mesh'] = testValData[['title', 'abstract', \"major_mesh\", \"minor_mesh\"]].apply(lambda x: ''.join(re.sub(r';|\\/', ' ', x.to_string(index=False).lower()).translate(removePunctuation)), axis=1)\n",
    "testValData['title_abstract_mesh_stemmed'] = testValData['title_abstract_mesh'].apply(tokenizeSnowball)\n",
    "\n",
    "np.unique(testValData['pm_rel_desc'])\n",
    "\n",
    "testValData[\"qid\"] = \"0\"\n",
    "testValData[\"qid\"][testValData[\"pm_rel_desc\"] == \"Human PM\"] = \"1\"\n",
    "testValData[\"qid\"][testValData[\"pm_rel_desc\"] == \"Animal PM\"] = \"1\"\n",
    "\n",
    "testData = testValData[['relevance_score','qid','title_abstract_mesh_stemmed']]\n",
    "testDocId = testValData[['trec_doc_id']]\n",
    "testData.head()"
   ]
  },
  {
   "cell_type": "markdown",
   "metadata": {},
   "source": [
    "## Test and Validation Data"
   ]
  },
  {
   "cell_type": "code",
   "execution_count": 9,
   "metadata": {},
   "outputs": [
    {
     "name": "stderr",
     "output_type": "stream",
     "text": [
      "/anaconda3/lib/python3.6/site-packages/ipykernel_launcher.py:14: SettingWithCopyWarning: \n",
      "A value is trying to be set on a copy of a slice from a DataFrame\n",
      "\n",
      "See the caveats in the documentation: http://pandas.pydata.org/pandas-docs/stable/indexing.html#indexing-view-versus-copy\n",
      "  \n",
      "/anaconda3/lib/python3.6/site-packages/ipykernel_launcher.py:15: SettingWithCopyWarning: \n",
      "A value is trying to be set on a copy of a slice from a DataFrame\n",
      "\n",
      "See the caveats in the documentation: http://pandas.pydata.org/pandas-docs/stable/indexing.html#indexing-view-versus-copy\n",
      "  from ipykernel import kernelapp as app\n"
     ]
    }
   ],
   "source": [
    "pd.options.display.max_rows\n",
    "pd.set_option('display.max_colwidth', -1)\n",
    "\n",
    "# Preprocessing the Text\n",
    "removePunctuation = str.maketrans('\\n', ' ', string.punctuation)\n",
    "\n",
    "# Transforms the text to lower case, remove punctuations, get the stemms of words \n",
    "testValData['title_abstract_mesh'] = testValData[['title', 'abstract', \"major_mesh\", \"minor_mesh\"]].apply(lambda x: ''.join(re.sub(r';|\\/', ' ', x.to_string(index=False).lower()).translate(removePunctuation)), axis=1)\n",
    "testValData['title_abstract_mesh_stemmed'] = testValData['title_abstract_mesh'].apply(tokenizeSnowball)\n",
    "\n",
    "np.unique(testValData['pm_rel_desc'])\n",
    "\n",
    "testValData[\"qid\"] = \"0\"\n",
    "testValData[\"qid\"][testValData[\"pm_rel_desc\"] == \"Human PM\"] = \"1\"\n",
    "testValData[\"qid\"][testValData[\"pm_rel_desc\"] == \"Animal PM\"] = \"1\"\n",
    "\n",
    "testValDataSliced = testValData[['relevance_score','qid','title_abstract_mesh_stemmed', 'trec_doc_id']]"
   ]
  },
  {
   "cell_type": "code",
   "execution_count": 10,
   "metadata": {},
   "outputs": [
    {
     "data": {
      "text/html": [
       "<div>\n",
       "<style scoped>\n",
       "    .dataframe tbody tr th:only-of-type {\n",
       "        vertical-align: middle;\n",
       "    }\n",
       "\n",
       "    .dataframe tbody tr th {\n",
       "        vertical-align: top;\n",
       "    }\n",
       "\n",
       "    .dataframe thead th {\n",
       "        text-align: right;\n",
       "    }\n",
       "</style>\n",
       "<table border=\"1\" class=\"dataframe\">\n",
       "  <thead>\n",
       "    <tr style=\"text-align: right;\">\n",
       "      <th></th>\n",
       "      <th>relevance_score</th>\n",
       "      <th>qid</th>\n",
       "      <th>title_abstract_mesh_stemmed</th>\n",
       "      <th>trec_doc_id</th>\n",
       "    </tr>\n",
       "  </thead>\n",
       "  <tbody>\n",
       "    <tr>\n",
       "      <th>0</th>\n",
       "      <td>0</td>\n",
       "      <td>1</td>\n",
       "      <td>primari multipl malign melanoma unusu long durat 1975 117 patient malign melanoma attent depart dermatolog univers cologn three superfici spread melanoma ssm long periodon patient probabl 25 year patient anoth primari malign melanoma develop though metastasi appear ssm give protect melanoma superfici nodular type comparison 70yearold patient pigment tumour 40 year sudden spread five year ago howev least metastas regress form vitiligolik lesion surround deposit melanin macrophag case spontan regress protect patient new metastas lymph node probabl liver well melanoma patholog neoplasm multipl primari patholog skin neoplasm patholog adult age femal human male middl age skin patholog time factor</td>\n",
       "      <td>1007359</td>\n",
       "    </tr>\n",
       "  </tbody>\n",
       "</table>\n",
       "</div>"
      ],
      "text/plain": [
       "   relevance_score qid  \\\n",
       "0  0                1    \n",
       "\n",
       "                                                                                                                                                                                                                                                                                                                                                                                                                                                                                                                                                                                                                                                                                                    title_abstract_mesh_stemmed  \\\n",
       "0  primari multipl malign melanoma unusu long durat 1975 117 patient malign melanoma attent depart dermatolog univers cologn three superfici spread melanoma ssm long periodon patient probabl 25 year patient anoth primari malign melanoma develop though metastasi appear ssm give protect melanoma superfici nodular type comparison 70yearold patient pigment tumour 40 year sudden spread five year ago howev least metastas regress form vitiligolik lesion surround deposit melanin macrophag case spontan regress protect patient new metastas lymph node probabl liver well melanoma patholog neoplasm multipl primari patholog skin neoplasm patholog adult age femal human male middl age skin patholog time factor   \n",
       "\n",
       "  trec_doc_id  \n",
       "0  1007359     "
      ]
     },
     "execution_count": 10,
     "metadata": {},
     "output_type": "execute_result"
    }
   ],
   "source": [
    "testValDataSliced.head(1)"
   ]
  },
  {
   "cell_type": "code",
   "execution_count": 11,
   "metadata": {},
   "outputs": [
    {
     "data": {
      "text/plain": [
       "(16821, 4)"
      ]
     },
     "execution_count": 11,
     "metadata": {},
     "output_type": "execute_result"
    }
   ],
   "source": [
    "# split into validation and testing\n",
    "testDataSliced, valDataSliced, yT, yV = train_test_split(testValDataSliced, testValDataSliced['qid'], test_size=0.25)\n",
    "testDataSliced.shape"
   ]
  },
  {
   "cell_type": "code",
   "execution_count": 12,
   "metadata": {},
   "outputs": [
    {
     "data": {
      "text/plain": [
       "(5608, 4)"
      ]
     },
     "execution_count": 12,
     "metadata": {},
     "output_type": "execute_result"
    }
   ],
   "source": [
    "valDataSliced.shape"
   ]
  },
  {
   "cell_type": "code",
   "execution_count": 13,
   "metadata": {},
   "outputs": [
    {
     "data": {
      "text/html": [
       "<div>\n",
       "<style scoped>\n",
       "    .dataframe tbody tr th:only-of-type {\n",
       "        vertical-align: middle;\n",
       "    }\n",
       "\n",
       "    .dataframe tbody tr th {\n",
       "        vertical-align: top;\n",
       "    }\n",
       "\n",
       "    .dataframe thead th {\n",
       "        text-align: right;\n",
       "    }\n",
       "</style>\n",
       "<table border=\"1\" class=\"dataframe\">\n",
       "  <thead>\n",
       "    <tr style=\"text-align: right;\">\n",
       "      <th></th>\n",
       "      <th>relevance_score</th>\n",
       "      <th>qid</th>\n",
       "      <th>title_abstract_mesh_stemmed</th>\n",
       "      <th>trec_doc_id</th>\n",
       "    </tr>\n",
       "  </thead>\n",
       "  <tbody>\n",
       "    <tr>\n",
       "      <th>22094</th>\n",
       "      <td>0</td>\n",
       "      <td>1</td>\n",
       "      <td>incorpor flt3 inhibitor acut myeloid leukemia treatment regimen fmsliketyrosin kinase3 flt3 mutat found 30 case acut myeloid leukemia confer increas relaps rate reduc overal surviv target tyrosin kinas direct inhibit focus preclin clinic research aml sever molecul clinic develop inhibit flt3 vari degre specif preclin model suggest compound enhanc cytotox convent chemotherapeut flt3 mutant leukemia cell pharmacodynam interact flt3 inhibitor chemotherapi appear sequenc depend flt3 inhibitor use prior chemotherapi antagon display flt3 inhibit institut exposur chemotherapi synergist cytotox seen combin flt3 inhibitor chemotherapi also complic potenti pharmacokinet obstacl plasma protein bind pglycoprotein interact ongo futur studi aim incorpor flt3 inhibitor convent induct consolid therapi specif patient flt3 mutant aml antineoplast agent therapeut use drug interact enzym inhibitor pharmacokinet enzym inhibitor therapeut use human leukemia myeloid acut drug therapi fmslike tyrosin kinas 3 antagonist inhibitor</td>\n",
       "      <td>18452067</td>\n",
       "    </tr>\n",
       "  </tbody>\n",
       "</table>\n",
       "</div>"
      ],
      "text/plain": [
       "       relevance_score qid  \\\n",
       "22094  0                1    \n",
       "\n",
       "                                                                                                                                                                                                                                                                                                                                                                                                                                                                                                                                                                                                                                                                                                                                                                                                                                                                                                                                                                                                                                        title_abstract_mesh_stemmed  \\\n",
       "22094  incorpor flt3 inhibitor acut myeloid leukemia treatment regimen fmsliketyrosin kinase3 flt3 mutat found 30 case acut myeloid leukemia confer increas relaps rate reduc overal surviv target tyrosin kinas direct inhibit focus preclin clinic research aml sever molecul clinic develop inhibit flt3 vari degre specif preclin model suggest compound enhanc cytotox convent chemotherapeut flt3 mutant leukemia cell pharmacodynam interact flt3 inhibitor chemotherapi appear sequenc depend flt3 inhibitor use prior chemotherapi antagon display flt3 inhibit institut exposur chemotherapi synergist cytotox seen combin flt3 inhibitor chemotherapi also complic potenti pharmacokinet obstacl plasma protein bind pglycoprotein interact ongo futur studi aim incorpor flt3 inhibitor convent induct consolid therapi specif patient flt3 mutant aml antineoplast agent therapeut use drug interact enzym inhibitor pharmacokinet enzym inhibitor therapeut use human leukemia myeloid acut drug therapi fmslike tyrosin kinas 3 antagonist inhibitor   \n",
       "\n",
       "      trec_doc_id  \n",
       "22094  18452067    "
      ]
     },
     "execution_count": 13,
     "metadata": {},
     "output_type": "execute_result"
    }
   ],
   "source": [
    "valDataSliced.head(1)"
   ]
  },
  {
   "cell_type": "code",
   "execution_count": 14,
   "metadata": {},
   "outputs": [
    {
     "data": {
      "text/plain": [
       "(16821, 3)"
      ]
     },
     "execution_count": 14,
     "metadata": {},
     "output_type": "execute_result"
    }
   ],
   "source": [
    "testDocId = testDataSliced[['trec_doc_id']]\n",
    "testData = testDataSliced[['relevance_score','qid','title_abstract_mesh_stemmed']]\n",
    "testData.shape"
   ]
  },
  {
   "cell_type": "code",
   "execution_count": 15,
   "metadata": {},
   "outputs": [
    {
     "data": {
      "text/plain": [
       "(5608, 3)"
      ]
     },
     "execution_count": 15,
     "metadata": {},
     "output_type": "execute_result"
    }
   ],
   "source": [
    "valDocId = valDataSliced[['trec_doc_id']]\n",
    "valData = valDataSliced[['relevance_score','qid','title_abstract_mesh_stemmed']]\n",
    "valData.shape"
   ]
  },
  {
   "cell_type": "markdown",
   "metadata": {},
   "source": [
    "## TDIFD weighting"
   ]
  },
  {
   "cell_type": "markdown",
   "metadata": {},
   "source": [
    "### N_word = 1000 and min_df"
   ]
  },
  {
   "cell_type": "code",
   "execution_count": 16,
   "metadata": {},
   "outputs": [],
   "source": [
    "min_df = 0.1\n",
    "n_words = 10000\n",
    "tvec = TfidfVectorizer(max_features = n_words)"
   ]
  },
  {
   "cell_type": "code",
   "execution_count": 17,
   "metadata": {},
   "outputs": [],
   "source": [
    "tvec = TfidfVectorizer(max_features = n_words, min_df = min_df)"
   ]
  },
  {
   "cell_type": "markdown",
   "metadata": {},
   "source": [
    "### Train File"
   ]
  },
  {
   "cell_type": "code",
   "execution_count": 18,
   "metadata": {},
   "outputs": [],
   "source": [
    "trainWeights = tvec.fit_transform(trainDataSliced['title_abstract_mesh_stemmed'])\n",
    "trainScore = pd.DataFrame(trainWeights.toarray(), columns=tvec.get_feature_names())\n",
    "trainVoc = tvec.vocabulary_"
   ]
  },
  {
   "cell_type": "code",
   "execution_count": 19,
   "metadata": {},
   "outputs": [
    {
     "data": {
      "text/plain": [
       "(22642, 27)"
      ]
     },
     "execution_count": 19,
     "metadata": {},
     "output_type": "execute_result"
    }
   ],
   "source": [
    "trainData.shape"
   ]
  },
  {
   "cell_type": "code",
   "execution_count": 20,
   "metadata": {},
   "outputs": [
    {
     "data": {
      "text/html": [
       "<div>\n",
       "<style scoped>\n",
       "    .dataframe tbody tr th:only-of-type {\n",
       "        vertical-align: middle;\n",
       "    }\n",
       "\n",
       "    .dataframe tbody tr th {\n",
       "        vertical-align: top;\n",
       "    }\n",
       "\n",
       "    .dataframe thead th {\n",
       "        text-align: right;\n",
       "    }\n",
       "</style>\n",
       "<table border=\"1\" class=\"dataframe\">\n",
       "  <thead>\n",
       "    <tr style=\"text-align: right;\">\n",
       "      <th></th>\n",
       "      <th>relevance_score</th>\n",
       "      <th>qid</th>\n",
       "      <th>10</th>\n",
       "      <th>12</th>\n",
       "      <th>20</th>\n",
       "      <th>80</th>\n",
       "      <th>activ</th>\n",
       "      <th>addit</th>\n",
       "      <th>adenocarcinoma</th>\n",
       "      <th>adult</th>\n",
       "      <th>...</th>\n",
       "      <th>trial</th>\n",
       "      <th>tumor</th>\n",
       "      <th>two</th>\n",
       "      <th>type</th>\n",
       "      <th>tyrosin</th>\n",
       "      <th>use</th>\n",
       "      <th>well</th>\n",
       "      <th>without</th>\n",
       "      <th>year</th>\n",
       "      <th>trec_doc_id</th>\n",
       "    </tr>\n",
       "  </thead>\n",
       "  <tbody>\n",
       "    <tr>\n",
       "      <th>18731</th>\n",
       "      <td>0</td>\n",
       "      <td>0</td>\n",
       "      <td>0.0</td>\n",
       "      <td>0.372092</td>\n",
       "      <td>0.0</td>\n",
       "      <td>0.05491</td>\n",
       "      <td>0.044095</td>\n",
       "      <td>0.106621</td>\n",
       "      <td>0.0</td>\n",
       "      <td>0.044824</td>\n",
       "      <td>...</td>\n",
       "      <td>0.0</td>\n",
       "      <td>0.02902</td>\n",
       "      <td>0.051121</td>\n",
       "      <td>0.0</td>\n",
       "      <td>0.0</td>\n",
       "      <td>0.0</td>\n",
       "      <td>0.0</td>\n",
       "      <td>0.0</td>\n",
       "      <td>0.0</td>\n",
       "      <td>2064725</td>\n",
       "    </tr>\n",
       "  </tbody>\n",
       "</table>\n",
       "<p>1 rows × 212 columns</p>\n",
       "</div>"
      ],
      "text/plain": [
       "       relevance_score qid   10        12   20       80     activ     addit  \\\n",
       "18731  0                0   0.0  0.372092  0.0  0.05491  0.044095  0.106621   \n",
       "\n",
       "       adenocarcinoma     adult     ...       trial    tumor       two  type  \\\n",
       "18731  0.0             0.044824     ...       0.0    0.02902  0.051121  0.0    \n",
       "\n",
       "       tyrosin  use  well  without  year  trec_doc_id  \n",
       "18731  0.0      0.0  0.0   0.0      0.0   2064725      \n",
       "\n",
       "[1 rows x 212 columns]"
      ]
     },
     "execution_count": 20,
     "metadata": {},
     "output_type": "execute_result"
    }
   ],
   "source": [
    "resTrain = pd.concat([trainDataSliced, trainScore, trainDocId], axis=1)\n",
    "trainFinal = resTrain.drop(['title_abstract_mesh_stemmed'], axis=1)\n",
    "trainFinal = trainFinal.sort_values('qid')\n",
    "trainFinal.head(1)"
   ]
  },
  {
   "cell_type": "code",
   "execution_count": 21,
   "metadata": {},
   "outputs": [
    {
     "data": {
      "text/plain": [
       "(22642, 212)"
      ]
     },
     "execution_count": 21,
     "metadata": {},
     "output_type": "execute_result"
    }
   ],
   "source": [
    "trainFinal.shape"
   ]
  },
  {
   "cell_type": "code",
   "execution_count": 22,
   "metadata": {},
   "outputs": [],
   "source": [
    "rankTrain = trainFinal.to_dict('records')"
   ]
  },
  {
   "cell_type": "code",
   "execution_count": 23,
   "metadata": {},
   "outputs": [],
   "source": [
    "f = open(\"train.txt\", \"w\")\n",
    "\n",
    "for item in rankTrain:\n",
    "    for i,val in item.items():\n",
    "        if(i == \"relevance_score\"):\n",
    "            f.write(str(val)+\" \")\n",
    "        elif(i == \"trec_doc_id\"):\n",
    "            f.write('# '+str(val))\n",
    "        elif(i == \"qid\"):\n",
    "            f.write(str(i)+\":\"+str(val)+\" \")\n",
    "        else:\n",
    "            j = tvec.vocabulary_[i] + 1\n",
    "            f.write(str(j)+\":\"+str(val)+\" \")\n",
    "    f.write(\"\\n\")    \n",
    "f.close()"
   ]
  },
  {
   "cell_type": "markdown",
   "metadata": {},
   "source": [
    "### Test File"
   ]
  },
  {
   "cell_type": "code",
   "execution_count": 24,
   "metadata": {},
   "outputs": [],
   "source": [
    "tvec = TfidfVectorizer(vocabulary = trainVoc)\n",
    "testWeights = tvec.fit_transform(testData['title_abstract_mesh_stemmed'])\n",
    "testScore = pd.DataFrame(testWeights.toarray(), columns=tvec.get_feature_names())\n",
    "testScore.fillna(\"\", inplace=True)"
   ]
  },
  {
   "cell_type": "code",
   "execution_count": 25,
   "metadata": {},
   "outputs": [],
   "source": [
    "# if split into test and val\n",
    "testData.reset_index(drop=True, inplace=True)\n",
    "testScore.reset_index(drop=True, inplace=True)\n",
    "testDocId.reset_index(drop=True, inplace=True)"
   ]
  },
  {
   "cell_type": "code",
   "execution_count": 26,
   "metadata": {},
   "outputs": [
    {
     "data": {
      "text/plain": [
       "(16821, 213)"
      ]
     },
     "execution_count": 26,
     "metadata": {},
     "output_type": "execute_result"
    }
   ],
   "source": [
    "resTest = pd.concat([testData, testScore, testDocId], axis=1)\n",
    "resTest.shape"
   ]
  },
  {
   "cell_type": "code",
   "execution_count": 27,
   "metadata": {},
   "outputs": [
    {
     "data": {
      "text/html": [
       "<div>\n",
       "<style scoped>\n",
       "    .dataframe tbody tr th:only-of-type {\n",
       "        vertical-align: middle;\n",
       "    }\n",
       "\n",
       "    .dataframe tbody tr th {\n",
       "        vertical-align: top;\n",
       "    }\n",
       "\n",
       "    .dataframe thead th {\n",
       "        text-align: right;\n",
       "    }\n",
       "</style>\n",
       "<table border=\"1\" class=\"dataframe\">\n",
       "  <thead>\n",
       "    <tr style=\"text-align: right;\">\n",
       "      <th></th>\n",
       "      <th>relevance_score</th>\n",
       "      <th>qid</th>\n",
       "      <th>10</th>\n",
       "      <th>12</th>\n",
       "      <th>20</th>\n",
       "      <th>80</th>\n",
       "      <th>activ</th>\n",
       "      <th>addit</th>\n",
       "      <th>adenocarcinoma</th>\n",
       "      <th>adult</th>\n",
       "      <th>...</th>\n",
       "      <th>trial</th>\n",
       "      <th>tumor</th>\n",
       "      <th>two</th>\n",
       "      <th>type</th>\n",
       "      <th>tyrosin</th>\n",
       "      <th>use</th>\n",
       "      <th>well</th>\n",
       "      <th>without</th>\n",
       "      <th>year</th>\n",
       "      <th>trec_doc_id</th>\n",
       "    </tr>\n",
       "  </thead>\n",
       "  <tbody>\n",
       "    <tr>\n",
       "      <th>0</th>\n",
       "      <td>0</td>\n",
       "      <td>0</td>\n",
       "      <td>0.0</td>\n",
       "      <td>0.0</td>\n",
       "      <td>0.0</td>\n",
       "      <td>0.073791</td>\n",
       "      <td>0.0</td>\n",
       "      <td>0.0</td>\n",
       "      <td>0.0</td>\n",
       "      <td>0.115353</td>\n",
       "      <td>...</td>\n",
       "      <td>0.0</td>\n",
       "      <td>0.0</td>\n",
       "      <td>0.0</td>\n",
       "      <td>0.0</td>\n",
       "      <td>0.0</td>\n",
       "      <td>0.0</td>\n",
       "      <td>0.0</td>\n",
       "      <td>0.084053</td>\n",
       "      <td>0.0</td>\n",
       "      <td>26818209</td>\n",
       "    </tr>\n",
       "  </tbody>\n",
       "</table>\n",
       "<p>1 rows × 212 columns</p>\n",
       "</div>"
      ],
      "text/plain": [
       "   relevance_score qid   10   12   20        80  activ  addit  adenocarcinoma  \\\n",
       "0  0                0   0.0  0.0  0.0  0.073791  0.0    0.0    0.0              \n",
       "\n",
       "      adult     ...       trial  tumor  two  type  tyrosin  use  well  \\\n",
       "0  0.115353     ...       0.0    0.0    0.0  0.0   0.0      0.0  0.0    \n",
       "\n",
       "    without  year  trec_doc_id  \n",
       "0  0.084053  0.0   26818209     \n",
       "\n",
       "[1 rows x 212 columns]"
      ]
     },
     "execution_count": 27,
     "metadata": {},
     "output_type": "execute_result"
    }
   ],
   "source": [
    "testFinal = resTest.drop(['title_abstract_mesh_stemmed'], axis=1)\n",
    "testFinal = testFinal.sort_values('qid')\n",
    "testFinal.head(1)"
   ]
  },
  {
   "cell_type": "code",
   "execution_count": 28,
   "metadata": {},
   "outputs": [],
   "source": [
    "rankTest = testFinal.to_dict('records')"
   ]
  },
  {
   "cell_type": "code",
   "execution_count": 29,
   "metadata": {},
   "outputs": [],
   "source": [
    "f = open(\"test.txt\", \"w\")\n",
    "\n",
    "for item in rankTest:\n",
    "    for i,val in item.items():\n",
    "        if(i == \"relevance_score\"):\n",
    "            f.write(str(val)+\" \")\n",
    "        elif(i == \"trec_doc_id\"):\n",
    "            f.write('# '+str(val))\n",
    "        elif(i == \"qid\"):\n",
    "            f.write(str(i)+\":\"+str(val)+\" \")\n",
    "        else:\n",
    "            j = tvec.vocabulary_[i] + 1\n",
    "            f.write(str(j)+\":\"+str(val)+\" \")\n",
    "    f.write(\"\\n\")    \n",
    "f.close()"
   ]
  },
  {
   "cell_type": "markdown",
   "metadata": {},
   "source": [
    "### Evaluation File"
   ]
  },
  {
   "cell_type": "code",
   "execution_count": 30,
   "metadata": {},
   "outputs": [],
   "source": [
    "tvec = TfidfVectorizer(vocabulary = trainVoc)\n",
    "valWeights = tvec.fit_transform(valData['title_abstract_mesh_stemmed'])\n",
    "valScore = pd.DataFrame(valWeights.toarray(), columns=tvec.get_feature_names())"
   ]
  },
  {
   "cell_type": "code",
   "execution_count": 31,
   "metadata": {},
   "outputs": [],
   "source": [
    "valData.reset_index(drop=True, inplace=True)\n",
    "valScore.reset_index(drop=True, inplace=True)\n",
    "valDocId.reset_index(drop=True, inplace=True)"
   ]
  },
  {
   "cell_type": "code",
   "execution_count": 32,
   "metadata": {},
   "outputs": [
    {
     "data": {
      "text/plain": [
       "(5608, 212)"
      ]
     },
     "execution_count": 32,
     "metadata": {},
     "output_type": "execute_result"
    }
   ],
   "source": [
    "resVal = pd.concat([valData, valScore, valDocId], axis=1)\n",
    "valFinal = resVal.drop(['title_abstract_mesh_stemmed'], axis=1)\n",
    "valFinal = valFinal.sort_values('qid')\n",
    "valFinal.shape"
   ]
  },
  {
   "cell_type": "code",
   "execution_count": 33,
   "metadata": {},
   "outputs": [],
   "source": [
    "rankVal = valFinal.to_dict('records')"
   ]
  },
  {
   "cell_type": "code",
   "execution_count": 34,
   "metadata": {},
   "outputs": [],
   "source": [
    "f = open(\"vali.txt\", \"w\")\n",
    "\n",
    "for item in rankTest:\n",
    "    for i,val in item.items():\n",
    "        if(i == \"relevance_score\"):\n",
    "            f.write(str(val)+\" \")\n",
    "        elif(i == \"trec_doc_id\"):\n",
    "            f.write('# '+str(val))\n",
    "        elif(i == \"qid\"):\n",
    "            f.write(str(i)+\":\"+str(val)+\" \")\n",
    "        else:\n",
    "            j = tvec.vocabulary_[i] + 1\n",
    "            f.write(str(j)+\":\"+str(val)+\" \")\n",
    "    f.write(\"\\n\")    \n",
    "f.close()"
   ]
  },
  {
   "cell_type": "markdown",
   "metadata": {},
   "source": [
    "# L2R"
   ]
  },
  {
   "cell_type": "code",
   "execution_count": 54,
   "metadata": {},
   "outputs": [
    {
     "name": "stdout",
     "output_type": "stream",
     "text": [
      "Articles-tfidf.ipynb                  Result-Analysis.ipynb\r\n",
      "CombineKeyWords.ipynb                 disease1718Diff.ipynb\r\n",
      "L2R.ipynb                             pm_study.ipynb\r\n",
      "PreProcess_GoldStandard_TXT.ipynb     test.txt\r\n",
      "PreProcess_GoldStandard_XML.ipynb     train.txt\r\n",
      "PreProcess_GoldStandard_XML_CT.ipynb  vali.txt\r\n"
     ]
    }
   ],
   "source": [
    "%ls"
   ]
  },
  {
   "cell_type": "code",
   "execution_count": 55,
   "metadata": {},
   "outputs": [],
   "source": [
    "metric = pyltr.metrics.NDCG(k=10)\n",
    "\n",
    "model = pyltr.models.LambdaMART(\n",
    "    metric=metric,\n",
    "    n_estimators=1000,\n",
    "    learning_rate=0.02,\n",
    "    max_features=0.5,\n",
    "    query_subsample=0.5,\n",
    "    max_leaf_nodes=10,\n",
    "    min_samples_leaf=64,\n",
    "    verbose=1,\n",
    ")"
   ]
  },
  {
   "cell_type": "markdown",
   "metadata": {},
   "source": [
    "# No validation"
   ]
  },
  {
   "cell_type": "code",
   "execution_count": null,
   "metadata": {},
   "outputs": [],
   "source": [
    "with open('train.txt') as trainfile, open('test.txt') as evalfile:\n",
    "    TrainX, Trainy, TrainQids, _ = pyltr.data.letor.read_dataset(trainfile)\n",
    "    EvalX, Evaly, EvalQids, _ = pyltr.data.letor.read_dataset(evalfile)"
   ]
  },
  {
   "cell_type": "code",
   "execution_count": null,
   "metadata": {},
   "outputs": [],
   "source": [
    "# without validation\n",
    "model.fit(TrainX, Trainy, TrainQids)"
   ]
  },
  {
   "cell_type": "markdown",
   "metadata": {},
   "source": [
    "# With Validation"
   ]
  },
  {
   "cell_type": "code",
   "execution_count": 56,
   "metadata": {},
   "outputs": [],
   "source": [
    "with open('train.txt') as trainfile, open('vali.txt') as valifile, open('test.txt') as evalfile:\n",
    "    TrainX, Trainy, TrainQids, _ = pyltr.data.letor.read_dataset(trainfile)\n",
    "    ValX, Valy, ValQids, _ = pyltr.data.letor.read_dataset(valifile)\n",
    "    EvalX, Evaly, EvalQids, _ = pyltr.data.letor.read_dataset(evalfile)"
   ]
  },
  {
   "cell_type": "code",
   "execution_count": 57,
   "metadata": {},
   "outputs": [],
   "source": [
    "# Only needed if you want to perform validation (early stopping & trimming)\n",
    "monitor = pyltr.models.monitors.ValidationMonitor(ValX, Valy, ValQids, metric=metric, stop_after=250)"
   ]
  },
  {
   "cell_type": "code",
   "execution_count": 58,
   "metadata": {},
   "outputs": [
    {
     "name": "stdout",
     "output_type": "stream",
     "text": [
      " Iter  Train score  OOB Improve    Remaining                           Monitor Output \n",
      "    1       0.0000       0.0000        4.83m      C:      0.0000 B:      0.0000 S:  0\n",
      "    2       0.0000       0.0000        4.53m      C:      0.0000 B:      0.0000 S:  1\n",
      "    3       0.0000       0.0000        6.53m      C:      0.0000 B:      0.0000 S:  2\n",
      "    4       0.0000       0.0000        7.57m      C:      0.0000 B:      0.0000 S:  3\n",
      "    5       0.0000       0.0000        6.87m      C:      0.0000 B:      0.0000 S:  4\n",
      "    6       0.0000       0.0000        6.42m      C:      0.0000 B:      0.0000 S:  5\n",
      "    7       0.2201       0.0000        7.08m      C:      0.0000 B:      0.0000 S:  6\n",
      "    8       0.0000       0.0000        6.83m      C:      0.0000 B:      0.0000 S:  7\n",
      "    9       0.2201       0.0000        7.43m      C:      0.0000 B:      0.0000 S:  8\n",
      "   10       0.2201       0.0000        7.83m      C:      0.0000 B:      0.0000 S:  9\n",
      "   15       0.0000       0.0000        8.24m      C:      0.0727 B:      0.2126 S:  4\n",
      "   20       1.0000       0.0000        8.46m      C:      0.2807 B:      0.2807 S:  2\n",
      "   25       0.0000       0.0000        7.89m      C:      0.3105 B:      0.3105 S:  1\n",
      "   30       0.0000       0.0000        7.84m      C:      0.3437 B:      0.3437 S:  4\n",
      "   35       0.0000       0.0000        7.84m      C:      0.3119 B:      0.3437 S:  9\n",
      "   40       1.0000       0.0000        8.26m      C:      0.3154 B:      0.3437 S: 14\n",
      "   45       1.0000       0.0000        8.65m      C:      0.2807 B:      0.3437 S: 19\n",
      "   50       1.0000       0.0000        8.52m      C:      0.2807 B:      0.3437 S: 24\n",
      "   60       0.0000       0.0000        8.46m      C:      0.3023 B:      0.3437 S: 34\n",
      "   70       0.0000       0.0000        8.46m      C:      0.2845 B:      0.3437 S: 44\n",
      "   80       1.0000       0.0000        8.38m      C:      0.2527 B:      0.3437 S: 54\n",
      "   90       0.0000       0.0000        8.18m      C:      0.2845 B:      0.3437 S: 64\n",
      "  100       1.0000       0.0000        8.18m      C:      0.2845 B:      0.3437 S: 74\n",
      "  120       0.0000       0.0000        7.79m      C:      0.2845 B:      0.3437 S: 94\n",
      "  140       1.0000       0.0000        7.59m      C:      0.2845 B:      0.3437 S:114\n",
      "  160       1.0000       0.0000        7.45m      C:      0.2845 B:      0.3437 S:134\n",
      "  180       0.0000       0.0000        7.18m      C:      0.2845 B:      0.3437 S:154\n",
      "  200       0.0000       0.0000        7.09m      C:      0.2895 B:      0.3437 S:174\n",
      "  220       1.0000       0.0000        7.04m      C:      0.2895 B:      0.3437 S:194\n",
      "  240       0.0000       0.0000        6.76m      C:      0.2895 B:      0.3437 S:214\n",
      "  260       0.0000       0.0000        6.55m      C:      0.2895 B:      0.3437 S:234\n",
      "Early termination at iteration  275\n"
     ]
    },
    {
     "data": {
      "text/plain": [
       "<pyltr.models.lambdamart.LambdaMART at 0x1a126eb4e0>"
      ]
     },
     "execution_count": 58,
     "metadata": {},
     "output_type": "execute_result"
    }
   ],
   "source": [
    "# with validation\n",
    "model.fit(TrainX, Trainy, TrainQids, monitor=monitor)"
   ]
  },
  {
   "cell_type": "code",
   "execution_count": 59,
   "metadata": {},
   "outputs": [
    {
     "name": "stdout",
     "output_type": "stream",
     "text": [
      "Random ranking: 0.22469509267262078\n",
      "Our model: 0.3436666355597751\n"
     ]
    }
   ],
   "source": [
    "Epred = model.predict(EvalX)\n",
    "print('Random ranking:', metric.calc_mean_random(EvalQids, Evaly))\n",
    "print('Our model:', metric.calc_mean(EvalQids, Evaly, Epred))"
   ]
  },
  {
   "cell_type": "code",
   "execution_count": 60,
   "metadata": {},
   "outputs": [
    {
     "name": "stdout",
     "output_type": "stream",
     "text": [
      "[0.00000000e+00 0.00000000e+00 0.00000000e+00 0.00000000e+00\n",
      " 0.00000000e+00 0.00000000e+00 0.00000000e+00 0.00000000e+00\n",
      " 0.00000000e+00 0.00000000e+00 0.00000000e+00 0.00000000e+00\n",
      " 0.00000000e+00 0.00000000e+00 0.00000000e+00 0.00000000e+00\n",
      " 5.18572342e-02 8.53630134e-03 0.00000000e+00 0.00000000e+00\n",
      " 0.00000000e+00 0.00000000e+00 0.00000000e+00 8.66623063e-03\n",
      " 0.00000000e+00 0.00000000e+00 1.34518633e-06 2.82658096e-05\n",
      " 3.64541710e-03 0.00000000e+00 1.44015742e-02 0.00000000e+00\n",
      " 0.00000000e+00 0.00000000e+00 8.69227036e-02 1.08284719e-06\n",
      " 0.00000000e+00 0.00000000e+00 0.00000000e+00 0.00000000e+00\n",
      " 2.24912207e-03 0.00000000e+00 0.00000000e+00 0.00000000e+00\n",
      " 0.00000000e+00 0.00000000e+00 0.00000000e+00 0.00000000e+00\n",
      " 0.00000000e+00 0.00000000e+00 0.00000000e+00 0.00000000e+00\n",
      " 0.00000000e+00 0.00000000e+00 0.00000000e+00 0.00000000e+00\n",
      " 0.00000000e+00 1.98512508e-05 0.00000000e+00 0.00000000e+00\n",
      " 0.00000000e+00 0.00000000e+00 6.50529001e-05 0.00000000e+00\n",
      " 0.00000000e+00 0.00000000e+00 0.00000000e+00 0.00000000e+00\n",
      " 0.00000000e+00 0.00000000e+00 0.00000000e+00 0.00000000e+00\n",
      " 1.81750388e-06 0.00000000e+00 0.00000000e+00 0.00000000e+00\n",
      " 0.00000000e+00 0.00000000e+00 0.00000000e+00 2.33020303e-06\n",
      " 0.00000000e+00 0.00000000e+00 0.00000000e+00 0.00000000e+00\n",
      " 0.00000000e+00 0.00000000e+00 0.00000000e+00 0.00000000e+00\n",
      " 0.00000000e+00 0.00000000e+00 3.74142996e-02 0.00000000e+00\n",
      " 0.00000000e+00 0.00000000e+00 1.16743583e-05 0.00000000e+00\n",
      " 0.00000000e+00 0.00000000e+00 0.00000000e+00 1.83504318e-06\n",
      " 8.52453828e-03 0.00000000e+00 0.00000000e+00 0.00000000e+00\n",
      " 0.00000000e+00 0.00000000e+00 0.00000000e+00 0.00000000e+00\n",
      " 8.60073311e-03 3.55359700e-06 9.08188479e-03 0.00000000e+00\n",
      " 0.00000000e+00 0.00000000e+00 0.00000000e+00 0.00000000e+00\n",
      " 3.77328265e-02 6.53340333e-03 0.00000000e+00 0.00000000e+00\n",
      " 0.00000000e+00 0.00000000e+00 0.00000000e+00 0.00000000e+00\n",
      " 0.00000000e+00 0.00000000e+00 0.00000000e+00 0.00000000e+00\n",
      " 0.00000000e+00 0.00000000e+00 2.65931402e-05 7.70150316e-04\n",
      " 0.00000000e+00 0.00000000e+00 0.00000000e+00 0.00000000e+00\n",
      " 0.00000000e+00 0.00000000e+00 1.07599969e-01 0.00000000e+00\n",
      " 0.00000000e+00 0.00000000e+00 0.00000000e+00 0.00000000e+00\n",
      " 4.24188614e-04 0.00000000e+00 0.00000000e+00 0.00000000e+00\n",
      " 6.10538433e-04 0.00000000e+00 0.00000000e+00 0.00000000e+00\n",
      " 6.10987419e-04 0.00000000e+00 0.00000000e+00 0.00000000e+00\n",
      " 0.00000000e+00 0.00000000e+00 0.00000000e+00 0.00000000e+00\n",
      " 0.00000000e+00 0.00000000e+00 0.00000000e+00 0.00000000e+00\n",
      " 0.00000000e+00 0.00000000e+00 0.00000000e+00 0.00000000e+00\n",
      " 0.00000000e+00 0.00000000e+00 0.00000000e+00 0.00000000e+00\n",
      " 0.00000000e+00 0.00000000e+00 0.00000000e+00 0.00000000e+00\n",
      " 1.62048475e-02 0.00000000e+00 0.00000000e+00 0.00000000e+00\n",
      " 0.00000000e+00 0.00000000e+00 2.46988702e-04 0.00000000e+00\n",
      " 0.00000000e+00 0.00000000e+00 1.09256841e-02 0.00000000e+00\n",
      " 0.00000000e+00 0.00000000e+00 0.00000000e+00 0.00000000e+00\n",
      " 0.00000000e+00 0.00000000e+00 0.00000000e+00 0.00000000e+00\n",
      " 0.00000000e+00 0.00000000e+00 0.00000000e+00 0.00000000e+00\n",
      " 3.99343948e-02 2.17784582e-02 0.00000000e+00 1.63062456e-03\n",
      " 0.00000000e+00 1.49334983e-02 0.00000000e+00 0.00000000e+00\n",
      " 0.00000000e+00]\n"
     ]
    }
   ],
   "source": [
    "print(model.feature_importances_)"
   ]
  },
  {
   "cell_type": "code",
   "execution_count": 61,
   "metadata": {},
   "outputs": [
    {
     "data": {
      "text/plain": [
       "array([  0, 128, 129, 132, 133, 134, 135, 136, 137, 139, 140, 141, 142,\n",
       "       143, 145, 146, 147, 149, 150, 151, 127, 126, 125, 124,  97,  98,\n",
       "       101, 102, 103, 207, 105, 106, 107, 153, 111, 113, 114, 115, 118,\n",
       "       119, 120, 121, 122, 123, 112,  96, 154, 156, 183, 184, 185, 187,\n",
       "       188, 189, 190, 191, 192, 193, 194, 195, 196, 197, 198, 199, 202,\n",
       "       204, 206, 181, 180, 179, 178, 157, 158, 159, 160, 161, 162, 163,\n",
       "       164, 165, 155, 166, 168, 169, 170, 171, 172, 173, 174, 175, 177,\n",
       "       167,  95, 104,  48,  32,  33,  36,  37,  38,  39,  41,  42,  43,\n",
       "        31,  44,  46,  47,  93,  49,  50,  51,  52,  53,  54,  45,  55,\n",
       "        29,  24,   1,   2,   3,   4,   5,   6,   7,   8,   9,  25,  10,\n",
       "        12,  13,  14,  15,  18,  19,  20,  21,  22,  11,  56, 208,  58,\n",
       "        80,  81,  82,  83,  76,  75,  74,  84,  73,  71,  70,  77,  69,\n",
       "        68,  85,  66,  92,  91,  59,  60,  61,  67,  63,  89,  64,  88,\n",
       "        87,  86,  65,  78,  35,  26,  72,  99,  79, 109,  94,  57, 130,\n",
       "        27,  62, 182, 144, 148, 152, 131, 203,  40,  28, 117, 100,  17,\n",
       "       108,  23, 110, 186,  30, 205, 176, 201,  90, 116, 200,  16,  34,\n",
       "       138])"
      ]
     },
     "execution_count": 61,
     "metadata": {},
     "output_type": "execute_result"
    }
   ],
   "source": [
    "listFeatures = np.argsort(model.feature_importances_)\n",
    "listFeatures"
   ]
  },
  {
   "cell_type": "code",
   "execution_count": 62,
   "metadata": {},
   "outputs": [
    {
     "name": "stdout",
     "output_type": "stream",
     "text": [
      "127 outcom\n",
      "128 overal\n",
      "131 patholog\n",
      "132 pathway\n",
      "133 patient\n",
      "134 perform\n",
      "135 pharmacolog\n",
      "136 polymeras\n",
      "138 posit\n",
      "139 potenti\n",
      "140 predict\n",
      "141 present\n",
      "142 previous\n",
      "144 prognosi\n",
      "145 prognost\n",
      "146 progress\n",
      "148 protein\n",
      "149 protooncogen\n",
      "150 provid\n",
      "126 one\n",
      "125 oncogen\n",
      "124 occur\n",
      "123 observ\n",
      "96 line\n",
      "97 local\n",
      "100 major\n",
      "101 male\n",
      "102 malign\n",
      "206 well\n",
      "104 may\n",
      "105 mechan\n",
      "106 metabol\n",
      "152 ras\n",
      "110 mice\n",
      "112 model\n",
      "113 molecular\n",
      "114 month\n",
      "117 neoplasm\n",
      "118 neoplast\n",
      "119 new\n",
      "120 normal\n",
      "121 novel\n",
      "122 number\n",
      "111 middl\n",
      "95 level\n",
      "153 rate\n",
      "155 recent\n",
      "182 stage\n",
      "183 status\n",
      "184 studi\n",
      "186 suppressor\n",
      "187 surgeri\n",
      "188 surgic\n",
      "189 surviv\n",
      "190 system\n",
      "191 target\n",
      "192 test\n",
      "193 therapeut\n",
      "194 therapi\n",
      "195 three\n",
      "196 time\n",
      "197 tissu\n",
      "198 treat\n",
      "201 tumor\n",
      "203 type\n",
      "205 use\n",
      "180 small\n",
      "179 similar\n",
      "178 signific\n",
      "177 signal\n",
      "156 receptor\n",
      "157 recurr\n",
      "158 regul\n",
      "159 relat\n",
      "160 remain\n",
      "161 report\n",
      "162 resect\n",
      "163 resist\n",
      "164 respect\n",
      "154 reaction\n",
      "165 respons\n",
      "167 reveal\n",
      "168 review\n",
      "169 risk\n",
      "170 role\n",
      "171 sampl\n",
      "172 select\n",
      "173 sensit\n",
      "174 sequenc\n",
      "176 show\n",
      "166 result\n",
      "94 kras\n",
      "103 marker\n",
      "47 determin\n",
      "31 caus\n",
      "32 cell\n",
      "35 clinic\n",
      "36 combin\n",
      "37 common\n",
      "38 compar\n",
      "40 control\n",
      "41 correl\n",
      "42 could\n",
      "30 case\n",
      "43 current\n",
      "45 demonstr\n",
      "46 detect\n",
      "92 involv\n",
      "48 develop\n",
      "49 diagnosi\n",
      "50 differ\n",
      "51 differenti\n",
      "52 diseas\n",
      "53 dna\n",
      "44 data\n",
      "54 drug\n",
      "28 cancer\n",
      "23 associ\n",
      "0 10\n",
      "1 12\n",
      "2 20\n",
      "3 80\n",
      "4 activ\n",
      "5 addit\n",
      "6 adenocarcinoma\n",
      "7 adult\n",
      "8 advanc\n",
      "24 base\n",
      "9 age\n",
      "11 aim\n",
      "12 also\n",
      "13 alter\n",
      "14 although\n",
      "17 analysi\n",
      "18 analyz\n",
      "19 anim\n",
      "20 antineoplast\n",
      "21 assay\n",
      "10 agent\n",
      "55 earli\n",
      "207 without\n",
      "57 egfr\n",
      "79 human\n",
      "80 identifi\n",
      "81 immunohistochemistri\n",
      "82 import\n",
      "75 high\n",
      "74 growth\n",
      "73 group\n",
      "83 improv\n",
      "72 genet\n",
      "70 function\n",
      "69 frequent\n",
      "76 higher\n",
      "68 found\n",
      "67 follow\n",
      "84 includ\n",
      "65 find\n",
      "91 investig\n",
      "90 invas\n",
      "58 epiderm\n",
      "59 evalu\n",
      "60 examin\n",
      "66 first\n",
      "62 factor\n",
      "88 inhibit\n",
      "63 featur\n",
      "87 induc\n",
      "86 indic\n",
      "85 increas\n",
      "64 femal\n",
      "77 histolog\n",
      "34 chemotherapi\n",
      "25 biomark\n",
      "71 gene\n",
      "98 loss\n",
      "78 howev\n",
      "108 metastat\n",
      "93 kinas\n",
      "56 effect\n",
      "129 overexpress\n",
      "26 braf\n",
      "61 express\n",
      "181 specif\n",
      "143 primari\n",
      "147 prolifer\n",
      "151 rare\n",
      "130 pancreat\n",
      "202 two\n",
      "39 confirm\n",
      "27 breast\n",
      "116 mutat\n",
      "99 lung\n",
      "16 amplif\n",
      "107 metastasi\n",
      "22 assess\n",
      "109 method\n",
      "185 suggest\n",
      "29 carcinoma\n",
      "204 tyrosin\n",
      "175 sever\n",
      "200 trial\n",
      "89 inhibitor\n",
      "115 mortal\n",
      "199 treatment\n",
      "15 among\n",
      "33 chain\n",
      "137 poor\n"
     ]
    }
   ],
   "source": [
    "for feature in listFeatures:\n",
    "    voc = feature-1\n",
    "    for key,value in tvec.vocabulary_.items():\n",
    "        if value == voc:\n",
    "            print(value, key)"
   ]
  }
 ],
 "metadata": {
  "kernelspec": {
   "display_name": "Python 3",
   "language": "python",
   "name": "python3"
  },
  "language_info": {
   "codemirror_mode": {
    "name": "ipython",
    "version": 3
   },
   "file_extension": ".py",
   "mimetype": "text/x-python",
   "name": "python",
   "nbconvert_exporter": "python",
   "pygments_lexer": "ipython3",
   "version": "3.6.5"
  }
 },
 "nbformat": 4,
 "nbformat_minor": 2
}
