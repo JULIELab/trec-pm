{
 "cells": [
  {
   "cell_type": "code",
   "execution_count": 1,
   "metadata": {},
   "outputs": [],
   "source": [
    "from os import listdir\n",
    "from os.path import isfile, isdir, join\n",
    "from lxml import etree\n",
    "import pandas as pd\n",
    "import tarfile\n",
    "import json\n",
    "import gzip\n",
    "import time\n",
    "import csv\n",
    "import re\n",
    "import sys\n",
    "import math\n",
    "import nltk\n",
    "import string\n",
    "import numpy as np\n",
    "from nltk import word_tokenize\n",
    "from nltk.corpus import stopwords\n",
    "from nltk.stem.porter import PorterStemmer\n",
    "from nltk.stem.snowball import SnowballStemmer\n",
    "from sklearn.feature_extraction.text import TfidfVectorizer\n",
    "from sklearn.model_selection import train_test_split\n",
    "from sklearn.feature_extraction.text import CountVectorizer"
   ]
  },
  {
   "cell_type": "code",
   "execution_count": 2,
   "metadata": {},
   "outputs": [],
   "source": [
    "import pyltr"
   ]
  },
  {
   "cell_type": "markdown",
   "metadata": {},
   "source": [
    "# TESTING pyltr with LETOR"
   ]
  },
  {
   "cell_type": "code",
   "execution_count": null,
   "metadata": {},
   "outputs": [],
   "source": [
    "folder=\"/Users/ari/Downloads/MQ2007/Fold1\""
   ]
  },
  {
   "cell_type": "code",
   "execution_count": null,
   "metadata": {},
   "outputs": [],
   "source": [
    "with open(join(folder,'train.txt')) as trainfile, open(join(folder,'vali.txt')) as valifile, open(join(folder,'test.txt')) as evalfile:\n",
    "    TX, Ty, Tqids, _ = pyltr.data.letor.read_dataset(trainfile)\n",
    "    VX, Vy, Vqids, _ = pyltr.data.letor.read_dataset(valifile)\n",
    "    EX, Ey, Eqids, _ = pyltr.data.letor.read_dataset(evalfile)"
   ]
  },
  {
   "cell_type": "code",
   "execution_count": null,
   "metadata": {},
   "outputs": [],
   "source": [
    "metric = pyltr.metrics.NDCG(k=10)\n",
    "\n",
    "# Only needed if you want to perform validation (early stopping & trimming)\n",
    "monitor = pyltr.models.monitors.ValidationMonitor(VX, Vy, Vqids, metric=metric, stop_after=250)\n",
    "\n",
    "model = pyltr.models.LambdaMART(\n",
    "    metric=metric,\n",
    "    n_estimators=1000,\n",
    "    learning_rate=0.02,\n",
    "    max_features=0.5,\n",
    "    query_subsample=0.5,\n",
    "    max_leaf_nodes=10,\n",
    "    min_samples_leaf=64,\n",
    "    verbose=1,\n",
    ")\n",
    "\n",
    "model.fit(TX, Ty, Tqids, monitor=monitor)"
   ]
  },
  {
   "cell_type": "code",
   "execution_count": null,
   "metadata": {},
   "outputs": [],
   "source": [
    "Epred = model.predict(EX)\n",
    "print('Random ranking:', metric.calc_mean_random(Eqids, Ey))\n",
    "print('Our model:', metric.calc_mean(Eqids, Ey, Epred))"
   ]
  },
  {
   "cell_type": "markdown",
   "metadata": {},
   "source": [
    "# Reading GS Files"
   ]
  },
  {
   "cell_type": "code",
   "execution_count": 3,
   "metadata": {},
   "outputs": [],
   "source": [
    "gsPath = \"/Users/ari/Downloads/TREC/trec2018/results/goldstandard\"\n",
    "trainYear = \"2017\"\n",
    "testYear = \"2018\""
   ]
  },
  {
   "cell_type": "code",
   "execution_count": 4,
   "metadata": {},
   "outputs": [],
   "source": [
    "gsTrainFile = join(join(gsPath, trainYear),\"20180622processedGoldStandardXMLTXT.tsv\")\n",
    "gsTestFile = join(join(gsPath, testYear),\"20190111processedGoldStandardPub2018.tsv\")"
   ]
  },
  {
   "cell_type": "code",
   "execution_count": 5,
   "metadata": {},
   "outputs": [
    {
     "data": {
      "text/html": [
       "<div>\n",
       "<style scoped>\n",
       "    .dataframe tbody tr th:only-of-type {\n",
       "        vertical-align: middle;\n",
       "    }\n",
       "\n",
       "    .dataframe tbody tr th {\n",
       "        vertical-align: top;\n",
       "    }\n",
       "\n",
       "    .dataframe thead th {\n",
       "        text-align: right;\n",
       "    }\n",
       "</style>\n",
       "<table border=\"1\" class=\"dataframe\">\n",
       "  <thead>\n",
       "    <tr style=\"text-align: right;\">\n",
       "      <th></th>\n",
       "      <th>Unnamed: 0</th>\n",
       "      <th>trec_topic_number</th>\n",
       "      <th>trec_doc_id</th>\n",
       "      <th>pm_rel_desc</th>\n",
       "      <th>disease_desc</th>\n",
       "      <th>gene1_annotation_desc</th>\n",
       "      <th>gene1_name</th>\n",
       "      <th>gene2_annotation_desc</th>\n",
       "      <th>gene2_name</th>\n",
       "      <th>gene3_annotation_desc</th>\n",
       "      <th>...</th>\n",
       "      <th>title</th>\n",
       "      <th>abstract</th>\n",
       "      <th>major_mesh</th>\n",
       "      <th>minor_mesh</th>\n",
       "      <th>trec_topic_disease</th>\n",
       "      <th>trec_topic_age</th>\n",
       "      <th>trec_topic_sex</th>\n",
       "      <th>trec_topic_other1</th>\n",
       "      <th>trec_topic_other2</th>\n",
       "      <th>trec_topic_other3</th>\n",
       "    </tr>\n",
       "  </thead>\n",
       "  <tbody>\n",
       "    <tr>\n",
       "      <th>0</th>\n",
       "      <td>0</td>\n",
       "      <td>1</td>\n",
       "      <td>10065107</td>\n",
       "      <td>Human PM</td>\n",
       "      <td>Exact</td>\n",
       "      <td>Missing Gene</td>\n",
       "      <td>CDK4 Amplification</td>\n",
       "      <td></td>\n",
       "      <td></td>\n",
       "      <td></td>\n",
       "      <td>...</td>\n",
       "      <td>[A case of metastatic liposarcoma originating ...</td>\n",
       "      <td>We reported a 36-year-old woman with metastati...</td>\n",
       "      <td></td>\n",
       "      <td>Adult;Antineoplastic Combined Chemotherapy Pro...</td>\n",
       "      <td>Liposarcoma</td>\n",
       "      <td>38-year-old</td>\n",
       "      <td>male</td>\n",
       "      <td>GERD</td>\n",
       "      <td></td>\n",
       "      <td></td>\n",
       "    </tr>\n",
       "  </tbody>\n",
       "</table>\n",
       "<p>1 rows × 24 columns</p>\n",
       "</div>"
      ],
      "text/plain": [
       "   Unnamed: 0  trec_topic_number trec_doc_id pm_rel_desc disease_desc  \\\n",
       "0           0                  1    10065107    Human PM        Exact   \n",
       "\n",
       "  gene1_annotation_desc          gene1_name gene2_annotation_desc gene2_name  \\\n",
       "0          Missing Gene  CDK4 Amplification                                    \n",
       "\n",
       "  gene3_annotation_desc        ...         \\\n",
       "0                              ...          \n",
       "\n",
       "                                               title  \\\n",
       "0  [A case of metastatic liposarcoma originating ...   \n",
       "\n",
       "                                            abstract major_mesh  \\\n",
       "0  We reported a 36-year-old woman with metastati...              \n",
       "\n",
       "                                          minor_mesh trec_topic_disease  \\\n",
       "0  Adult;Antineoplastic Combined Chemotherapy Pro...        Liposarcoma   \n",
       "\n",
       "  trec_topic_age trec_topic_sex trec_topic_other1 trec_topic_other2  \\\n",
       "0    38-year-old           male              GERD                     \n",
       "\n",
       "  trec_topic_other3  \n",
       "0                    \n",
       "\n",
       "[1 rows x 24 columns]"
      ]
     },
     "execution_count": 5,
     "metadata": {},
     "output_type": "execute_result"
    }
   ],
   "source": [
    "trainData = pd.read_csv(gsTrainFile, sep = '\\t', encoding='utf8', dtype={'trec_doc_id':object})\n",
    "trainData.fillna(\"\", inplace=True)\n",
    "trainData.head(1)"
   ]
  },
  {
   "cell_type": "code",
   "execution_count": 6,
   "metadata": {},
   "outputs": [
    {
     "data": {
      "text/html": [
       "<div>\n",
       "<style scoped>\n",
       "    .dataframe tbody tr th:only-of-type {\n",
       "        vertical-align: middle;\n",
       "    }\n",
       "\n",
       "    .dataframe tbody tr th {\n",
       "        vertical-align: top;\n",
       "    }\n",
       "\n",
       "    .dataframe thead th {\n",
       "        text-align: right;\n",
       "    }\n",
       "</style>\n",
       "<table border=\"1\" class=\"dataframe\">\n",
       "  <thead>\n",
       "    <tr style=\"text-align: right;\">\n",
       "      <th></th>\n",
       "      <th>Unnamed: 0</th>\n",
       "      <th>trec_topic_number</th>\n",
       "      <th>trec_doc_id</th>\n",
       "      <th>pm_rel_desc</th>\n",
       "      <th>disease_desc</th>\n",
       "      <th>gene1_annotation_desc</th>\n",
       "      <th>gene1_name</th>\n",
       "      <th>gene2_annotation_desc</th>\n",
       "      <th>gene2_name</th>\n",
       "      <th>gene3_annotation_desc</th>\n",
       "      <th>...</th>\n",
       "      <th>demographics_desc</th>\n",
       "      <th>other_desc</th>\n",
       "      <th>relevance_score</th>\n",
       "      <th>title</th>\n",
       "      <th>abstract</th>\n",
       "      <th>major_mesh</th>\n",
       "      <th>minor_mesh</th>\n",
       "      <th>trec_topic_disease</th>\n",
       "      <th>trec_topic_age</th>\n",
       "      <th>trec_topic_sex</th>\n",
       "    </tr>\n",
       "  </thead>\n",
       "  <tbody>\n",
       "    <tr>\n",
       "      <th>0</th>\n",
       "      <td>0</td>\n",
       "      <td>1</td>\n",
       "      <td>1007359</td>\n",
       "      <td>Human PM</td>\n",
       "      <td>More Specific</td>\n",
       "      <td>Missing Gene</td>\n",
       "      <td>BRAF (V600E)</td>\n",
       "      <td></td>\n",
       "      <td></td>\n",
       "      <td></td>\n",
       "      <td>...</td>\n",
       "      <td>Matches</td>\n",
       "      <td>Not Discussed</td>\n",
       "      <td>0</td>\n",
       "      <td>[Primary multiple malignant melanomas of unusu...</td>\n",
       "      <td>In 1975, 117 patients with malignant melanoma ...</td>\n",
       "      <td>Melanoma/pathology;Neoplasms, Multiple Primary...</td>\n",
       "      <td>Adult;Aged;Female;Humans;Male;Middle Aged;Skin...</td>\n",
       "      <td>melanoma</td>\n",
       "      <td>64-year-old</td>\n",
       "      <td>male</td>\n",
       "    </tr>\n",
       "  </tbody>\n",
       "</table>\n",
       "<p>1 rows × 21 columns</p>\n",
       "</div>"
      ],
      "text/plain": [
       "   Unnamed: 0  trec_topic_number trec_doc_id pm_rel_desc   disease_desc  \\\n",
       "0           0                  1     1007359    Human PM  More Specific   \n",
       "\n",
       "  gene1_annotation_desc    gene1_name gene2_annotation_desc gene2_name  \\\n",
       "0          Missing Gene  BRAF (V600E)                                    \n",
       "\n",
       "  gene3_annotation_desc      ...       demographics_desc     other_desc  \\\n",
       "0                            ...                 Matches  Not Discussed   \n",
       "\n",
       "  relevance_score                                              title  \\\n",
       "0               0  [Primary multiple malignant melanomas of unusu...   \n",
       "\n",
       "                                            abstract  \\\n",
       "0  In 1975, 117 patients with malignant melanoma ...   \n",
       "\n",
       "                                          major_mesh  \\\n",
       "0  Melanoma/pathology;Neoplasms, Multiple Primary...   \n",
       "\n",
       "                                          minor_mesh trec_topic_disease  \\\n",
       "0  Adult;Aged;Female;Humans;Male;Middle Aged;Skin...           melanoma   \n",
       "\n",
       "  trec_topic_age trec_topic_sex  \n",
       "0    64-year-old           male  \n",
       "\n",
       "[1 rows x 21 columns]"
      ]
     },
     "execution_count": 6,
     "metadata": {},
     "output_type": "execute_result"
    }
   ],
   "source": [
    "testValData = pd.read_csv(gsTestFile, sep = '\\t', encoding='utf8', dtype={'trec_doc_id':object})\n",
    "testValData.fillna(\"\", inplace=True)\n",
    "testValData.head(1)"
   ]
  },
  {
   "cell_type": "markdown",
   "metadata": {},
   "source": [
    "# Preprocessing the data"
   ]
  },
  {
   "cell_type": "markdown",
   "metadata": {},
   "source": [
    "## Functions to tokenize, remove stop words, get stemms"
   ]
  },
  {
   "cell_type": "code",
   "execution_count": 7,
   "metadata": {},
   "outputs": [
    {
     "name": "stdout",
     "output_type": "stream",
     "text": [
      "[nltk_data] Downloading package stopwords to /Users/ari/nltk_data...\n",
      "[nltk_data]   Package stopwords is already up-to-date!\n",
      "[nltk_data] Downloading package punkt to /Users/ari/nltk_data...\n",
      "[nltk_data]   Package punkt is already up-to-date!\n"
     ]
    }
   ],
   "source": [
    "# Get Stopwords\n",
    "nltk.download('stopwords')\n",
    "nltk.download('punkt')\n",
    "stopWords = stopwords.words('english')\n",
    "\n",
    "def tokenizePorter(text):\n",
    "    tokens = word_tokenize(text)\n",
    "    stems = []\n",
    "    stemmer = PorterStemmer()\n",
    "    for item in tokens:\n",
    "        if item not in stopWords: \n",
    "            stems.append(stemmer.stem(item))\n",
    "    return ' '.join(stems)\n",
    "\n",
    "def tokenizeSnowball(text):\n",
    "    tokens = word_tokenize(text)\n",
    "    stems = []\n",
    "    stemmer = SnowballStemmer(\"english\")\n",
    "    for item in tokens:\n",
    "        if item not in stopWords: \n",
    "            stems.append(stemmer.stem(item))\n",
    "    return ' '.join(stems)"
   ]
  },
  {
   "cell_type": "markdown",
   "metadata": {},
   "source": [
    "## TrainData"
   ]
  },
  {
   "cell_type": "code",
   "execution_count": 8,
   "metadata": {},
   "outputs": [],
   "source": [
    "with open('/Users/ari/Downloads/TREC/trec-pm/resources/lexigramOutputTopics2017.json') as f:\n",
    "    exPandedDisease = json.load(f)"
   ]
  },
  {
   "cell_type": "code",
   "execution_count": 9,
   "metadata": {},
   "outputs": [],
   "source": [
    "pd.options.display.max_rows\n",
    "pd.set_option('display.max_colwidth', -1)\n",
    "\n",
    "# Preprocessing the Text\n",
    "removePunctuation = str.maketrans('\\n', ' ', string.punctuation)\n",
    "\n",
    "# Transforms the text to lower case, remove punctuations, get the stemms of words \n",
    "trainData['title_abstract_mesh'] = trainData[['title', 'abstract', \"major_mesh\", \"minor_mesh\"]].apply(lambda x: ''.join(re.sub(r';|\\/', ' ', x.to_string(index=False).lower()).translate(removePunctuation)), axis=1)\n",
    "trainData['title_abstract_mesh_stemmed'] = trainData['title_abstract_mesh'].apply(tokenizeSnowball)"
   ]
  },
  {
   "cell_type": "code",
   "execution_count": 10,
   "metadata": {},
   "outputs": [],
   "source": [
    "# Transforms the text to lower case, remove punctuations, get the stemms of words \n",
    "trainData['title_stemmed'] = trainData[['title']].apply(lambda x: ''.join(re.sub(r';|\\/', ' ', x.to_string(index=False).lower()).translate(removePunctuation)), axis=1).apply(tokenizeSnowball)\n",
    "trainData['abstract_stemmed'] = trainData[['abstract']].apply(lambda x: ''.join(re.sub(r';|\\/', ' ', x.to_string(index=False).lower()).translate(removePunctuation)), axis=1).apply(tokenizeSnowball)\n",
    "trainData['mesh_stemmed'] = trainData[['major_mesh', 'minor_mesh']].apply(lambda x: ''.join(re.sub(r';|\\/', ' ', x.to_string(index=False).lower()).translate(removePunctuation)), axis=1).apply(tokenizeSnowball)\n",
    "trainData['disease_stemmed'] = trainData[['trec_topic_disease']].apply(lambda x: ''.join(re.sub(r';|\\/', ' ', x.to_string(index=False).lower()).translate(removePunctuation)), axis=1).apply(tokenizeSnowball)"
   ]
  },
  {
   "cell_type": "code",
   "execution_count": 11,
   "metadata": {},
   "outputs": [],
   "source": [
    "# Defining query ids\n",
    "trainData[\"qid\"] = trainData[\"trec_topic_number\"].astype(str)+str(trainYear)"
   ]
  },
  {
   "cell_type": "code",
   "execution_count": 12,
   "metadata": {},
   "outputs": [
    {
     "data": {
      "text/html": [
       "<div>\n",
       "<style scoped>\n",
       "    .dataframe tbody tr th:only-of-type {\n",
       "        vertical-align: middle;\n",
       "    }\n",
       "\n",
       "    .dataframe tbody tr th {\n",
       "        vertical-align: top;\n",
       "    }\n",
       "\n",
       "    .dataframe thead th {\n",
       "        text-align: right;\n",
       "    }\n",
       "</style>\n",
       "<table border=\"1\" class=\"dataframe\">\n",
       "  <thead>\n",
       "    <tr style=\"text-align: right;\">\n",
       "      <th></th>\n",
       "      <th>relevance_score</th>\n",
       "      <th>qid</th>\n",
       "      <th>title_stemmed</th>\n",
       "      <th>abstract_stemmed</th>\n",
       "      <th>mesh_stemmed</th>\n",
       "      <th>title_abstract_mesh_stemmed</th>\n",
       "      <th>disease_stemmed</th>\n",
       "    </tr>\n",
       "  </thead>\n",
       "  <tbody>\n",
       "    <tr>\n",
       "      <th>0</th>\n",
       "      <td>0</td>\n",
       "      <td>12017</td>\n",
       "      <td>case metastat liposarcoma origin retroperitoneum success treat combin chemotherapi</td>\n",
       "      <td>report 36yearold woman metastat liposarcoma origin retroperitoneum respond well adjuv chemotherapi primari tumor remov surgeri two month later patient develop metastasi brain lung four month later metastat liposarcoma brain general extrem rare patient treat combin chemotherapi use cyclophosphamid vincristin adriamycin dacarbazin cyvad examin former two drug altern vindesin ifosfamid anoth regimen cisplatin etoposid given threeweek interv result metastas total disappear recurr lesion note two year although role chemotherapi liposarcoma well defin littl data support use adjuv set combin chemotherapi seem effect advanc liposarcoma</td>\n",
       "      <td>adult antineoplast combin chemotherapi protocol therapeut use brain neoplasm drug therapi brain neoplasm secondari cyclophosphamid administr dosag dacarbazin administr dosag doxorubicin administr dosag drug administr schedul femal human liposarcoma drug therapi liposarcoma secondari lung neoplasm drug therapi lung neoplasm secondari remiss induct retroperiton neoplasm patholog vincristin administr dosag</td>\n",
       "      <td>case metastat liposarcoma origin retroperitoneum success treat combin chemotherapi report 36yearold woman metastat liposarcoma origin retroperitoneum respond well adjuv chemotherapi primari tumor remov surgeri two month later patient develop metastasi brain lung four month later metastat liposarcoma brain general extrem rare patient treat combin chemotherapi use cyclophosphamid vincristin adriamycin dacarbazin cyvad examin former two drug altern vindesin ifosfamid anoth regimen cisplatin etoposid given threeweek interv result metastas total disappear recurr lesion note two year although role chemotherapi liposarcoma well defin littl data support use adjuv set combin chemotherapi seem effect advanc liposarcoma adult antineoplast combin chemotherapi protocol therapeut use brain neoplasm drug therapi brain neoplasm secondari cyclophosphamid administr dosag dacarbazin administr dosag doxorubicin administr dosag drug administr schedul femal human liposarcoma drug therapi liposarcoma secondari lung neoplasm drug therapi lung neoplasm secondari remiss induct retroperiton neoplasm patholog vincristin administr dosag</td>\n",
       "      <td>liposarcoma</td>\n",
       "    </tr>\n",
       "  </tbody>\n",
       "</table>\n",
       "</div>"
      ],
      "text/plain": [
       "   relevance_score    qid  \\\n",
       "0  0                12017   \n",
       "\n",
       "                                                                        title_stemmed  \\\n",
       "0  case metastat liposarcoma origin retroperitoneum success treat combin chemotherapi   \n",
       "\n",
       "                                                                                                                                                                                                                                                                                                                                                                                                                                                                                                                                                                                                                                              abstract_stemmed  \\\n",
       "0  report 36yearold woman metastat liposarcoma origin retroperitoneum respond well adjuv chemotherapi primari tumor remov surgeri two month later patient develop metastasi brain lung four month later metastat liposarcoma brain general extrem rare patient treat combin chemotherapi use cyclophosphamid vincristin adriamycin dacarbazin cyvad examin former two drug altern vindesin ifosfamid anoth regimen cisplatin etoposid given threeweek interv result metastas total disappear recurr lesion note two year although role chemotherapi liposarcoma well defin littl data support use adjuv set combin chemotherapi seem effect advanc liposarcoma   \n",
       "\n",
       "                                                                                                                                                                                                                                                                                                                                                                                                             mesh_stemmed  \\\n",
       "0  adult antineoplast combin chemotherapi protocol therapeut use brain neoplasm drug therapi brain neoplasm secondari cyclophosphamid administr dosag dacarbazin administr dosag doxorubicin administr dosag drug administr schedul femal human liposarcoma drug therapi liposarcoma secondari lung neoplasm drug therapi lung neoplasm secondari remiss induct retroperiton neoplasm patholog vincristin administr dosag   \n",
       "\n",
       "                                                                                                                                                                                                                                                                                                                                                                                                                                                                                                                                                                                                                                                                                                                                                                                                                                                                                                                                                                                                                                                                                                                                             title_abstract_mesh_stemmed  \\\n",
       "0  case metastat liposarcoma origin retroperitoneum success treat combin chemotherapi report 36yearold woman metastat liposarcoma origin retroperitoneum respond well adjuv chemotherapi primari tumor remov surgeri two month later patient develop metastasi brain lung four month later metastat liposarcoma brain general extrem rare patient treat combin chemotherapi use cyclophosphamid vincristin adriamycin dacarbazin cyvad examin former two drug altern vindesin ifosfamid anoth regimen cisplatin etoposid given threeweek interv result metastas total disappear recurr lesion note two year although role chemotherapi liposarcoma well defin littl data support use adjuv set combin chemotherapi seem effect advanc liposarcoma adult antineoplast combin chemotherapi protocol therapeut use brain neoplasm drug therapi brain neoplasm secondari cyclophosphamid administr dosag dacarbazin administr dosag doxorubicin administr dosag drug administr schedul femal human liposarcoma drug therapi liposarcoma secondari lung neoplasm drug therapi lung neoplasm secondari remiss induct retroperiton neoplasm patholog vincristin administr dosag   \n",
       "\n",
       "  disease_stemmed  \n",
       "0  liposarcoma     "
      ]
     },
     "execution_count": 12,
     "metadata": {},
     "output_type": "execute_result"
    }
   ],
   "source": [
    "trainDocId = trainData[['trec_doc_id']]\n",
    "trainDataSliced = trainData[['relevance_score','qid', 'title_stemmed', 'abstract_stemmed', 'mesh_stemmed', 'title_abstract_mesh_stemmed', 'disease_stemmed']]\n",
    "trainDataSliced.head(1)"
   ]
  },
  {
   "cell_type": "code",
   "execution_count": 27,
   "metadata": {},
   "outputs": [],
   "source": [
    "def calculateTFs(terms, target):\n",
    "    vectorizer = CountVectorizer(vocabulary = terms)\n",
    "    transformed_data = vectorizer.fit_transform(target)\n",
    "\n",
    "    score = pd.DataFrame(transformed_data.toarray(), columns=vectorizer.get_feature_names())\n",
    "    scoreDict = score.to_dict('records')\n",
    "    return scoreDict\n",
    "    \n",
    "def termTF(termFreq, index, term):\n",
    "    tf = termFreq[index][term]\n",
    "    return(tf)"
   ]
  },
  {
   "cell_type": "markdown",
   "metadata": {},
   "source": [
    "## Feature TF for Disease in Title, Abstract, Mesh and Combined"
   ]
  },
  {
   "cell_type": "markdown",
   "metadata": {},
   "source": [
    "### TF Title"
   ]
  },
  {
   "cell_type": "code",
   "execution_count": 28,
   "metadata": {},
   "outputs": [
    {
     "name": "stderr",
     "output_type": "stream",
     "text": [
      "/anaconda3/lib/python3.6/site-packages/ipykernel_launcher.py:4: SettingWithCopyWarning: \n",
      "A value is trying to be set on a copy of a slice from a DataFrame.\n",
      "Try using .loc[row_indexer,col_indexer] = value instead\n",
      "\n",
      "See the caveats in the documentation: http://pandas.pydata.org/pandas-docs/stable/indexing.html#indexing-view-versus-copy\n",
      "  after removing the cwd from sys.path.\n"
     ]
    }
   ],
   "source": [
    "diseases = trainDataSliced['disease_stemmed'].unique()\n",
    "termFreqTitle = calculateTFs(diseases, trainDataSliced['title_stemmed'])\n",
    "\n",
    "trainDataSliced['disease_title_tf'] = trainDataSliced.apply(lambda row: termTF(termFreqTitle, row.name, row['disease_stemmed']), axis=1)\n"
   ]
  },
  {
   "cell_type": "markdown",
   "metadata": {},
   "source": [
    "### TF Abstract"
   ]
  },
  {
   "cell_type": "code",
   "execution_count": 38,
   "metadata": {},
   "outputs": [
    {
     "name": "stderr",
     "output_type": "stream",
     "text": [
      "/anaconda3/lib/python3.6/site-packages/ipykernel_launcher.py:2: SettingWithCopyWarning: \n",
      "A value is trying to be set on a copy of a slice from a DataFrame.\n",
      "Try using .loc[row_indexer,col_indexer] = value instead\n",
      "\n",
      "See the caveats in the documentation: http://pandas.pydata.org/pandas-docs/stable/indexing.html#indexing-view-versus-copy\n",
      "  \n"
     ]
    }
   ],
   "source": [
    "termFreqAbst = calculateTFs(diseases, trainDataSliced['abstract_stemmed'])\n",
    "trainDataSliced['disease_abstract_tf'] = trainDataSliced.apply(lambda row: termTF(termFreqAbst, row.name, row['disease_stemmed']), axis=1)"
   ]
  },
  {
   "cell_type": "markdown",
   "metadata": {},
   "source": [
    "### TF Mesh"
   ]
  },
  {
   "cell_type": "code",
   "execution_count": 40,
   "metadata": {},
   "outputs": [
    {
     "name": "stderr",
     "output_type": "stream",
     "text": [
      "/anaconda3/lib/python3.6/site-packages/ipykernel_launcher.py:2: SettingWithCopyWarning: \n",
      "A value is trying to be set on a copy of a slice from a DataFrame.\n",
      "Try using .loc[row_indexer,col_indexer] = value instead\n",
      "\n",
      "See the caveats in the documentation: http://pandas.pydata.org/pandas-docs/stable/indexing.html#indexing-view-versus-copy\n",
      "  \n"
     ]
    }
   ],
   "source": [
    "termFreqMesh = calculateTFs(diseases, trainDataSliced['mesh_stemmed'])\n",
    "trainDataSliced['disease_mesh_tf'] = trainDataSliced.apply(lambda row: termTF(termFreqMesh, row.name, row['disease_stemmed']), axis=1)"
   ]
  },
  {
   "cell_type": "markdown",
   "metadata": {},
   "source": [
    "### TF Combined"
   ]
  },
  {
   "cell_type": "code",
   "execution_count": 42,
   "metadata": {},
   "outputs": [
    {
     "name": "stderr",
     "output_type": "stream",
     "text": [
      "/anaconda3/lib/python3.6/site-packages/ipykernel_launcher.py:2: SettingWithCopyWarning: \n",
      "A value is trying to be set on a copy of a slice from a DataFrame.\n",
      "Try using .loc[row_indexer,col_indexer] = value instead\n",
      "\n",
      "See the caveats in the documentation: http://pandas.pydata.org/pandas-docs/stable/indexing.html#indexing-view-versus-copy\n",
      "  \n"
     ]
    }
   ],
   "source": [
    "termFreqCombined = calculateTFs(diseases, trainDataSliced['title_abstract_mesh_stemmed'])\n",
    "trainDataSliced['disease_combined_tf'] = trainDataSliced.apply(lambda row: termTF(termFreqCombined, row.name, row['disease_stemmed']), axis=1)"
   ]
  },
  {
   "cell_type": "code",
   "execution_count": 43,
   "metadata": {},
   "outputs": [
    {
     "data": {
      "text/html": [
       "<div>\n",
       "<style scoped>\n",
       "    .dataframe tbody tr th:only-of-type {\n",
       "        vertical-align: middle;\n",
       "    }\n",
       "\n",
       "    .dataframe tbody tr th {\n",
       "        vertical-align: top;\n",
       "    }\n",
       "\n",
       "    .dataframe thead th {\n",
       "        text-align: right;\n",
       "    }\n",
       "</style>\n",
       "<table border=\"1\" class=\"dataframe\">\n",
       "  <thead>\n",
       "    <tr style=\"text-align: right;\">\n",
       "      <th></th>\n",
       "      <th>relevance_score</th>\n",
       "      <th>qid</th>\n",
       "      <th>title_stemmed</th>\n",
       "      <th>abstract_stemmed</th>\n",
       "      <th>mesh_stemmed</th>\n",
       "      <th>title_abstract_mesh_stemmed</th>\n",
       "      <th>disease_stemmed</th>\n",
       "      <th>disease_title_tf</th>\n",
       "      <th>disease_abstract_tf</th>\n",
       "      <th>disease_mesh_tf</th>\n",
       "      <th>disease_combined_tf</th>\n",
       "    </tr>\n",
       "  </thead>\n",
       "  <tbody>\n",
       "    <tr>\n",
       "      <th>2612</th>\n",
       "      <td>1</td>\n",
       "      <td>52017</td>\n",
       "      <td>locus link p16 modifi melanoma risk dutch famili atyp multipl mole melanoma fammm syndrom famili</td>\n",
       "      <td>cdkn2a gene encod cell cycl inhibitor p16 show mutat mani 9p21link melanoma famili dutch melanoma famili segreg uniqu founder mutat p16leiden encod truncat nonfunct p16 protein high variabl risk p16leiden carrier develop melanoma suggest role genet environment factor hypothes 9p21 gene cdkn2a may relev remain 9p21link melanoma famili without p16 mutat may also act risk modifi p16leiden carrier haplotyp analysi 9p21 perform use microsatellit marker six p16leiden famili origin founder popul p16leiden carrier two famili share unexpect larg founder haplotyp approxim 20cm around cdkn2a most proxim direct melanomaposit p16leiden carrier famili show extens proxim haplotyp compar melanomaneg p16leiden carrier famili addit p16leiden famili less heavili affect melanoma show shorter haplotyp share exclud region proxim cdkn2a presenc gene involv melanoma suscept proxim cdkn2a corrobor somat delet 9p tumor frequent includ cdkn2a proxim chromosom area instead result provid candid region gene map p16negat 9p21link melanoma famili guid search risk modifi melanoma develop</td>\n",
       "      <td>allel altern splice genet chromosom human pair 9 genet cyclindepend kinas inhibitor p16 genet dysplast nevus syndrom genet femal genet linkag genet genet marker heterozygot detect human male middl age netherland pedigre risk factor</td>\n",
       "      <td>locus link p16 modifi melanoma risk dutch famili atyp multipl mole melanoma fammm syndrom famili cdkn2a gene encod cell cycl inhibitor p16 show mutat mani 9p21link melanoma famili dutch melanoma famili segreg uniqu founder mutat p16leiden encod truncat nonfunct p16 protein high variabl risk p16leiden carrier develop melanoma suggest role genet environment factor hypothes 9p21 gene cdkn2a may relev remain 9p21link melanoma famili without p16 mutat may also act risk modifi p16leiden carrier haplotyp analysi 9p21 perform use microsatellit marker six p16leiden famili origin founder popul p16leiden carrier two famili share unexpect larg founder haplotyp approxim 20cm around cdkn2a most proxim direct melanomaposit p16leiden carrier famili show extens proxim haplotyp compar melanomaneg p16leiden carrier famili addit p16leiden famili less heavili affect melanoma show shorter haplotyp share exclud region proxim cdkn2a presenc gene involv melanoma suscept proxim cdkn2a corrobor somat delet 9p tumor frequent includ cdkn2a proxim chromosom area instead result provid candid region gene map p16negat 9p21link melanoma famili guid search risk modifi melanoma develop allel altern splice genet chromosom human pair 9 genet cyclindepend kinas inhibitor p16 genet dysplast nevus syndrom genet femal genet linkag genet genet marker heterozygot detect human male middl age netherland pedigre risk factor</td>\n",
       "      <td>melanoma</td>\n",
       "      <td>2</td>\n",
       "      <td>8</td>\n",
       "      <td>0</td>\n",
       "      <td>10</td>\n",
       "    </tr>\n",
       "    <tr>\n",
       "      <th>2616</th>\n",
       "      <td>0</td>\n",
       "      <td>52017</td>\n",
       "      <td>vaccin melanoma patient interleukin 4 genetransduc allogen melanoma cell</td>\n",
       "      <td>human melanoma line genet modifi releas interleukin 4 il4 util immun advanc melanoma patient order elicit increas specif antimelanoma immun respons may affect distant lesion twelv metastat melanoma patient inject subcutan least three time 5 x 107 il4 genetransduc irradi allogen melanoma cell per dose system local toxic mild consist transient fever erythema swell indur vaccin site two mix complet partial clinic respons record assess immun respons vaccin patient serolog cellmedi activ evalu antibodi alloantigen could detect 2 11 patient test mix tumorlymphocyt cultur perform util autolog allogen hlaa2match melanoma line simul target signific increas ifngamma releas detect 7 11 case postvaccin lymphocyt stimul untransduc allomelanoma cell howev induct specif recognit autolog melanoma cell pbls obtain vaccin one six case studi respons involv melanoma peptid melana mart12735 recogn hlaa2restrict fashion result indic vaccin allogen melanoma cell releas il4 local expand cell respons antigen autolog untransduc tumor although minor patient</td>\n",
       "      <td>genet therapi adult age autoantibodi blood cancer vaccin administr dosag cytotox immunolog femal histocompat antigen class immunolog human interferongamma metabol interleukin4 blood interleukin4 genet interleukin6 blood lymphocyt cultur test mix male melanoma genet melanoma immunolog melanoma therapi middl age tumor cell cultur</td>\n",
       "      <td>vaccin melanoma patient interleukin 4 genetransduc allogen melanoma cell human melanoma line genet modifi releas interleukin 4 il4 util immun advanc melanoma patient order elicit increas specif antimelanoma immun respons may affect distant lesion twelv metastat melanoma patient inject subcutan least three time 5 x 107 il4 genetransduc irradi allogen melanoma cell per dose system local toxic mild consist transient fever erythema swell indur vaccin site two mix complet partial clinic respons record assess immun respons vaccin patient serolog cellmedi activ evalu antibodi alloantigen could detect 2 11 patient test mix tumorlymphocyt cultur perform util autolog allogen hlaa2match melanoma line simul target signific increas ifngamma releas detect 7 11 case postvaccin lymphocyt stimul untransduc allomelanoma cell howev induct specif recognit autolog melanoma cell pbls obtain vaccin one six case studi respons involv melanoma peptid melana mart12735 recogn hlaa2restrict fashion result indic vaccin allogen melanoma cell releas il4 local expand cell respons antigen autolog untransduc tumor although minor patient genet therapi adult age autoantibodi blood cancer vaccin administr dosag cytotox immunolog femal histocompat antigen class immunolog human interferongamma metabol interleukin4 blood interleukin4 genet interleukin6 blood lymphocyt cultur test mix male melanoma genet melanoma immunolog melanoma therapi middl age tumor cell cultur</td>\n",
       "      <td>melanoma</td>\n",
       "      <td>2</td>\n",
       "      <td>8</td>\n",
       "      <td>3</td>\n",
       "      <td>13</td>\n",
       "    </tr>\n",
       "    <tr>\n",
       "      <th>2626</th>\n",
       "      <td>0</td>\n",
       "      <td>52017</td>\n",
       "      <td>cdkn2a mutat spanish cutan malign melanoma famili patient multipl melanoma neoplasia</td>\n",
       "      <td>cdkn2a gene implic cutan malign melanoma cmm 40 famili linkag chromosom 9p21 small proport famili mutat cdk4 gene order estim import gene predisposit cmm spanish famili patient analys ssca total 56 subject belong 34 cmm famili nine patient multipl cmm neoplasia detect germlin cdkn2a mutat six 34 famili 17 frameshift mutat 358delg four missens mutat g59v g101w two case d84i r87w identifi five cmm patient differ famili 14 carri a148t variant known affect p16 activ mutat detect patient multipl cmm neoplasm found mutat either exon 1 beta cdkn2a gene exon 2a cdk4 linkag analysi 9p21 region show exclus one famili cmm four famili cmm dysplast naevi studi indic small role cdkn2a spanish cmm famili suggest gene also respons cmm predisposit</td>\n",
       "      <td>mutat carrier protein genet chromosom human pair 9 genet cyclindepend kinas inhibitor p16 cyclindepend kinas antagonist inhibitor dysplast nevus syndrom genet femal germlin mutat human male melanoma genet neoplasm multipl primari genet skin neoplasm genet spain</td>\n",
       "      <td>cdkn2a mutat spanish cutan malign melanoma famili patient multipl melanoma neoplasia cdkn2a gene implic cutan malign melanoma cmm 40 famili linkag chromosom 9p21 small proport famili mutat cdk4 gene order estim import gene predisposit cmm spanish famili patient analys ssca total 56 subject belong 34 cmm famili nine patient multipl cmm neoplasia detect germlin cdkn2a mutat six 34 famili 17 frameshift mutat 358delg four missens mutat g59v g101w two case d84i r87w identifi five cmm patient differ famili 14 carri a148t variant known affect p16 activ mutat detect patient multipl cmm neoplasm found mutat either exon 1 beta cdkn2a gene exon 2a cdk4 linkag analysi 9p21 region show exclus one famili cmm four famili cmm dysplast naevi studi indic small role cdkn2a spanish cmm famili suggest gene also respons cmm predisposit mutat carrier protein genet chromosom human pair 9 genet cyclindepend kinas inhibitor p16 cyclindepend kinas antagonist inhibitor dysplast nevus syndrom genet femal germlin mutat human male melanoma genet neoplasm multipl primari genet skin neoplasm genet spain</td>\n",
       "      <td>melanoma</td>\n",
       "      <td>2</td>\n",
       "      <td>1</td>\n",
       "      <td>1</td>\n",
       "      <td>4</td>\n",
       "    </tr>\n",
       "    <tr>\n",
       "      <th>2627</th>\n",
       "      <td>0</td>\n",
       "      <td>52017</td>\n",
       "      <td>larg delet chromosom 9p cutan malign melanoma identifi patient high risk develop metastas hospit clinic malign melanoma group univers barcelona</td>\n",
       "      <td>cutan malign melanoma cmm aggress tumour high metastat potenti delet chromosom 9p detect cmm involv cdkn2a p14arf gene loss heterozygos loh 16 microsatellit marker 9p mutat cdkn2a p14arf gene previous studi 32 melanoma patient group 9p delet detect 15 primari tumour 455 correl clinic outcom 5 year compar classic prognost factor eight 32 patient develop metastas 25 metastas detect within 768 day initi diagnosi patient without metastas last monitor least 1621 day diagnosi none 21 patient eight microsatellit conserv develop metastas wherea eight patient develop metastas eight marker delet sensit analysi predict metastas 100 specif 84 wherea sensit sampl use breslow thick 3 mm 625 specif 68 loh eight 9p microsatellit marker therefor use prognost factor predict develop metastas first 4463 year 16212294 day</td>\n",
       "      <td>chromosom delet chromosom map chromosom human pair 9 genet dna mutat analysi dna neoplasm analysi followup studi genet marker human loss heterozygos melanoma genet melanoma secondari microsatellit repeat neoplasm metastasi sensit specif skin neoplasm genet</td>\n",
       "      <td>larg delet chromosom 9p cutan malign melanoma identifi patient high risk develop metastas hospit clinic malign melanoma group univers barcelona cutan malign melanoma cmm aggress tumour high metastat potenti delet chromosom 9p detect cmm involv cdkn2a p14arf gene loss heterozygos loh 16 microsatellit marker 9p mutat cdkn2a p14arf gene previous studi 32 melanoma patient group 9p delet detect 15 primari tumour 455 correl clinic outcom 5 year compar classic prognost factor eight 32 patient develop metastas 25 metastas detect within 768 day initi diagnosi patient without metastas last monitor least 1621 day diagnosi none 21 patient eight microsatellit conserv develop metastas wherea eight patient develop metastas eight marker delet sensit analysi predict metastas 100 specif 84 wherea sensit sampl use breslow thick 3 mm 625 specif 68 loh eight 9p microsatellit marker therefor use prognost factor predict develop metastas first 4463 year 16212294 day chromosom delet chromosom map chromosom human pair 9 genet dna mutat analysi dna neoplasm analysi followup studi genet marker human loss heterozygos melanoma genet melanoma secondari microsatellit repeat neoplasm metastasi sensit specif skin neoplasm genet</td>\n",
       "      <td>melanoma</td>\n",
       "      <td>2</td>\n",
       "      <td>2</td>\n",
       "      <td>2</td>\n",
       "      <td>6</td>\n",
       "    </tr>\n",
       "  </tbody>\n",
       "</table>\n",
       "</div>"
      ],
      "text/plain": [
       "      relevance_score    qid  \\\n",
       "2612  1                52017   \n",
       "2616  0                52017   \n",
       "2626  0                52017   \n",
       "2627  0                52017   \n",
       "\n",
       "                                                                                                                                        title_stemmed  \\\n",
       "2612  locus link p16 modifi melanoma risk dutch famili atyp multipl mole melanoma fammm syndrom famili                                                  \n",
       "2616  vaccin melanoma patient interleukin 4 genetransduc allogen melanoma cell                                                                          \n",
       "2626  cdkn2a mutat spanish cutan malign melanoma famili patient multipl melanoma neoplasia                                                              \n",
       "2627  larg delet chromosom 9p cutan malign melanoma identifi patient high risk develop metastas hospit clinic malign melanoma group univers barcelona   \n",
       "\n",
       "                                                                                                                                                                                                                                                                                                                                                                                                                                                                                                                                                                                                                                                                                                                                                                                                                                                                                                                                                                                                                                                                                                     abstract_stemmed  \\\n",
       "2612  cdkn2a gene encod cell cycl inhibitor p16 show mutat mani 9p21link melanoma famili dutch melanoma famili segreg uniqu founder mutat p16leiden encod truncat nonfunct p16 protein high variabl risk p16leiden carrier develop melanoma suggest role genet environment factor hypothes 9p21 gene cdkn2a may relev remain 9p21link melanoma famili without p16 mutat may also act risk modifi p16leiden carrier haplotyp analysi 9p21 perform use microsatellit marker six p16leiden famili origin founder popul p16leiden carrier two famili share unexpect larg founder haplotyp approxim 20cm around cdkn2a most proxim direct melanomaposit p16leiden carrier famili show extens proxim haplotyp compar melanomaneg p16leiden carrier famili addit p16leiden famili less heavili affect melanoma show shorter haplotyp share exclud region proxim cdkn2a presenc gene involv melanoma suscept proxim cdkn2a corrobor somat delet 9p tumor frequent includ cdkn2a proxim chromosom area instead result provid candid region gene map p16negat 9p21link melanoma famili guid search risk modifi melanoma develop   \n",
       "2616  human melanoma line genet modifi releas interleukin 4 il4 util immun advanc melanoma patient order elicit increas specif antimelanoma immun respons may affect distant lesion twelv metastat melanoma patient inject subcutan least three time 5 x 107 il4 genetransduc irradi allogen melanoma cell per dose system local toxic mild consist transient fever erythema swell indur vaccin site two mix complet partial clinic respons record assess immun respons vaccin patient serolog cellmedi activ evalu antibodi alloantigen could detect 2 11 patient test mix tumorlymphocyt cultur perform util autolog allogen hlaa2match melanoma line simul target signific increas ifngamma releas detect 7 11 case postvaccin lymphocyt stimul untransduc allomelanoma cell howev induct specif recognit autolog melanoma cell pbls obtain vaccin one six case studi respons involv melanoma peptid melana mart12735 recogn hlaa2restrict fashion result indic vaccin allogen melanoma cell releas il4 local expand cell respons antigen autolog untransduc tumor although minor patient                            \n",
       "2626  cdkn2a gene implic cutan malign melanoma cmm 40 famili linkag chromosom 9p21 small proport famili mutat cdk4 gene order estim import gene predisposit cmm spanish famili patient analys ssca total 56 subject belong 34 cmm famili nine patient multipl cmm neoplasia detect germlin cdkn2a mutat six 34 famili 17 frameshift mutat 358delg four missens mutat g59v g101w two case d84i r87w identifi five cmm patient differ famili 14 carri a148t variant known affect p16 activ mutat detect patient multipl cmm neoplasm found mutat either exon 1 beta cdkn2a gene exon 2a cdk4 linkag analysi 9p21 region show exclus one famili cmm four famili cmm dysplast naevi studi indic small role cdkn2a spanish cmm famili suggest gene also respons cmm predisposit                                                                                                                                                                                                                                                                                                                                              \n",
       "2627  cutan malign melanoma cmm aggress tumour high metastat potenti delet chromosom 9p detect cmm involv cdkn2a p14arf gene loss heterozygos loh 16 microsatellit marker 9p mutat cdkn2a p14arf gene previous studi 32 melanoma patient group 9p delet detect 15 primari tumour 455 correl clinic outcom 5 year compar classic prognost factor eight 32 patient develop metastas 25 metastas detect within 768 day initi diagnosi patient without metastas last monitor least 1621 day diagnosi none 21 patient eight microsatellit conserv develop metastas wherea eight patient develop metastas eight marker delet sensit analysi predict metastas 100 specif 84 wherea sensit sampl use breslow thick 3 mm 625 specif 68 loh eight 9p microsatellit marker therefor use prognost factor predict develop metastas first 4463 year 16212294 day                                                                                                                                                                                                                                                                      \n",
       "\n",
       "                                                                                                                                                                                                                                                                                                                                   mesh_stemmed  \\\n",
       "2612  allel altern splice genet chromosom human pair 9 genet cyclindepend kinas inhibitor p16 genet dysplast nevus syndrom genet femal genet linkag genet genet marker heterozygot detect human male middl age netherland pedigre risk factor                                                                                                     \n",
       "2616  genet therapi adult age autoantibodi blood cancer vaccin administr dosag cytotox immunolog femal histocompat antigen class immunolog human interferongamma metabol interleukin4 blood interleukin4 genet interleukin6 blood lymphocyt cultur test mix male melanoma genet melanoma immunolog melanoma therapi middl age tumor cell cultur   \n",
       "2626  mutat carrier protein genet chromosom human pair 9 genet cyclindepend kinas inhibitor p16 cyclindepend kinas antagonist inhibitor dysplast nevus syndrom genet femal germlin mutat human male melanoma genet neoplasm multipl primari genet skin neoplasm genet spain                                                                       \n",
       "2627  chromosom delet chromosom map chromosom human pair 9 genet dna mutat analysi dna neoplasm analysi followup studi genet marker human loss heterozygos melanoma genet melanoma secondari microsatellit repeat neoplasm metastasi sensit specif skin neoplasm genet                                                                            \n",
       "\n",
       "                                                                                                                                                                                                                                                                                                                                                                                                                                                                                                                                                                                                                                                                                                                                                                                                                                                                                                                                                                                                                                                                                                                                                                                                                                                                                                                                                                                                                                                                                    title_abstract_mesh_stemmed  \\\n",
       "2612  locus link p16 modifi melanoma risk dutch famili atyp multipl mole melanoma fammm syndrom famili cdkn2a gene encod cell cycl inhibitor p16 show mutat mani 9p21link melanoma famili dutch melanoma famili segreg uniqu founder mutat p16leiden encod truncat nonfunct p16 protein high variabl risk p16leiden carrier develop melanoma suggest role genet environment factor hypothes 9p21 gene cdkn2a may relev remain 9p21link melanoma famili without p16 mutat may also act risk modifi p16leiden carrier haplotyp analysi 9p21 perform use microsatellit marker six p16leiden famili origin founder popul p16leiden carrier two famili share unexpect larg founder haplotyp approxim 20cm around cdkn2a most proxim direct melanomaposit p16leiden carrier famili show extens proxim haplotyp compar melanomaneg p16leiden carrier famili addit p16leiden famili less heavili affect melanoma show shorter haplotyp share exclud region proxim cdkn2a presenc gene involv melanoma suscept proxim cdkn2a corrobor somat delet 9p tumor frequent includ cdkn2a proxim chromosom area instead result provid candid region gene map p16negat 9p21link melanoma famili guid search risk modifi melanoma develop allel altern splice genet chromosom human pair 9 genet cyclindepend kinas inhibitor p16 genet dysplast nevus syndrom genet femal genet linkag genet genet marker heterozygot detect human male middl age netherland pedigre risk factor                                                    \n",
       "2616  vaccin melanoma patient interleukin 4 genetransduc allogen melanoma cell human melanoma line genet modifi releas interleukin 4 il4 util immun advanc melanoma patient order elicit increas specif antimelanoma immun respons may affect distant lesion twelv metastat melanoma patient inject subcutan least three time 5 x 107 il4 genetransduc irradi allogen melanoma cell per dose system local toxic mild consist transient fever erythema swell indur vaccin site two mix complet partial clinic respons record assess immun respons vaccin patient serolog cellmedi activ evalu antibodi alloantigen could detect 2 11 patient test mix tumorlymphocyt cultur perform util autolog allogen hlaa2match melanoma line simul target signific increas ifngamma releas detect 7 11 case postvaccin lymphocyt stimul untransduc allomelanoma cell howev induct specif recognit autolog melanoma cell pbls obtain vaccin one six case studi respons involv melanoma peptid melana mart12735 recogn hlaa2restrict fashion result indic vaccin allogen melanoma cell releas il4 local expand cell respons antigen autolog untransduc tumor although minor patient genet therapi adult age autoantibodi blood cancer vaccin administr dosag cytotox immunolog femal histocompat antigen class immunolog human interferongamma metabol interleukin4 blood interleukin4 genet interleukin6 blood lymphocyt cultur test mix male melanoma genet melanoma immunolog melanoma therapi middl age tumor cell cultur   \n",
       "2626  cdkn2a mutat spanish cutan malign melanoma famili patient multipl melanoma neoplasia cdkn2a gene implic cutan malign melanoma cmm 40 famili linkag chromosom 9p21 small proport famili mutat cdk4 gene order estim import gene predisposit cmm spanish famili patient analys ssca total 56 subject belong 34 cmm famili nine patient multipl cmm neoplasia detect germlin cdkn2a mutat six 34 famili 17 frameshift mutat 358delg four missens mutat g59v g101w two case d84i r87w identifi five cmm patient differ famili 14 carri a148t variant known affect p16 activ mutat detect patient multipl cmm neoplasm found mutat either exon 1 beta cdkn2a gene exon 2a cdk4 linkag analysi 9p21 region show exclus one famili cmm four famili cmm dysplast naevi studi indic small role cdkn2a spanish cmm famili suggest gene also respons cmm predisposit mutat carrier protein genet chromosom human pair 9 genet cyclindepend kinas inhibitor p16 cyclindepend kinas antagonist inhibitor dysplast nevus syndrom genet femal germlin mutat human male melanoma genet neoplasm multipl primari genet skin neoplasm genet spain                                                                                                                                                                                                                                                                                                                                                                             \n",
       "2627  larg delet chromosom 9p cutan malign melanoma identifi patient high risk develop metastas hospit clinic malign melanoma group univers barcelona cutan malign melanoma cmm aggress tumour high metastat potenti delet chromosom 9p detect cmm involv cdkn2a p14arf gene loss heterozygos loh 16 microsatellit marker 9p mutat cdkn2a p14arf gene previous studi 32 melanoma patient group 9p delet detect 15 primari tumour 455 correl clinic outcom 5 year compar classic prognost factor eight 32 patient develop metastas 25 metastas detect within 768 day initi diagnosi patient without metastas last monitor least 1621 day diagnosi none 21 patient eight microsatellit conserv develop metastas wherea eight patient develop metastas eight marker delet sensit analysi predict metastas 100 specif 84 wherea sensit sampl use breslow thick 3 mm 625 specif 68 loh eight 9p microsatellit marker therefor use prognost factor predict develop metastas first 4463 year 16212294 day chromosom delet chromosom map chromosom human pair 9 genet dna mutat analysi dna neoplasm analysi followup studi genet marker human loss heterozygos melanoma genet melanoma secondari microsatellit repeat neoplasm metastasi sensit specif skin neoplasm genet                                                                                                                                                                                                                                               \n",
       "\n",
       "     disease_stemmed  disease_title_tf  disease_abstract_tf  disease_mesh_tf  \\\n",
       "2612  melanoma        2                 8                    0                 \n",
       "2616  melanoma        2                 8                    3                 \n",
       "2626  melanoma        2                 1                    1                 \n",
       "2627  melanoma        2                 2                    2                 \n",
       "\n",
       "      disease_combined_tf  \n",
       "2612  10                   \n",
       "2616  13                   \n",
       "2626  4                    \n",
       "2627  6                    "
      ]
     },
     "execution_count": 43,
     "metadata": {},
     "output_type": "execute_result"
    }
   ],
   "source": [
    "trainDataSliced.head(1)\n",
    "test = trainDataSliced.loc[(trainDataSliced['disease_stemmed'] == 'melanoma') & (trainDataSliced['disease_title_tf'] == 2)]\n",
    "test.head(4)"
   ]
  },
  {
   "cell_type": "markdown",
   "metadata": {},
   "source": [
    "## Test and Validation Data"
   ]
  },
  {
   "cell_type": "code",
   "execution_count": null,
   "metadata": {},
   "outputs": [],
   "source": [
    "testDataSetSliced = []\n",
    "valDataSetSliced = []"
   ]
  },
  {
   "cell_type": "code",
   "execution_count": null,
   "metadata": {},
   "outputs": [],
   "source": [
    "pd.options.display.max_rows\n",
    "pd.set_option('display.max_colwidth', -1)\n",
    "\n",
    "# Preprocessing the Text\n",
    "removePunctuation = str.maketrans('\\n', ' ', string.punctuation)\n",
    "\n",
    "# Transforms the text to lower case, remove punctuations, get the stemms of words \n",
    "testValData['title_abstract_mesh'] = testValData[['title', 'abstract', \"major_mesh\", \"minor_mesh\"]].apply(lambda x: ''.join(re.sub(r';|\\/', ' ', x.to_string(index=False).lower()).translate(removePunctuation)), axis=1)\n",
    "testValData['title_abstract_mesh_stemmed'] = testValData['title_abstract_mesh'].apply(tokenizeSnowball)\n",
    "\n",
    "np.unique(testValData['pm_rel_desc'])\n",
    "\n",
    "testValData[\"qid\"] = \"0\"\n",
    "testValData[\"qid\"][testValData[\"pm_rel_desc\"] == \"Human PM\"] = \"1\"\n",
    "testValData[\"qid\"][testValData[\"pm_rel_desc\"] == \"Animal PM\"] = \"1\"\n",
    "\n",
    "testValDataSliced = testValData[['relevance_score','qid','title_abstract_mesh_stemmed', 'trec_doc_id']]"
   ]
  },
  {
   "cell_type": "code",
   "execution_count": null,
   "metadata": {},
   "outputs": [],
   "source": [
    "testValDataSliced.head(1)"
   ]
  },
  {
   "cell_type": "markdown",
   "metadata": {},
   "source": [
    "### Only Testind and *no* Validation Dataset"
   ]
  },
  {
   "cell_type": "code",
   "execution_count": null,
   "metadata": {},
   "outputs": [],
   "source": [
    "testValDataSliced.shape"
   ]
  },
  {
   "cell_type": "code",
   "execution_count": null,
   "metadata": {},
   "outputs": [],
   "source": [
    "testDataSetSliced.append(testValDataSliced)"
   ]
  },
  {
   "cell_type": "markdown",
   "metadata": {},
   "source": [
    "### One Testing and Validation Datasets"
   ]
  },
  {
   "cell_type": "code",
   "execution_count": null,
   "metadata": {},
   "outputs": [],
   "source": [
    "# split into validation and testing\n",
    "testDataSliced, valDataSliced, yT, yV = train_test_split(testValDataSliced, testValDataSliced['qid'], test_size=0.5)"
   ]
  },
  {
   "cell_type": "code",
   "execution_count": null,
   "metadata": {},
   "outputs": [],
   "source": [
    "testDataSetSliced.append(testDataSliced)\n",
    "valDataSetSliced.append(valDataSliced)"
   ]
  },
  {
   "cell_type": "code",
   "execution_count": null,
   "metadata": {},
   "outputs": [],
   "source": [
    "testDataSetSliced[0].head(1)"
   ]
  },
  {
   "cell_type": "code",
   "execution_count": null,
   "metadata": {},
   "outputs": [],
   "source": [
    "valDataSetSliced[0].shape"
   ]
  },
  {
   "cell_type": "markdown",
   "metadata": {},
   "source": [
    "### K-Fold Test and Validation Datasets"
   ]
  },
  {
   "cell_type": "code",
   "execution_count": null,
   "metadata": {},
   "outputs": [],
   "source": [
    "from sklearn.model_selection import KFold\n",
    "\n",
    "testDataSetSliced = []\n",
    "valDataSetSliced = []\n",
    "\n",
    "kf = KFold(n_splits=10, random_state=123, shuffle=True)\n",
    "for train_index, test_index in kf.split(testValDataSliced):\n",
    "    testDataSetSliced.append(testValDataSliced.iloc[train_index])\n",
    "    valDataSetSliced.append(testValDataSliced.iloc[test_index])"
   ]
  },
  {
   "cell_type": "code",
   "execution_count": null,
   "metadata": {},
   "outputs": [],
   "source": [
    "testDataSetSliced[0].shape"
   ]
  },
  {
   "cell_type": "code",
   "execution_count": null,
   "metadata": {},
   "outputs": [],
   "source": [
    "testDataSetSliced[0].head(1)"
   ]
  },
  {
   "cell_type": "code",
   "execution_count": null,
   "metadata": {},
   "outputs": [],
   "source": [
    "valDataSetSliced[0].shape"
   ]
  },
  {
   "cell_type": "code",
   "execution_count": null,
   "metadata": {
    "scrolled": true
   },
   "outputs": [],
   "source": [
    "valDataSetSliced[0].head(1)"
   ]
  },
  {
   "cell_type": "markdown",
   "metadata": {},
   "source": [
    "## TDIFD weighting"
   ]
  },
  {
   "cell_type": "markdown",
   "metadata": {},
   "source": [
    "### N_word = 1000 and min_df"
   ]
  },
  {
   "cell_type": "code",
   "execution_count": null,
   "metadata": {},
   "outputs": [],
   "source": [
    "min_df = 0.1\n",
    "n_words = 10000\n",
    "tvec = TfidfVectorizer(max_features = n_words)"
   ]
  },
  {
   "cell_type": "code",
   "execution_count": null,
   "metadata": {},
   "outputs": [],
   "source": [
    "tvec = TfidfVectorizer(max_features = n_words, min_df = min_df)"
   ]
  },
  {
   "cell_type": "markdown",
   "metadata": {},
   "source": [
    "### Train File"
   ]
  },
  {
   "cell_type": "code",
   "execution_count": null,
   "metadata": {},
   "outputs": [],
   "source": [
    "trainWeights = tvec.fit_transform(trainDataSliced['title_abstract_mesh_stemmed'])\n",
    "trainScore = pd.DataFrame(trainWeights.toarray(), columns=tvec.get_feature_names())\n",
    "trainVoc = tvec.vocabulary_"
   ]
  },
  {
   "cell_type": "code",
   "execution_count": null,
   "metadata": {},
   "outputs": [],
   "source": [
    "print(trainVoc)"
   ]
  },
  {
   "cell_type": "code",
   "execution_count": null,
   "metadata": {},
   "outputs": [],
   "source": [
    "trainData.shape"
   ]
  },
  {
   "cell_type": "code",
   "execution_count": null,
   "metadata": {},
   "outputs": [],
   "source": [
    "resTrain = pd.concat([trainDataSliced, trainScore, trainDocId], axis=1)\n",
    "trainFinal = resTrain.drop(['title_abstract_mesh_stemmed'], axis=1)\n",
    "trainFinal = trainFinal.sort_values('qid')\n",
    "trainFinal.head(1)"
   ]
  },
  {
   "cell_type": "code",
   "execution_count": null,
   "metadata": {},
   "outputs": [],
   "source": [
    "trainFinal.shape"
   ]
  },
  {
   "cell_type": "code",
   "execution_count": null,
   "metadata": {},
   "outputs": [],
   "source": [
    "rankTrain = trainFinal.to_dict('records')"
   ]
  },
  {
   "cell_type": "code",
   "execution_count": null,
   "metadata": {},
   "outputs": [],
   "source": [
    "f = open(\"train.txt\", \"w\")\n",
    "\n",
    "for item in rankTrain:\n",
    "    for i,val in item.items():\n",
    "        if(i == \"relevance_score\"):\n",
    "            f.write(str(val)+\" \")\n",
    "        elif(i == \"trec_doc_id\"):\n",
    "            f.write('# '+str(val))\n",
    "        elif(i == \"qid\"):\n",
    "            f.write(str(i)+\":\"+str(val)+\" \")\n",
    "        else:\n",
    "            j = tvec.vocabulary_[i] + 1\n",
    "            f.write(str(j)+\":\"+str(val)+\" \")\n",
    "    f.write(\"\\n\")    \n",
    "f.close()"
   ]
  },
  {
   "cell_type": "markdown",
   "metadata": {},
   "source": [
    "### Test Files"
   ]
  },
  {
   "cell_type": "code",
   "execution_count": null,
   "metadata": {},
   "outputs": [],
   "source": [
    "sets = 0\n",
    "for testDataSliced in testDataSetSliced:\n",
    "    testDocId = testDataSliced[['trec_doc_id']]\n",
    "    testData = testDataSliced[['relevance_score','qid','title_abstract_mesh_stemmed']]\n",
    "    \n",
    "    tvec = TfidfVectorizer(vocabulary = trainVoc)\n",
    "    testWeights = tvec.fit_transform(testData['title_abstract_mesh_stemmed'])\n",
    "    testScore = pd.DataFrame(testWeights.toarray(), columns=tvec.get_feature_names())\n",
    "    \n",
    "    testData.reset_index(drop=True, inplace=True)\n",
    "    testScore.reset_index(drop=True, inplace=True)\n",
    "    testDocId.reset_index(drop=True, inplace=True)\n",
    "    \n",
    "    resTest = pd.concat([testData, testScore, testDocId], axis=1)    \n",
    "    testFinal = resTest.drop(['title_abstract_mesh_stemmed'], axis=1)\n",
    "    testFinal = testFinal.sort_values('qid')\n",
    "\n",
    "    rankTest = testFinal.to_dict('records')\n",
    "    \n",
    "    f = open(\"test\"+str(sets)+\".txt\", \"w\")\n",
    "\n",
    "    for item in rankTest:\n",
    "        for i,val in item.items():\n",
    "            if(i == \"relevance_score\"):\n",
    "                f.write(str(val)+\" \")\n",
    "            elif(i == \"trec_doc_id\"):\n",
    "                f.write('# '+str(val))\n",
    "            elif(i == \"qid\"):\n",
    "                f.write(str(i)+\":\"+str(val)+\" \")\n",
    "            else:\n",
    "                j = tvec.vocabulary_[i] + 1\n",
    "                f.write(str(j)+\":\"+str(val)+\" \")\n",
    "        f.write(\"\\n\")    \n",
    "    f.close()\n",
    "    sets = sets + 1"
   ]
  },
  {
   "cell_type": "markdown",
   "metadata": {},
   "source": [
    "### Validation Files"
   ]
  },
  {
   "cell_type": "code",
   "execution_count": null,
   "metadata": {},
   "outputs": [],
   "source": [
    "sets = 0\n",
    "for valDataSliced in valDataSetSliced:\n",
    "    valDocId = valDataSliced[['trec_doc_id']]\n",
    "    valData = valDataSliced[['relevance_score','qid','title_abstract_mesh_stemmed']]\n",
    "\n",
    "    tvec = TfidfVectorizer(vocabulary = trainVoc)\n",
    "    valWeights = tvec.fit_transform(valData['title_abstract_mesh_stemmed'])\n",
    "    valScore = pd.DataFrame(valWeights.toarray(), columns=tvec.get_feature_names())\n",
    "    \n",
    "    valData.reset_index(drop=True, inplace=True)\n",
    "    valScore.reset_index(drop=True, inplace=True)\n",
    "    valDocId.reset_index(drop=True, inplace=True)\n",
    "\n",
    "    resVal = pd.concat([valData, valScore, valDocId], axis=1)\n",
    "    valFinal = resVal.drop(['title_abstract_mesh_stemmed'], axis=1)\n",
    "    valFinal = valFinal.sort_values('qid')\n",
    "\n",
    "    rankVal = valFinal.to_dict('records')\n",
    "\n",
    "    f = open(\"vali\"+str(sets)+\".txt\", \"w\")\n",
    "\n",
    "    for item in rankVal:\n",
    "        for i,val in item.items():\n",
    "            if(i == \"relevance_score\"):\n",
    "                f.write(str(val)+\" \")\n",
    "            elif(i == \"trec_doc_id\"):\n",
    "                f.write('# '+str(val))\n",
    "            elif(i == \"qid\"):\n",
    "                f.write(str(i)+\":\"+str(val)+\" \")\n",
    "            else:\n",
    "                j = tvec.vocabulary_[i] + 1\n",
    "                f.write(str(j)+\":\"+str(val)+\" \")\n",
    "        f.write(\"\\n\")    \n",
    "    f.close()\n",
    "    sets = sets + 1"
   ]
  },
  {
   "cell_type": "markdown",
   "metadata": {},
   "source": [
    "# L2R"
   ]
  },
  {
   "cell_type": "code",
   "execution_count": null,
   "metadata": {},
   "outputs": [],
   "source": [
    "%ls"
   ]
  },
  {
   "cell_type": "markdown",
   "metadata": {},
   "source": [
    "# No validation"
   ]
  },
  {
   "cell_type": "code",
   "execution_count": null,
   "metadata": {},
   "outputs": [],
   "source": [
    "count = 0\n",
    "randonRanking = []\n",
    "ourRanking = []\n",
    "allFeatures = []\n",
    "\n",
    "while count < sets:\n",
    "    metric = pyltr.metrics.NDCG(k=10)\n",
    "\n",
    "    model = pyltr.models.LambdaMART(\n",
    "        metric=metric,\n",
    "        n_estimators=1000,\n",
    "        learning_rate=0.02,\n",
    "        max_features=0.5,\n",
    "        query_subsample=0.5,\n",
    "        max_leaf_nodes=10,\n",
    "        min_samples_leaf=64,\n",
    "        verbose=1,\n",
    "    )\n",
    "\n",
    "    print(\"Fold: \"+str(count))\n",
    "    with open('train.txt') as trainfile, open('test'+str(count)+'.txt') as evalfile:\n",
    "        TrainX, Trainy, TrainQids, _ = pyltr.data.letor.read_dataset(trainfile)\n",
    "        EvalX, Evaly, EvalQids, _ = pyltr.data.letor.read_dataset(evalfile)\n",
    "        \n",
    "    model.fit(TrainX, Trainy, TrainQids)\n",
    "    Epred = model.predict(EvalX)\n",
    "    randonRanking.append(metric.calc_mean_random(EvalQids, Evaly))\n",
    "    ourRanking.append(metric.calc_mean(EvalQids, Evaly, Epred))\n",
    "    \n",
    "    # features\n",
    "    nonZero = np.nonzero(model.feature_importances_)\n",
    "    for i in nonZero:\n",
    "        nonZeros = i.tolist()\n",
    "        \n",
    "    listFeatures = np.argsort(model.feature_importances_)\n",
    "        \n",
    "    for feature in listFeatures:\n",
    "        if (feature in nonZeros) and (feature not in allFeatures):\n",
    "            allFeatures.append(feature)\n",
    "    \n",
    "    count+=1"
   ]
  },
  {
   "cell_type": "markdown",
   "metadata": {},
   "source": [
    "# With Validation"
   ]
  },
  {
   "cell_type": "code",
   "execution_count": null,
   "metadata": {},
   "outputs": [],
   "source": [
    "count = 0\n",
    "randonRanking = []\n",
    "ourRanking = []\n",
    "\n",
    "while count < sets:\n",
    "    metric = pyltr.metrics.NDCG(k=10)\n",
    "\n",
    "    model = pyltr.models.LambdaMART(\n",
    "        metric=metric,\n",
    "        n_estimators=1000,\n",
    "        learning_rate=0.02,\n",
    "        max_features=0.5,\n",
    "        query_subsample=0.5,\n",
    "        max_leaf_nodes=10,\n",
    "        min_samples_leaf=64,\n",
    "        verbose=1,\n",
    "    )\n",
    "\n",
    "    print(\"Fold: \"+str(count))\n",
    "    with open('train.txt') as trainfile, open('vali'+str(count)+'.txt') as valifile, open('test'+str(count)+'.txt') as evalfile:\n",
    "        TrainX, Trainy, TrainQids, _ = pyltr.data.letor.read_dataset(trainfile)\n",
    "        ValX, Valy, ValQids, _ = pyltr.data.letor.read_dataset(valifile)\n",
    "        EvalX, Evaly, EvalQids, _ = pyltr.data.letor.read_dataset(evalfile)\n",
    "        \n",
    "    monitor = pyltr.models.monitors.ValidationMonitor(ValX, Valy, ValQids, metric=metric, stop_after=250)\n",
    "    model.fit(TrainX, Trainy, TrainQids, monitor=monitor)\n",
    "    Epred = model.predict(EvalX)\n",
    "    randonRanking.append(metric.calc_mean_random(EvalQids, Evaly))\n",
    "    ourRanking.append(metric.calc_mean(EvalQids, Evaly, Epred))\n",
    "    \n",
    "    # features\n",
    "    nonZero = np.nonzero(model.feature_importances_)\n",
    "    for i in nonZero:\n",
    "        nonZeros = i.tolist()\n",
    "        \n",
    "    listFeatures = np.argsort(model.feature_importances_)\n",
    "        \n",
    "    for feature in listFeatures:\n",
    "        if (feature in nonZeros) and (feature not in allFeatures):\n",
    "            allFeatures.append(feature)\n",
    "    \n",
    "    count+=1"
   ]
  },
  {
   "cell_type": "code",
   "execution_count": null,
   "metadata": {},
   "outputs": [],
   "source": [
    "print(randonRanking)"
   ]
  },
  {
   "cell_type": "code",
   "execution_count": null,
   "metadata": {},
   "outputs": [],
   "source": [
    "numpR = np.asarray(randonRanking)\n",
    "np.mean(numpR)"
   ]
  },
  {
   "cell_type": "code",
   "execution_count": null,
   "metadata": {},
   "outputs": [],
   "source": [
    "print(ourRanking)"
   ]
  },
  {
   "cell_type": "code",
   "execution_count": null,
   "metadata": {},
   "outputs": [],
   "source": [
    "numpR = np.asarray(ourRanking)\n",
    "np.mean(numpR)"
   ]
  },
  {
   "cell_type": "code",
   "execution_count": null,
   "metadata": {},
   "outputs": [],
   "source": [
    "len(allFeatures)"
   ]
  },
  {
   "cell_type": "code",
   "execution_count": null,
   "metadata": {},
   "outputs": [],
   "source": [
    "for feature in allFeatures:\n",
    "    voc = feature-1\n",
    "    for key,value in tvec.vocabulary_.items():\n",
    "        if value == voc:\n",
    "            print(value, key)"
   ]
  }
 ],
 "metadata": {
  "kernelspec": {
   "display_name": "Python 3",
   "language": "python",
   "name": "python3"
  },
  "language_info": {
   "codemirror_mode": {
    "name": "ipython",
    "version": 3
   },
   "file_extension": ".py",
   "mimetype": "text/x-python",
   "name": "python",
   "nbconvert_exporter": "python",
   "pygments_lexer": "ipython3",
   "version": "3.6.5"
  }
 },
 "nbformat": 4,
 "nbformat_minor": 2
}
