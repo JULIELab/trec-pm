{
 "cells": [
  {
   "cell_type": "code",
   "execution_count": 1,
   "metadata": {},
   "outputs": [],
   "source": [
    "from os import listdir\n",
    "from os.path import isfile, isdir, join\n",
    "from lxml import etree\n",
    "import pandas as pd\n",
    "import tarfile\n",
    "import gzip\n",
    "import time\n",
    "import csv\n",
    "import re\n",
    "import sys\n",
    "import math\n",
    "import nltk\n",
    "import string\n",
    "import numpy as np\n",
    "from nltk import word_tokenize\n",
    "from nltk.corpus import stopwords\n",
    "from nltk.stem.porter import PorterStemmer\n",
    "from nltk.stem.snowball import SnowballStemmer\n",
    "from sklearn.feature_extraction.text import TfidfVectorizer"
   ]
  },
  {
   "cell_type": "code",
   "execution_count": 2,
   "metadata": {},
   "outputs": [],
   "source": [
    "import pyltr"
   ]
  },
  {
   "cell_type": "markdown",
   "metadata": {},
   "source": [
    "# TESTING pyltr with LETOR"
   ]
  },
  {
   "cell_type": "code",
   "execution_count": 37,
   "metadata": {},
   "outputs": [],
   "source": [
    "folder=\"/Users/ari/Downloads/MQ2007/Fold1\""
   ]
  },
  {
   "cell_type": "code",
   "execution_count": 81,
   "metadata": {},
   "outputs": [],
   "source": [
    "with open(join(folder,'train.txt')) as trainfile, open(join(folder,'vali.txt')) as valifile, open(join(folder,'test.txt')) as evalfile:\n",
    "    TX, Ty, Tqids, _ = pyltr.data.letor.read_dataset(trainfile)\n",
    "    VX, Vy, Vqids, _ = pyltr.data.letor.read_dataset(valifile)\n",
    "    EX, Ey, Eqids, _ = pyltr.data.letor.read_dataset(evalfile)"
   ]
  },
  {
   "cell_type": "code",
   "execution_count": 97,
   "metadata": {},
   "outputs": [
    {
     "data": {
      "text/plain": [
       "array([[0.      , 0.      , 0.      , ..., 0.      , 0.      , 0.      ],\n",
       "       [0.03131 , 0.666667, 0.5     , ..., 0.333333, 0.448276, 0.      ],\n",
       "       [0.078682, 0.166667, 0.5     , ..., 0.833333, 0.678161, 0.      ],\n",
       "       ...,\n",
       "       [0.762295, 0.      , 0.      , ..., 0.5     , 0.686275, 0.      ],\n",
       "       [0.02459 , 0.      , 0.      , ..., 0.5     , 0.352941, 0.      ],\n",
       "       [0.663934, 0.      , 0.      , ..., 0.5     , 0.431373, 0.      ]])"
      ]
     },
     "execution_count": 97,
     "metadata": {},
     "output_type": "execute_result"
    }
   ],
   "source": [
    "TX"
   ]
  },
  {
   "cell_type": "code",
   "execution_count": 98,
   "metadata": {},
   "outputs": [
    {
     "data": {
      "text/plain": [
       "array([0., 1., 1., ..., 0., 0., 0.])"
      ]
     },
     "execution_count": 98,
     "metadata": {},
     "output_type": "execute_result"
    }
   ],
   "source": [
    "Ty"
   ]
  },
  {
   "cell_type": "code",
   "execution_count": 92,
   "metadata": {},
   "outputs": [
    {
     "data": {
      "text/plain": [
       "array(['10', '10', '10', ..., '6000', '6000', '6000'], dtype='<U4')"
      ]
     },
     "execution_count": 92,
     "metadata": {},
     "output_type": "execute_result"
    }
   ],
   "source": [
    "Tqids"
   ]
  },
  {
   "cell_type": "code",
   "execution_count": null,
   "metadata": {},
   "outputs": [],
   "source": [
    "metric = pyltr.metrics.NDCG(k=10)\n",
    "\n",
    "# Only needed if you want to perform validation (early stopping & trimming)\n",
    "monitor = pyltr.models.monitors.ValidationMonitor(\n",
    "    VX, Vy, Vqids, metric=metric, stop_after=250)\n",
    "\n",
    "model = pyltr.models.LambdaMART(\n",
    "    metric=metric,\n",
    "    n_estimators=1000,\n",
    "    learning_rate=0.02,\n",
    "    max_features=0.5,\n",
    "    query_subsample=0.5,\n",
    "    max_leaf_nodes=10,\n",
    "    min_samples_leaf=64,\n",
    "    verbose=1,\n",
    ")\n",
    "\n",
    "model.fit(TX, Ty, Tqids, monitor=monitor)"
   ]
  },
  {
   "cell_type": "code",
   "execution_count": null,
   "metadata": {},
   "outputs": [],
   "source": [
    "Epred = model.predict(EX)\n",
    "print('Random ranking:', metric.calc_mean_random(Eqids, Ey))\n",
    "print('Our model:', metric.calc_mean(Eqids, Ey, Epred))"
   ]
  },
  {
   "cell_type": "markdown",
   "metadata": {},
   "source": [
    "# Reading GS Files"
   ]
  },
  {
   "cell_type": "code",
   "execution_count": 3,
   "metadata": {},
   "outputs": [],
   "source": [
    "gsPath = \"/Users/ari/Downloads/TREC/trec2018/results/goldstandard\"\n",
    "trainYear = \"2017\"\n",
    "testYear = \"2018\""
   ]
  },
  {
   "cell_type": "code",
   "execution_count": 4,
   "metadata": {},
   "outputs": [],
   "source": [
    "gsTrainFile = join(join(gsPath, trainYear),\"20180622processedGoldStandardXMLTXT.tsv\")\n",
    "gsTestFile = join(join(gsPath, testYear),\"20190111processedGoldStandardPub2018.tsv\")"
   ]
  },
  {
   "cell_type": "code",
   "execution_count": 5,
   "metadata": {},
   "outputs": [
    {
     "data": {
      "text/html": [
       "<div>\n",
       "<style scoped>\n",
       "    .dataframe tbody tr th:only-of-type {\n",
       "        vertical-align: middle;\n",
       "    }\n",
       "\n",
       "    .dataframe tbody tr th {\n",
       "        vertical-align: top;\n",
       "    }\n",
       "\n",
       "    .dataframe thead th {\n",
       "        text-align: right;\n",
       "    }\n",
       "</style>\n",
       "<table border=\"1\" class=\"dataframe\">\n",
       "  <thead>\n",
       "    <tr style=\"text-align: right;\">\n",
       "      <th></th>\n",
       "      <th>Unnamed: 0</th>\n",
       "      <th>trec_topic_number</th>\n",
       "      <th>trec_doc_id</th>\n",
       "      <th>pm_rel_desc</th>\n",
       "      <th>disease_desc</th>\n",
       "      <th>gene1_annotation_desc</th>\n",
       "      <th>gene1_name</th>\n",
       "      <th>gene2_annotation_desc</th>\n",
       "      <th>gene2_name</th>\n",
       "      <th>gene3_annotation_desc</th>\n",
       "      <th>...</th>\n",
       "      <th>title</th>\n",
       "      <th>abstract</th>\n",
       "      <th>major_mesh</th>\n",
       "      <th>minor_mesh</th>\n",
       "      <th>trec_topic_disease</th>\n",
       "      <th>trec_topic_age</th>\n",
       "      <th>trec_topic_sex</th>\n",
       "      <th>trec_topic_other1</th>\n",
       "      <th>trec_topic_other2</th>\n",
       "      <th>trec_topic_other3</th>\n",
       "    </tr>\n",
       "  </thead>\n",
       "  <tbody>\n",
       "    <tr>\n",
       "      <th>0</th>\n",
       "      <td>0</td>\n",
       "      <td>1</td>\n",
       "      <td>10065107</td>\n",
       "      <td>Human PM</td>\n",
       "      <td>Exact</td>\n",
       "      <td>Missing Gene</td>\n",
       "      <td>CDK4 Amplification</td>\n",
       "      <td></td>\n",
       "      <td></td>\n",
       "      <td></td>\n",
       "      <td>...</td>\n",
       "      <td>[A case of metastatic liposarcoma originating ...</td>\n",
       "      <td>We reported a 36-year-old woman with metastati...</td>\n",
       "      <td></td>\n",
       "      <td>Adult;Antineoplastic Combined Chemotherapy Pro...</td>\n",
       "      <td>Liposarcoma</td>\n",
       "      <td>38-year-old</td>\n",
       "      <td>male</td>\n",
       "      <td>GERD</td>\n",
       "      <td></td>\n",
       "      <td></td>\n",
       "    </tr>\n",
       "    <tr>\n",
       "      <th>1</th>\n",
       "      <td>1</td>\n",
       "      <td>1</td>\n",
       "      <td>10101594</td>\n",
       "      <td>Human PM</td>\n",
       "      <td>More General</td>\n",
       "      <td>Exact</td>\n",
       "      <td>CDK4 Amplification</td>\n",
       "      <td></td>\n",
       "      <td></td>\n",
       "      <td></td>\n",
       "      <td>...</td>\n",
       "      <td>Analysis of SAS gene and CDK4 and MDM2 protein...</td>\n",
       "      <td>The region q13-15 of chromosome 12 contains SA...</td>\n",
       "      <td>Nuclear Proteins</td>\n",
       "      <td>Adolescent;Adult;Chromosomes, Human, Pair 12;C...</td>\n",
       "      <td>Liposarcoma</td>\n",
       "      <td>38-year-old</td>\n",
       "      <td>male</td>\n",
       "      <td>GERD</td>\n",
       "      <td></td>\n",
       "      <td></td>\n",
       "    </tr>\n",
       "    <tr>\n",
       "      <th>2</th>\n",
       "      <td>2</td>\n",
       "      <td>1</td>\n",
       "      <td>10220412</td>\n",
       "      <td>Human PM</td>\n",
       "      <td>More Specific</td>\n",
       "      <td>Missing Gene</td>\n",
       "      <td>CDK4 Amplification</td>\n",
       "      <td></td>\n",
       "      <td></td>\n",
       "      <td></td>\n",
       "      <td>...</td>\n",
       "      <td>Induction of a secreted protein by the myxoid ...</td>\n",
       "      <td>The TLS-CHOP oncoprotein, found in the majorit...</td>\n",
       "      <td>CCAAT-Enhancer-Binding Proteins;Gene Expressio...</td>\n",
       "      <td>Animals;Cells, Cultured;Cloning, Molecular;DNA...</td>\n",
       "      <td>Liposarcoma</td>\n",
       "      <td>38-year-old</td>\n",
       "      <td>male</td>\n",
       "      <td>GERD</td>\n",
       "      <td></td>\n",
       "      <td></td>\n",
       "    </tr>\n",
       "    <tr>\n",
       "      <th>3</th>\n",
       "      <td>3</td>\n",
       "      <td>1</td>\n",
       "      <td>10323080</td>\n",
       "      <td>Human PM</td>\n",
       "      <td>More General</td>\n",
       "      <td>Exact</td>\n",
       "      <td>CDK4 Amplification</td>\n",
       "      <td></td>\n",
       "      <td></td>\n",
       "      <td></td>\n",
       "      <td>...</td>\n",
       "      <td>Mutations of TP53, amplification of EGFR, MDM2...</td>\n",
       "      <td>We investigated the frequency and mutual relat...</td>\n",
       "      <td>Gene Deletion;Nuclear Proteins</td>\n",
       "      <td>Cyclin-Dependent Kinase 4;Cyclin-Dependent Kin...</td>\n",
       "      <td>Liposarcoma</td>\n",
       "      <td>38-year-old</td>\n",
       "      <td>male</td>\n",
       "      <td>GERD</td>\n",
       "      <td></td>\n",
       "      <td></td>\n",
       "    </tr>\n",
       "    <tr>\n",
       "      <th>4</th>\n",
       "      <td>4</td>\n",
       "      <td>1</td>\n",
       "      <td>10466061</td>\n",
       "      <td>Human PM</td>\n",
       "      <td>Exact</td>\n",
       "      <td>Missing Gene</td>\n",
       "      <td>CDK4 Amplification</td>\n",
       "      <td></td>\n",
       "      <td></td>\n",
       "      <td></td>\n",
       "      <td>...</td>\n",
       "      <td>[A case of advanced retroperitoneal dedifferen...</td>\n",
       "      <td>We report a case of retroperitoneal dedifferen...</td>\n",
       "      <td></td>\n",
       "      <td>Antineoplastic Agents, Alkylating/administrati...</td>\n",
       "      <td>Liposarcoma</td>\n",
       "      <td>38-year-old</td>\n",
       "      <td>male</td>\n",
       "      <td>GERD</td>\n",
       "      <td></td>\n",
       "      <td></td>\n",
       "    </tr>\n",
       "  </tbody>\n",
       "</table>\n",
       "<p>5 rows × 24 columns</p>\n",
       "</div>"
      ],
      "text/plain": [
       "   Unnamed: 0  trec_topic_number trec_doc_id pm_rel_desc   disease_desc  \\\n",
       "0           0                  1    10065107    Human PM          Exact   \n",
       "1           1                  1    10101594    Human PM   More General   \n",
       "2           2                  1    10220412    Human PM  More Specific   \n",
       "3           3                  1    10323080    Human PM   More General   \n",
       "4           4                  1    10466061    Human PM          Exact   \n",
       "\n",
       "  gene1_annotation_desc          gene1_name gene2_annotation_desc gene2_name  \\\n",
       "0          Missing Gene  CDK4 Amplification                                    \n",
       "1                 Exact  CDK4 Amplification                                    \n",
       "2          Missing Gene  CDK4 Amplification                                    \n",
       "3                 Exact  CDK4 Amplification                                    \n",
       "4          Missing Gene  CDK4 Amplification                                    \n",
       "\n",
       "  gene3_annotation_desc        ...         \\\n",
       "0                              ...          \n",
       "1                              ...          \n",
       "2                              ...          \n",
       "3                              ...          \n",
       "4                              ...          \n",
       "\n",
       "                                               title  \\\n",
       "0  [A case of metastatic liposarcoma originating ...   \n",
       "1  Analysis of SAS gene and CDK4 and MDM2 protein...   \n",
       "2  Induction of a secreted protein by the myxoid ...   \n",
       "3  Mutations of TP53, amplification of EGFR, MDM2...   \n",
       "4  [A case of advanced retroperitoneal dedifferen...   \n",
       "\n",
       "                                            abstract  \\\n",
       "0  We reported a 36-year-old woman with metastati...   \n",
       "1  The region q13-15 of chromosome 12 contains SA...   \n",
       "2  The TLS-CHOP oncoprotein, found in the majorit...   \n",
       "3  We investigated the frequency and mutual relat...   \n",
       "4  We report a case of retroperitoneal dedifferen...   \n",
       "\n",
       "                                          major_mesh  \\\n",
       "0                                                      \n",
       "1                                   Nuclear Proteins   \n",
       "2  CCAAT-Enhancer-Binding Proteins;Gene Expressio...   \n",
       "3                     Gene Deletion;Nuclear Proteins   \n",
       "4                                                      \n",
       "\n",
       "                                          minor_mesh trec_topic_disease  \\\n",
       "0  Adult;Antineoplastic Combined Chemotherapy Pro...        Liposarcoma   \n",
       "1  Adolescent;Adult;Chromosomes, Human, Pair 12;C...        Liposarcoma   \n",
       "2  Animals;Cells, Cultured;Cloning, Molecular;DNA...        Liposarcoma   \n",
       "3  Cyclin-Dependent Kinase 4;Cyclin-Dependent Kin...        Liposarcoma   \n",
       "4  Antineoplastic Agents, Alkylating/administrati...        Liposarcoma   \n",
       "\n",
       "  trec_topic_age trec_topic_sex trec_topic_other1 trec_topic_other2  \\\n",
       "0    38-year-old           male              GERD                     \n",
       "1    38-year-old           male              GERD                     \n",
       "2    38-year-old           male              GERD                     \n",
       "3    38-year-old           male              GERD                     \n",
       "4    38-year-old           male              GERD                     \n",
       "\n",
       "  trec_topic_other3  \n",
       "0                    \n",
       "1                    \n",
       "2                    \n",
       "3                    \n",
       "4                    \n",
       "\n",
       "[5 rows x 24 columns]"
      ]
     },
     "execution_count": 5,
     "metadata": {},
     "output_type": "execute_result"
    }
   ],
   "source": [
    "trainData = pd.read_csv(gsTrainFile, sep = '\\t', encoding='utf8', dtype={'trec_doc_id':object})\n",
    "trainData.fillna(\"\", inplace=True) # ?\n",
    "trainData.head()"
   ]
  },
  {
   "cell_type": "code",
   "execution_count": 6,
   "metadata": {},
   "outputs": [
    {
     "data": {
      "text/html": [
       "<div>\n",
       "<style scoped>\n",
       "    .dataframe tbody tr th:only-of-type {\n",
       "        vertical-align: middle;\n",
       "    }\n",
       "\n",
       "    .dataframe tbody tr th {\n",
       "        vertical-align: top;\n",
       "    }\n",
       "\n",
       "    .dataframe thead th {\n",
       "        text-align: right;\n",
       "    }\n",
       "</style>\n",
       "<table border=\"1\" class=\"dataframe\">\n",
       "  <thead>\n",
       "    <tr style=\"text-align: right;\">\n",
       "      <th></th>\n",
       "      <th>Unnamed: 0</th>\n",
       "      <th>trec_topic_number</th>\n",
       "      <th>trec_doc_id</th>\n",
       "      <th>pm_rel_desc</th>\n",
       "      <th>disease_desc</th>\n",
       "      <th>gene1_annotation_desc</th>\n",
       "      <th>gene1_name</th>\n",
       "      <th>gene2_annotation_desc</th>\n",
       "      <th>gene2_name</th>\n",
       "      <th>gene3_annotation_desc</th>\n",
       "      <th>...</th>\n",
       "      <th>demographics_desc</th>\n",
       "      <th>other_desc</th>\n",
       "      <th>relevance_score</th>\n",
       "      <th>title</th>\n",
       "      <th>abstract</th>\n",
       "      <th>major_mesh</th>\n",
       "      <th>minor_mesh</th>\n",
       "      <th>trec_topic_disease</th>\n",
       "      <th>trec_topic_age</th>\n",
       "      <th>trec_topic_sex</th>\n",
       "    </tr>\n",
       "  </thead>\n",
       "  <tbody>\n",
       "    <tr>\n",
       "      <th>0</th>\n",
       "      <td>0</td>\n",
       "      <td>1</td>\n",
       "      <td>1007359</td>\n",
       "      <td>Human PM</td>\n",
       "      <td>More Specific</td>\n",
       "      <td>Missing Gene</td>\n",
       "      <td>BRAF (V600E)</td>\n",
       "      <td></td>\n",
       "      <td></td>\n",
       "      <td></td>\n",
       "      <td>...</td>\n",
       "      <td>Matches</td>\n",
       "      <td>Not Discussed</td>\n",
       "      <td>0</td>\n",
       "      <td>[Primary multiple malignant melanomas of unusu...</td>\n",
       "      <td>In 1975, 117 patients with malignant melanoma ...</td>\n",
       "      <td>Melanoma/pathology;Neoplasms, Multiple Primary...</td>\n",
       "      <td>Adult;Aged;Female;Humans;Male;Middle Aged;Skin...</td>\n",
       "      <td>melanoma</td>\n",
       "      <td>64-year-old</td>\n",
       "      <td>male</td>\n",
       "    </tr>\n",
       "    <tr>\n",
       "      <th>1</th>\n",
       "      <td>1</td>\n",
       "      <td>1</td>\n",
       "      <td>10833951</td>\n",
       "      <td>Human PM</td>\n",
       "      <td>More Specific</td>\n",
       "      <td>Missing Gene</td>\n",
       "      <td>BRAF (V600E)</td>\n",
       "      <td></td>\n",
       "      <td></td>\n",
       "      <td></td>\n",
       "      <td>...</td>\n",
       "      <td>Excludes</td>\n",
       "      <td>Not Discussed</td>\n",
       "      <td>0</td>\n",
       "      <td>[Malignant melanomas and young men].</td>\n",
       "      <td>Medullary thyroid cancer (MTC) is a distinct C...</td>\n",
       "      <td>Melanoma/epidemiology;Melanoma/etiology;Melano...</td>\n",
       "      <td>Adult;Age Factors;Humans;Male;Risk Factors</td>\n",
       "      <td>melanoma</td>\n",
       "      <td>64-year-old</td>\n",
       "      <td>male</td>\n",
       "    </tr>\n",
       "    <tr>\n",
       "      <th>2</th>\n",
       "      <td>2</td>\n",
       "      <td>1</td>\n",
       "      <td>11381855</td>\n",
       "      <td>Human PM</td>\n",
       "      <td>More Specific</td>\n",
       "      <td>Missing Gene</td>\n",
       "      <td>BRAF (V600E)</td>\n",
       "      <td></td>\n",
       "      <td></td>\n",
       "      <td></td>\n",
       "      <td>...</td>\n",
       "      <td>Excludes</td>\n",
       "      <td>Not Discussed</td>\n",
       "      <td>0</td>\n",
       "      <td>Update on malignant melanoma in children.</td>\n",
       "      <td>Malignant melanoma is a rare event in children...</td>\n",
       "      <td>Melanoma/diagnosis;Melanoma/etiology;Melanoma/...</td>\n",
       "      <td>Adolescent;Child;Child, Preschool;Female;Human...</td>\n",
       "      <td>melanoma</td>\n",
       "      <td>64-year-old</td>\n",
       "      <td>male</td>\n",
       "    </tr>\n",
       "    <tr>\n",
       "      <th>3</th>\n",
       "      <td>3</td>\n",
       "      <td>1</td>\n",
       "      <td>1234252</td>\n",
       "      <td>Not PM</td>\n",
       "      <td></td>\n",
       "      <td></td>\n",
       "      <td></td>\n",
       "      <td></td>\n",
       "      <td></td>\n",
       "      <td></td>\n",
       "      <td>...</td>\n",
       "      <td></td>\n",
       "      <td></td>\n",
       "      <td>0</td>\n",
       "      <td>[Triage].</td>\n",
       "      <td>Multiple endocrine neoplasia, type 2B (MEN 2B)...</td>\n",
       "      <td>Disasters;Emergency Medical Services;Triage</td>\n",
       "      <td>Austria;Humans</td>\n",
       "      <td>melanoma</td>\n",
       "      <td>64-year-old</td>\n",
       "      <td>male</td>\n",
       "    </tr>\n",
       "    <tr>\n",
       "      <th>4</th>\n",
       "      <td>4</td>\n",
       "      <td>1</td>\n",
       "      <td>1234878</td>\n",
       "      <td>Not PM</td>\n",
       "      <td></td>\n",
       "      <td></td>\n",
       "      <td></td>\n",
       "      <td></td>\n",
       "      <td></td>\n",
       "      <td></td>\n",
       "      <td>...</td>\n",
       "      <td></td>\n",
       "      <td></td>\n",
       "      <td>0</td>\n",
       "      <td>Malignant melanoma--an overview.</td>\n",
       "      <td>Multiple endocrine neoplasia, type 2B (MEN 2B)...</td>\n",
       "      <td>Melanoma/diagnosis;Melanoma/therapy;Skin Neopl...</td>\n",
       "      <td>Female;Humans;Immunotherapy</td>\n",
       "      <td>melanoma</td>\n",
       "      <td>64-year-old</td>\n",
       "      <td>male</td>\n",
       "    </tr>\n",
       "  </tbody>\n",
       "</table>\n",
       "<p>5 rows × 21 columns</p>\n",
       "</div>"
      ],
      "text/plain": [
       "   Unnamed: 0  trec_topic_number trec_doc_id pm_rel_desc   disease_desc  \\\n",
       "0           0                  1     1007359    Human PM  More Specific   \n",
       "1           1                  1    10833951    Human PM  More Specific   \n",
       "2           2                  1    11381855    Human PM  More Specific   \n",
       "3           3                  1     1234252      Not PM                  \n",
       "4           4                  1     1234878      Not PM                  \n",
       "\n",
       "  gene1_annotation_desc    gene1_name gene2_annotation_desc gene2_name  \\\n",
       "0          Missing Gene  BRAF (V600E)                                    \n",
       "1          Missing Gene  BRAF (V600E)                                    \n",
       "2          Missing Gene  BRAF (V600E)                                    \n",
       "3                                                                        \n",
       "4                                                                        \n",
       "\n",
       "  gene3_annotation_desc      ...       demographics_desc     other_desc  \\\n",
       "0                            ...                 Matches  Not Discussed   \n",
       "1                            ...                Excludes  Not Discussed   \n",
       "2                            ...                Excludes  Not Discussed   \n",
       "3                            ...                                          \n",
       "4                            ...                                          \n",
       "\n",
       "  relevance_score                                              title  \\\n",
       "0               0  [Primary multiple malignant melanomas of unusu...   \n",
       "1               0               [Malignant melanomas and young men].   \n",
       "2               0          Update on malignant melanoma in children.   \n",
       "3               0                                          [Triage].   \n",
       "4               0                   Malignant melanoma--an overview.   \n",
       "\n",
       "                                            abstract  \\\n",
       "0  In 1975, 117 patients with malignant melanoma ...   \n",
       "1  Medullary thyroid cancer (MTC) is a distinct C...   \n",
       "2  Malignant melanoma is a rare event in children...   \n",
       "3  Multiple endocrine neoplasia, type 2B (MEN 2B)...   \n",
       "4  Multiple endocrine neoplasia, type 2B (MEN 2B)...   \n",
       "\n",
       "                                          major_mesh  \\\n",
       "0  Melanoma/pathology;Neoplasms, Multiple Primary...   \n",
       "1  Melanoma/epidemiology;Melanoma/etiology;Melano...   \n",
       "2  Melanoma/diagnosis;Melanoma/etiology;Melanoma/...   \n",
       "3        Disasters;Emergency Medical Services;Triage   \n",
       "4  Melanoma/diagnosis;Melanoma/therapy;Skin Neopl...   \n",
       "\n",
       "                                          minor_mesh trec_topic_disease  \\\n",
       "0  Adult;Aged;Female;Humans;Male;Middle Aged;Skin...           melanoma   \n",
       "1         Adult;Age Factors;Humans;Male;Risk Factors           melanoma   \n",
       "2  Adolescent;Child;Child, Preschool;Female;Human...           melanoma   \n",
       "3                                     Austria;Humans           melanoma   \n",
       "4                        Female;Humans;Immunotherapy           melanoma   \n",
       "\n",
       "  trec_topic_age trec_topic_sex  \n",
       "0    64-year-old           male  \n",
       "1    64-year-old           male  \n",
       "2    64-year-old           male  \n",
       "3    64-year-old           male  \n",
       "4    64-year-old           male  \n",
       "\n",
       "[5 rows x 21 columns]"
      ]
     },
     "execution_count": 6,
     "metadata": {},
     "output_type": "execute_result"
    }
   ],
   "source": [
    "testData = pd.read_csv(gsTestFile, sep = '\\t', encoding='utf8', dtype={'trec_doc_id':object})\n",
    "testData.fillna(\"\", inplace=True) # ?\n",
    "testData.head()"
   ]
  },
  {
   "cell_type": "markdown",
   "metadata": {},
   "source": [
    "# Preprocessing the data"
   ]
  },
  {
   "cell_type": "markdown",
   "metadata": {},
   "source": [
    "# Functions to tokenize, remove stop words, get stemms"
   ]
  },
  {
   "cell_type": "code",
   "execution_count": 7,
   "metadata": {},
   "outputs": [
    {
     "name": "stdout",
     "output_type": "stream",
     "text": [
      "[nltk_data] Downloading package stopwords to /Users/ari/nltk_data...\n",
      "[nltk_data]   Package stopwords is already up-to-date!\n",
      "[nltk_data] Downloading package punkt to /Users/ari/nltk_data...\n",
      "[nltk_data]   Package punkt is already up-to-date!\n"
     ]
    }
   ],
   "source": [
    "# Get Stopwords\n",
    "nltk.download('stopwords')\n",
    "nltk.download('punkt')\n",
    "stopWords = stopwords.words('english')\n",
    "\n",
    "def tokenizePorter(text):\n",
    "    tokens = word_tokenize(text)\n",
    "    stems = []\n",
    "    stemmer = PorterStemmer()\n",
    "    for item in tokens:\n",
    "        if item not in stopWords: \n",
    "            stems.append(stemmer.stem(item))\n",
    "    return ' '.join(stems)\n",
    "\n",
    "def tokenizeSnowball(text):\n",
    "    tokens = word_tokenize(text)\n",
    "    stems = []\n",
    "    stemmer = SnowballStemmer(\"english\")\n",
    "    for item in tokens:\n",
    "        if item not in stopWords: \n",
    "            stems.append(stemmer.stem(item))\n",
    "    return ' '.join(stems)"
   ]
  },
  {
   "cell_type": "markdown",
   "metadata": {},
   "source": [
    "# TrainData"
   ]
  },
  {
   "cell_type": "code",
   "execution_count": 8,
   "metadata": {},
   "outputs": [
    {
     "name": "stderr",
     "output_type": "stream",
     "text": [
      "/anaconda3/lib/python3.6/site-packages/ipykernel_launcher.py:14: SettingWithCopyWarning: \n",
      "A value is trying to be set on a copy of a slice from a DataFrame\n",
      "\n",
      "See the caveats in the documentation: http://pandas.pydata.org/pandas-docs/stable/indexing.html#indexing-view-versus-copy\n",
      "  \n",
      "/anaconda3/lib/python3.6/site-packages/ipykernel_launcher.py:15: SettingWithCopyWarning: \n",
      "A value is trying to be set on a copy of a slice from a DataFrame\n",
      "\n",
      "See the caveats in the documentation: http://pandas.pydata.org/pandas-docs/stable/indexing.html#indexing-view-versus-copy\n",
      "  from ipykernel import kernelapp as app\n"
     ]
    },
    {
     "data": {
      "text/html": [
       "<div>\n",
       "<style scoped>\n",
       "    .dataframe tbody tr th:only-of-type {\n",
       "        vertical-align: middle;\n",
       "    }\n",
       "\n",
       "    .dataframe tbody tr th {\n",
       "        vertical-align: top;\n",
       "    }\n",
       "\n",
       "    .dataframe thead th {\n",
       "        text-align: right;\n",
       "    }\n",
       "</style>\n",
       "<table border=\"1\" class=\"dataframe\">\n",
       "  <thead>\n",
       "    <tr style=\"text-align: right;\">\n",
       "      <th></th>\n",
       "      <th>relevance_score</th>\n",
       "      <th>qid</th>\n",
       "      <th>title_abstract_mesh_stemmed</th>\n",
       "    </tr>\n",
       "  </thead>\n",
       "  <tbody>\n",
       "    <tr>\n",
       "      <th>0</th>\n",
       "      <td>0</td>\n",
       "      <td>1</td>\n",
       "      <td>case metastat liposarcoma origin retroperitoneum success treat combin chemotherapi report 36yearold woman metastat liposarcoma origin retroperitoneum respond well adjuv chemotherapi primari tumor remov surgeri two month later patient develop metastasi brain lung four month later metastat liposarcoma brain general extrem rare patient treat combin chemotherapi use cyclophosphamid vincristin adriamycin dacarbazin cyvad examin former two drug altern vindesin ifosfamid anoth regimen cisplatin etoposid given threeweek interv result metastas total disappear recurr lesion note two year although role chemotherapi liposarcoma well defin littl data support use adjuv set combin chemotherapi seem effect advanc liposarcoma adult antineoplast combin chemotherapi protocol therapeut use brain neoplasm drug therapi brain neoplasm secondari cyclophosphamid administr dosag dacarbazin administr dosag doxorubicin administr dosag drug administr schedul femal human liposarcoma drug therapi liposarcoma secondari lung neoplasm drug therapi lung neoplasm secondari remiss induct retroperiton neoplasm patholog vincristin administr dosag</td>\n",
       "    </tr>\n",
       "    <tr>\n",
       "      <th>1</th>\n",
       "      <td>1</td>\n",
       "      <td>1</td>\n",
       "      <td>analysi sas gene cdk4 mdm2 protein lowgrad osteosarcoma region q1315 chromosom 12 contain sas cdk4 mdm2 gene rearrang amplifi varieti human sarcoma studi evalu sas gene amplif mdm2 cdk4 protein express 20 tumor sampl central lowgrad osteosarcoma 16 primari 3 recurr 1 lung metastasi sas amplif analyz quantit polymeras chain reaction pcr paraffinembed sampl mdm2 cdk4 protein express evalu immunohistochemistri mdm2 cdk4 protein found strong express 35 65 respect sampl sas found amplifi 15 sampl find indic gene may involv tumorigenesi progress lowgrad osteosarcoma nuclear protein adolesc adult chromosom human pair 12 cyclindepend kinas 4 cyclindepend kinas genet cyclindepend kinas metabol dna neoplasm isol purif femal gene express human immunohistochemistri male membran protein genet membran protein metabol middl age neoplasm protein genet neoplasm protein metabol osteosarcoma genet osteosarcoma metabol osteosarcoma patholog polymeras chain reaction protooncogen protein genet protooncogen protein metabol protooncogen protein cmdm2 tetraspanin</td>\n",
       "    </tr>\n",
       "    <tr>\n",
       "      <th>2</th>\n",
       "      <td>0</td>\n",
       "      <td>1</td>\n",
       "      <td>induct secret protein myxoid liposarcoma oncogen tlschop oncoprotein found major human myxoid liposarcoma consist fusion transcript factor chop gadd153 n terminus rnabind protein tls fus clinic correl vitro transform assay indic n terminus tls play import role oncogenesi tlschop howev activ attribut oncoprotein inhibit bind transcript factor c ebp class certain adipogen target gene function tlschop share nononcogen chop protein report isol gene dol54 activ primari fibroblast express tlschop dol54 express neoplast compon human myxoid liposarcoma increas tumorigen cell inject nude mice activ dol54 requir intact dnabind dimer domain tlschop suitabl cellular dimer partner depend tls n terminus normal adipocyt differenti associ earli transient express dol54 gene encod secret protein tight associ cell surfac extracellular matrix tlschop thus lead unschedul express gene normal associ adipocyt differenti ccaatenhancerbind protein gene express regul neoplast rnabind protein fus anim cell cultur clone molecular dnabind protein genet dnabind protein metabol fibroblast metabol human liposarcoma myxoid genet liposarcoma myxoid metabol mice molecular sequenc data neoplasm protein genet neoplasm protein secret nuclear protein genet oncogen protein fusion genet transcript factor chop</td>\n",
       "    </tr>\n",
       "    <tr>\n",
       "      <th>3</th>\n",
       "      <td>1</td>\n",
       "      <td>1</td>\n",
       "      <td>mutat tp53 amplif egfr mdm2 cdk4 delet cdkn2a malign astrocytoma investig frequenc mutual relationship molecular alter 33 malign astrocytoma 28 glioblastoma 5 anaplast astrocytoma genet alter analyz delet cdkn2a p16 gene tp53 mutat amplif egfr mdm2 cdk4 common genet alter egfr amplif reveal 15 case 45 tp53 mutat identifi 9 case 27 cdkn2 p16 delet detect 13 case 41 either mdm2 cdk4 amplif less frequent identifi 4 12 1 3 case respect 15 case show amplif egfr 9 cdkn2 p16 delet 60 p 004 hand cdkn2 p16 delet egfr amplif rare occur tp53 mutat 2 14 case cdkn2 p16 delet 14 result confirm exist least two differ pathway lead format glioblastoma gene delet nuclear protein cyclindepend kinas 4 cyclindepend kinas inhibitor p16 genet cyclindepend kinas genet glioblastoma genet human mutat neoplasm protein genet polymeras chain reaction protooncogen protein genet protooncogen protein cmdm2 receptor epiderm growth factor genet retrospect studi tumor suppressor protein p53 genet</td>\n",
       "    </tr>\n",
       "    <tr>\n",
       "      <th>4</th>\n",
       "      <td>0</td>\n",
       "      <td>1</td>\n",
       "      <td>case advanc retroperiton dedifferenti liposarcoma treat effect highdos ifosfamid report case retroperiton dedifferenti liposarcoma treat effect highdos ifosfamid 59yearold man receiv tumorectomi right nephrectomi retroperiton liposarcoma twentytwo month oper liver metastasi resect incomplet three month later right pleural retroperiton periton metastas appear 6 cycl highdos ifosfamid therapi tumor reduc partial ten cycl chemotherapi administ tumor show regrowth 14 month administr high dose ifosfamid combin chemotherapi ifosfamid doxorubicin etoposid effect regrowth tumor antineoplast agent alkyl administr dosag antineoplast combin chemotherapi protocol therapeut use combin modal therapi drug administr schedul human ifosfamid administr dosag liposarcoma drug therapi liposarcoma secondari liposarcoma surgeri liver neoplasm secondari male middl age periton neoplasm secondari pleural neoplasm secondari retroperiton neoplasm drug therapi retroperiton neoplasm patholog retroperiton neoplasm surgeri</td>\n",
       "    </tr>\n",
       "  </tbody>\n",
       "</table>\n",
       "</div>"
      ],
      "text/plain": [
       "   relevance_score qid  \\\n",
       "0  0                1    \n",
       "1  1                1    \n",
       "2  0                1    \n",
       "3  1                1    \n",
       "4  0                1    \n",
       "\n",
       "                                                                                                                                                                                                                                                                                                                                                                                                                                                                                                                                                                                                                                                                                                                                                                                                                                                                                                                                                                                                                                                                                                                                                                                                                                                                                                                title_abstract_mesh_stemmed  \n",
       "0  case metastat liposarcoma origin retroperitoneum success treat combin chemotherapi report 36yearold woman metastat liposarcoma origin retroperitoneum respond well adjuv chemotherapi primari tumor remov surgeri two month later patient develop metastasi brain lung four month later metastat liposarcoma brain general extrem rare patient treat combin chemotherapi use cyclophosphamid vincristin adriamycin dacarbazin cyvad examin former two drug altern vindesin ifosfamid anoth regimen cisplatin etoposid given threeweek interv result metastas total disappear recurr lesion note two year although role chemotherapi liposarcoma well defin littl data support use adjuv set combin chemotherapi seem effect advanc liposarcoma adult antineoplast combin chemotherapi protocol therapeut use brain neoplasm drug therapi brain neoplasm secondari cyclophosphamid administr dosag dacarbazin administr dosag doxorubicin administr dosag drug administr schedul femal human liposarcoma drug therapi liposarcoma secondari lung neoplasm drug therapi lung neoplasm secondari remiss induct retroperiton neoplasm patholog vincristin administr dosag                                                                                                                                                                     \n",
       "1  analysi sas gene cdk4 mdm2 protein lowgrad osteosarcoma region q1315 chromosom 12 contain sas cdk4 mdm2 gene rearrang amplifi varieti human sarcoma studi evalu sas gene amplif mdm2 cdk4 protein express 20 tumor sampl central lowgrad osteosarcoma 16 primari 3 recurr 1 lung metastasi sas amplif analyz quantit polymeras chain reaction pcr paraffinembed sampl mdm2 cdk4 protein express evalu immunohistochemistri mdm2 cdk4 protein found strong express 35 65 respect sampl sas found amplifi 15 sampl find indic gene may involv tumorigenesi progress lowgrad osteosarcoma nuclear protein adolesc adult chromosom human pair 12 cyclindepend kinas 4 cyclindepend kinas genet cyclindepend kinas metabol dna neoplasm isol purif femal gene express human immunohistochemistri male membran protein genet membran protein metabol middl age neoplasm protein genet neoplasm protein metabol osteosarcoma genet osteosarcoma metabol osteosarcoma patholog polymeras chain reaction protooncogen protein genet protooncogen protein metabol protooncogen protein cmdm2 tetraspanin                                                                                                                                                                                                                                            \n",
       "2  induct secret protein myxoid liposarcoma oncogen tlschop oncoprotein found major human myxoid liposarcoma consist fusion transcript factor chop gadd153 n terminus rnabind protein tls fus clinic correl vitro transform assay indic n terminus tls play import role oncogenesi tlschop howev activ attribut oncoprotein inhibit bind transcript factor c ebp class certain adipogen target gene function tlschop share nononcogen chop protein report isol gene dol54 activ primari fibroblast express tlschop dol54 express neoplast compon human myxoid liposarcoma increas tumorigen cell inject nude mice activ dol54 requir intact dnabind dimer domain tlschop suitabl cellular dimer partner depend tls n terminus normal adipocyt differenti associ earli transient express dol54 gene encod secret protein tight associ cell surfac extracellular matrix tlschop thus lead unschedul express gene normal associ adipocyt differenti ccaatenhancerbind protein gene express regul neoplast rnabind protein fus anim cell cultur clone molecular dnabind protein genet dnabind protein metabol fibroblast metabol human liposarcoma myxoid genet liposarcoma myxoid metabol mice molecular sequenc data neoplasm protein genet neoplasm protein secret nuclear protein genet oncogen protein fusion genet transcript factor chop  \n",
       "3  mutat tp53 amplif egfr mdm2 cdk4 delet cdkn2a malign astrocytoma investig frequenc mutual relationship molecular alter 33 malign astrocytoma 28 glioblastoma 5 anaplast astrocytoma genet alter analyz delet cdkn2a p16 gene tp53 mutat amplif egfr mdm2 cdk4 common genet alter egfr amplif reveal 15 case 45 tp53 mutat identifi 9 case 27 cdkn2 p16 delet detect 13 case 41 either mdm2 cdk4 amplif less frequent identifi 4 12 1 3 case respect 15 case show amplif egfr 9 cdkn2 p16 delet 60 p 004 hand cdkn2 p16 delet egfr amplif rare occur tp53 mutat 2 14 case cdkn2 p16 delet 14 result confirm exist least two differ pathway lead format glioblastoma gene delet nuclear protein cyclindepend kinas 4 cyclindepend kinas inhibitor p16 genet cyclindepend kinas genet glioblastoma genet human mutat neoplasm protein genet polymeras chain reaction protooncogen protein genet protooncogen protein cmdm2 receptor epiderm growth factor genet retrospect studi tumor suppressor protein p53 genet                                                                                                                                                                                                                                                                                                                          \n",
       "4  case advanc retroperiton dedifferenti liposarcoma treat effect highdos ifosfamid report case retroperiton dedifferenti liposarcoma treat effect highdos ifosfamid 59yearold man receiv tumorectomi right nephrectomi retroperiton liposarcoma twentytwo month oper liver metastasi resect incomplet three month later right pleural retroperiton periton metastas appear 6 cycl highdos ifosfamid therapi tumor reduc partial ten cycl chemotherapi administ tumor show regrowth 14 month administr high dose ifosfamid combin chemotherapi ifosfamid doxorubicin etoposid effect regrowth tumor antineoplast agent alkyl administr dosag antineoplast combin chemotherapi protocol therapeut use combin modal therapi drug administr schedul human ifosfamid administr dosag liposarcoma drug therapi liposarcoma secondari liposarcoma surgeri liver neoplasm secondari male middl age periton neoplasm secondari pleural neoplasm secondari retroperiton neoplasm drug therapi retroperiton neoplasm patholog retroperiton neoplasm surgeri                                                                                                                                                                                                                                                                                            "
      ]
     },
     "execution_count": 8,
     "metadata": {},
     "output_type": "execute_result"
    }
   ],
   "source": [
    "pd.options.display.max_rows\n",
    "pd.set_option('display.max_colwidth', -1)\n",
    "\n",
    "# Preprocessing the Text\n",
    "removePunctuation = str.maketrans('\\n', ' ', string.punctuation)\n",
    "\n",
    "# Transforms the text to lower case, remove punctuations, get the stemms of words \n",
    "trainData['title_abstract_mesh'] = trainData[['title', 'abstract', \"major_mesh\", \"minor_mesh\"]].apply(lambda x: ''.join(re.sub(r';|\\/', ' ', x.to_string(index=False).lower()).translate(removePunctuation)), axis=1)\n",
    "trainData['title_abstract_mesh_stemmed'] = trainData['title_abstract_mesh'].apply(tokenizeSnowball)\n",
    "\n",
    "np.unique(trainData['pm_rel_desc'])\n",
    "\n",
    "trainData[\"qid\"] = \"0\"\n",
    "trainData[\"qid\"][trainData[\"pm_rel_desc\"] == \"Human PM\"] = \"1\"\n",
    "trainData[\"qid\"][trainData[\"pm_rel_desc\"] == \"Animal PM\"] = \"1\"\n",
    "\n",
    "trainDataSliced = trainData[['relevance_score','qid','title_abstract_mesh_stemmed']]\n",
    "trainDocId = trainData[['trec_doc_id']]\n",
    "trainDataSliced.head()"
   ]
  },
  {
   "cell_type": "markdown",
   "metadata": {},
   "source": [
    "# TestData"
   ]
  },
  {
   "cell_type": "code",
   "execution_count": 9,
   "metadata": {},
   "outputs": [
    {
     "name": "stderr",
     "output_type": "stream",
     "text": [
      "/anaconda3/lib/python3.6/site-packages/ipykernel_launcher.py:14: SettingWithCopyWarning: \n",
      "A value is trying to be set on a copy of a slice from a DataFrame\n",
      "\n",
      "See the caveats in the documentation: http://pandas.pydata.org/pandas-docs/stable/indexing.html#indexing-view-versus-copy\n",
      "  \n",
      "/anaconda3/lib/python3.6/site-packages/ipykernel_launcher.py:15: SettingWithCopyWarning: \n",
      "A value is trying to be set on a copy of a slice from a DataFrame\n",
      "\n",
      "See the caveats in the documentation: http://pandas.pydata.org/pandas-docs/stable/indexing.html#indexing-view-versus-copy\n",
      "  from ipykernel import kernelapp as app\n"
     ]
    },
    {
     "data": {
      "text/html": [
       "<div>\n",
       "<style scoped>\n",
       "    .dataframe tbody tr th:only-of-type {\n",
       "        vertical-align: middle;\n",
       "    }\n",
       "\n",
       "    .dataframe tbody tr th {\n",
       "        vertical-align: top;\n",
       "    }\n",
       "\n",
       "    .dataframe thead th {\n",
       "        text-align: right;\n",
       "    }\n",
       "</style>\n",
       "<table border=\"1\" class=\"dataframe\">\n",
       "  <thead>\n",
       "    <tr style=\"text-align: right;\">\n",
       "      <th></th>\n",
       "      <th>relevance_score</th>\n",
       "      <th>qid</th>\n",
       "      <th>title_abstract_mesh_stemmed</th>\n",
       "    </tr>\n",
       "  </thead>\n",
       "  <tbody>\n",
       "    <tr>\n",
       "      <th>0</th>\n",
       "      <td>0</td>\n",
       "      <td>1</td>\n",
       "      <td>primari multipl malign melanoma unusu long durat 1975 117 patient malign melanoma attent depart dermatolog univers cologn three superfici spread melanoma ssm long periodon patient probabl 25 year patient anoth primari malign melanoma develop though metastasi appear ssm give protect melanoma superfici nodular type comparison 70yearold patient pigment tumour 40 year sudden spread five year ago howev least metastas regress form vitiligolik lesion surround deposit melanin macrophag case spontan regress protect patient new metastas lymph node probabl liver well melanoma patholog neoplasm multipl primari patholog skin neoplasm patholog adult age femal human male middl age skin patholog time factor</td>\n",
       "    </tr>\n",
       "    <tr>\n",
       "      <th>1</th>\n",
       "      <td>0</td>\n",
       "      <td>1</td>\n",
       "      <td>malign melanoma young men medullari thyroid cancer mtc distinct ccell tumor thyroid review oncogenesi manag sporad tumor tumor aris part specif inherit syndrom ret protooncogen play role develop inherit form mtc becom import clinic manag patient famili recognit high rate region nodal involv led lymphadenectomi strong consid patient undergo thyroidectomi mtc melanoma epidemiolog melanoma etiolog melanoma prevent control skin neoplasm epidemiolog skin neoplasm etiolog skin neoplasm prevent control adult age factor human male risk factor</td>\n",
       "    </tr>\n",
       "    <tr>\n",
       "      <th>2</th>\n",
       "      <td>0</td>\n",
       "      <td>1</td>\n",
       "      <td>updat malign melanoma children malign melanoma rare event children yet overal incid consist risen past 20 year thus likelihood pediatr patient develop malign melanoma increas previous bulk lesion estim occur children larg congenit melanocyt nevi recent report howev highlight new risk factor malign melanoma children demystifi entiti previous believ grave prognosi knowledg risk factor particip public health effort toward prevent earli intervent help practition protect pediatr patient malign melanoma diagnosi melanoma etiolog melanoma therapi skin neoplasm diagnosi skin neoplasm etiolog skin neoplasm therapi adolesc child child preschool femal human male risk factor</td>\n",
       "    </tr>\n",
       "    <tr>\n",
       "      <th>3</th>\n",
       "      <td>0</td>\n",
       "      <td>0</td>\n",
       "      <td>triag multipl endocrin neoplasia type 2b men 2b phenotyp variant group autosomaldomin neurocristopathi men 2b associ medullari thyroid carcinoma pheochromocytoma oral ocular alimentari submucos ganglioneuroma marfanoid bodi featur approxim 50 case thought spontan mutat ret protooncogen ret 21exon gene encod tyrosin kinas receptor codon 918 germ line mutat convert high conserv methionin threonin intracellular tyrosin kinas portion receptor ret identifi 95 patient men 2b mutat easili detect direct deoxyribonucl acid sequenc restrict enzym fok 1 analysi amplifi polymeras chain reaction product ret gene normal express oral gastrointestin submucos neural ganglia codon 918 mutat thought caus neuroma virtu transform activ ganglia identifi clinic featur men 2b 11yearold boy oral pathologist led confirm mutat analysi genet test avail patient later date mother underw thyroidectomi base sole biochem test result indic patient codon 918 mutat wherea phenotyp normal mother father older brother normal ret analys studi famili demonstr mutant allel deriv father possibl acquisit spermatogenesi believ mother affect patient normal absenc phenotyp featur men 2b normal genotyp suggest calcitonin abnorm minim evid ccell hyperplasia inconsequenti molecular analysi ret abnorm like supplant biochem method diagnosi patient men 2b disast emerg medic servic triag austria human</td>\n",
       "    </tr>\n",
       "    <tr>\n",
       "      <th>4</th>\n",
       "      <td>0</td>\n",
       "      <td>0</td>\n",
       "      <td>malign melanomaan overview multipl endocrin neoplasia type 2b men 2b phenotyp variant group autosomaldomin neurocristopathi men 2b associ medullari thyroid carcinoma pheochromocytoma oral ocular alimentari submucos ganglioneuroma marfanoid bodi featur approxim 50 case thought spontan mutat ret protooncogen ret 21exon gene encod tyrosin kinas receptor codon 918 germ line mutat convert high conserv methionin threonin intracellular tyrosin kinas portion receptor ret identifi 95 patient men 2b mutat easili detect direct deoxyribonucl acid sequenc restrict enzym fok 1 analysi amplifi polymeras chain reaction product ret gene normal express oral gastrointestin submucos neural ganglia codon 918 mutat thought caus neuroma virtu transform activ ganglia identifi clinic featur men 2b 11yearold boy oral pathologist led confirm mutat analysi genet test avail patient later date mother underw thyroidectomi base sole biochem test result indic patient codon 918 mutat wherea phenotyp normal mother father older brother normal ret analys studi famili demonstr mutant allel deriv father possibl acquisit spermatogenesi believ mother affect patient normal absenc phenotyp featur men 2b normal genotyp suggest calcitonin abnorm minim evid ccell hyperplasia inconsequenti molecular analysi ret abnorm like supplant biochem method diagnosi patient men 2b melanoma diagnosi melanoma therapi skin neoplasm diagnosi skin neoplasm therapi femal human immunotherapi</td>\n",
       "    </tr>\n",
       "  </tbody>\n",
       "</table>\n",
       "</div>"
      ],
      "text/plain": [
       "   relevance_score qid  \\\n",
       "0  0                1    \n",
       "1  0                1    \n",
       "2  0                1    \n",
       "3  0                0    \n",
       "4  0                0    \n",
       "\n",
       "                                                                                                                                                                                                                                                                                                                                                                                                                                                                                                                                                                                                                                                                                                                                                                                                                                                                                                                                                                                                                                                                                                                                                                                                                                                                                                                                                                                                                                                                                   title_abstract_mesh_stemmed  \n",
       "0  primari multipl malign melanoma unusu long durat 1975 117 patient malign melanoma attent depart dermatolog univers cologn three superfici spread melanoma ssm long periodon patient probabl 25 year patient anoth primari malign melanoma develop though metastasi appear ssm give protect melanoma superfici nodular type comparison 70yearold patient pigment tumour 40 year sudden spread five year ago howev least metastas regress form vitiligolik lesion surround deposit melanin macrophag case spontan regress protect patient new metastas lymph node probabl liver well melanoma patholog neoplasm multipl primari patholog skin neoplasm patholog adult age femal human male middl age skin patholog time factor                                                                                                                                                                                                                                                                                                                                                                                                                                                                                                                                                                                                                                                                                                                                                                                 \n",
       "1  malign melanoma young men medullari thyroid cancer mtc distinct ccell tumor thyroid review oncogenesi manag sporad tumor tumor aris part specif inherit syndrom ret protooncogen play role develop inherit form mtc becom import clinic manag patient famili recognit high rate region nodal involv led lymphadenectomi strong consid patient undergo thyroidectomi mtc melanoma epidemiolog melanoma etiolog melanoma prevent control skin neoplasm epidemiolog skin neoplasm etiolog skin neoplasm prevent control adult age factor human male risk factor                                                                                                                                                                                                                                                                                                                                                                                                                                                                                                                                                                                                                                                                                                                                                                                                                                                                                                                                                 \n",
       "2  updat malign melanoma children malign melanoma rare event children yet overal incid consist risen past 20 year thus likelihood pediatr patient develop malign melanoma increas previous bulk lesion estim occur children larg congenit melanocyt nevi recent report howev highlight new risk factor malign melanoma children demystifi entiti previous believ grave prognosi knowledg risk factor particip public health effort toward prevent earli intervent help practition protect pediatr patient malign melanoma diagnosi melanoma etiolog melanoma therapi skin neoplasm diagnosi skin neoplasm etiolog skin neoplasm therapi adolesc child child preschool femal human male risk factor                                                                                                                                                                                                                                                                                                                                                                                                                                                                                                                                                                                                                                                                                                                                                                                                              \n",
       "3  triag multipl endocrin neoplasia type 2b men 2b phenotyp variant group autosomaldomin neurocristopathi men 2b associ medullari thyroid carcinoma pheochromocytoma oral ocular alimentari submucos ganglioneuroma marfanoid bodi featur approxim 50 case thought spontan mutat ret protooncogen ret 21exon gene encod tyrosin kinas receptor codon 918 germ line mutat convert high conserv methionin threonin intracellular tyrosin kinas portion receptor ret identifi 95 patient men 2b mutat easili detect direct deoxyribonucl acid sequenc restrict enzym fok 1 analysi amplifi polymeras chain reaction product ret gene normal express oral gastrointestin submucos neural ganglia codon 918 mutat thought caus neuroma virtu transform activ ganglia identifi clinic featur men 2b 11yearold boy oral pathologist led confirm mutat analysi genet test avail patient later date mother underw thyroidectomi base sole biochem test result indic patient codon 918 mutat wherea phenotyp normal mother father older brother normal ret analys studi famili demonstr mutant allel deriv father possibl acquisit spermatogenesi believ mother affect patient normal absenc phenotyp featur men 2b normal genotyp suggest calcitonin abnorm minim evid ccell hyperplasia inconsequenti molecular analysi ret abnorm like supplant biochem method diagnosi patient men 2b disast emerg medic servic triag austria human                                                                                   \n",
       "4  malign melanomaan overview multipl endocrin neoplasia type 2b men 2b phenotyp variant group autosomaldomin neurocristopathi men 2b associ medullari thyroid carcinoma pheochromocytoma oral ocular alimentari submucos ganglioneuroma marfanoid bodi featur approxim 50 case thought spontan mutat ret protooncogen ret 21exon gene encod tyrosin kinas receptor codon 918 germ line mutat convert high conserv methionin threonin intracellular tyrosin kinas portion receptor ret identifi 95 patient men 2b mutat easili detect direct deoxyribonucl acid sequenc restrict enzym fok 1 analysi amplifi polymeras chain reaction product ret gene normal express oral gastrointestin submucos neural ganglia codon 918 mutat thought caus neuroma virtu transform activ ganglia identifi clinic featur men 2b 11yearold boy oral pathologist led confirm mutat analysi genet test avail patient later date mother underw thyroidectomi base sole biochem test result indic patient codon 918 mutat wherea phenotyp normal mother father older brother normal ret analys studi famili demonstr mutant allel deriv father possibl acquisit spermatogenesi believ mother affect patient normal absenc phenotyp featur men 2b normal genotyp suggest calcitonin abnorm minim evid ccell hyperplasia inconsequenti molecular analysi ret abnorm like supplant biochem method diagnosi patient men 2b melanoma diagnosi melanoma therapi skin neoplasm diagnosi skin neoplasm therapi femal human immunotherapi  "
      ]
     },
     "execution_count": 9,
     "metadata": {},
     "output_type": "execute_result"
    }
   ],
   "source": [
    "pd.options.display.max_rows\n",
    "pd.set_option('display.max_colwidth', -1)\n",
    "\n",
    "# Preprocessing the Text\n",
    "removePunctuation = str.maketrans('\\n', ' ', string.punctuation)\n",
    "\n",
    "# Transforms the text to lower case, remove punctuations, get the stemms of words \n",
    "testData['title_abstract_mesh'] = testData[['title', 'abstract', \"major_mesh\", \"minor_mesh\"]].apply(lambda x: ''.join(re.sub(r';|\\/', ' ', x.to_string(index=False).lower()).translate(removePunctuation)), axis=1)\n",
    "testData['title_abstract_mesh_stemmed'] = testData['title_abstract_mesh'].apply(tokenizeSnowball)\n",
    "\n",
    "np.unique(testData['pm_rel_desc'])\n",
    "\n",
    "testData[\"qid\"] = \"0\"\n",
    "testData[\"qid\"][testData[\"pm_rel_desc\"] == \"Human PM\"] = \"1\"\n",
    "testData[\"qid\"][testData[\"pm_rel_desc\"] == \"Animal PM\"] = \"1\"\n",
    "\n",
    "testDataSliced = testData[['relevance_score','qid','title_abstract_mesh_stemmed']]\n",
    "testDocId = testData[['trec_doc_id']]\n",
    "testDataSliced.head()"
   ]
  },
  {
   "cell_type": "markdown",
   "metadata": {},
   "source": [
    "# TDIFD weighting"
   ]
  },
  {
   "cell_type": "code",
   "execution_count": 10,
   "metadata": {},
   "outputs": [],
   "source": [
    "n_words = 10000\n",
    "tvec = TfidfVectorizer(max_features = n_words)"
   ]
  },
  {
   "cell_type": "code",
   "execution_count": 25,
   "metadata": {},
   "outputs": [],
   "source": [
    "trainWeights = tvec.fit_transform(trainDataSliced['title_abstract_mesh_stemmed'])\n",
    "trainScore = pd.DataFrame(trainWeights.toarray(), columns=tvec.get_feature_names())\n",
    "trainVoc = tvec.vocabulary_"
   ]
  },
  {
   "cell_type": "code",
   "execution_count": 102,
   "metadata": {},
   "outputs": [
    {
     "data": {
      "text/html": [
       "<div>\n",
       "<style scoped>\n",
       "    .dataframe tbody tr th:only-of-type {\n",
       "        vertical-align: middle;\n",
       "    }\n",
       "\n",
       "    .dataframe tbody tr th {\n",
       "        vertical-align: top;\n",
       "    }\n",
       "\n",
       "    .dataframe thead th {\n",
       "        text-align: right;\n",
       "    }\n",
       "</style>\n",
       "<table border=\"1\" class=\"dataframe\">\n",
       "  <thead>\n",
       "    <tr style=\"text-align: right;\">\n",
       "      <th></th>\n",
       "      <th>relevance_score</th>\n",
       "      <th>qid</th>\n",
       "      <th>00</th>\n",
       "      <th>000</th>\n",
       "      <th>0000</th>\n",
       "      <th>000001</th>\n",
       "      <th>00001</th>\n",
       "      <th>00002</th>\n",
       "      <th>00003</th>\n",
       "      <th>00004</th>\n",
       "      <th>...</th>\n",
       "      <th>β1</th>\n",
       "      <th>βcatenin</th>\n",
       "      <th>βcell</th>\n",
       "      <th>γh2ax</th>\n",
       "      <th>γtmt</th>\n",
       "      <th>δmcv</th>\n",
       "      <th>μg</th>\n",
       "      <th>μm</th>\n",
       "      <th>χ2</th>\n",
       "      <th>trec_doc_id</th>\n",
       "    </tr>\n",
       "  </thead>\n",
       "  <tbody>\n",
       "    <tr>\n",
       "      <th>18731</th>\n",
       "      <td>0</td>\n",
       "      <td>0</td>\n",
       "      <td>0.0</td>\n",
       "      <td>0.0</td>\n",
       "      <td>0.0</td>\n",
       "      <td>0.0</td>\n",
       "      <td>0.0</td>\n",
       "      <td>0.0</td>\n",
       "      <td>0.0</td>\n",
       "      <td>0.0</td>\n",
       "      <td>...</td>\n",
       "      <td>0.0</td>\n",
       "      <td>0.0</td>\n",
       "      <td>0.0</td>\n",
       "      <td>0.0</td>\n",
       "      <td>0.0</td>\n",
       "      <td>0.0</td>\n",
       "      <td>0.0</td>\n",
       "      <td>0.0</td>\n",
       "      <td>0.0</td>\n",
       "      <td>2064725</td>\n",
       "    </tr>\n",
       "  </tbody>\n",
       "</table>\n",
       "<p>1 rows × 10003 columns</p>\n",
       "</div>"
      ],
      "text/plain": [
       "       relevance_score qid   00  000  0000  000001  00001  00002  00003  \\\n",
       "18731  0                0   0.0  0.0  0.0   0.0     0.0    0.0    0.0     \n",
       "\n",
       "       00004     ...        β1  βcatenin  βcell  γh2ax  γtmt  δmcv   μg   μm  \\\n",
       "18731  0.0       ...       0.0  0.0       0.0    0.0    0.0   0.0   0.0  0.0   \n",
       "\n",
       "        χ2  trec_doc_id  \n",
       "18731  0.0  2064725      \n",
       "\n",
       "[1 rows x 10003 columns]"
      ]
     },
     "execution_count": 102,
     "metadata": {},
     "output_type": "execute_result"
    }
   ],
   "source": [
    "resTrain = pd.concat([trainDataSliced, trainScore, trainDocId], axis=1)\n",
    "trainFinal = resTrain.drop(['title_abstract_mesh_stemmed'], axis=1)\n",
    "trainFinal = trainFinal.sort_values('qid')\n",
    "trainFinal.head(1)"
   ]
  },
  {
   "cell_type": "code",
   "execution_count": 103,
   "metadata": {},
   "outputs": [],
   "source": [
    "rankTrain = trainFinal.to_dict('records')"
   ]
  },
  {
   "cell_type": "code",
   "execution_count": 104,
   "metadata": {},
   "outputs": [],
   "source": [
    "f = open(\"train.txt\", \"w\")\n",
    "\n",
    "for item in rankTrain:\n",
    "    j = 1\n",
    "    for i,val in item.items():\n",
    "        if(i == \"relevance_score\"):\n",
    "            f.write(str(val)+\" \")\n",
    "        elif(i == \"trec_doc_id\"):\n",
    "            f.write('# '+str(val))\n",
    "        elif(i == \"qid\"):\n",
    "            f.write(str(i)+\":\"+str(val)+\" \")\n",
    "        else:\n",
    "            f.write(str(j)+\":\"+str(val)+\" \")\n",
    "            j+=1\n",
    "    f.write(\"\\n\")    \n",
    "f.close()"
   ]
  },
  {
   "cell_type": "code",
   "execution_count": 26,
   "metadata": {},
   "outputs": [],
   "source": [
    "tvec = TfidfVectorizer(vocabulary = trainVoc)\n",
    "testWeights = tvec.fit_transform(testDataSliced['title_abstract_mesh_stemmed'])\n",
    "testScore = pd.DataFrame(testWeights.toarray(), columns=tvec.get_feature_names())"
   ]
  },
  {
   "cell_type": "code",
   "execution_count": 99,
   "metadata": {},
   "outputs": [
    {
     "data": {
      "text/html": [
       "<div>\n",
       "<style scoped>\n",
       "    .dataframe tbody tr th:only-of-type {\n",
       "        vertical-align: middle;\n",
       "    }\n",
       "\n",
       "    .dataframe tbody tr th {\n",
       "        vertical-align: top;\n",
       "    }\n",
       "\n",
       "    .dataframe thead th {\n",
       "        text-align: right;\n",
       "    }\n",
       "</style>\n",
       "<table border=\"1\" class=\"dataframe\">\n",
       "  <thead>\n",
       "    <tr style=\"text-align: right;\">\n",
       "      <th></th>\n",
       "      <th>relevance_score</th>\n",
       "      <th>qid</th>\n",
       "      <th>00</th>\n",
       "      <th>000</th>\n",
       "      <th>0000</th>\n",
       "      <th>000001</th>\n",
       "      <th>00001</th>\n",
       "      <th>00002</th>\n",
       "      <th>00003</th>\n",
       "      <th>00004</th>\n",
       "      <th>...</th>\n",
       "      <th>β1</th>\n",
       "      <th>βcatenin</th>\n",
       "      <th>βcell</th>\n",
       "      <th>γh2ax</th>\n",
       "      <th>γtmt</th>\n",
       "      <th>δmcv</th>\n",
       "      <th>μg</th>\n",
       "      <th>μm</th>\n",
       "      <th>χ2</th>\n",
       "      <th>trec_doc_id</th>\n",
       "    </tr>\n",
       "  </thead>\n",
       "  <tbody>\n",
       "    <tr>\n",
       "      <th>11214</th>\n",
       "      <td>0</td>\n",
       "      <td>0</td>\n",
       "      <td>0.0</td>\n",
       "      <td>0.0</td>\n",
       "      <td>0.0</td>\n",
       "      <td>0.0</td>\n",
       "      <td>0.0</td>\n",
       "      <td>0.0</td>\n",
       "      <td>0.0</td>\n",
       "      <td>0.0</td>\n",
       "      <td>...</td>\n",
       "      <td>0.0</td>\n",
       "      <td>0.0</td>\n",
       "      <td>0.0</td>\n",
       "      <td>0.0</td>\n",
       "      <td>0.0</td>\n",
       "      <td>0.0</td>\n",
       "      <td>0.0</td>\n",
       "      <td>0.0</td>\n",
       "      <td>0.0</td>\n",
       "      <td>23431193</td>\n",
       "    </tr>\n",
       "  </tbody>\n",
       "</table>\n",
       "<p>1 rows × 10003 columns</p>\n",
       "</div>"
      ],
      "text/plain": [
       "       relevance_score qid   00  000  0000  000001  00001  00002  00003  \\\n",
       "11214  0                0   0.0  0.0  0.0   0.0     0.0    0.0    0.0     \n",
       "\n",
       "       00004     ...        β1  βcatenin  βcell  γh2ax  γtmt  δmcv   μg   μm  \\\n",
       "11214  0.0       ...       0.0  0.0       0.0    0.0    0.0   0.0   0.0  0.0   \n",
       "\n",
       "        χ2  trec_doc_id  \n",
       "11214  0.0  23431193     \n",
       "\n",
       "[1 rows x 10003 columns]"
      ]
     },
     "execution_count": 99,
     "metadata": {},
     "output_type": "execute_result"
    }
   ],
   "source": [
    "resTest = pd.concat([testDataSliced, testScore, testDocId], axis=1)\n",
    "testFinal = resTest.drop(['title_abstract_mesh_stemmed'], axis=1)\n",
    "testFinal = testFinal.sort_values('qid')\n",
    "testFinal.head(1)"
   ]
  },
  {
   "cell_type": "code",
   "execution_count": 115,
   "metadata": {},
   "outputs": [],
   "source": [
    "rankTest = testFinal.to_dict('records')"
   ]
  },
  {
   "cell_type": "code",
   "execution_count": 116,
   "metadata": {},
   "outputs": [],
   "source": [
    "f = open(\"test.txt\", \"w\")\n",
    "\n",
    "for item in rankTest:\n",
    "    j = 1\n",
    "    for i,val in item.items():\n",
    "        if(i == \"relevance_score\"):\n",
    "            f.write(str(val)+\" \")\n",
    "        elif(i == \"trec_doc_id\"):\n",
    "            f.write('# '+str(val))\n",
    "        elif(i == \"qid\"):\n",
    "            f.write(str(i)+\":\"+str(val)+\" \")\n",
    "        else:\n",
    "            f.write(str(j)+\":\"+str(val)+\" \")\n",
    "            j+=1\n",
    "    f.write(\"\\n\")    \n",
    "f.close()"
   ]
  },
  {
   "cell_type": "markdown",
   "metadata": {},
   "source": [
    "# L2R"
   ]
  },
  {
   "cell_type": "code",
   "execution_count": 108,
   "metadata": {},
   "outputs": [
    {
     "name": "stdout",
     "output_type": "stream",
     "text": [
      "Articles-tfidf.ipynb                  PreProcess_GoldStandard_XML.ipynb\r\n",
      "CombineKeyWords.ipynb                 PreProcess_GoldStandard_XML_CT.ipynb\r\n",
      "Disease1718Diff.ipynb                 Result-Analysis.ipynb\r\n",
      "L2R.ipynb                             test.txt\r\n",
      "PM_Study.ipynb                        train.txt\r\n",
      "PreProcess_GoldStandard_TXT.ipynb\r\n"
     ]
    }
   ],
   "source": [
    "%ls"
   ]
  },
  {
   "cell_type": "code",
   "execution_count": 117,
   "metadata": {},
   "outputs": [],
   "source": [
    "with open('train.txt') as trainfile, open('test.txt') as evalfile:\n",
    "    TrainX, Trainy, TrainQids, _ = pyltr.data.letor.read_dataset(trainfile)\n",
    "    EvalX, Evaly, EvalQids, _ = pyltr.data.letor.read_dataset(evalfile)"
   ]
  },
  {
   "cell_type": "code",
   "execution_count": 109,
   "metadata": {},
   "outputs": [
    {
     "data": {
      "text/plain": [
       "array([[0., 0., 0., ..., 0., 0., 0.],\n",
       "       [0., 0., 0., ..., 0., 0., 0.],\n",
       "       [0., 0., 0., ..., 0., 0., 0.],\n",
       "       ...,\n",
       "       [0., 0., 0., ..., 0., 0., 0.],\n",
       "       [0., 0., 0., ..., 0., 0., 0.],\n",
       "       [0., 0., 0., ..., 0., 0., 0.]])"
      ]
     },
     "execution_count": 109,
     "metadata": {},
     "output_type": "execute_result"
    }
   ],
   "source": [
    "TrainX"
   ]
  },
  {
   "cell_type": "code",
   "execution_count": 110,
   "metadata": {},
   "outputs": [
    {
     "data": {
      "text/plain": [
       "array([0., 0., 0., ..., 0., 0., 2.])"
      ]
     },
     "execution_count": 110,
     "metadata": {},
     "output_type": "execute_result"
    }
   ],
   "source": [
    "Trainy"
   ]
  },
  {
   "cell_type": "code",
   "execution_count": 111,
   "metadata": {},
   "outputs": [
    {
     "data": {
      "text/plain": [
       "array(['0', '0', '0', ..., '1', '1', '1'], dtype='<U1')"
      ]
     },
     "execution_count": 111,
     "metadata": {},
     "output_type": "execute_result"
    }
   ],
   "source": [
    "TrainQids"
   ]
  },
  {
   "cell_type": "code",
   "execution_count": 112,
   "metadata": {},
   "outputs": [
    {
     "name": "stdout",
     "output_type": "stream",
     "text": [
      " Iter  Train score  OOB Improve    Remaining                           Monitor Output \n",
      "    1       0.0000       0.0000      458.98m                                         \n",
      "    2       0.0000       0.0000      417.15m                                         \n",
      "    3       0.0000       0.0000      404.37m                                         \n",
      "    4       0.0000       0.0000      416.99m                                         \n",
      "    5       0.0000       0.0000      407.62m                                         \n",
      "    6       0.0000       0.0000      401.20m                                         \n",
      "    7       0.0000       0.0000      396.14m                                         \n",
      "    8       0.0000       0.0000      393.31m                                         \n",
      "    9       0.0000       0.0000      400.44m                                         \n",
      "   10       0.0000       0.0000      396.72m                                         \n",
      "   15       0.5638       0.0000      406.67m                                         \n",
      "   20       0.8354       0.0000      417.28m                                         \n",
      "   25       0.0000       0.0000      416.58m                                         \n",
      "   30       0.9008       0.0000      415.09m                                         \n",
      "   35       0.0000       0.0000      411.53m                                         \n",
      "   40       0.0000       0.0000      411.16m                                         \n",
      "   45       0.9053       0.0000      414.44m                                         \n",
      "   50       0.0000       0.0000      409.47m                                         \n",
      "   60       0.9053       0.0000      405.13m                                         \n",
      "   70       0.0000       0.0000      402.53m                                         \n",
      "   80       0.0000       0.0000      400.16m                                         \n",
      "   90       0.9053       0.0000      395.74m                                         \n",
      "  100       0.0000       0.0000      400.91m                                         \n",
      "  120       0.0000       0.0000      394.40m                                         \n",
      "  140       0.0000       0.0000      383.95m                                         \n",
      "  160       0.0000       0.0000      371.90m                                         \n",
      "  180       1.0000       0.0000      364.91m                                         \n",
      "  200       0.0000       0.0000      356.76m                                         \n",
      "  220       0.0000       0.0000      348.86m                                         \n",
      "  240       0.0000       0.0000      339.47m                                         \n",
      "  260       1.0000       0.0000      329.92m                                         \n",
      "  280       1.0000       0.0000      320.60m                                         \n",
      "  300       0.0000       0.0000      312.01m                                         \n",
      "  320       0.0000       0.0000      303.10m                                         \n",
      "  340       1.0000       0.0000      293.73m                                         \n",
      "  360       1.0000       0.0000      284.82m                                         \n",
      "  380       1.0000       0.0000      276.13m                                         \n",
      "  400       0.0000       0.0000      267.53m                                         \n",
      "  420       1.0000       0.0000      258.55m                                         \n",
      "  440       0.0000       0.0000      250.46m                                         \n",
      "  460       0.0000       0.0000      241.42m                                         \n",
      "  480       1.0000       0.0000      232.25m                                         \n",
      "  500       0.0000       0.0000      223.18m                                         \n",
      "  550       0.0000       0.0000      200.95m                                         \n",
      "  600       0.0000       0.0000      178.68m                                         \n",
      "  650       0.0000       0.0000      156.25m                                         \n",
      "  700       0.0000       0.0000      134.10m                                         \n",
      "  750       0.0000       0.0000      111.53m                                         \n",
      "  800       1.0000       0.0000       89.15m                                         \n",
      "  850       0.0000       0.0000       66.63m                                         \n",
      "  900       1.0000       0.0000       44.23m                                         \n",
      "  950       1.0000       0.0000       21.80m                                         \n",
      " 1000       0.0000       0.0000        0.00s                                         \n"
     ]
    },
    {
     "data": {
      "text/plain": [
       "<pyltr.models.lambdamart.LambdaMART at 0x112888780>"
      ]
     },
     "execution_count": 112,
     "metadata": {},
     "output_type": "execute_result"
    }
   ],
   "source": [
    "metric = pyltr.metrics.NDCG(k=10)\n",
    "\n",
    "# Only needed if you want to perform validation (early stopping & trimming)\n",
    "# monitor = pyltr.models.monitors.ValidationMonitor(\n",
    "#    VX, Vy, Vqids, metric=metric, stop_after=250)\n",
    "\n",
    "model = pyltr.models.LambdaMART(\n",
    "    metric=metric,\n",
    "    n_estimators=1000,x\n",
    "    learning_rate=0.02,\n",
    "    max_features=0.5,\n",
    "    query_subsample=0.5,\n",
    "    max_leaf_nodes=10,\n",
    "    min_samples_leaf=64,\n",
    "    verbose=1,\n",
    ")\n",
    "\n",
    "model.fit(TrainX, Trainy, TrainQids)"
   ]
  },
  {
   "cell_type": "code",
   "execution_count": 118,
   "metadata": {},
   "outputs": [
    {
     "name": "stdout",
     "output_type": "stream",
     "text": [
      "Random ranking: 0.22535414859786068\n",
      "Our model: 0.3876683119885543\n"
     ]
    }
   ],
   "source": [
    "Epred = model.predict(EvalX)\n",
    "print('Random ranking:', metric.calc_mean_random(EvalQids, Evaly))\n",
    "print('Our model:', metric.calc_mean(EvalQids, Evaly, Epred))"
   ]
  },
  {
   "cell_type": "code",
   "execution_count": null,
   "metadata": {},
   "outputs": [],
   "source": [
    "print(model.feature_importances_)"
   ]
  }
 ],
 "metadata": {
  "kernelspec": {
   "display_name": "Python 3",
   "language": "python",
   "name": "python3"
  },
  "language_info": {
   "codemirror_mode": {
    "name": "ipython",
    "version": 3
   },
   "file_extension": ".py",
   "mimetype": "text/x-python",
   "name": "python",
   "nbconvert_exporter": "python",
   "pygments_lexer": "ipython3",
   "version": "3.6.5"
  }
 },
 "nbformat": 4,
 "nbformat_minor": 2
}
