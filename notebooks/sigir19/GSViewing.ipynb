{
 "cells": [
  {
   "cell_type": "code",
   "execution_count": 29,
   "metadata": {},
   "outputs": [],
   "source": [
    "import pandas as pd\n",
    "from sklearn.metrics import confusion_matrix \n",
    "from sklearn.metrics import accuracy_score\n",
    "from sklearn.metrics import f1_score"
   ]
  },
  {
   "cell_type": "code",
   "execution_count": 12,
   "metadata": {},
   "outputs": [],
   "source": [
    "alldata = pd.read_csv(\"../../resources/20180622processedGoldStandardTopics.tsv.gz\", delimiter=\"\\t\")\n",
    "data = alldata.drop([\"title\", \"abstract\", \"major_mesh\", \"minor_mesh\"], axis=1)"
   ]
  },
  {
   "cell_type": "code",
   "execution_count": 90,
   "metadata": {},
   "outputs": [
    {
     "data": {
      "text/html": [
       "<div>\n",
       "<style scoped>\n",
       "    .dataframe tbody tr th:only-of-type {\n",
       "        vertical-align: middle;\n",
       "    }\n",
       "\n",
       "    .dataframe tbody tr th {\n",
       "        vertical-align: top;\n",
       "    }\n",
       "\n",
       "    .dataframe thead th {\n",
       "        text-align: right;\n",
       "    }\n",
       "</style>\n",
       "<table border=\"1\" class=\"dataframe\">\n",
       "  <thead>\n",
       "    <tr style=\"text-align: right;\">\n",
       "      <th></th>\n",
       "      <th>Unnamed: 0</th>\n",
       "      <th>trec_topic_number</th>\n",
       "      <th>trec_doc_id</th>\n",
       "      <th>pm_rel_desc</th>\n",
       "      <th>disease_desc</th>\n",
       "      <th>gene1_annotation_desc</th>\n",
       "      <th>gene1_name</th>\n",
       "      <th>gene2_annotation_desc</th>\n",
       "      <th>gene2_name</th>\n",
       "      <th>gene3_annotation_desc</th>\n",
       "      <th>gene3_name</th>\n",
       "      <th>demographics_desc</th>\n",
       "      <th>other_desc</th>\n",
       "      <th>relevance_score</th>\n",
       "      <th>trec_topic_disease</th>\n",
       "      <th>trec_topic_age</th>\n",
       "      <th>trec_topic_sex</th>\n",
       "      <th>trec_topic_other1</th>\n",
       "      <th>trec_topic_other2</th>\n",
       "      <th>trec_topic_other3</th>\n",
       "    </tr>\n",
       "  </thead>\n",
       "  <tbody>\n",
       "    <tr>\n",
       "      <th>12940</th>\n",
       "      <td>12940</td>\n",
       "      <td>18</td>\n",
       "      <td>26830752</td>\n",
       "      <td>Human PM</td>\n",
       "      <td>Exact</td>\n",
       "      <td>Different Variant</td>\n",
       "      <td>CDK6 Amplification</td>\n",
       "      <td>NaN</td>\n",
       "      <td>NaN</td>\n",
       "      <td>NaN</td>\n",
       "      <td>NaN</td>\n",
       "      <td>Not Discussed</td>\n",
       "      <td>Not Discussed</td>\n",
       "      <td>1</td>\n",
       "      <td>Pancreatic cancer</td>\n",
       "      <td>48-year-old</td>\n",
       "      <td>male</td>\n",
       "      <td>None</td>\n",
       "      <td>NaN</td>\n",
       "      <td>NaN</td>\n",
       "    </tr>\n",
       "  </tbody>\n",
       "</table>\n",
       "</div>"
      ],
      "text/plain": [
       "       Unnamed: 0  trec_topic_number trec_doc_id pm_rel_desc disease_desc  \\\n",
       "12940       12940                 18    26830752    Human PM        Exact   \n",
       "\n",
       "      gene1_annotation_desc          gene1_name gene2_annotation_desc  \\\n",
       "12940     Different Variant  CDK6 Amplification                   NaN   \n",
       "\n",
       "      gene2_name gene3_annotation_desc gene3_name demographics_desc  \\\n",
       "12940        NaN                   NaN        NaN     Not Discussed   \n",
       "\n",
       "          other_desc  relevance_score trec_topic_disease trec_topic_age  \\\n",
       "12940  Not Discussed                1  Pancreatic cancer    48-year-old   \n",
       "\n",
       "      trec_topic_sex trec_topic_other1 trec_topic_other2 trec_topic_other3  \n",
       "12940           male              None               NaN               NaN  "
      ]
     },
     "execution_count": 90,
     "metadata": {},
     "output_type": "execute_result"
    }
   ],
   "source": [
    "data.query(\"trec_topic_number == 18 and trec_doc_id == '26830752'\")"
   ]
  },
  {
   "cell_type": "code",
   "execution_count": 80,
   "metadata": {},
   "outputs": [
    {
     "data": {
      "text/plain": [
       "trec_topic_number\n",
       "1      62\n",
       "2     361\n",
       "3      51\n",
       "4     267\n",
       "5      90\n",
       "6     128\n",
       "7     346\n",
       "8     120\n",
       "9     490\n",
       "10     97\n",
       "11     42\n",
       "12    220\n",
       "13     25\n",
       "14     31\n",
       "15     10\n",
       "16    142\n",
       "17    116\n",
       "18    194\n",
       "19     35\n",
       "20     49\n",
       "21    204\n",
       "22    142\n",
       "23    195\n",
       "24     64\n",
       "25     54\n",
       "26     20\n",
       "27     76\n",
       "28     55\n",
       "29     42\n",
       "30    147\n",
       "Name: relevance_score, dtype: int64"
      ]
     },
     "execution_count": 80,
     "metadata": {},
     "output_type": "execute_result"
    }
   ],
   "source": [
    "df = alldata.query(\"relevance_score > 0\").reset_index().groupby('trec_topic_number')['relevance_score']\n",
    "df.count()"
   ]
  },
  {
   "cell_type": "code",
   "execution_count": 70,
   "metadata": {},
   "outputs": [
    {
     "data": {
      "text/plain": [
       "trec_topic_number\n",
       "1     110\n",
       "2     517\n",
       "3      96\n",
       "4     488\n",
       "5     159\n",
       "6     152\n",
       "7     505\n",
       "8     239\n",
       "9     504\n",
       "10    100\n",
       "11     81\n",
       "12    385\n",
       "13     26\n",
       "14     32\n",
       "15     14\n",
       "16    258\n",
       "17    227\n",
       "18    237\n",
       "19     48\n",
       "20     70\n",
       "21    288\n",
       "22    273\n",
       "23    373\n",
       "24     86\n",
       "25     69\n",
       "26     34\n",
       "27    148\n",
       "28     64\n",
       "29     61\n",
       "30    253\n",
       "Name: relevance_score, dtype: int64"
      ]
     },
     "execution_count": 70,
     "metadata": {},
     "output_type": "execute_result"
    }
   ],
   "source": [
    "indexed = alldata.set_index([\"trec_topic_number\", \"trec_doc_id\"])\n",
    "indexed.query(\"relevance_score > 0\")[\"relevance_score\"].sum(level=\"trec_topic_number\")"
   ]
  }
 ],
 "metadata": {
  "kernelspec": {
   "display_name": "Python 3",
   "language": "python",
   "name": "python3"
  },
  "language_info": {
   "codemirror_mode": {
    "name": "ipython",
    "version": 3
   },
   "file_extension": ".py",
   "mimetype": "text/x-python",
   "name": "python",
   "nbconvert_exporter": "python",
   "pygments_lexer": "ipython3",
   "version": "3.6.3"
  }
 },
 "nbformat": 4,
 "nbformat_minor": 2
}
