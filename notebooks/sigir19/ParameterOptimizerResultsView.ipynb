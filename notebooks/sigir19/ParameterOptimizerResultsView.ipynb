{
 "cells": [
  {
   "cell_type": "code",
   "execution_count": 152,
   "metadata": {},
   "outputs": [],
   "source": [
    "import pandas as pd\n",
    "import os\n",
    "import itertools"
   ]
  },
  {
   "cell_type": "code",
   "execution_count": 180,
   "metadata": {},
   "outputs": [],
   "source": [
    "#statsdirs = [\"stats_additional/\", \"stats_disease/\", \"stats_extra/\", \"stats_fields/\", \"stats_gene/\", \"stats_pmgs/\", \"stats_posneg/\"]\n",
    "statsdirs=[\"stats/\"]\n",
    "datamap = {}\n",
    "allnum2name = {}\n",
    "allname2num = {}\n",
    "alldata = None\n",
    "count = itertools.count()\n",
    "for statsdir in statsdirs:\n",
    "    files = list(filter(lambda f: f.endswith(\".csv\") and \"gspm\" not in f, os.listdir(\"../../\"+statsdir)))\n",
    "    infndcgdata = None\n",
    "    num2name = {}\n",
    "    name2num = {}\n",
    "    for i, file in enumerate(files):\n",
    "        df         = pd.read_csv(\"../../\"+statsdir+file)\n",
    "        # Set the \"all\" topic to topic number 31 so we can use slicing\n",
    "        df.at[30,\"Topic\"] = 31\n",
    "        df.set_index(\"Topic\",inplace=True)\n",
    "        df.index = dt.index.map(int)\n",
    "        df.sort_index(inplace=True)\n",
    "        infndcgcol = pd.DataFrame({i: df[\"infNDCG\"]}, index = df.index)\n",
    "        infndcgdata = pd.concat([infndcgdata, infndcgcol], axis=1,copy=False)\n",
    "        num2name[i]    = file\n",
    "        name2num[file] = i\n",
    "        nextglobalnum = next(count)\n",
    "        allnum2name[nextglobalnum] = file\n",
    "        allname2num[file] = nextglobalnum\n",
    "    alldata = pd.concat([alldata, infndcgdata], axis=1, copy=False)\n",
    "    datamap[statsdir] = {\"data\":infndcgdata,\"num2name\":num2name,\"name2num\":name2num}\n"
   ]
  },
  {
   "cell_type": "code",
   "execution_count": 181,
   "metadata": {},
   "outputs": [
    {
     "data": {
      "text/plain": [
       "0.4991"
      ]
     },
     "execution_count": 181,
     "metadata": {},
     "output_type": "execute_result"
    }
   ],
   "source": [
    "alldata.T.describe()[31].loc[\"max\"]\n"
   ]
  }
 ],
 "metadata": {
  "kernelspec": {
   "display_name": "Python 3",
   "language": "python",
   "name": "python3"
  },
  "language_info": {
   "codemirror_mode": {
    "name": "ipython",
    "version": 3
   },
   "file_extension": ".py",
   "mimetype": "text/x-python",
   "name": "python",
   "nbconvert_exporter": "python",
   "pygments_lexer": "ipython3",
   "version": "3.6.3"
  }
 },
 "nbformat": 4,
 "nbformat_minor": 2
}
