{
 "cells": [
  {
   "cell_type": "code",
   "execution_count": 95,
   "metadata": {},
   "outputs": [],
   "source": [
    "from os import listdir\n",
    "from os.path import isfile, join\n",
    "import itertools"
   ]
  },
  {
   "cell_type": "code",
   "execution_count": 96,
   "metadata": {},
   "outputs": [],
   "source": [
    "filePath =\"/Users/ari/Downloads/TREC/trec2018/src/main/resources/keywords/top-terms.txt\""
   ]
  },
  {
   "cell_type": "code",
   "execution_count": 104,
   "metadata": {},
   "outputs": [
    {
     "name": "stdout",
     "output_type": "stream",
     "text": [
      "Amount of words:  51\n",
      "\n",
      "Writing subsets to file...\n",
      "\n",
      "Done!\n"
     ]
    }
   ],
   "source": [
    "with open(filePath) as f:\n",
    "    content = set(f.read().splitlines())\n",
    "\n",
    "sortedContent = sorted(content)\n",
    "print(\"Amount of words: \", len(sortedContent))\n",
    "\n",
    "l = 2\n",
    "\n",
    "outpFilepath = join(folderPath, \"combined-keywords-\"+str(size)+\".txt\")\n",
    "outputFile = open(outpFilepath, 'w+')\n",
    "\n",
    "\n",
    "print(\"\\nWriting subsets to file...\")\n",
    "\n",
    "#size = len(sortedContent)+1\n",
    "#for l in range(0, size):\n",
    "\n",
    "for subset in itertools.combinations(sortedContent, l+1):\n",
    "    outputFile.write((' ').join(list(subset)))\n",
    "    outputFile.write('\\n')\n",
    "\n",
    "outputFile.close()\n",
    "print(\"\\nDone!\")"
   ]
  },
  {
   "cell_type": "code",
   "execution_count": null,
   "metadata": {},
   "outputs": [],
   "source": []
  }
 ],
 "metadata": {
  "kernelspec": {
   "display_name": "Python 3",
   "language": "python",
   "name": "python3"
  },
  "language_info": {
   "codemirror_mode": {
    "name": "ipython",
    "version": 3
   },
   "file_extension": ".py",
   "mimetype": "text/x-python",
   "name": "python",
   "nbconvert_exporter": "python",
   "pygments_lexer": "ipython3",
   "version": "3.6.5"
  }
 },
 "nbformat": 4,
 "nbformat_minor": 2
}
