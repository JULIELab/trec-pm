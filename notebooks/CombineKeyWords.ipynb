{
 "cells": [
  {
   "cell_type": "code",
   "execution_count": 23,
   "metadata": {},
   "outputs": [],
   "source": [
    "from os.path import join\n",
    "import itertools"
   ]
  },
  {
   "cell_type": "code",
   "execution_count": 24,
   "metadata": {},
   "outputs": [],
   "source": [
    "folderPath = \"Y://Git//trec2018//src//main//resources//keywords\"\n",
    "filePath = join(folderPath,\"top-terms.txt\")"
   ]
  },
  {
   "cell_type": "code",
   "execution_count": 25,
   "metadata": {},
   "outputs": [
    {
     "name": "stdout",
     "output_type": "stream",
     "text": [
      "Amount of words:  51\n",
      "\n",
      "Writing subsets to file...\n",
      "\n",
      "Done!\n"
     ]
    }
   ],
   "source": [
    "with open(filePath) as f:\n",
    "    content = f.read().splitlines()\n",
    "\n",
    "print(\"Amount of words: \", len(sortedContent))\n",
    "\n",
    "l = 2\n",
    "outpFilepath = join(folderPath, \"combined-keywords-\"+str(l)+\".txt\")\n",
    "outputFile = open(outpFilepath, 'w+')\n",
    "\n",
    "print(\"\\nWriting subsets to file...\")\n",
    "\n",
    "for subset in itertools.permutations(content, l):\n",
    "    outputFile.write((' ').join(subset))\n",
    "    outputFile.write('\\n')\n",
    "\n",
    "outputFile.close()\n",
    "print(\"\\nDone!\")"
   ]
  }
 ],
 "metadata": {
  "kernelspec": {
   "display_name": "Python 3",
   "language": "python",
   "name": "python3"
  },
  "language_info": {
   "codemirror_mode": {
    "name": "ipython",
    "version": 3
   },
   "file_extension": ".py",
   "mimetype": "text/x-python",
   "name": "python",
   "nbconvert_exporter": "python",
   "pygments_lexer": "ipython3",
   "version": "3.6.5"
  }
 },
 "nbformat": 4,
 "nbformat_minor": 2
}
