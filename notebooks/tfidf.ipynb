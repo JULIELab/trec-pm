{
 "cells": [
  {
   "cell_type": "code",
   "execution_count": 2,
   "metadata": {},
   "outputs": [],
   "source": [
    "import os\n",
    "import pandas as pd\n",
    "import csv\n",
    "import re\n",
    "import sys\n",
    "import math\n",
    "import nltk\n",
    "import string\n",
    "import numpy as np\n",
    "from nltk import word_tokenize\n",
    "from nltk.corpus import stopwords\n",
    "from nltk.stem.porter import PorterStemmer\n",
    "from nltk.stem.snowball import SnowballStemmer\n",
    "from sklearn.feature_extraction.text import TfidfVectorizer"
   ]
  },
  {
   "cell_type": "markdown",
   "metadata": {},
   "source": [
    "# Reading the Data"
   ]
  },
  {
   "cell_type": "code",
   "execution_count": 3,
   "metadata": {},
   "outputs": [
    {
     "data": {
      "text/plain": [
       "(22642, 8)"
      ]
     },
     "execution_count": 3,
     "metadata": {},
     "output_type": "execute_result"
    }
   ],
   "source": [
    "# Load the data\n",
    "data = pd.read_csv(\"Y:\\TREC\\Results\\XML-Extraction\\\\20180622processedGoldStandardXMLTXT.tsv\", sep=\"\\t\", encoding=\"utf-8\", usecols=[\"trec_doc_id\", \"pm_rel_desc\", \"title\", \"abstract\", \"trec_topic_disease\", \"major_mesh\", \"minor_mesh\", \"relevance_score\"])\n",
    "data.shape"
   ]
  },
  {
   "cell_type": "markdown",
   "metadata": {},
   "source": [
    "# Functions to tokenize, remove stop words, get stemms"
   ]
  },
  {
   "cell_type": "code",
   "execution_count": 4,
   "metadata": {},
   "outputs": [
    {
     "name": "stdout",
     "output_type": "stream",
     "text": [
      "[nltk_data] Downloading package stopwords to C:\\Users\\Ariane.Morassi-\n",
      "[nltk_data]     Sasso\\AppData\\Roaming\\nltk_data...\n",
      "[nltk_data]   Package stopwords is already up-to-date!\n"
     ]
    }
   ],
   "source": [
    "# Get Stopwords\n",
    "nltk.download('stopwords')\n",
    "stopWords = stopwords.words('english')\n",
    "\n",
    "def tokenizePorter(text):\n",
    "    tokens = word_tokenize(text)\n",
    "    stems = []\n",
    "    stemmer = PorterStemmer()\n",
    "    for item in tokens:\n",
    "        if item not in stopWords: \n",
    "            stems.append(stemmer.stem(item))\n",
    "    return ' '.join(stems)\n",
    "\n",
    "def tokenizeSnowball(text):\n",
    "    tokens = word_tokenize(text)\n",
    "    stems = []\n",
    "    stemmer = SnowballStemmer(\"english\")\n",
    "    for item in tokens:\n",
    "        if item not in stopWords: \n",
    "            stems.append(stemmer.stem(item))\n",
    "    return ' '.join(stems)"
   ]
  },
  {
   "cell_type": "markdown",
   "metadata": {},
   "source": [
    "# Preprocessing the data"
   ]
  },
  {
   "cell_type": "code",
   "execution_count": 5,
   "metadata": {},
   "outputs": [],
   "source": [
    "pd.options.display.max_rows\n",
    "pd.set_option('display.max_colwidth', -1)\n",
    "\n",
    "# Preprocessing the Text\n",
    "removePunctuation = str.maketrans('\\n', ' ', string.punctuation)\n",
    "\n",
    "# Transforms the text to lower case, remove punctuations, get the stemms of words \n",
    "data['title_abstract_mesh'] = data[['title', 'abstract', \"major_mesh\", \"minor_mesh\"]].apply(lambda x: ''.join(re.sub(r';|\\/', ' ', x.to_string(index=False).lower()).translate(removePunctuation)), axis=1)\n",
    "data['title_abstract_mesh_stemmed'] = data['title_abstract_mesh'].apply(tokenizeSnowball)"
   ]
  },
  {
   "cell_type": "markdown",
   "metadata": {},
   "source": [
    "# Splitting Sets First into PM and not PM"
   ]
  },
  {
   "cell_type": "markdown",
   "metadata": {},
   "source": [
    "## PM dataset"
   ]
  },
  {
   "cell_type": "code",
   "execution_count": 371,
   "metadata": {},
   "outputs": [
    {
     "data": {
      "text/plain": [
       "(9274, 10)"
      ]
     },
     "execution_count": 371,
     "metadata": {},
     "output_type": "execute_result"
    }
   ],
   "source": [
    "pmSet = data[data['pm_rel_desc'].str.contains('Human PM|Animal PM', regex=True)]\n",
    "pmSet.shape"
   ]
  },
  {
   "cell_type": "markdown",
   "metadata": {},
   "source": [
    "## Not PM dataset"
   ]
  },
  {
   "cell_type": "code",
   "execution_count": 373,
   "metadata": {},
   "outputs": [
    {
     "data": {
      "text/plain": [
       "(13368, 10)"
      ]
     },
     "execution_count": 373,
     "metadata": {},
     "output_type": "execute_result"
    }
   ],
   "source": [
    "notPmSet = data[data['pm_rel_desc'].str.contains('Not PM', regex=True)]\n",
    "notPmSet.shape"
   ]
  },
  {
   "cell_type": "markdown",
   "metadata": {},
   "source": [
    "## TFIDF weighting"
   ]
  },
  {
   "cell_type": "code",
   "execution_count": 413,
   "metadata": {},
   "outputs": [],
   "source": [
    "def tfidfMeanWeight(data):\n",
    "    tvec = TfidfVectorizer()\n",
    "    tvecWeights = tvec.fit_transform(data['title_abstract_mesh_stemmed'])\n",
    "\n",
    "    weights = np.asarray(tvecWeights.mean(axis=0)).ravel().tolist()\n",
    "    weightsDf = pd.DataFrame({'term': tvec.get_feature_names(), 'weight': weights})\n",
    "    return weightsDf"
   ]
  },
  {
   "cell_type": "code",
   "execution_count": 416,
   "metadata": {},
   "outputs": [
    {
     "data": {
      "text/html": [
       "<div>\n",
       "<style scoped>\n",
       "    .dataframe tbody tr th:only-of-type {\n",
       "        vertical-align: middle;\n",
       "    }\n",
       "\n",
       "    .dataframe tbody tr th {\n",
       "        vertical-align: top;\n",
       "    }\n",
       "\n",
       "    .dataframe thead th {\n",
       "        text-align: right;\n",
       "    }\n",
       "</style>\n",
       "<table border=\"1\" class=\"dataframe\">\n",
       "  <thead>\n",
       "    <tr style=\"text-align: right;\">\n",
       "      <th></th>\n",
       "      <th>term</th>\n",
       "      <th>weight</th>\n",
       "    </tr>\n",
       "  </thead>\n",
       "  <tbody>\n",
       "    <tr>\n",
       "      <th>25839</th>\n",
       "      <td>mutat</td>\n",
       "      <td>0.058655</td>\n",
       "    </tr>\n",
       "    <tr>\n",
       "      <th>18273</th>\n",
       "      <td>genet</td>\n",
       "      <td>0.047187</td>\n",
       "    </tr>\n",
       "    <tr>\n",
       "      <th>10921</th>\n",
       "      <td>cancer</td>\n",
       "      <td>0.044421</td>\n",
       "    </tr>\n",
       "    <tr>\n",
       "      <th>23535</th>\n",
       "      <td>lung</td>\n",
       "      <td>0.041661</td>\n",
       "    </tr>\n",
       "    <tr>\n",
       "      <th>11639</th>\n",
       "      <td>cell</td>\n",
       "      <td>0.038988</td>\n",
       "    </tr>\n",
       "    <tr>\n",
       "      <th>29735</th>\n",
       "      <td>patient</td>\n",
       "      <td>0.037879</td>\n",
       "    </tr>\n",
       "    <tr>\n",
       "      <th>38116</th>\n",
       "      <td>tumor</td>\n",
       "      <td>0.035060</td>\n",
       "    </tr>\n",
       "    <tr>\n",
       "      <th>29461</th>\n",
       "      <td>pancreat</td>\n",
       "      <td>0.034632</td>\n",
       "    </tr>\n",
       "    <tr>\n",
       "      <th>26667</th>\n",
       "      <td>neoplasm</td>\n",
       "      <td>0.033646</td>\n",
       "    </tr>\n",
       "    <tr>\n",
       "      <th>18219</th>\n",
       "      <td>gene</td>\n",
       "      <td>0.032012</td>\n",
       "    </tr>\n",
       "  </tbody>\n",
       "</table>\n",
       "</div>"
      ],
      "text/plain": [
       "           term    weight\n",
       "25839  mutat     0.058655\n",
       "18273  genet     0.047187\n",
       "10921  cancer    0.044421\n",
       "23535  lung      0.041661\n",
       "11639  cell      0.038988\n",
       "29735  patient   0.037879\n",
       "38116  tumor     0.035060\n",
       "29461  pancreat  0.034632\n",
       "26667  neoplasm  0.033646\n",
       "18219  gene      0.032012"
      ]
     },
     "execution_count": 416,
     "metadata": {},
     "output_type": "execute_result"
    }
   ],
   "source": [
    "weightsPM = tfidfMeanWeight(pmSet)\n",
    "topPM = weightsPM.sort_values(by='weight', ascending=False).head(10)\n",
    "topPM"
   ]
  },
  {
   "cell_type": "code",
   "execution_count": 417,
   "metadata": {},
   "outputs": [
    {
     "data": {
      "text/html": [
       "<div>\n",
       "<style scoped>\n",
       "    .dataframe tbody tr th:only-of-type {\n",
       "        vertical-align: middle;\n",
       "    }\n",
       "\n",
       "    .dataframe tbody tr th {\n",
       "        vertical-align: top;\n",
       "    }\n",
       "\n",
       "    .dataframe thead th {\n",
       "        text-align: right;\n",
       "    }\n",
       "</style>\n",
       "<table border=\"1\" class=\"dataframe\">\n",
       "  <thead>\n",
       "    <tr style=\"text-align: right;\">\n",
       "      <th></th>\n",
       "      <th>term</th>\n",
       "      <th>weight</th>\n",
       "    </tr>\n",
       "  </thead>\n",
       "  <tbody>\n",
       "    <tr>\n",
       "      <th>14181</th>\n",
       "      <td>cancer</td>\n",
       "      <td>0.046933</td>\n",
       "    </tr>\n",
       "    <tr>\n",
       "      <th>31444</th>\n",
       "      <td>lung</td>\n",
       "      <td>0.043569</td>\n",
       "    </tr>\n",
       "    <tr>\n",
       "      <th>24167</th>\n",
       "      <td>genet</td>\n",
       "      <td>0.035412</td>\n",
       "    </tr>\n",
       "    <tr>\n",
       "      <th>34529</th>\n",
       "      <td>mutat</td>\n",
       "      <td>0.035066</td>\n",
       "    </tr>\n",
       "    <tr>\n",
       "      <th>39137</th>\n",
       "      <td>pancreat</td>\n",
       "      <td>0.034958</td>\n",
       "    </tr>\n",
       "    <tr>\n",
       "      <th>15157</th>\n",
       "      <td>cell</td>\n",
       "      <td>0.034422</td>\n",
       "    </tr>\n",
       "    <tr>\n",
       "      <th>39550</th>\n",
       "      <td>patient</td>\n",
       "      <td>0.033850</td>\n",
       "    </tr>\n",
       "    <tr>\n",
       "      <th>35582</th>\n",
       "      <td>neoplasm</td>\n",
       "      <td>0.032403</td>\n",
       "    </tr>\n",
       "    <tr>\n",
       "      <th>13480</th>\n",
       "      <td>breast</td>\n",
       "      <td>0.030068</td>\n",
       "    </tr>\n",
       "    <tr>\n",
       "      <th>51186</th>\n",
       "      <td>tumor</td>\n",
       "      <td>0.026645</td>\n",
       "    </tr>\n",
       "  </tbody>\n",
       "</table>\n",
       "</div>"
      ],
      "text/plain": [
       "           term    weight\n",
       "14181  cancer    0.046933\n",
       "31444  lung      0.043569\n",
       "24167  genet     0.035412\n",
       "34529  mutat     0.035066\n",
       "39137  pancreat  0.034958\n",
       "15157  cell      0.034422\n",
       "39550  patient   0.033850\n",
       "35582  neoplasm  0.032403\n",
       "13480  breast    0.030068\n",
       "51186  tumor     0.026645"
      ]
     },
     "execution_count": 417,
     "metadata": {},
     "output_type": "execute_result"
    }
   ],
   "source": [
    "weightsNotPM = tfidfMeanWeight(notPmSet)\n",
    "topNotPM = weightsNotPM.sort_values(by='weight', ascending=False).head(10)\n",
    "topNotPM"
   ]
  },
  {
   "cell_type": "code",
   "execution_count": 418,
   "metadata": {},
   "outputs": [
    {
     "data": {
      "text/html": [
       "<div>\n",
       "<style scoped>\n",
       "    .dataframe tbody tr th:only-of-type {\n",
       "        vertical-align: middle;\n",
       "    }\n",
       "\n",
       "    .dataframe tbody tr th {\n",
       "        vertical-align: top;\n",
       "    }\n",
       "\n",
       "    .dataframe thead th {\n",
       "        text-align: right;\n",
       "    }\n",
       "</style>\n",
       "<table border=\"1\" class=\"dataframe\">\n",
       "  <thead>\n",
       "    <tr style=\"text-align: right;\">\n",
       "      <th></th>\n",
       "      <th>term</th>\n",
       "      <th>weight_pm</th>\n",
       "      <th>weight_notpm</th>\n",
       "    </tr>\n",
       "  </thead>\n",
       "  <tbody>\n",
       "    <tr>\n",
       "      <th>0</th>\n",
       "      <td>mutat</td>\n",
       "      <td>0.058655</td>\n",
       "      <td>0.035066</td>\n",
       "    </tr>\n",
       "    <tr>\n",
       "      <th>1</th>\n",
       "      <td>genet</td>\n",
       "      <td>0.047187</td>\n",
       "      <td>0.035412</td>\n",
       "    </tr>\n",
       "    <tr>\n",
       "      <th>2</th>\n",
       "      <td>cancer</td>\n",
       "      <td>0.044421</td>\n",
       "      <td>0.046933</td>\n",
       "    </tr>\n",
       "    <tr>\n",
       "      <th>3</th>\n",
       "      <td>lung</td>\n",
       "      <td>0.041661</td>\n",
       "      <td>0.043569</td>\n",
       "    </tr>\n",
       "    <tr>\n",
       "      <th>4</th>\n",
       "      <td>cell</td>\n",
       "      <td>0.038988</td>\n",
       "      <td>0.034422</td>\n",
       "    </tr>\n",
       "    <tr>\n",
       "      <th>5</th>\n",
       "      <td>patient</td>\n",
       "      <td>0.037879</td>\n",
       "      <td>0.033850</td>\n",
       "    </tr>\n",
       "    <tr>\n",
       "      <th>6</th>\n",
       "      <td>tumor</td>\n",
       "      <td>0.035060</td>\n",
       "      <td>0.026645</td>\n",
       "    </tr>\n",
       "    <tr>\n",
       "      <th>7</th>\n",
       "      <td>pancreat</td>\n",
       "      <td>0.034632</td>\n",
       "      <td>0.034958</td>\n",
       "    </tr>\n",
       "    <tr>\n",
       "      <th>8</th>\n",
       "      <td>neoplasm</td>\n",
       "      <td>0.033646</td>\n",
       "      <td>0.032403</td>\n",
       "    </tr>\n",
       "    <tr>\n",
       "      <th>9</th>\n",
       "      <td>gene</td>\n",
       "      <td>0.032012</td>\n",
       "      <td>NaN</td>\n",
       "    </tr>\n",
       "    <tr>\n",
       "      <th>10</th>\n",
       "      <td>breast</td>\n",
       "      <td>NaN</td>\n",
       "      <td>0.030068</td>\n",
       "    </tr>\n",
       "  </tbody>\n",
       "</table>\n",
       "</div>"
      ],
      "text/plain": [
       "        term  weight_pm  weight_notpm\n",
       "0   mutat     0.058655   0.035066    \n",
       "1   genet     0.047187   0.035412    \n",
       "2   cancer    0.044421   0.046933    \n",
       "3   lung      0.041661   0.043569    \n",
       "4   cell      0.038988   0.034422    \n",
       "5   patient   0.037879   0.033850    \n",
       "6   tumor     0.035060   0.026645    \n",
       "7   pancreat  0.034632   0.034958    \n",
       "8   neoplasm  0.033646   0.032403    \n",
       "9   gene      0.032012  NaN          \n",
       "10  breast   NaN         0.030068    "
      ]
     },
     "execution_count": 418,
     "metadata": {},
     "output_type": "execute_result"
    }
   ],
   "source": [
    "mergedOnlyPM = pd.merge(topPM, topNotPM, on=\"term\", how=\"outer\", suffixes=[\"_pm\", \"_notpm\"])\n",
    "mergedOnlyPM"
   ]
  },
  {
   "cell_type": "markdown",
   "metadata": {},
   "source": [
    "# Splitting DataSets Later"
   ]
  },
  {
   "cell_type": "code",
   "execution_count": 33,
   "metadata": {},
   "outputs": [],
   "source": [
    "# Based on: https://buhrmann.github.io/tfidf-analysis.html\n",
    "\n",
    "def top_tfidf_feats(row, features, top_n=25):\n",
    "    ''' Get top n tfidf values in row and return them with their corresponding feature names.'''\n",
    "    topn_ids = np.argsort(row)[::-1][:top_n]\n",
    "    top_feats = [(features[i], row[i]) for i in topn_ids]\n",
    "    df = pd.DataFrame(top_feats)\n",
    "    df.columns = ['feature', 'tfidf']\n",
    "    return df\n",
    "\n",
    "def top_mean_feats(Xtr, features, grp_ids=None, min_tfidf=0.1, top_n=25):\n",
    "    ''' Return the top n features that on average are most important amongst documents in rows\n",
    "        indentified by indices in grp_ids. '''\n",
    "    if grp_ids:\n",
    "        D = Xtr[grp_ids].toarray()\n",
    "    else:\n",
    "        D = Xtr.toarray()\n",
    "\n",
    "    D[D < min_tfidf] = 0\n",
    "    tfidf_means = np.mean(D, axis=0)\n",
    "    return top_tfidf_feats(tfidf_means, features, top_n)\n",
    "\n",
    "def top_feats_by_class(Weights, data, features, min_tfidf=0.1, top_n=25):\n",
    "    ''' Return a list of dfs, where each df holds top_n features and their mean tfidf value\n",
    "        calculated across documents with the same class label. '''\n",
    "    dfs = []\n",
    "    labels = np.unique(data)\n",
    "    for label in labels:\n",
    "        ids = np.where(data==label)\n",
    "        feats_df = top_mean_feats(Weights, features, ids, min_tfidf=min_tfidf, top_n=top_n)\n",
    "        feats_df.label = label\n",
    "        dfs.append(feats_df)\n",
    "    return dfs"
   ]
  },
  {
   "cell_type": "code",
   "execution_count": null,
   "metadata": {},
   "outputs": [],
   "source": [
    "vec = TfidfVectorizer(max_features=50000)\n",
    "tvecWeights = vec.fit_transform(data['title_abstract_mesh_stemmed'])\n",
    "features = vec.get_feature_names()\n",
    "\n",
    "tvecWeights.toarray()\n",
    "dfs = top_feats_by_class(tvecWeights, data[\"pm_rel_desc\"], features)\n",
    "for df in dfs:\n",
    "    print(df.label)\n",
    "    print(df)\n",
    "    print(\"\\n\")"
   ]
  }
 ],
 "metadata": {
  "kernelspec": {
   "display_name": "Python 3",
   "language": "python",
   "name": "python3"
  },
  "language_info": {
   "codemirror_mode": {
    "name": "ipython",
    "version": 3
   },
   "file_extension": ".py",
   "mimetype": "text/x-python",
   "name": "python",
   "nbconvert_exporter": "python",
   "pygments_lexer": "ipython3",
   "version": "3.6.5"
  }
 },
 "nbformat": 4,
 "nbformat_minor": 2
}
